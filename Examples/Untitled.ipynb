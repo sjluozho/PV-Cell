{
 "cells": [
  {
   "cell_type": "code",
   "execution_count": 6,
   "metadata": {},
   "outputs": [],
   "source": [
    "from rdkit.Chem.Draw import IPythonConsole\n",
    "from rdkit.Chem import Draw\n",
    "from rdkit import Chem\n",
    "\n",
    "import pandas as pd"
   ]
  },
  {
   "cell_type": "code",
   "execution_count": 7,
   "metadata": {},
   "outputs": [
    {
     "data": {
      "text/html": [
       "<div>\n",
       "<style scoped>\n",
       "    .dataframe tbody tr th:only-of-type {\n",
       "        vertical-align: middle;\n",
       "    }\n",
       "\n",
       "    .dataframe tbody tr th {\n",
       "        vertical-align: top;\n",
       "    }\n",
       "\n",
       "    .dataframe thead th {\n",
       "        text-align: right;\n",
       "    }\n",
       "</style>\n",
       "<table border=\"1\" class=\"dataframe\">\n",
       "  <thead>\n",
       "    <tr style=\"text-align: right;\">\n",
       "      <th></th>\n",
       "      <th>id</th>\n",
       "      <th>SMILES_str</th>\n",
       "      <th>stoich_str</th>\n",
       "      <th>mass</th>\n",
       "      <th>pce</th>\n",
       "      <th>voc</th>\n",
       "      <th>jsc</th>\n",
       "      <th>e_homo_alpha</th>\n",
       "      <th>e_gap_alpha</th>\n",
       "      <th>e_lumo_alpha</th>\n",
       "      <th>tmp_smiles_str</th>\n",
       "    </tr>\n",
       "  </thead>\n",
       "  <tbody>\n",
       "    <tr>\n",
       "      <th>0</th>\n",
       "      <td>655365</td>\n",
       "      <td>C1C=CC=C1c1cc2[se]c3c4occc4c4nsnc4c3c2cn1</td>\n",
       "      <td>C18H9N3OSSe</td>\n",
       "      <td>394.3151</td>\n",
       "      <td>5.161953</td>\n",
       "      <td>0.867601</td>\n",
       "      <td>91.567575</td>\n",
       "      <td>-5.467601</td>\n",
       "      <td>2.022944</td>\n",
       "      <td>-3.444656</td>\n",
       "      <td>C1=CC=C(C1)c1cc2[se]c3c4occc4c4nsnc4c3c2cn1</td>\n",
       "    </tr>\n",
       "    <tr>\n",
       "      <th>1</th>\n",
       "      <td>1245190</td>\n",
       "      <td>C1C=CC=C1c1cc2[se]c3c(ncc4ccccc34)c2c2=C[SiH2]...</td>\n",
       "      <td>C22H15NSeSi</td>\n",
       "      <td>400.4135</td>\n",
       "      <td>5.261398</td>\n",
       "      <td>0.504824</td>\n",
       "      <td>160.401549</td>\n",
       "      <td>-5.104824</td>\n",
       "      <td>1.630750</td>\n",
       "      <td>-3.474074</td>\n",
       "      <td>C1=CC=C(C1)c1cc2[se]c3c(ncc4ccccc34)c2c2=C[SiH...</td>\n",
       "    </tr>\n",
       "    <tr>\n",
       "      <th>2</th>\n",
       "      <td>21847</td>\n",
       "      <td>C1C=c2ccc3c4c[nH]cc4c4c5[SiH2]C(=Cc5oc4c3c2=C1...</td>\n",
       "      <td>C24H17NOSi</td>\n",
       "      <td>363.4903</td>\n",
       "      <td>0.000000</td>\n",
       "      <td>0.000000</td>\n",
       "      <td>197.474780</td>\n",
       "      <td>-4.539526</td>\n",
       "      <td>1.462158</td>\n",
       "      <td>-3.077368</td>\n",
       "      <td>C1=CC=C(C1)C1=Cc2oc3c(c2[SiH2]1)c1c[nH]cc1c1cc...</td>\n",
       "    </tr>\n",
       "    <tr>\n",
       "      <th>3</th>\n",
       "      <td>65553</td>\n",
       "      <td>[SiH2]1C=CC2=C1C=C([SiH2]2)C1=Cc2[se]ccc2[SiH2]1</td>\n",
       "      <td>C12H12SeSi3</td>\n",
       "      <td>319.4448</td>\n",
       "      <td>6.138294</td>\n",
       "      <td>0.630274</td>\n",
       "      <td>149.887545</td>\n",
       "      <td>-5.230274</td>\n",
       "      <td>1.682250</td>\n",
       "      <td>-3.548025</td>\n",
       "      <td>C1=CC2=C([SiH2]1)C=C([SiH2]2)C1=Cc2[se]ccc2[Si...</td>\n",
       "    </tr>\n",
       "    <tr>\n",
       "      <th>4</th>\n",
       "      <td>720918</td>\n",
       "      <td>C1C=c2c3ccsc3c3[se]c4cc(oc4c3c2=C1)C1=CC=CC1</td>\n",
       "      <td>C20H12OSSe</td>\n",
       "      <td>379.3398</td>\n",
       "      <td>1.991366</td>\n",
       "      <td>0.242119</td>\n",
       "      <td>126.581347</td>\n",
       "      <td>-4.842119</td>\n",
       "      <td>1.809439</td>\n",
       "      <td>-3.032680</td>\n",
       "      <td>C1=CC=C(C1)c1cc2[se]c3c4sccc4c4=CCC=c4c3c2o1</td>\n",
       "    </tr>\n",
       "  </tbody>\n",
       "</table>\n",
       "</div>"
      ],
      "text/plain": [
       "        id                                         SMILES_str   stoich_str  \\\n",
       "0   655365          C1C=CC=C1c1cc2[se]c3c4occc4c4nsnc4c3c2cn1  C18H9N3OSSe   \n",
       "1  1245190  C1C=CC=C1c1cc2[se]c3c(ncc4ccccc34)c2c2=C[SiH2]...  C22H15NSeSi   \n",
       "2    21847  C1C=c2ccc3c4c[nH]cc4c4c5[SiH2]C(=Cc5oc4c3c2=C1...   C24H17NOSi   \n",
       "3    65553   [SiH2]1C=CC2=C1C=C([SiH2]2)C1=Cc2[se]ccc2[SiH2]1  C12H12SeSi3   \n",
       "4   720918       C1C=c2c3ccsc3c3[se]c4cc(oc4c3c2=C1)C1=CC=CC1   C20H12OSSe   \n",
       "\n",
       "       mass       pce       voc         jsc  e_homo_alpha  e_gap_alpha  \\\n",
       "0  394.3151  5.161953  0.867601   91.567575     -5.467601     2.022944   \n",
       "1  400.4135  5.261398  0.504824  160.401549     -5.104824     1.630750   \n",
       "2  363.4903  0.000000  0.000000  197.474780     -4.539526     1.462158   \n",
       "3  319.4448  6.138294  0.630274  149.887545     -5.230274     1.682250   \n",
       "4  379.3398  1.991366  0.242119  126.581347     -4.842119     1.809439   \n",
       "\n",
       "   e_lumo_alpha                                     tmp_smiles_str  \n",
       "0     -3.444656        C1=CC=C(C1)c1cc2[se]c3c4occc4c4nsnc4c3c2cn1  \n",
       "1     -3.474074  C1=CC=C(C1)c1cc2[se]c3c(ncc4ccccc34)c2c2=C[SiH...  \n",
       "2     -3.077368  C1=CC=C(C1)C1=Cc2oc3c(c2[SiH2]1)c1c[nH]cc1c1cc...  \n",
       "3     -3.548025  C1=CC2=C([SiH2]1)C=C([SiH2]2)C1=Cc2[se]ccc2[Si...  \n",
       "4     -3.032680       C1=CC=C(C1)c1cc2[se]c3c4sccc4c4=CCC=c4c3c2o1  "
      ]
     },
     "execution_count": 7,
     "metadata": {},
     "output_type": "execute_result"
    }
   ],
   "source": [
    "# Use 100K data for demonstration\n",
    "data = pd.read_csv('../Database/HCEPD_100K.csv') \n",
    "# Use first 50 data to illustrate the analysis\n",
    "data50 = data.head(50)\n",
    "data50.head()"
   ]
  },
  {
   "cell_type": "code",
   "execution_count": 15,
   "metadata": {},
   "outputs": [
    {
     "data": {
      "image/png": "[encoded data removed]",
      "text/plain": [
       "<rdkit.Chem.rdchem.Mol at 0x1b8a0f04f80>"
      ]
     },
     "metadata": {},
     "output_type": "display_data"
    }
   ],
   "source": [
    "chemstr = []\n",
    "chemstr = Chem.MolFromSmiles(data50['SMILES_str'].values[0])\n",
    "display(chemstr)"
   ]
  },
  {
   "cell_type": "code",
   "execution_count": 17,
   "metadata": {},
   "outputs": [],
   "source": [
    "def chemdraw(smiles):\n",
    "    chemstr = []\n",
    "    for i in range(len(smiles)):\n",
    "        chemstr.append = Chem.MolFromSmiles(smiles[i])\n",
    "    for x in range(len(smiles)):\n",
    "        display(chemstr[x])"
   ]
  },
  {
   "cell_type": "code",
   "execution_count": null,
   "metadata": {},
   "outputs": [],
   "source": [
    "chemdraw(smiles)"
   ]
  }
 ],
 "metadata": {
  "kernelspec": {
   "display_name": "Python(pvc-env)",
   "language": "python",
   "name": "pvc-env"
  },
  "language_info": {
   "codemirror_mode": {
    "name": "ipython",
    "version": 3
   },
   "file_extension": ".py",
   "mimetype": "text/x-python",
   "name": "python",
   "nbconvert_exporter": "python",
   "pygments_lexer": "ipython3",
   "version": "3.6.8"
  }
 },
 "nbformat": 4,
 "nbformat_minor": 2
}
