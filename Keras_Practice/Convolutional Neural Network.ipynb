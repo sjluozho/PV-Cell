{
 "cells": [
  {
   "cell_type": "markdown",
   "metadata": {},
   "source": [
    "1. 導入必要的庫和數據集"
   ]
  },
  {
   "cell_type": "code",
   "execution_count": 1,
   "metadata": {},
   "outputs": [
    {
     "name": "stderr",
     "output_type": "stream",
     "text": [
      "Using TensorFlow backend.\n"
     ]
    }
   ],
   "source": [
    "import keras\n",
    "\n",
    "from keras.datasets import mnist \n",
    "\n",
    "(x_train, y_train), (x_test,y_test) =mnist.load_data()"
   ]
  },
  {
   "cell_type": "markdown",
   "metadata": {},
   "source": [
    "2. 處理數據，讓數據的shape是(28, 28, 1)，然後label做一個one-hot encoding處理，比如類別是3，那麼變成[0, 0, 1 ,0, 0, 0, 0, 0, 0, 0]。"
   ]
  },
  {
   "cell_type": "code",
   "execution_count": 2,
   "metadata": {},
   "outputs": [],
   "source": [
    "x_train=x_train.reshape(-1,28,28,1)\n",
    "\n",
    "x_test=x_test.reshape(-1,28,28,1)\n",
    "\n",
    "x_train=x_train/255.\n",
    "\n",
    "x_test=x_test/255.\n",
    "\n",
    "y_train=keras.utils.to_categorical(y_train)\n",
    "\n",
    "y_test=keras.utils.to_categorical(y_test)"
   ]
  },
  {
   "cell_type": "markdown",
   "metadata": {},
   "source": [
    "3. 構建lenet"
   ]
  },
  {
   "cell_type": "code",
   "execution_count": 3,
   "metadata": {},
   "outputs": [],
   "source": [
    "from keras.layers import Conv2D,MaxPool2D,Dense,Flatten\n",
    "\n",
    "from keras.models import Sequential \n",
    "\n",
    "lenet=Sequential()\n",
    "\n",
    "lenet.add(Conv2D(6,kernel_size=3,strides=1,padding='same',input_shape=(28, 28, 1)))\n",
    "\n",
    "lenet.add(MaxPool2D(pool_size=2,strides=2))\n",
    "\n",
    "lenet.add(Conv2D(16,kernel_size=5,strides=1,padding='valid'))\n",
    "\n",
    "lenet.add(MaxPool2D(pool_size=2,strides=2))\n",
    "\n",
    "lenet.add(Flatten())\n",
    "\n",
    "lenet.add(Dense(120))\n",
    "\n",
    "lenet.add(Dense(84))\n",
    "\n",
    "lenet.add(Dense(10,activation='softmax'))"
   ]
  },
  {
   "cell_type": "markdown",
   "metadata": {},
   "source": [
    "4. 編譯"
   ]
  },
  {
   "cell_type": "code",
   "execution_count": 4,
   "metadata": {},
   "outputs": [],
   "source": [
    "lenet.compile('sgd',loss='categorical_crossentropy',metrics=['accuracy'])"
   ]
  },
  {
   "cell_type": "markdown",
   "metadata": {},
   "source": [
    "5. 訓練50次，得到結果"
   ]
  },
  {
   "cell_type": "code",
   "execution_count": 5,
   "metadata": {},
   "outputs": [
    {
     "name": "stdout",
     "output_type": "stream",
     "text": [
      "Train on 60000 samples, validate on 10000 samples\n",
      "Epoch 1/50\n",
      "60000/60000 [==============================] - 29s 485us/step - loss: 0.4934 - acc: 0.8559 - val_loss: 0.2504 - val_acc: 0.9266\n",
      "Epoch 2/50\n",
      "60000/60000 [==============================] - 25s 423us/step - loss: 0.2127 - acc: 0.9379 - val_loss: 0.1616 - val_acc: 0.9513\n",
      "Epoch 3/50\n",
      "60000/60000 [==============================] - 26s 429us/step - loss: 0.1500 - acc: 0.9561 - val_loss: 0.1155 - val_acc: 0.9668\n",
      "Epoch 4/50\n",
      "60000/60000 [==============================] - 26s 428us/step - loss: 0.1164 - acc: 0.9651 - val_loss: 0.0972 - val_acc: 0.9705\n",
      "Epoch 5/50\n",
      "60000/60000 [==============================] - 26s 433us/step - loss: 0.0991 - acc: 0.9700 - val_loss: 0.0886 - val_acc: 0.9715\n",
      "Epoch 6/50\n",
      "60000/60000 [==============================] - 26s 431us/step - loss: 0.0873 - acc: 0.9734 - val_loss: 0.0814 - val_acc: 0.9741\n",
      "Epoch 7/50\n",
      "60000/60000 [==============================] - 26s 428us/step - loss: 0.0782 - acc: 0.9762 - val_loss: 0.0744 - val_acc: 0.9761\n",
      "Epoch 8/50\n",
      "60000/60000 [==============================] - 26s 430us/step - loss: 0.0726 - acc: 0.9781 - val_loss: 0.0713 - val_acc: 0.9768\n",
      "Epoch 9/50\n",
      "60000/60000 [==============================] - 26s 435us/step - loss: 0.0679 - acc: 0.9791 - val_loss: 0.0630 - val_acc: 0.9796\n",
      "Epoch 10/50\n",
      "60000/60000 [==============================] - 26s 442us/step - loss: 0.0628 - acc: 0.9811 - val_loss: 0.0773 - val_acc: 0.9743\n",
      "Epoch 11/50\n",
      "60000/60000 [==============================] - 26s 430us/step - loss: 0.0592 - acc: 0.9816 - val_loss: 0.0634 - val_acc: 0.9800\n",
      "Epoch 12/50\n",
      "60000/60000 [==============================] - 26s 430us/step - loss: 0.0564 - acc: 0.9829 - val_loss: 0.0590 - val_acc: 0.9818\n",
      "Epoch 13/50\n",
      "60000/60000 [==============================] - 27s 446us/step - loss: 0.0539 - acc: 0.9833 - val_loss: 0.0582 - val_acc: 0.9812\n",
      "Epoch 14/50\n",
      "60000/60000 [==============================] - 27s 443us/step - loss: 0.0508 - acc: 0.9840 - val_loss: 0.0649 - val_acc: 0.9786\n",
      "Epoch 15/50\n",
      "60000/60000 [==============================] - 26s 441us/step - loss: 0.0491 - acc: 0.9854 - val_loss: 0.0534 - val_acc: 0.9831\n",
      "Epoch 16/50\n",
      "60000/60000 [==============================] - 27s 442us/step - loss: 0.0472 - acc: 0.9850 - val_loss: 0.0579 - val_acc: 0.9816\n",
      "Epoch 17/50\n",
      "60000/60000 [==============================] - 27s 442us/step - loss: 0.0452 - acc: 0.9857 - val_loss: 0.0520 - val_acc: 0.9837\n",
      "Epoch 18/50\n",
      "60000/60000 [==============================] - 26s 440us/step - loss: 0.0439 - acc: 0.9867 - val_loss: 0.0504 - val_acc: 0.9841\n",
      "Epoch 19/50\n",
      "60000/60000 [==============================] - 27s 453us/step - loss: 0.0423 - acc: 0.9872 - val_loss: 0.0534 - val_acc: 0.9828\n",
      "Epoch 20/50\n",
      "60000/60000 [==============================] - 26s 441us/step - loss: 0.0404 - acc: 0.9879 - val_loss: 0.0622 - val_acc: 0.9792\n",
      "Epoch 21/50\n",
      "60000/60000 [==============================] - 27s 448us/step - loss: 0.0399 - acc: 0.9876 - val_loss: 0.0522 - val_acc: 0.9842\n",
      "Epoch 22/50\n",
      "60000/60000 [==============================] - 27s 445us/step - loss: 0.0390 - acc: 0.9879 - val_loss: 0.0489 - val_acc: 0.9840\n",
      "Epoch 23/50\n",
      "60000/60000 [==============================] - 27s 450us/step - loss: 0.0378 - acc: 0.9883 - val_loss: 0.0604 - val_acc: 0.9814\n",
      "Epoch 24/50\n",
      "60000/60000 [==============================] - 27s 447us/step - loss: 0.0367 - acc: 0.9885 - val_loss: 0.0493 - val_acc: 0.9845\n",
      "Epoch 25/50\n",
      "60000/60000 [==============================] - 27s 445us/step - loss: 0.0356 - acc: 0.9886 - val_loss: 0.0501 - val_acc: 0.9848\n",
      "Epoch 26/50\n",
      "60000/60000 [==============================] - 28s 462us/step - loss: 0.0344 - acc: 0.9890 - val_loss: 0.0450 - val_acc: 0.9855\n",
      "Epoch 27/50\n",
      "60000/60000 [==============================] - 27s 458us/step - loss: 0.0338 - acc: 0.9897 - val_loss: 0.0519 - val_acc: 0.9836\n",
      "Epoch 28/50\n",
      "60000/60000 [==============================] - 27s 455us/step - loss: 0.0336 - acc: 0.9896 - val_loss: 0.0505 - val_acc: 0.9833\n",
      "Epoch 29/50\n",
      "60000/60000 [==============================] - 27s 448us/step - loss: 0.0322 - acc: 0.9900 - val_loss: 0.0458 - val_acc: 0.9858\n",
      "Epoch 30/50\n",
      "60000/60000 [==============================] - 28s 471us/step - loss: 0.0313 - acc: 0.9901 - val_loss: 0.0476 - val_acc: 0.9846\n",
      "Epoch 31/50\n",
      "60000/60000 [==============================] - 27s 451us/step - loss: 0.0310 - acc: 0.9902 - val_loss: 0.0542 - val_acc: 0.9828\n",
      "Epoch 32/50\n",
      "60000/60000 [==============================] - 28s 465us/step - loss: 0.0302 - acc: 0.9906 - val_loss: 0.0469 - val_acc: 0.9855\n",
      "Epoch 33/50\n",
      "60000/60000 [==============================] - 27s 454us/step - loss: 0.0294 - acc: 0.9905 - val_loss: 0.0482 - val_acc: 0.9851\n",
      "Epoch 34/50\n",
      "60000/60000 [==============================] - 27s 449us/step - loss: 0.0288 - acc: 0.9909 - val_loss: 0.0502 - val_acc: 0.9841\n",
      "Epoch 35/50\n",
      "60000/60000 [==============================] - 27s 448us/step - loss: 0.0275 - acc: 0.9919 - val_loss: 0.0500 - val_acc: 0.9844\n",
      "Epoch 36/50\n",
      "60000/60000 [==============================] - 28s 459us/step - loss: 0.0278 - acc: 0.9914 - val_loss: 0.0544 - val_acc: 0.9841\n",
      "Epoch 37/50\n",
      "60000/60000 [==============================] - 29s 479us/step - loss: 0.0264 - acc: 0.9919 - val_loss: 0.0664 - val_acc: 0.9789\n",
      "Epoch 38/50\n",
      "60000/60000 [==============================] - 28s 474us/step - loss: 0.0266 - acc: 0.9916 - val_loss: 0.0473 - val_acc: 0.9851\n",
      "Epoch 39/50\n",
      "60000/60000 [==============================] - 27s 456us/step - loss: 0.0256 - acc: 0.9921 - val_loss: 0.0546 - val_acc: 0.9831\n",
      "Epoch 40/50\n",
      "60000/60000 [==============================] - 27s 452us/step - loss: 0.0252 - acc: 0.9920 - val_loss: 0.0489 - val_acc: 0.9852\n",
      "Epoch 41/50\n",
      "60000/60000 [==============================] - 28s 468us/step - loss: 0.0246 - acc: 0.9922 - val_loss: 0.0510 - val_acc: 0.9845\n",
      "Epoch 42/50\n",
      "60000/60000 [==============================] - 28s 467us/step - loss: 0.0244 - acc: 0.9926 - val_loss: 0.0469 - val_acc: 0.9853\n",
      "Epoch 43/50\n",
      "60000/60000 [==============================] - 29s 476us/step - loss: 0.0235 - acc: 0.9929 - val_loss: 0.0539 - val_acc: 0.9846\n",
      "Epoch 44/50\n",
      "60000/60000 [==============================] - 28s 463us/step - loss: 0.0235 - acc: 0.9927 - val_loss: 0.0459 - val_acc: 0.9860\n",
      "Epoch 45/50\n",
      "60000/60000 [==============================] - 28s 465us/step - loss: 0.0224 - acc: 0.9929 - val_loss: 0.0576 - val_acc: 0.9823\n",
      "Epoch 46/50\n",
      "60000/60000 [==============================] - 28s 464us/step - loss: 0.0220 - acc: 0.9931 - val_loss: 0.0520 - val_acc: 0.9846\n",
      "Epoch 47/50\n",
      "60000/60000 [==============================] - 28s 463us/step - loss: 0.0217 - acc: 0.9930 - val_loss: 0.0489 - val_acc: 0.9853\n",
      "Epoch 48/50\n",
      "60000/60000 [==============================] - 28s 465us/step - loss: 0.0218 - acc: 0.9934 - val_loss: 0.0521 - val_acc: 0.9847\n",
      "Epoch 49/50\n",
      "60000/60000 [==============================] - 29s 487us/step - loss: 0.0210 - acc: 0.9933 - val_loss: 0.0494 - val_acc: 0.9850\n",
      "Epoch 50/50\n",
      "60000/60000 [==============================] - 29s 481us/step - loss: 0.0206 - acc: 0.9938 - val_loss: 0.0589 - val_acc: 0.9831\n"
     ]
    },
    {
     "data": {
      "text/plain": [
       "<keras.callbacks.History at 0x1be8a0d3fd0>"
      ]
     },
     "execution_count": 5,
     "metadata": {},
     "output_type": "execute_result"
    }
   ],
   "source": [
    "lenet.fit(x_train,y_train,batch_size=64,epochs=50,validation_data=[x_test,y_test])"
   ]
  },
  {
   "cell_type": "markdown",
   "metadata": {},
   "source": [
    "6. 可以保存訓練好的模型"
   ]
  },
  {
   "cell_type": "code",
   "execution_count": 6,
   "metadata": {},
   "outputs": [],
   "source": [
    "lenet.save('myletnet.h5')"
   ]
  },
  {
   "cell_type": "code",
   "execution_count": null,
   "metadata": {},
   "outputs": [],
   "source": []
  }
 ],
 "metadata": {
  "kernelspec": {
   "display_name": "Python 3",
   "language": "python",
   "name": "python3"
  },
  "language_info": {
   "codemirror_mode": {
    "name": "ipython",
    "version": 3
   },
   "file_extension": ".py",
   "mimetype": "text/x-python",
   "name": "python",
   "nbconvert_exporter": "python",
   "pygments_lexer": "ipython3",
   "version": "3.7.1"
  }
 },
 "nbformat": 4,
 "nbformat_minor": 2
}
