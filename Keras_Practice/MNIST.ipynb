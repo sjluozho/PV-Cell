{
 "cells": [
  {
   "cell_type": "code",
   "execution_count": 2,
   "metadata": {},
   "outputs": [
    {
     "name": "stderr",
     "output_type": "stream",
     "text": [
      "Using TensorFlow backend.\n"
     ]
    }
   ],
   "source": [
    "from keras.datasets import mnist\n",
    "from keras.utils import np_utils\n",
    "def load_data():\n",
    "        # 載入minst的資料\n",
    "        (x_train, y_train), (x_test, y_test) = mnist.load_data()\n",
    "        # 將圖片轉換為一個60000*784的向量，並且標準化\n",
    "        x_train = x_train.reshape(x_train.shape[0], 28*28)\n",
    "        x_test = x_test.reshape(x_test.shape[0], 28*28)\n",
    "        x_train = x_train.astype('float32')\n",
    "        x_test = x_test.astype('float32')\n",
    "        x_train = x_train/255\n",
    "        x_test = x_test/255\n",
    "        # 將y轉換成one-hot encoding \n",
    "        y_train = np_utils.to_categorical(y_train, 10)\n",
    "        y_test = np_utils.to_categorical(y_test, 10)\n",
    "        # 回傳處理完的資料\n",
    "        return (x_train, y_train), (x_test, y_test)"
   ]
  },
  {
   "cell_type": "code",
   "execution_count": 3,
   "metadata": {},
   "outputs": [],
   "source": [
    "import numpy as np\n",
    "from keras.models import Sequential\n",
    "from keras.layers.core import Dense,Activation\n",
    "from keras.optimizers import  Adam\n",
    "\n",
    "def build_model():\n",
    "        #建立模型\n",
    "        model = Sequential()\n",
    "        #將模型疊起\n",
    "        model.add(Dense(input_dim=28*28,units=500,activation='relu'))\n",
    "        model.add(Dense(units=500,activation='relu'))\n",
    "        model.add(Dense(units=500,activation='relu'))\n",
    "        model.add(Dense(units=10,activation='softmax'))\n",
    "        model.summary()\n",
    "        return model"
   ]
  },
  {
   "cell_type": "code",
   "execution_count": 4,
   "metadata": {},
   "outputs": [
    {
     "name": "stdout",
     "output_type": "stream",
     "text": [
      "Downloading data from https://s3.amazonaws.com/img-datasets/mnist.npz\n",
      "11493376/11490434 [==============================] - 76s 7us/step\n",
      "_________________________________________________________________\n",
      "Layer (type)                 Output Shape              Param #   \n",
      "=================================================================\n",
      "dense_1 (Dense)              (None, 500)               392500    \n",
      "_________________________________________________________________\n",
      "dense_2 (Dense)              (None, 500)               250500    \n",
      "_________________________________________________________________\n",
      "dense_3 (Dense)              (None, 500)               250500    \n",
      "_________________________________________________________________\n",
      "dense_4 (Dense)              (None, 10)                5010      \n",
      "=================================================================\n",
      "Total params: 898,510\n",
      "Trainable params: 898,510\n",
      "Non-trainable params: 0\n",
      "_________________________________________________________________\n",
      "Epoch 1/20\n",
      "60000/60000 [==============================] - 26s 429us/step - loss: 0.2089 - acc: 0.9372\n",
      "Epoch 2/20\n",
      "60000/60000 [==============================] - 22s 364us/step - loss: 0.0812 - acc: 0.97500s - loss: 0.0815 - acc:\n",
      "Epoch 3/20\n",
      "60000/60000 [==============================] - 23s 388us/step - loss: 0.0573 - acc: 0.9820\n",
      "Epoch 4/20\n",
      "60000/60000 [==============================] - 22s 360us/step - loss: 0.0413 - acc: 0.9868\n",
      "Epoch 5/20\n",
      "60000/60000 [==============================] - 22s 371us/step - loss: 0.0345 - acc: 0.9890\n",
      "Epoch 6/20\n",
      "60000/60000 [==============================] - 23s 377us/step - loss: 0.0289 - acc: 0.9906\n",
      "Epoch 7/20\n",
      "60000/60000 [==============================] - 22s 365us/step - loss: 0.0265 - acc: 0.99171s - loss\n",
      "Epoch 8/20\n",
      "60000/60000 [==============================] - 22s 360us/step - loss: 0.0217 - acc: 0.9929\n",
      "Epoch 9/20\n",
      "60000/60000 [==============================] - 22s 363us/step - loss: 0.0197 - acc: 0.9933\n",
      "Epoch 10/20\n",
      "60000/60000 [==============================] - 24s 398us/step - loss: 0.0199 - acc: 0.9936\n",
      "Epoch 11/20\n",
      "60000/60000 [==============================] - 24s 399us/step - loss: 0.0143 - acc: 0.99540s - loss: 0.0144 - acc: 0.\n",
      "Epoch 12/20\n",
      "60000/60000 [==============================] - 27s 451us/step - loss: 0.0158 - acc: 0.9950\n",
      "Epoch 13/20\n",
      "60000/60000 [==============================] - 22s 367us/step - loss: 0.0137 - acc: 0.9958\n",
      "Epoch 14/20\n",
      "60000/60000 [==============================] - 22s 361us/step - loss: 0.0131 - acc: 0.9958\n",
      "Epoch 15/20\n",
      "60000/60000 [==============================] - 21s 355us/step - loss: 0.0132 - acc: 0.9960\n",
      "Epoch 16/20\n",
      "60000/60000 [==============================] - 21s 356us/step - loss: 0.0105 - acc: 0.9966\n",
      "Epoch 17/20\n",
      "60000/60000 [==============================] - 21s 355us/step - loss: 0.0126 - acc: 0.9964\n",
      "Epoch 18/20\n",
      "60000/60000 [==============================] - 22s 362us/step - loss: 0.0112 - acc: 0.9968\n",
      "Epoch 19/20\n",
      "60000/60000 [==============================] - 21s 357us/step - loss: 0.0105 - acc: 0.9969\n",
      "Epoch 20/20\n",
      "60000/60000 [==============================] - 21s 354us/step - loss: 0.0095 - acc: 0.9972\n",
      "60000/60000 [==============================] - 9s 153us/step\n",
      "\n",
      "Train Acc: 0.9922\n",
      "10000/10000 [==============================] - 2s 155us/step\n",
      "\n",
      "Test Acc: 0.9768\n"
     ]
    }
   ],
   "source": [
    "(x_train,y_train),(x_test,y_test)=load_data()\n",
    "model = build_model()\n",
    "#開始訓練模型\n",
    "model.compile(loss='categorical_crossentropy',optimizer=\"adam\",metrics=['accuracy'])\n",
    "model.fit(x_train,y_train,batch_size=100,epochs=20)\n",
    "#顯示訓練結果\n",
    "score = model.evaluate(x_train,y_train)\n",
    "print ('\\nTrain Acc:', score[1])\n",
    "score = model.evaluate(x_test,y_test)\n",
    "print ('\\nTest Acc:', score[1])"
   ]
  },
  {
   "cell_type": "code",
   "execution_count": null,
   "metadata": {},
   "outputs": [],
   "source": []
  }
 ],
 "metadata": {
  "kernelspec": {
   "display_name": "Python 3",
   "language": "python",
   "name": "python3"
  },
  "language_info": {
   "codemirror_mode": {
    "name": "ipython",
    "version": 3
   },
   "file_extension": ".py",
   "mimetype": "text/x-python",
   "name": "python",
   "nbconvert_exporter": "python",
   "pygments_lexer": "ipython3",
   "version": "3.7.1"
  }
 },
 "nbformat": 4,
 "nbformat_minor": 2
}
