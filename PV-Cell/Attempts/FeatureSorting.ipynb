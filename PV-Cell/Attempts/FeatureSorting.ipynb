{
 "cells": [
  {
   "cell_type": "code",
   "execution_count": 51,
   "metadata": {},
   "outputs": [],
   "source": [
    "from rdkit import Chem\n",
    "import pandas as pd\n",
    "\n",
    "# import module for chemical drawing\n",
    "from rdkit.Chem.Draw import IPythonConsole\n",
    "from rdkit.Chem import Draw\n",
    "\n",
    "# import packages for ml\n",
    "import pandas as pd\n",
    "import numpy as np\n",
    "from sklearn.preprocessing import StandardScaler\n",
    "from sklearn.model_selection import cross_validate\n",
    "from sklearn.model_selection import train_test_split\n",
    "from keras.models import Sequential\n",
    "from keras.layers import Dense, Activation\n",
    "from keras.wrappers.scikit_learn import KerasRegressor\n",
    "import matplotlib.pyplot as plt\n",
    "%matplotlib inline"
   ]
  },
  {
   "cell_type": "code",
   "execution_count": 16,
   "metadata": {},
   "outputs": [],
   "source": [
    "# Try using 100K for demonstration\n",
    "data = pd.read_csv(r'C:\\Users\\alex0\\Documents\\Python\\Project\\Repository\\PV-Cell\\PV-Cell\\Database\\HCEPD_100K.csv') "
   ]
  },
  {
   "cell_type": "markdown",
   "metadata": {},
   "source": [
    "### Sort out molecules that contain features: C-NH-C, N-S-N, Se "
   ]
  },
  {
   "cell_type": "code",
   "execution_count": 3,
   "metadata": {},
   "outputs": [],
   "source": [
    "def csse(x):\n",
    "    \"\"\"this function returns molecules that satisfy the requirement\"\"\"\n",
    "    if (x.find('nsn') != -1) or (x.find('c[nH]c') != -1) or (x.find('Se') != -1):\n",
    "        return True\n",
    "    else:\n",
    "        return False"
   ]
  },
  {
   "cell_type": "code",
   "execution_count": 4,
   "metadata": {},
   "outputs": [
    {
     "name": "stdout",
     "output_type": "stream",
     "text": [
      "42019 molecules have at least one of the above features\n"
     ]
    },
    {
     "data": {
      "text/html": [
       "<div>\n",
       "<style scoped>\n",
       "    .dataframe tbody tr th:only-of-type {\n",
       "        vertical-align: middle;\n",
       "    }\n",
       "\n",
       "    .dataframe tbody tr th {\n",
       "        vertical-align: top;\n",
       "    }\n",
       "\n",
       "    .dataframe thead th {\n",
       "        text-align: right;\n",
       "    }\n",
       "</style>\n",
       "<table border=\"1\" class=\"dataframe\">\n",
       "  <thead>\n",
       "    <tr style=\"text-align: right;\">\n",
       "      <th></th>\n",
       "      <th>id</th>\n",
       "      <th>SMILES_str</th>\n",
       "      <th>stoich_str</th>\n",
       "      <th>mass</th>\n",
       "      <th>pce</th>\n",
       "      <th>voc</th>\n",
       "      <th>jsc</th>\n",
       "      <th>e_homo_alpha</th>\n",
       "      <th>e_gap_alpha</th>\n",
       "      <th>e_lumo_alpha</th>\n",
       "      <th>tmp_smiles_str</th>\n",
       "      <th>structure</th>\n",
       "    </tr>\n",
       "  </thead>\n",
       "  <tbody>\n",
       "    <tr>\n",
       "      <th>0</th>\n",
       "      <td>655365</td>\n",
       "      <td>C1C=CC=C1c1cc2[se]c3c4occc4c4nsnc4c3c2cn1</td>\n",
       "      <td>C18H9N3OSSe</td>\n",
       "      <td>394.3151</td>\n",
       "      <td>5.161953</td>\n",
       "      <td>0.867601</td>\n",
       "      <td>91.567575</td>\n",
       "      <td>-5.467601</td>\n",
       "      <td>2.022944</td>\n",
       "      <td>-3.444656</td>\n",
       "      <td>C1=CC=C(C1)c1cc2[se]c3c4occc4c4nsnc4c3c2cn1</td>\n",
       "      <td></td>\n",
       "    </tr>\n",
       "    <tr>\n",
       "      <th>2</th>\n",
       "      <td>21847</td>\n",
       "      <td>C1C=c2ccc3c4c[nH]cc4c4c5[SiH2]C(=Cc5oc4c3c2=C1...</td>\n",
       "      <td>C24H17NOSi</td>\n",
       "      <td>363.4903</td>\n",
       "      <td>0.000000</td>\n",
       "      <td>0.000000</td>\n",
       "      <td>197.474780</td>\n",
       "      <td>-4.539526</td>\n",
       "      <td>1.462158</td>\n",
       "      <td>-3.077368</td>\n",
       "      <td>C1=CC=C(C1)C1=Cc2oc3c(c2[SiH2]1)c1c[nH]cc1c1cc...</td>\n",
       "      <td></td>\n",
       "    </tr>\n",
       "    <tr>\n",
       "      <th>5</th>\n",
       "      <td>1310744</td>\n",
       "      <td>C1C=CC=C1c1cc2[se]c3c(c4nsnc4c4ccncc34)c2c2ccc...</td>\n",
       "      <td>C24H13N3SSe</td>\n",
       "      <td>454.4137</td>\n",
       "      <td>5.605135</td>\n",
       "      <td>0.951911</td>\n",
       "      <td>90.622776</td>\n",
       "      <td>-5.551911</td>\n",
       "      <td>2.029717</td>\n",
       "      <td>-3.522194</td>\n",
       "      <td>C1=CC=C(C1)c1cc2[se]c3c(c4nsnc4c4ccncc34)c2c2c...</td>\n",
       "      <td></td>\n",
       "    </tr>\n",
       "    <tr>\n",
       "      <th>14</th>\n",
       "      <td>1638442</td>\n",
       "      <td>C1C=c2ccc3cnc4c5[SiH2]C(=Cc5c5nsnc5c4c3c2=C1)C...</td>\n",
       "      <td>C23H15N3SSi</td>\n",
       "      <td>393.5445</td>\n",
       "      <td>6.462512</td>\n",
       "      <td>0.602405</td>\n",
       "      <td>165.105179</td>\n",
       "      <td>-5.202405</td>\n",
       "      <td>1.603165</td>\n",
       "      <td>-3.599240</td>\n",
       "      <td>C1=CC=C(C1)C1=Cc2c([SiH2]1)c1ncc3ccc4=CCC=c4c3...</td>\n",
       "      <td></td>\n",
       "    </tr>\n",
       "    <tr>\n",
       "      <th>16</th>\n",
       "      <td>2162747</td>\n",
       "      <td>C1C=CC=C1C1=Cc2c([SiH2]1)c1c3c[nH]cc3c3ccc4=C[...</td>\n",
       "      <td>C27H19NOSi2</td>\n",
       "      <td>429.6251</td>\n",
       "      <td>2.039158</td>\n",
       "      <td>0.140744</td>\n",
       "      <td>222.981280</td>\n",
       "      <td>-4.740744</td>\n",
       "      <td>1.361137</td>\n",
       "      <td>-3.379607</td>\n",
       "      <td>C1=CC=C(C1)C1=Cc2c([SiH2]1)c1c3c[nH]cc3c3ccc4=...</td>\n",
       "      <td></td>\n",
       "    </tr>\n",
       "  </tbody>\n",
       "</table>\n",
       "</div>"
      ],
      "text/plain": [
       "         id                                         SMILES_str   stoich_str  \\\n",
       "0    655365          C1C=CC=C1c1cc2[se]c3c4occc4c4nsnc4c3c2cn1  C18H9N3OSSe   \n",
       "2     21847  C1C=c2ccc3c4c[nH]cc4c4c5[SiH2]C(=Cc5oc4c3c2=C1...   C24H17NOSi   \n",
       "5   1310744  C1C=CC=C1c1cc2[se]c3c(c4nsnc4c4ccncc34)c2c2ccc...  C24H13N3SSe   \n",
       "14  1638442  C1C=c2ccc3cnc4c5[SiH2]C(=Cc5c5nsnc5c4c3c2=C1)C...  C23H15N3SSi   \n",
       "16  2162747  C1C=CC=C1C1=Cc2c([SiH2]1)c1c3c[nH]cc3c3ccc4=C[...  C27H19NOSi2   \n",
       "\n",
       "        mass       pce       voc         jsc  e_homo_alpha  e_gap_alpha  \\\n",
       "0   394.3151  5.161953  0.867601   91.567575     -5.467601     2.022944   \n",
       "2   363.4903  0.000000  0.000000  197.474780     -4.539526     1.462158   \n",
       "5   454.4137  5.605135  0.951911   90.622776     -5.551911     2.029717   \n",
       "14  393.5445  6.462512  0.602405  165.105179     -5.202405     1.603165   \n",
       "16  429.6251  2.039158  0.140744  222.981280     -4.740744     1.361137   \n",
       "\n",
       "    e_lumo_alpha                                     tmp_smiles_str structure  \n",
       "0      -3.444656        C1=CC=C(C1)c1cc2[se]c3c4occc4c4nsnc4c3c2cn1            \n",
       "2      -3.077368  C1=CC=C(C1)C1=Cc2oc3c(c2[SiH2]1)c1c[nH]cc1c1cc...            \n",
       "5      -3.522194  C1=CC=C(C1)c1cc2[se]c3c(c4nsnc4c4ccncc34)c2c2c...            \n",
       "14     -3.599240  C1=CC=C(C1)C1=Cc2c([SiH2]1)c1ncc3ccc4=CCC=c4c3...            \n",
       "16     -3.379607  C1=CC=C(C1)C1=Cc2c([SiH2]1)c1c3c[nH]cc3c3ccc4=...            "
      ]
     },
     "execution_count": 4,
     "metadata": {},
     "output_type": "execute_result"
    }
   ],
   "source": [
    "data['structure'] = \"\"\n",
    "data_csse = data[[csse(x) for x in data['SMILES_str']]]\n",
    "print(len(data_csse),'molecules have at least one of the above features')\n",
    "data_csse.head()"
   ]
  },
  {
   "cell_type": "markdown",
   "metadata": {},
   "source": [
    "Visualize the first 5 molecules from ``rdkit.Chem.Draw``"
   ]
  },
  {
   "cell_type": "code",
   "execution_count": 5,
   "metadata": {},
   "outputs": [
    {
     "data": {
      "image/png": "[encoded data removed]",
      "text/plain": [
       "<rdkit.Chem.rdchem.Mol at 0x29df2fad3a0>"
      ]
     },
     "metadata": {},
     "output_type": "display_data"
    },
    {
     "data": {
      "image/png": "[encoded data removed]",
      "text/plain": [
       "<rdkit.Chem.rdchem.Mol at 0x29df2fad8a0>"
      ]
     },
     "metadata": {},
     "output_type": "display_data"
    },
    {
     "data": {
      "image/png": "[encoded data removed]",
      "text/plain": [
       "<rdkit.Chem.rdchem.Mol at 0x29df2fad990>"
      ]
     },
     "metadata": {},
     "output_type": "display_data"
    },
    {
     "data": {
      "image/png": "[encoded data removed]",
      "text/plain": [
       "<rdkit.Chem.rdchem.Mol at 0x29df2fad8f0>"
      ]
     },
     "metadata": {},
     "output_type": "display_data"
    },
    {
     "data": {
      "image/png": "[encoded data removed]",
      "text/plain": [
       "<rdkit.Chem.rdchem.Mol at 0x29df2fadb20>"
      ]
     },
     "metadata": {},
     "output_type": "display_data"
    }
   ],
   "source": [
    "for i in range(5):\n",
    "    data_csse['structure'].values[i] = Chem.MolFromSmiles(data_csse['SMILES_str'].values[i])\n",
    "    display(data_csse['structure'].values[i])"
   ]
  },
  {
   "cell_type": "markdown",
   "metadata": {},
   "source": [
    "### Score the weigh of each feature and predict its weight\n",
    "Score 1 for the feature that exists in the molecule and 0 for none. Then find linear regression to predict how much contribution of each feature to the molecule's pce.\n",
    "<br>\n",
    "$y = a1 * x1 + a2 * x2 + a3 * x3 + e$"
   ]
  },
  {
   "cell_type": "code",
   "execution_count": 83,
   "metadata": {},
   "outputs": [
    {
     "data": {
      "text/html": [
       "<div>\n",
       "<style scoped>\n",
       "    .dataframe tbody tr th:only-of-type {\n",
       "        vertical-align: middle;\n",
       "    }\n",
       "\n",
       "    .dataframe tbody tr th {\n",
       "        vertical-align: top;\n",
       "    }\n",
       "\n",
       "    .dataframe thead th {\n",
       "        text-align: right;\n",
       "    }\n",
       "</style>\n",
       "<table border=\"1\" class=\"dataframe\">\n",
       "  <thead>\n",
       "    <tr style=\"text-align: right;\">\n",
       "      <th></th>\n",
       "      <th>SMILES_str</th>\n",
       "      <th>pce</th>\n",
       "      <th>nsn_value</th>\n",
       "      <th>chc_value</th>\n",
       "      <th>se_value</th>\n",
       "    </tr>\n",
       "  </thead>\n",
       "  <tbody>\n",
       "    <tr>\n",
       "      <th>0</th>\n",
       "      <td>C1C=CC=C1c1cc2[se]c3c4occc4c4nsnc4c3c2cn1</td>\n",
       "      <td>5.161953</td>\n",
       "      <td>1</td>\n",
       "      <td>0</td>\n",
       "      <td>0</td>\n",
       "    </tr>\n",
       "    <tr>\n",
       "      <th>2</th>\n",
       "      <td>C1C=c2ccc3c4c[nH]cc4c4c5[SiH2]C(=Cc5oc4c3c2=C1...</td>\n",
       "      <td>0.000000</td>\n",
       "      <td>0</td>\n",
       "      <td>1</td>\n",
       "      <td>0</td>\n",
       "    </tr>\n",
       "    <tr>\n",
       "      <th>5</th>\n",
       "      <td>C1C=CC=C1c1cc2[se]c3c(c4nsnc4c4ccncc34)c2c2ccc...</td>\n",
       "      <td>5.605135</td>\n",
       "      <td>1</td>\n",
       "      <td>0</td>\n",
       "      <td>0</td>\n",
       "    </tr>\n",
       "    <tr>\n",
       "      <th>14</th>\n",
       "      <td>C1C=c2ccc3cnc4c5[SiH2]C(=Cc5c5nsnc5c4c3c2=C1)C...</td>\n",
       "      <td>6.462512</td>\n",
       "      <td>1</td>\n",
       "      <td>0</td>\n",
       "      <td>0</td>\n",
       "    </tr>\n",
       "    <tr>\n",
       "      <th>16</th>\n",
       "      <td>C1C=CC=C1C1=Cc2c([SiH2]1)c1c3c[nH]cc3c3ccc4=C[...</td>\n",
       "      <td>2.039158</td>\n",
       "      <td>0</td>\n",
       "      <td>1</td>\n",
       "      <td>0</td>\n",
       "    </tr>\n",
       "  </tbody>\n",
       "</table>\n",
       "</div>"
      ],
      "text/plain": [
       "                                           SMILES_str       pce  nsn_value  \\\n",
       "0           C1C=CC=C1c1cc2[se]c3c4occc4c4nsnc4c3c2cn1  5.161953          1   \n",
       "2   C1C=c2ccc3c4c[nH]cc4c4c5[SiH2]C(=Cc5oc4c3c2=C1...  0.000000          0   \n",
       "5   C1C=CC=C1c1cc2[se]c3c(c4nsnc4c4ccncc34)c2c2ccc...  5.605135          1   \n",
       "14  C1C=c2ccc3cnc4c5[SiH2]C(=Cc5c5nsnc5c4c3c2=C1)C...  6.462512          1   \n",
       "16  C1C=CC=C1C1=Cc2c([SiH2]1)c1c3c[nH]cc3c3ccc4=C[...  2.039158          0   \n",
       "\n",
       "    chc_value  se_value  \n",
       "0           0         0  \n",
       "2           1         0  \n",
       "5           0         0  \n",
       "14          0         0  \n",
       "16          1         0  "
      ]
     },
     "execution_count": 83,
     "metadata": {},
     "output_type": "execute_result"
    }
   ],
   "source": [
    "csse_df = pd.DataFrame({'SMILES_str':data_csse['SMILES_str'], 'pce':data_csse['pce']} )\n",
    "nsn_value = []\n",
    "chc_value = []\n",
    "se_value = []\n",
    "for mol in csse_df['SMILES_str']:\n",
    "    if mol.find('nsn') != -1:\n",
    "        nsn_value.append(1)\n",
    "    else:\n",
    "        nsn_value.append(0)\n",
    "    if mol.find('c[nH]c') != -1:\n",
    "        chc_value.append(1)\n",
    "    else:\n",
    "        chc_value.append(0)\n",
    "    if mol.find('Se') != -1:\n",
    "        se_value.append(1)\n",
    "    else:\n",
    "        se_value.append(0)\n",
    "csse_df['nsn_value'] = nsn_value\n",
    "csse_df['chc_value'] = chc_value\n",
    "csse_df['se_value'] = se_value\n",
    "csse_df.head()"
   ]
  },
  {
   "cell_type": "code",
   "execution_count": 84,
   "metadata": {},
   "outputs": [],
   "source": [
    "import pandas as pd\n",
    "import numpy as np\n",
    "import rdkit.Chem.EState as Estate\n",
    "from sklearn.preprocessing import StandardScaler\n",
    "from sklearn.model_selection import cross_validate\n",
    "from keras.models import Sequential\n",
    "from keras.layers import Dense, Activation\n",
    "from keras.optimizers import SGD\n",
    "import matplotlib.pyplot as plt\n",
    "%matplotlib inline"
   ]
  },
  {
   "cell_type": "code",
   "execution_count": 85,
   "metadata": {},
   "outputs": [],
   "source": [
    "# define a training dataset\n",
    "xx = [csse_df['nsn_value'], csse_df['chc_value'], csse_df['se_value']]\n",
    "X = np.array(xx).reshape(-1,3)\n",
    "y = np.array(csse_df['pce'].values).reshape(-1,1)\n",
    "seed =13544"
   ]
  },
  {
   "cell_type": "code",
   "execution_count": null,
   "metadata": {},
   "outputs": [],
   "source": [
    "\n"
   ]
  },
  {
   "cell_type": "code",
   "execution_count": 86,
   "metadata": {},
   "outputs": [
    {
     "name": "stderr",
     "output_type": "stream",
     "text": [
      "C:\\Users\\alex0\\Anaconda3\\envs\\pvc-env\\lib\\site-packages\\sklearn\\utils\\validation.py:595: DataConversionWarning: Data with input dtype int64 was converted to float64 by StandardScaler.\n",
      "  warnings.warn(msg, DataConversionWarning)\n",
      "C:\\Users\\alex0\\Anaconda3\\envs\\pvc-env\\lib\\site-packages\\sklearn\\utils\\validation.py:595: DataConversionWarning: Data with input dtype int64 was converted to float64 by StandardScaler.\n",
      "  warnings.warn(msg, DataConversionWarning)\n"
     ]
    }
   ],
   "source": [
    "X_train, X_test, y_train, y_test = train_test_split(X, y,\n",
    "                                                    test_size=0.20,\n",
    "                                                    random_state=seed)\n",
    "# create the scaler from the training data only and keep it for later use\n",
    "X_train_scaler = StandardScaler().fit(X_train)\n",
    "# apply the scaler transform to the training data\n",
    "X_train = X_train_scaler.transform(X_train)"
   ]
  },
  {
   "cell_type": "code",
   "execution_count": 87,
   "metadata": {},
   "outputs": [],
   "source": [
    "def simple_model():\n",
    "    # assemble the structure\n",
    "    model = Sequential()\n",
    "    model.add(Dense(output_dim=9, input_dim=X.shape[1], kernel_initializer='normal', activation='relu'))\n",
    "    model.add(Dense(4, kernel_initializer='normal', activation='relu'))\n",
    "    model.add(Dense(1, kernel_initializer='normal'))\n",
    "    # compile the model\n",
    "    model.compile(loss='mean_squared_error', optimizer='adam')\n",
    "    return model"
   ]
  },
  {
   "cell_type": "code",
   "execution_count": 88,
   "metadata": {},
   "outputs": [
    {
     "name": "stderr",
     "output_type": "stream",
     "text": [
      "C:\\Users\\alex0\\Anaconda3\\envs\\pvc-env\\lib\\site-packages\\ipykernel_launcher.py:4: UserWarning: Update your `Dense` call to the Keras 2 API: `Dense(input_dim=3, kernel_initializer=\"normal\", activation=\"relu\", units=9)`\n",
      "  after removing the cwd from sys.path.\n"
     ]
    },
    {
     "name": "stdout",
     "output_type": "stream",
     "text": [
      "final MSE for train is 6.63 and for validation is 6.70\n"
     ]
    }
   ],
   "source": [
    "estimator = KerasRegressor(build_fn=simple_model,\n",
    "        epochs=1600, batch_size=2500, verbose=0)\n",
    "history = estimator.fit(X_train, y_train, validation_split=0.33, epochs=150, \n",
    "        batch_size=1000, verbose=0)\n",
    "print(\"final MSE for train is %.2f and for validation is %.2f\" % \n",
    "      (history.history['loss'][-1], history.history['val_loss'][-1]))"
   ]
  },
  {
   "cell_type": "code",
   "execution_count": 89,
   "metadata": {},
   "outputs": [
    {
     "data": {
      "image/png": "[encoded data removed]",
      "text/plain": [
       "<Figure size 432x288 with 1 Axes>"
      ]
     },
     "metadata": {
      "needs_background": "light"
     },
     "output_type": "display_data"
    }
   ],
   "source": [
    "# summarize history for loss\n",
    "plt.plot(history.history['loss'])\n",
    "plt.plot(history.history['val_loss'])\n",
    "plt.title('model loss')\n",
    "plt.ylabel('loss')\n",
    "plt.xlabel('epoch')\n",
    "plt.legend(['train', 'validation'], loc='upper left')\n",
    "plt.show()"
   ]
  },
  {
   "cell_type": "code",
   "execution_count": 90,
   "metadata": {},
   "outputs": [
    {
     "data": {
      "image/png": "[encoded data removed]",
      "text/plain": [
       "<Figure size 360x360 with 1 Axes>"
      ]
     },
     "metadata": {
      "needs_background": "light"
     },
     "output_type": "display_data"
    }
   ],
   "source": [
    "fig = plt.figure(figsize=(5,5))\n",
    "plt.scatter(y_train,estimator.predict(X_train), label = 'Train', c='blue')\n",
    "plt.scatter(y_test,estimator.predict(X_test), label = 'Test', c='r')\n",
    "plt.title('Neural Network Predictor')\n",
    "plt.xlabel('Acutal pce')\n",
    "plt.ylabel('Predicted pce')\n",
    "plt.legend(loc=5)\n",
    "plt.show()"
   ]
  },
  {
   "cell_type": "code",
   "execution_count": null,
   "metadata": {},
   "outputs": [],
   "source": []
  }
 ],
 "metadata": {
  "kernelspec": {
   "display_name": "Python(pvc-env)",
   "language": "python",
   "name": "pvc-env"
  },
  "language_info": {
   "codemirror_mode": {
    "name": "ipython",
    "version": 3
   },
   "file_extension": ".py",
   "mimetype": "text/x-python",
   "name": "python",
   "nbconvert_exporter": "python",
   "pygments_lexer": "ipython3",
   "version": "3.6.8"
  }
 },
 "nbformat": 4,
 "nbformat_minor": 2
}
