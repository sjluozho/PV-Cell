{
 "cells": [
  {
   "cell_type": "markdown",
   "metadata": {},
   "source": [
    "# SelectFeatures\n",
    "This notebook shows the development of how we shrink the size of features from `ChemFeatures` to study with. We used the following method to analyze the weight of each feature:\n",
    "\n",
    "* RIDGE (Ridge Regression)\n",
    "* LASSO (Least Absolute Shrinkage and Selection Operator)\n",
    "* Random Forest\n",
    "* RFE (Recursive Feature Elimination)\n",
    "\n",
    "We use explained variance to compare and evaluate these methods for final decision making.<br>"
   ]
  },
  {
   "cell_type": "markdown",
   "metadata": {},
   "source": [
    "#### Use ``ChemFeatures`` to generate a dataframe of features."
   ]
  },
  {
   "cell_type": "code",
   "execution_count": 1,
   "metadata": {},
   "outputs": [],
   "source": [
    "import pandas as pd\n",
    "# Module for extracting ChemInfo\n",
    "from SeekFeatures import ChemFeatures\n",
    "import mordred\n",
    "import numpy as np\n",
    "\n",
    "# plotting package\n",
    "import matplotlib.pyplot as plt\n",
    "%matplotlib inline"
   ]
  },
  {
   "cell_type": "code",
   "execution_count": 2,
   "metadata": {},
   "outputs": [
    {
     "data": {
      "text/html": [
       "<div>\n",
       "<style scoped>\n",
       "    .dataframe tbody tr th:only-of-type {\n",
       "        vertical-align: middle;\n",
       "    }\n",
       "\n",
       "    .dataframe tbody tr th {\n",
       "        vertical-align: top;\n",
       "    }\n",
       "\n",
       "    .dataframe thead th {\n",
       "        text-align: right;\n",
       "    }\n",
       "</style>\n",
       "<table border=\"1\" class=\"dataframe\">\n",
       "  <thead>\n",
       "    <tr style=\"text-align: right;\">\n",
       "      <th></th>\n",
       "      <th>id</th>\n",
       "      <th>SMILES_str</th>\n",
       "      <th>stoich_str</th>\n",
       "      <th>mass</th>\n",
       "      <th>pce</th>\n",
       "      <th>voc</th>\n",
       "      <th>jsc</th>\n",
       "      <th>e_homo_alpha</th>\n",
       "      <th>e_gap_alpha</th>\n",
       "      <th>e_lumo_alpha</th>\n",
       "      <th>tmp_smiles_str</th>\n",
       "    </tr>\n",
       "  </thead>\n",
       "  <tbody>\n",
       "    <tr>\n",
       "      <th>0</th>\n",
       "      <td>655365</td>\n",
       "      <td>C1C=CC=C1c1cc2[se]c3c4occc4c4nsnc4c3c2cn1</td>\n",
       "      <td>C18H9N3OSSe</td>\n",
       "      <td>394.3151</td>\n",
       "      <td>5.161953</td>\n",
       "      <td>0.867601</td>\n",
       "      <td>91.567575</td>\n",
       "      <td>-5.467601</td>\n",
       "      <td>2.022944</td>\n",
       "      <td>-3.444656</td>\n",
       "      <td>C1=CC=C(C1)c1cc2[se]c3c4occc4c4nsnc4c3c2cn1</td>\n",
       "    </tr>\n",
       "    <tr>\n",
       "      <th>1</th>\n",
       "      <td>1245190</td>\n",
       "      <td>C1C=CC=C1c1cc2[se]c3c(ncc4ccccc34)c2c2=C[SiH2]...</td>\n",
       "      <td>C22H15NSeSi</td>\n",
       "      <td>400.4135</td>\n",
       "      <td>5.261398</td>\n",
       "      <td>0.504824</td>\n",
       "      <td>160.401549</td>\n",
       "      <td>-5.104824</td>\n",
       "      <td>1.630750</td>\n",
       "      <td>-3.474074</td>\n",
       "      <td>C1=CC=C(C1)c1cc2[se]c3c(ncc4ccccc34)c2c2=C[SiH...</td>\n",
       "    </tr>\n",
       "    <tr>\n",
       "      <th>2</th>\n",
       "      <td>21847</td>\n",
       "      <td>C1C=c2ccc3c4c[nH]cc4c4c5[SiH2]C(=Cc5oc4c3c2=C1...</td>\n",
       "      <td>C24H17NOSi</td>\n",
       "      <td>363.4903</td>\n",
       "      <td>0.000000</td>\n",
       "      <td>0.000000</td>\n",
       "      <td>197.474780</td>\n",
       "      <td>-4.539526</td>\n",
       "      <td>1.462158</td>\n",
       "      <td>-3.077368</td>\n",
       "      <td>C1=CC=C(C1)C1=Cc2oc3c(c2[SiH2]1)c1c[nH]cc1c1cc...</td>\n",
       "    </tr>\n",
       "    <tr>\n",
       "      <th>3</th>\n",
       "      <td>65553</td>\n",
       "      <td>[SiH2]1C=CC2=C1C=C([SiH2]2)C1=Cc2[se]ccc2[SiH2]1</td>\n",
       "      <td>C12H12SeSi3</td>\n",
       "      <td>319.4448</td>\n",
       "      <td>6.138294</td>\n",
       "      <td>0.630274</td>\n",
       "      <td>149.887545</td>\n",
       "      <td>-5.230274</td>\n",
       "      <td>1.682250</td>\n",
       "      <td>-3.548025</td>\n",
       "      <td>C1=CC2=C([SiH2]1)C=C([SiH2]2)C1=Cc2[se]ccc2[Si...</td>\n",
       "    </tr>\n",
       "    <tr>\n",
       "      <th>4</th>\n",
       "      <td>720918</td>\n",
       "      <td>C1C=c2c3ccsc3c3[se]c4cc(oc4c3c2=C1)C1=CC=CC1</td>\n",
       "      <td>C20H12OSSe</td>\n",
       "      <td>379.3398</td>\n",
       "      <td>1.991366</td>\n",
       "      <td>0.242119</td>\n",
       "      <td>126.581347</td>\n",
       "      <td>-4.842119</td>\n",
       "      <td>1.809439</td>\n",
       "      <td>-3.032680</td>\n",
       "      <td>C1=CC=C(C1)c1cc2[se]c3c4sccc4c4=CCC=c4c3c2o1</td>\n",
       "    </tr>\n",
       "  </tbody>\n",
       "</table>\n",
       "</div>"
      ],
      "text/plain": [
       "        id                                         SMILES_str   stoich_str  \\\n",
       "0   655365          C1C=CC=C1c1cc2[se]c3c4occc4c4nsnc4c3c2cn1  C18H9N3OSSe   \n",
       "1  1245190  C1C=CC=C1c1cc2[se]c3c(ncc4ccccc34)c2c2=C[SiH2]...  C22H15NSeSi   \n",
       "2    21847  C1C=c2ccc3c4c[nH]cc4c4c5[SiH2]C(=Cc5oc4c3c2=C1...   C24H17NOSi   \n",
       "3    65553   [SiH2]1C=CC2=C1C=C([SiH2]2)C1=Cc2[se]ccc2[SiH2]1  C12H12SeSi3   \n",
       "4   720918       C1C=c2c3ccsc3c3[se]c4cc(oc4c3c2=C1)C1=CC=CC1   C20H12OSSe   \n",
       "\n",
       "       mass       pce       voc         jsc  e_homo_alpha  e_gap_alpha  \\\n",
       "0  394.3151  5.161953  0.867601   91.567575     -5.467601     2.022944   \n",
       "1  400.4135  5.261398  0.504824  160.401549     -5.104824     1.630750   \n",
       "2  363.4903  0.000000  0.000000  197.474780     -4.539526     1.462158   \n",
       "3  319.4448  6.138294  0.630274  149.887545     -5.230274     1.682250   \n",
       "4  379.3398  1.991366  0.242119  126.581347     -4.842119     1.809439   \n",
       "\n",
       "   e_lumo_alpha                                     tmp_smiles_str  \n",
       "0     -3.444656        C1=CC=C(C1)c1cc2[se]c3c4occc4c4nsnc4c3c2cn1  \n",
       "1     -3.474074  C1=CC=C(C1)c1cc2[se]c3c(ncc4ccccc34)c2c2=C[SiH...  \n",
       "2     -3.077368  C1=CC=C(C1)C1=Cc2oc3c(c2[SiH2]1)c1c[nH]cc1c1cc...  \n",
       "3     -3.548025  C1=CC2=C([SiH2]1)C=C([SiH2]2)C1=Cc2[se]ccc2[Si...  \n",
       "4     -3.032680       C1=CC=C(C1)c1cc2[se]c3c4sccc4c4=CCC=c4c3c2o1  "
      ]
     },
     "execution_count": 2,
     "metadata": {},
     "output_type": "execute_result"
    }
   ],
   "source": [
    "# Use 100K data for demonstration\n",
    "data = pd.read_csv('../Database/HCEPD_100K.csv') \n",
    "# Use first 50 data to illustrate the analysis\n",
    "data50 = data.head(50)\n",
    "data50.head()"
   ]
  },
  {
   "cell_type": "markdown",
   "metadata": {},
   "source": [
    "Generate a dataframe of chemical features."
   ]
  },
  {
   "cell_type": "code",
   "execution_count": 3,
   "metadata": {},
   "outputs": [
    {
     "name": "stderr",
     "output_type": "stream",
     "text": [
      "100%|██████████████████████████████████████████████████████████████████████████████████| 50/50 [00:09<00:00,  7.06it/s]\n",
      "IOPub data rate exceeded.\n",
      "The notebook server will temporarily stop sending output\n",
      "to the client in order to avoid crashing it.\n",
      "To change this limit, set the config variable\n",
      "`--NotebookApp.iopub_data_rate_limit`.\n",
      "\n",
      "Current values:\n",
      "NotebookApp.iopub_data_rate_limit=1000000.0 (bytes/sec)\n",
      "NotebookApp.rate_limit_window=3.0 (secs)\n",
      "\n"
     ]
    },
    {
     "name": "stdout",
     "output_type": "stream",
     "text": [
      "\n"
     ]
    },
    {
     "name": "stderr",
     "output_type": "stream",
     "text": [
      "100%|██████████████████████████████████████████████████████████████████████████████████| 50/50 [00:09<00:00,  8.30it/s]\n"
     ]
    }
   ],
   "source": [
    "features_df = ChemFeatures(data50['SMILES_str'])"
   ]
  },
  {
   "cell_type": "code",
   "execution_count": 4,
   "metadata": {},
   "outputs": [
    {
     "data": {
      "text/html": [
       "<div>\n",
       "<style scoped>\n",
       "    .dataframe tbody tr th:only-of-type {\n",
       "        vertical-align: middle;\n",
       "    }\n",
       "\n",
       "    .dataframe tbody tr th {\n",
       "        vertical-align: top;\n",
       "    }\n",
       "\n",
       "    .dataframe thead th {\n",
       "        text-align: right;\n",
       "    }\n",
       "</style>\n",
       "<table border=\"1\" class=\"dataframe\">\n",
       "  <thead>\n",
       "    <tr style=\"text-align: right;\">\n",
       "      <th></th>\n",
       "      <th>ABC</th>\n",
       "      <th>ABCGG</th>\n",
       "      <th>nAcid</th>\n",
       "      <th>nBase</th>\n",
       "      <th>SpAbs_A</th>\n",
       "      <th>SpMax_A</th>\n",
       "      <th>SpDiam_A</th>\n",
       "      <th>SpAD_A</th>\n",
       "      <th>SpMAD_A</th>\n",
       "      <th>LogEE_A</th>\n",
       "      <th>...</th>\n",
       "      <th>SRW10</th>\n",
       "      <th>TSRW10</th>\n",
       "      <th>MW</th>\n",
       "      <th>AMW</th>\n",
       "      <th>WPath</th>\n",
       "      <th>WPol</th>\n",
       "      <th>Zagreb1</th>\n",
       "      <th>Zagreb2</th>\n",
       "      <th>mZagreb1</th>\n",
       "      <th>mZagreb2</th>\n",
       "    </tr>\n",
       "  </thead>\n",
       "  <tbody>\n",
       "    <tr>\n",
       "      <th>0</th>\n",
       "      <td>20.142136</td>\n",
       "      <td>16.169815</td>\n",
       "      <td>0</td>\n",
       "      <td>0</td>\n",
       "      <td>33.204238</td>\n",
       "      <td>2.616114</td>\n",
       "      <td>5.057172</td>\n",
       "      <td>33.204238</td>\n",
       "      <td>1.383510</td>\n",
       "      <td>4.188377</td>\n",
       "      <td>...</td>\n",
       "      <td>10.460213</td>\n",
       "      <td>77.559765</td>\n",
       "      <td>394.963154</td>\n",
       "      <td>11.968580</td>\n",
       "      <td>1216</td>\n",
       "      <td>42</td>\n",
       "      <td>146.0</td>\n",
       "      <td>185.0</td>\n",
       "      <td>4.611111</td>\n",
       "      <td>5.000000</td>\n",
       "    </tr>\n",
       "    <tr>\n",
       "      <th>1</th>\n",
       "      <td>20.849242</td>\n",
       "      <td>16.133746</td>\n",
       "      <td>0</td>\n",
       "      <td>0</td>\n",
       "      <td>34.755190</td>\n",
       "      <td>2.600656</td>\n",
       "      <td>5.047921</td>\n",
       "      <td>34.755190</td>\n",
       "      <td>1.390208</td>\n",
       "      <td>4.221130</td>\n",
       "      <td>...</td>\n",
       "      <td>10.493799</td>\n",
       "      <td>77.890806</td>\n",
       "      <td>401.013897</td>\n",
       "      <td>10.025347</td>\n",
       "      <td>1337</td>\n",
       "      <td>45</td>\n",
       "      <td>150.0</td>\n",
       "      <td>189.0</td>\n",
       "      <td>4.861111</td>\n",
       "      <td>5.250000</td>\n",
       "    </tr>\n",
       "    <tr>\n",
       "      <th>2</th>\n",
       "      <td>22.889683</td>\n",
       "      <td>17.893320</td>\n",
       "      <td>0</td>\n",
       "      <td>0</td>\n",
       "      <td>37.437727</td>\n",
       "      <td>2.645420</td>\n",
       "      <td>5.160050</td>\n",
       "      <td>37.437727</td>\n",
       "      <td>1.386582</td>\n",
       "      <td>4.315006</td>\n",
       "      <td>...</td>\n",
       "      <td>10.639862</td>\n",
       "      <td>82.032579</td>\n",
       "      <td>363.107941</td>\n",
       "      <td>8.252453</td>\n",
       "      <td>1635</td>\n",
       "      <td>49</td>\n",
       "      <td>168.0</td>\n",
       "      <td>215.0</td>\n",
       "      <td>5.083333</td>\n",
       "      <td>5.555556</td>\n",
       "    </tr>\n",
       "    <tr>\n",
       "      <th>3</th>\n",
       "      <td>13.313708</td>\n",
       "      <td>11.688393</td>\n",
       "      <td>0</td>\n",
       "      <td>0</td>\n",
       "      <td>21.283525</td>\n",
       "      <td>2.481194</td>\n",
       "      <td>4.637583</td>\n",
       "      <td>21.283525</td>\n",
       "      <td>1.330220</td>\n",
       "      <td>3.777767</td>\n",
       "      <td>...</td>\n",
       "      <td>9.782393</td>\n",
       "      <td>66.966647</td>\n",
       "      <td>319.941201</td>\n",
       "      <td>11.426471</td>\n",
       "      <td>430</td>\n",
       "      <td>20</td>\n",
       "      <td>94.0</td>\n",
       "      <td>115.0</td>\n",
       "      <td>3.166667</td>\n",
       "      <td>3.333333</td>\n",
       "    </tr>\n",
       "    <tr>\n",
       "      <th>4</th>\n",
       "      <td>19.435029</td>\n",
       "      <td>15.989365</td>\n",
       "      <td>0</td>\n",
       "      <td>0</td>\n",
       "      <td>31.670490</td>\n",
       "      <td>2.627835</td>\n",
       "      <td>5.062549</td>\n",
       "      <td>31.670490</td>\n",
       "      <td>1.376978</td>\n",
       "      <td>4.154569</td>\n",
       "      <td>...</td>\n",
       "      <td>10.429310</td>\n",
       "      <td>77.119188</td>\n",
       "      <td>379.977407</td>\n",
       "      <td>10.856497</td>\n",
       "      <td>1074</td>\n",
       "      <td>39</td>\n",
       "      <td>142.0</td>\n",
       "      <td>181.0</td>\n",
       "      <td>4.361111</td>\n",
       "      <td>4.750000</td>\n",
       "    </tr>\n",
       "  </tbody>\n",
       "</table>\n",
       "<p>5 rows × 1825 columns</p>\n",
       "</div>"
      ],
      "text/plain": [
       "         ABC      ABCGG  nAcid  nBase    SpAbs_A   SpMax_A  SpDiam_A  \\\n",
       "0  20.142136  16.169815      0      0  33.204238  2.616114  5.057172   \n",
       "1  20.849242  16.133746      0      0  34.755190  2.600656  5.047921   \n",
       "2  22.889683  17.893320      0      0  37.437727  2.645420  5.160050   \n",
       "3  13.313708  11.688393      0      0  21.283525  2.481194  4.637583   \n",
       "4  19.435029  15.989365      0      0  31.670490  2.627835  5.062549   \n",
       "\n",
       "      SpAD_A   SpMAD_A   LogEE_A  ...      SRW10     TSRW10          MW  \\\n",
       "0  33.204238  1.383510  4.188377  ...  10.460213  77.559765  394.963154   \n",
       "1  34.755190  1.390208  4.221130  ...  10.493799  77.890806  401.013897   \n",
       "2  37.437727  1.386582  4.315006  ...  10.639862  82.032579  363.107941   \n",
       "3  21.283525  1.330220  3.777767  ...   9.782393  66.966647  319.941201   \n",
       "4  31.670490  1.376978  4.154569  ...  10.429310  77.119188  379.977407   \n",
       "\n",
       "         AMW  WPath  WPol  Zagreb1  Zagreb2  mZagreb1  mZagreb2  \n",
       "0  11.968580   1216    42    146.0    185.0  4.611111  5.000000  \n",
       "1  10.025347   1337    45    150.0    189.0  4.861111  5.250000  \n",
       "2   8.252453   1635    49    168.0    215.0  5.083333  5.555556  \n",
       "3  11.426471    430    20     94.0    115.0  3.166667  3.333333  \n",
       "4  10.856497   1074    39    142.0    181.0  4.361111  4.750000  \n",
       "\n",
       "[5 rows x 1825 columns]"
      ]
     },
     "execution_count": 4,
     "metadata": {},
     "output_type": "execute_result"
    }
   ],
   "source": [
    "features_df.head()"
   ]
  },
  {
   "cell_type": "markdown",
   "metadata": {},
   "source": [
    "> Not all molecules have the same features as others, so there will be some non-value entries hidden in the dataframe."
   ]
  },
  {
   "cell_type": "code",
   "execution_count": 5,
   "metadata": {},
   "outputs": [
    {
     "data": {
      "text/plain": [
       "[<mordred.error.Missing at 0x12aa54a6550>,\n",
       " <mordred.error.Missing at 0x12aa5674d68>,\n",
       " <mordred.error.Missing at 0x12aa5601ba8>,\n",
       " <mordred.error.Missing at 0x12aa568d128>,\n",
       " <mordred.error.Missing at 0x12aa568d160>]"
      ]
     },
     "execution_count": 5,
     "metadata": {},
     "output_type": "execute_result"
    }
   ],
   "source": [
    "# find the non-value entries.\n",
    "\n",
    "missing =[]\n",
    "for i in range(features_df.shape[1]):\n",
    "    if type(features_df.loc[1][i]) == mordred.error.Missing:\n",
    "        missing.append(features_df.loc[1][i])\n",
    "\n",
    "# show examples of the non-value entries.        \n",
    "missing[0:5]"
   ]
  },
  {
   "cell_type": "markdown",
   "metadata": {},
   "source": [
    "> **for these non-value entries, we assign them to 0, simply indicating that the molecule does not possess that specific feature.**"
   ]
  },
  {
   "cell_type": "code",
   "execution_count": 6,
   "metadata": {},
   "outputs": [],
   "source": [
    "# first locate the columns that contain missing values\n",
    "type_series = features_df.dtypes\n",
    "wrong_column = []\n",
    "for col in range(len(type_series)):\n",
    "    if type_series[col] != np.float64 and type_series[col] != np.int64:\n",
    "        wrong_column.append(col)\n",
    "\n",
    "# use for loop within the columns found above and \n",
    "# replace the missing values to 0\n",
    "for column in wrong_column:\n",
    "    i = 0\n",
    "    for item in features_df.iloc[:,column]:\n",
    "        if type(item) != np.float64 and type(item) != np.int64:\n",
    "            features_df.iloc[i,column] = 0\n",
    "        i += 1\n"
   ]
  },
  {
   "cell_type": "code",
   "execution_count": 7,
   "metadata": {},
   "outputs": [
    {
     "name": "stdout",
     "output_type": "stream",
     "text": [
      "[dtype('int64') dtype('float64') dtype('O')]\n"
     ]
    },
    {
     "data": {
      "text/plain": [
       "[]"
      ]
     },
     "execution_count": 7,
     "metadata": {},
     "output_type": "execute_result"
    }
   ],
   "source": [
    "# check if missing values have been replaced by 0\n",
    "print(np.unique(features_df.dtypes))\n",
    "missing_check =[]\n",
    "for i in range(features_df.shape[1]):\n",
    "    if type(features_df.loc[1][i]) == mordred.error.Missing:\n",
    "        missing_check.append(features_df.loc[1][i])\n",
    "missing_check\n"
   ]
  },
  {
   "cell_type": "markdown",
   "metadata": {},
   "source": [
    "* **Standarlize feature values for regression**"
   ]
  },
  {
   "cell_type": "code",
   "execution_count": 63,
   "metadata": {},
   "outputs": [
    {
     "name": "stderr",
     "output_type": "stream",
     "text": [
      "c:\\users\\alex0\\anaconda3\\envs\\pvc-env\\lib\\site-packages\\sklearn\\utils\\validation.py:595: DataConversionWarning: Data with input dtype object was converted to float64 by StandardScaler.\n",
      "  warnings.warn(msg, DataConversionWarning)\n",
      "c:\\users\\alex0\\anaconda3\\envs\\pvc-env\\lib\\site-packages\\sklearn\\utils\\validation.py:595: DataConversionWarning: Data with input dtype object was converted to float64 by StandardScaler.\n",
      "  warnings.warn(msg, DataConversionWarning)\n"
     ]
    }
   ],
   "source": [
    "from sklearn.preprocessing import StandardScaler\n",
    "features =[feature for feature in features_df.columns]\n",
    "\n",
    "# Separating out the features\n",
    "x = features_df.loc[:, features].values\n",
    "\n",
    "# Our target is pce\n",
    "y = data50['pce'].values\n",
    "sc = StandardScaler()\n",
    "X = sc.fit_transform(x)\n"
   ]
  },
  {
   "cell_type": "code",
   "execution_count": 64,
   "metadata": {},
   "outputs": [],
   "source": [
    "features = [ftr for ftr in features_df.head()]\n",
    "ranks = {}\n",
    "def rank_to_dict(ranks, names, order=1):\n",
    "    sc = StandardScaler()\n",
    "    ranks = sc.fit_transform(order*np.array([ranks]).T).T[0]\n",
    "    ranks = map(lambda x: round(x, 2), ranks)\n",
    "    return dict(zip(names, ranks ))"
   ]
  },
  {
   "cell_type": "code",
   "execution_count": null,
   "metadata": {},
   "outputs": [],
   "source": []
  },
  {
   "cell_type": "markdown",
   "metadata": {},
   "source": [
    "### Linear regression model\n",
    "Here, we chose two most commonly used linear regression models to shrink the coefficients: Ridge and LASSO. Both of them describes the weights of each feature contributing to the response in a linear model, and introduce a penalty term (&lambda;) to include the error from the magnitude of feature coefficient. The difference between them is the way they calculate the penalty. While RIDGE tries to shrink all coefficients closer to zero due to its square term, LASSO takes the absolutie value of coef to eliminate some 0 term and leave the significant term.<br>\n",
    "\n",
    "We applied both methods to our dataset and tried to compare them by plotting error vs r2. They are included in ``ShrinkCoef``. Users can also decide which one to use for their data by calling these functions. "
   ]
  },
  {
   "cell_type": "code",
   "execution_count": 155,
   "metadata": {},
   "outputs": [],
   "source": [
    "# import package\n",
    "from sklearn.model_selection import train_test_split\n",
    "from sklearn.model_selection import KFold\n",
    "from sklearn.metrics import mean_squared_error\n",
    "\n",
    "\n",
    "# applied k-fold cross-validation to the process of sampling.\n",
    "kf = KFold(n_splits = 10, shuffle = True)\n",
    "\n",
    "for train_index, test_index in kf.split(X):\n",
    "    X_train, X_test = X[train_index], X[test_index]\n",
    "    y_train, y_test = y[train_index], y[test_index]\n"
   ]
  },
  {
   "cell_type": "code",
   "execution_count": 156,
   "metadata": {},
   "outputs": [
    {
     "name": "stdout",
     "output_type": "stream",
     "text": [
      "45 5 45 5\n"
     ]
    }
   ],
   "source": [
    "print(len(X_train), len(X_test), len(y_train), len(y_test))"
   ]
  },
  {
   "cell_type": "markdown",
   "metadata": {},
   "source": [
    "* **Ridge regression (RR)**"
   ]
  },
  {
   "cell_type": "code",
   "execution_count": 157,
   "metadata": {},
   "outputs": [],
   "source": [
    "from sklearn.linear_model import Ridge\n",
    "# RR vs lambda \n",
    "coefs_RR = []\n",
    "train_error_RR = []\n",
    "test_error_RR = []\n",
    "\n",
    "# Tunning parameter(lambda)\n",
    "lambdas_RR = np.logspace(-4,8,200)\n",
    "modelRR = Ridge()\n",
    "\n",
    "# loop over lambda values to determine the best by mse\n",
    "for l in lambdas_RR:\n",
    "    modelRR.set_params(alpha = l)\n",
    "    modelRR.fit(X_train, y_train)\n",
    "    coefs_RR.append(modelRR.coef_)\n",
    "    train_error_RR.append(mean_squared_error(y_train, modelRR.predict(X_train)))\n",
    "    test_error_RR.append(mean_squared_error(y_test, modelRR.predict(X_test)))"
   ]
  },
  {
   "cell_type": "code",
   "execution_count": 158,
   "metadata": {},
   "outputs": [
    {
     "data": {
      "text/plain": [
       "Text(0.5, 1.0, 'MSE vs $\\\\lambda$')"
      ]
     },
     "execution_count": 158,
     "metadata": {},
     "output_type": "execute_result"
    },
    {
     "data": {
      "image/png": "[encoded data removed]",
      "text/plain": [
       "<Figure size 864x345.6 with 2 Axes>"
      ]
     },
     "metadata": {
      "needs_background": "light"
     },
     "output_type": "display_data"
    }
   ],
   "source": [
    "fig = plt.figure(figsize=(12, 4.8))\n",
    "\n",
    "ax1 = plt.subplot(1, 2, 1)\n",
    "plt.plot(lambdas_RR, coefs_RR)\n",
    "plt.xscale('log')\n",
    "plt.xlabel('$\\lambda$')\n",
    "plt.ylabel('coefficients')\n",
    "plt.title('RR coefs vs $\\lambda$')\n",
    "plt.xlim(1e-4, 1e8)\n",
    "\n",
    "ax2 = plt.subplot(1, 2, 2)\n",
    "plt.plot(lambdas_RR, train_error_RR, label = 'train error')\n",
    "plt.plot(lambdas_RR, test_error_RR, label = 'test error')\n",
    "plt.xscale('log')\n",
    "plt.xlabel('$\\lambda$')\n",
    "plt.ylabel('MSE')\n",
    "plt.xlim(1e-4, 1e8)\n",
    "plt.ylim(0, 6.5)\n",
    "plt.legend(loc = 'upper left')\n",
    "plt.title('MSE vs $\\lambda$')"
   ]
  },
  {
   "cell_type": "code",
   "execution_count": 159,
   "metadata": {},
   "outputs": [
    {
     "data": {
      "text/plain": [
       "array([ 0.00172879, -0.00131995,  0.        , ..., -0.00042404,\n",
       "        0.00588009,  0.00499198])"
      ]
     },
     "execution_count": 159,
     "metadata": {},
     "output_type": "execute_result"
    }
   ],
   "source": [
    "# choose lambda = 1e-2 and find coef.\n",
    "lam = list(lambdas_RR)[34]\n",
    "coefs_RR[34]"
   ]
  },
  {
   "cell_type": "code",
   "execution_count": 160,
   "metadata": {},
   "outputs": [
    {
     "data": {
      "text/html": [
       "<div>\n",
       "<style scoped>\n",
       "    .dataframe tbody tr th:only-of-type {\n",
       "        vertical-align: middle;\n",
       "    }\n",
       "\n",
       "    .dataframe tbody tr th {\n",
       "        vertical-align: top;\n",
       "    }\n",
       "\n",
       "    .dataframe thead th {\n",
       "        text-align: right;\n",
       "    }\n",
       "</style>\n",
       "<table border=\"1\" class=\"dataframe\">\n",
       "  <thead>\n",
       "    <tr style=\"text-align: right;\">\n",
       "      <th></th>\n",
       "      <th>Feature</th>\n",
       "      <th>coefs_RR</th>\n",
       "    </tr>\n",
       "  </thead>\n",
       "  <tbody>\n",
       "    <tr>\n",
       "      <th>1517</th>\n",
       "      <td>PEOE_VSA2</td>\n",
       "      <td>0.073349</td>\n",
       "    </tr>\n",
       "    <tr>\n",
       "      <th>505</th>\n",
       "      <td>MATS1se</td>\n",
       "      <td>0.049285</td>\n",
       "    </tr>\n",
       "    <tr>\n",
       "      <th>1118</th>\n",
       "      <td>MAXaaN</td>\n",
       "      <td>0.044939</td>\n",
       "    </tr>\n",
       "    <tr>\n",
       "      <th>1197</th>\n",
       "      <td>MINaaN</td>\n",
       "      <td>0.043215</td>\n",
       "    </tr>\n",
       "    <tr>\n",
       "      <th>1521</th>\n",
       "      <td>PEOE_VSA6</td>\n",
       "      <td>0.040958</td>\n",
       "    </tr>\n",
       "  </tbody>\n",
       "</table>\n",
       "</div>"
      ],
      "text/plain": [
       "        Feature  coefs_RR\n",
       "1517  PEOE_VSA2  0.073349\n",
       "505     MATS1se  0.049285\n",
       "1118     MAXaaN  0.044939\n",
       "1197     MINaaN  0.043215\n",
       "1521  PEOE_VSA6  0.040958"
      ]
     },
     "execution_count": 160,
     "metadata": {},
     "output_type": "execute_result"
    }
   ],
   "source": [
    "RR_df = pd.DataFrame({'Feature':features_df.columns.values, 'coefs_RR':coefs_RR[34]}).sort_values('coefs_RR',ascending=False)\n",
    "RR_df.head()"
   ]
  },
  {
   "cell_type": "markdown",
   "metadata": {},
   "source": [
    "* **LASSO regression**"
   ]
  },
  {
   "cell_type": "code",
   "execution_count": 161,
   "metadata": {},
   "outputs": [],
   "source": [
    "from sklearn.linear_model import Lasso\n",
    "# RR vs lambda \n",
    "coefs_Lasso = []\n",
    "train_error_Lasso = []\n",
    "test_error_Lasso = []\n",
    "\n",
    "# Tunning parameter(lambda)\n",
    "lambdas_Lasso = np.logspace(-4,8,200)\n",
    "modelLasso = Lasso(max_iter = 1e4)\n",
    "\n",
    "# loop over lambda values to determine the best by mse\n",
    "for l in lambdas_Lasso:\n",
    "    modelLasso.set_params(alpha = l)\n",
    "    modelLasso.fit(X_train, y_train)\n",
    "    coefs_Lasso.append(modelLasso.coef_)\n",
    "    train_error_Lasso.append(mean_squared_error(y_train, modelLasso.predict(X_train)))\n",
    "    test_error_Lasso.append(mean_squared_error(y_test, modelLasso.predict(X_test)))"
   ]
  },
  {
   "cell_type": "code",
   "execution_count": 162,
   "metadata": {},
   "outputs": [
    {
     "data": {
      "text/plain": [
       "Text(0.5, 1.0, 'MSE vs $\\\\lambda$')"
      ]
     },
     "execution_count": 162,
     "metadata": {},
     "output_type": "execute_result"
    },
    {
     "data": {
      "image/png": "[encoded data removed]",
      "text/plain": [
       "<Figure size 864x345.6 with 2 Axes>"
      ]
     },
     "metadata": {
      "needs_background": "light"
     },
     "output_type": "display_data"
    }
   ],
   "source": [
    "fig = plt.figure(figsize=(12, 4.8))\n",
    "\n",
    "ax1 = plt.subplot(1, 2, 1)\n",
    "plt.plot(lambdas_Lasso, coefs_Lasso)\n",
    "plt.xscale('log')\n",
    "plt.xlabel('$\\lambda$')\n",
    "plt.ylabel('coefficients')\n",
    "plt.title('RR coefs vs $\\lambda$')\n",
    "plt.xlim(1e-4, 1e8)\n",
    "\n",
    "ax2 = plt.subplot(1, 2, 2)\n",
    "plt.plot(lambdas_Lasso, train_error_Lasso, label = 'train error')\n",
    "plt.plot(lambdas_Lasso, test_error_Lasso, label = 'test error')\n",
    "plt.xscale('log')\n",
    "plt.xlabel('$\\lambda$')\n",
    "plt.ylabel('MSE')\n",
    "plt.xlim(1e-4, 1e8)\n",
    "plt.ylim(0, 6.5)\n",
    "plt.legend(loc = 'upper left')\n",
    "plt.title('MSE vs $\\lambda$')"
   ]
  },
  {
   "cell_type": "markdown",
   "metadata": {},
   "source": [
    "LASSO has difficulty in converging the coefficients and returns an odd plot. The random error mainly comes from its strategy that taking absolute value of coefficients."
   ]
  },
  {
   "cell_type": "markdown",
   "metadata": {},
   "source": [
    "### Tree Based Methods\n",
    "In addition to linear and non-linear regression, tree based model provides a more flexible method to describe the bonding between features and our target. "
   ]
  },
  {
   "cell_type": "markdown",
   "metadata": {},
   "source": [
    "* **Random Forest**"
   ]
  },
  {
   "cell_type": "code",
   "execution_count": 177,
   "metadata": {},
   "outputs": [
    {
     "name": "stderr",
     "output_type": "stream",
     "text": [
      "c:\\users\\alex0\\anaconda3\\envs\\pvc-env\\lib\\site-packages\\sklearn\\ensemble\\forest.py:246: FutureWarning: The default value of n_estimators will change from 10 in version 0.20 to 100 in 0.22.\n",
      "  \"10 in version 0.20 to 100 in 0.22.\", FutureWarning)\n"
     ]
    },
    {
     "data": {
      "text/plain": [
       "RandomForestRegressor(bootstrap=True, criterion='mse', max_depth=None,\n",
       "           max_features='auto', max_leaf_nodes=None,\n",
       "           min_impurity_decrease=0.0, min_impurity_split=None,\n",
       "           min_samples_leaf=1, min_samples_split=2,\n",
       "           min_weight_fraction_leaf=0.0, n_estimators=10, n_jobs=None,\n",
       "           oob_score=False, random_state=None, verbose=0, warm_start=False)"
      ]
     },
     "execution_count": 177,
     "metadata": {},
     "output_type": "execute_result"
    }
   ],
   "source": [
    "from sklearn.ensemble import RandomForestRegressor \n",
    "\n",
    "modelRF = RandomForestRegressor()\n",
    "modelRF.fit(X, y)"
   ]
  },
  {
   "cell_type": "code",
   "execution_count": 178,
   "metadata": {},
   "outputs": [],
   "source": [
    "RFrank = modelRF.feature_importances_"
   ]
  },
  {
   "cell_type": "code",
   "execution_count": 179,
   "metadata": {},
   "outputs": [
    {
     "data": {
      "text/html": [
       "<div>\n",
       "<style scoped>\n",
       "    .dataframe tbody tr th:only-of-type {\n",
       "        vertical-align: middle;\n",
       "    }\n",
       "\n",
       "    .dataframe tbody tr th {\n",
       "        vertical-align: top;\n",
       "    }\n",
       "\n",
       "    .dataframe thead th {\n",
       "        text-align: right;\n",
       "    }\n",
       "</style>\n",
       "<table border=\"1\" class=\"dataframe\">\n",
       "  <thead>\n",
       "    <tr style=\"text-align: right;\">\n",
       "      <th></th>\n",
       "      <th>Feature</th>\n",
       "      <th>Rank</th>\n",
       "    </tr>\n",
       "  </thead>\n",
       "  <tbody>\n",
       "    <tr>\n",
       "      <th>333</th>\n",
       "      <td>ATSC1i</td>\n",
       "      <td>0.217933</td>\n",
       "    </tr>\n",
       "    <tr>\n",
       "      <th>537</th>\n",
       "      <td>MATS1i</td>\n",
       "      <td>0.146384</td>\n",
       "    </tr>\n",
       "    <tr>\n",
       "      <th>505</th>\n",
       "      <td>MATS1se</td>\n",
       "      <td>0.113971</td>\n",
       "    </tr>\n",
       "    <tr>\n",
       "      <th>449</th>\n",
       "      <td>MATS1c</td>\n",
       "      <td>0.057239</td>\n",
       "    </tr>\n",
       "    <tr>\n",
       "      <th>220</th>\n",
       "      <td>AATS5p</td>\n",
       "      <td>0.057167</td>\n",
       "    </tr>\n",
       "  </tbody>\n",
       "</table>\n",
       "</div>"
      ],
      "text/plain": [
       "     Feature      Rank\n",
       "333   ATSC1i  0.217933\n",
       "537   MATS1i  0.146384\n",
       "505  MATS1se  0.113971\n",
       "449   MATS1c  0.057239\n",
       "220   AATS5p  0.057167"
      ]
     },
     "execution_count": 179,
     "metadata": {},
     "output_type": "execute_result"
    }
   ],
   "source": [
    "RF_df = pd.DataFrame({'Feature':features_df.columns.values, 'Rank':RFrank}).sort_values('Rank',ascending=False)\n",
    "RF_df.head()"
   ]
  },
  {
   "cell_type": "markdown",
   "metadata": {},
   "source": [
    "### Recursive Feature Elimination (RFE)\n",
    "\n",
    "Lastly, we also take advantage from a built-in function from sklearn ``RFE``, which returns a ranking of features that help user to choose from. It repeatedly performs learning process based on specified estimator (such as 'linear') and in each iteration, eliminates the least significant features based on coef_ and score (by specified scoring method). The repeating process runs through the entire input data until all the features have been analyzed. ``RFECV`` applies cross-validation strategy to iteration sampling and returns a cross-validated ranking of features."
   ]
  },
  {
   "cell_type": "code",
   "execution_count": 180,
   "metadata": {},
   "outputs": [
    {
     "name": "stderr",
     "output_type": "stream",
     "text": [
      "c:\\users\\alex0\\anaconda3\\envs\\pvc-env\\lib\\site-packages\\sklearn\\model_selection\\_split.py:2053: FutureWarning: You should specify a value for 'cv' instead of relying on the default value. The default value will change from 3 to 5 in version 0.22.\n",
      "  warnings.warn(CV_WARNING, FutureWarning)\n"
     ]
    },
    {
     "data": {
      "text/plain": [
       "RFECV(cv='warn',\n",
       "   estimator=SVR(C=1.0, cache_size=200, coef0=0.0, degree=3, epsilon=0.1,\n",
       "  gamma='auto_deprecated', kernel='linear', max_iter=-1, shrinking=True,\n",
       "  tol=0.001, verbose=False),\n",
       "   min_features_to_select=1, n_jobs=None, scoring='explained_variance',\n",
       "   step=5, verbose=0)"
      ]
     },
     "execution_count": 180,
     "metadata": {},
     "output_type": "execute_result"
    }
   ],
   "source": [
    "from sklearn.feature_selection import RFECV\n",
    "from sklearn.svm import SVR\n",
    "estimatorREFCV = SVR('linear')\n",
    "modelREFCV = RFECV(estimatorREFCV, step=5, scoring='explained_variance')\n",
    "modelREFCV.fit(X, y)"
   ]
  },
  {
   "cell_type": "code",
   "execution_count": 181,
   "metadata": {},
   "outputs": [
    {
     "name": "stdout",
     "output_type": "stream",
     "text": [
      "Optimal number of features : 60\n",
      "[False False False ... False False False]\n"
     ]
    },
    {
     "data": {
      "image/png": "[encoded data removed]",
      "text/plain": [
       "<Figure size 432x288 with 1 Axes>"
      ]
     },
     "metadata": {
      "needs_background": "light"
     },
     "output_type": "display_data"
    }
   ],
   "source": [
    "print(\"Optimal number of features : %d\" % modelREFCV.n_features_)\n",
    "print(modelREFCV.support_)\n",
    "\n",
    "# Plot number of features VS. cross-validation scores\n",
    "plt.figure()\n",
    "plt.xlabel(\"Number of features selected\")\n",
    "plt.ylabel(\"Cross validation score\")\n",
    "plt.plot(range(1, len(modelREFCV.grid_scores_) + 1), modelREFCV.grid_scores_)\n",
    "plt.show()"
   ]
  },
  {
   "cell_type": "code",
   "execution_count": 182,
   "metadata": {},
   "outputs": [
    {
     "data": {
      "text/html": [
       "<div>\n",
       "<style scoped>\n",
       "    .dataframe tbody tr th:only-of-type {\n",
       "        vertical-align: middle;\n",
       "    }\n",
       "\n",
       "    .dataframe tbody tr th {\n",
       "        vertical-align: top;\n",
       "    }\n",
       "\n",
       "    .dataframe thead th {\n",
       "        text-align: right;\n",
       "    }\n",
       "</style>\n",
       "<table border=\"1\" class=\"dataframe\">\n",
       "  <thead>\n",
       "    <tr style=\"text-align: right;\">\n",
       "      <th></th>\n",
       "      <th>Feature</th>\n",
       "      <th>Rank</th>\n",
       "    </tr>\n",
       "  </thead>\n",
       "  <tbody>\n",
       "    <tr>\n",
       "      <th>223</th>\n",
       "      <td>AATS8p</td>\n",
       "      <td>1</td>\n",
       "    </tr>\n",
       "    <tr>\n",
       "      <th>187</th>\n",
       "      <td>AATS8v</td>\n",
       "      <td>1</td>\n",
       "    </tr>\n",
       "    <tr>\n",
       "      <th>359</th>\n",
       "      <td>AATSC0d</td>\n",
       "      <td>1</td>\n",
       "    </tr>\n",
       "    <tr>\n",
       "      <th>368</th>\n",
       "      <td>AATSC0s</td>\n",
       "      <td>1</td>\n",
       "    </tr>\n",
       "    <tr>\n",
       "      <th>342</th>\n",
       "      <td>AATSC1c</td>\n",
       "      <td>1</td>\n",
       "    </tr>\n",
       "  </tbody>\n",
       "</table>\n",
       "</div>"
      ],
      "text/plain": [
       "     Feature  Rank\n",
       "223   AATS8p     1\n",
       "187   AATS8v     1\n",
       "359  AATSC0d     1\n",
       "368  AATSC0s     1\n",
       "342  AATSC1c     1"
      ]
     },
     "execution_count": 182,
     "metadata": {},
     "output_type": "execute_result"
    }
   ],
   "source": [
    "RFECVrank = modelREFCV.ranking_\n",
    "features60 = pd.DataFrame({'Feature':features_df.columns.values, 'Rank':RFECVrank}).sort_values('Rank')\n",
    "RFECV_df = features60[0:60].sort_values('Feature', ascending = True)\n",
    "RFECV_df.head()\n"
   ]
  },
  {
   "cell_type": "markdown",
   "metadata": {},
   "source": [
    "As suggested by RFECV result, we can select the 60 features with highest scores."
   ]
  },
  {
   "cell_type": "code",
   "execution_count": null,
   "metadata": {},
   "outputs": [],
   "source": []
  },
  {
   "cell_type": "code",
   "execution_count": 192,
   "metadata": {},
   "outputs": [],
   "source": [
    "# all dataframe has been sorted by rank\n",
    "RFECV_60 = RFECV_df['Feature'][0:60].sort_values()\n",
    "RF_60 = RFdf['Feature'][0:60].sort_values()\n",
    "RR_60  = RR_df['Feature'][0:60].sort_values()"
   ]
  },
  {
   "cell_type": "code",
   "execution_count": 193,
   "metadata": {},
   "outputs": [
    {
     "data": {
      "text/html": [
       "<div>\n",
       "<style scoped>\n",
       "    .dataframe tbody tr th:only-of-type {\n",
       "        vertical-align: middle;\n",
       "    }\n",
       "\n",
       "    .dataframe tbody tr th {\n",
       "        vertical-align: top;\n",
       "    }\n",
       "\n",
       "    .dataframe thead th {\n",
       "        text-align: right;\n",
       "    }\n",
       "</style>\n",
       "<table border=\"1\" class=\"dataframe\">\n",
       "  <thead>\n",
       "    <tr style=\"text-align: right;\">\n",
       "      <th></th>\n",
       "      <th>RFECV</th>\n",
       "      <th>RF</th>\n",
       "      <th>RR</th>\n",
       "    </tr>\n",
       "  </thead>\n",
       "  <tbody>\n",
       "    <tr>\n",
       "      <th>0</th>\n",
       "      <td>AATS8p</td>\n",
       "      <td>AATS0p</td>\n",
       "      <td>AATS8dv</td>\n",
       "    </tr>\n",
       "    <tr>\n",
       "      <th>1</th>\n",
       "      <td>AATS8v</td>\n",
       "      <td>AATS8s</td>\n",
       "      <td>AATS8p</td>\n",
       "    </tr>\n",
       "    <tr>\n",
       "      <th>2</th>\n",
       "      <td>AATSC0d</td>\n",
       "      <td>AATSC1i</td>\n",
       "      <td>AATS8pe</td>\n",
       "    </tr>\n",
       "    <tr>\n",
       "      <th>3</th>\n",
       "      <td>AATSC0s</td>\n",
       "      <td>AATSC1se</td>\n",
       "      <td>AATS8s</td>\n",
       "    </tr>\n",
       "    <tr>\n",
       "      <th>4</th>\n",
       "      <td>AATSC1c</td>\n",
       "      <td>AATSC2dv</td>\n",
       "      <td>AATS8v</td>\n",
       "    </tr>\n",
       "    <tr>\n",
       "      <th>5</th>\n",
       "      <td>AATSC1i</td>\n",
       "      <td>AATSC4dv</td>\n",
       "      <td>AATSC0dv</td>\n",
       "    </tr>\n",
       "    <tr>\n",
       "      <th>6</th>\n",
       "      <td>AATSC4c</td>\n",
       "      <td>AATSC4s</td>\n",
       "      <td>AATSC0s</td>\n",
       "    </tr>\n",
       "    <tr>\n",
       "      <th>7</th>\n",
       "      <td>AATSC4i</td>\n",
       "      <td>AATSC4se</td>\n",
       "      <td>AATSC1c</td>\n",
       "    </tr>\n",
       "    <tr>\n",
       "      <th>8</th>\n",
       "      <td>AATSC6dv</td>\n",
       "      <td>AATSC5p</td>\n",
       "      <td>AATSC1pe</td>\n",
       "    </tr>\n",
       "    <tr>\n",
       "      <th>9</th>\n",
       "      <td>AATSC8i</td>\n",
       "      <td>AATSC7se</td>\n",
       "      <td>AATSC1se</td>\n",
       "    </tr>\n",
       "    <tr>\n",
       "      <th>10</th>\n",
       "      <td>AETA_eta_BR</td>\n",
       "      <td>AATSC8are</td>\n",
       "      <td>AATSC2c</td>\n",
       "    </tr>\n",
       "    <tr>\n",
       "      <th>11</th>\n",
       "      <td>ATS5p</td>\n",
       "      <td>AETA_eta_BR</td>\n",
       "      <td>AATSC4s</td>\n",
       "    </tr>\n",
       "    <tr>\n",
       "      <th>12</th>\n",
       "      <td>ATSC1c</td>\n",
       "      <td>AETA_eta_FL</td>\n",
       "      <td>AATSC6dv</td>\n",
       "    </tr>\n",
       "    <tr>\n",
       "      <th>13</th>\n",
       "      <td>ATSC1i</td>\n",
       "      <td>ATS0p</td>\n",
       "      <td>ATS8Z</td>\n",
       "    </tr>\n",
       "    <tr>\n",
       "      <th>14</th>\n",
       "      <td>ATSC1se</td>\n",
       "      <td>ATSC1are</td>\n",
       "      <td>ATS8m</td>\n",
       "    </tr>\n",
       "    <tr>\n",
       "      <th>15</th>\n",
       "      <td>ATSC1v</td>\n",
       "      <td>ATSC1i</td>\n",
       "      <td>ATSC1c</td>\n",
       "    </tr>\n",
       "    <tr>\n",
       "      <th>16</th>\n",
       "      <td>ATSC2Z</td>\n",
       "      <td>ATSC1se</td>\n",
       "      <td>ATSC1se</td>\n",
       "    </tr>\n",
       "    <tr>\n",
       "      <th>17</th>\n",
       "      <td>ATSC2s</td>\n",
       "      <td>ATSC2p</td>\n",
       "      <td>ATSC2c</td>\n",
       "    </tr>\n",
       "    <tr>\n",
       "      <th>18</th>\n",
       "      <td>ATSC4c</td>\n",
       "      <td>ATSC3Z</td>\n",
       "      <td>ATSC2s</td>\n",
       "    </tr>\n",
       "    <tr>\n",
       "      <th>19</th>\n",
       "      <td>ATSC4se</td>\n",
       "      <td>ATSC4m</td>\n",
       "      <td>ATSC3s</td>\n",
       "    </tr>\n",
       "    <tr>\n",
       "      <th>20</th>\n",
       "      <td>ATSC6are</td>\n",
       "      <td>ATSC6se</td>\n",
       "      <td>ATSC3se</td>\n",
       "    </tr>\n",
       "    <tr>\n",
       "      <th>21</th>\n",
       "      <td>ATSC8c</td>\n",
       "      <td>ATSC7se</td>\n",
       "      <td>ATSC6dv</td>\n",
       "    </tr>\n",
       "    <tr>\n",
       "      <th>22</th>\n",
       "      <td>ATSC8d</td>\n",
       "      <td>ATSC7v</td>\n",
       "      <td>ATSC6pe</td>\n",
       "    </tr>\n",
       "    <tr>\n",
       "      <th>23</th>\n",
       "      <td>BCUTd-1l</td>\n",
       "      <td>ATSC8are</td>\n",
       "      <td>ATSC7i</td>\n",
       "    </tr>\n",
       "    <tr>\n",
       "      <th>24</th>\n",
       "      <td>BIC5</td>\n",
       "      <td>ATSC8se</td>\n",
       "      <td>ATSC8c</td>\n",
       "    </tr>\n",
       "    <tr>\n",
       "      <th>25</th>\n",
       "      <td>CIC5</td>\n",
       "      <td>ATSC8v</td>\n",
       "      <td>AXp-0d</td>\n",
       "    </tr>\n",
       "    <tr>\n",
       "      <th>26</th>\n",
       "      <td>EState_VSA1</td>\n",
       "      <td>BCUTd-1l</td>\n",
       "      <td>AXp-1d</td>\n",
       "    </tr>\n",
       "    <tr>\n",
       "      <th>27</th>\n",
       "      <td>FCSP3</td>\n",
       "      <td>BCUTpe-1h</td>\n",
       "      <td>BIC5</td>\n",
       "    </tr>\n",
       "    <tr>\n",
       "      <th>28</th>\n",
       "      <td>GATS1i</td>\n",
       "      <td>C1SP2</td>\n",
       "      <td>GATS1i</td>\n",
       "    </tr>\n",
       "    <tr>\n",
       "      <th>29</th>\n",
       "      <td>GATS3s</td>\n",
       "      <td>ETA_shape_y</td>\n",
       "      <td>GATS1p</td>\n",
       "    </tr>\n",
       "    <tr>\n",
       "      <th>30</th>\n",
       "      <td>GATS3se</td>\n",
       "      <td>FCSP3</td>\n",
       "      <td>GATS3c</td>\n",
       "    </tr>\n",
       "    <tr>\n",
       "      <th>31</th>\n",
       "      <td>GATS4s</td>\n",
       "      <td>GATS2dv</td>\n",
       "      <td>GATS6i</td>\n",
       "    </tr>\n",
       "    <tr>\n",
       "      <th>32</th>\n",
       "      <td>GATS6se</td>\n",
       "      <td>GATS2m</td>\n",
       "      <td>GATS6se</td>\n",
       "    </tr>\n",
       "    <tr>\n",
       "      <th>33</th>\n",
       "      <td>GGI10</td>\n",
       "      <td>GATS3Z</td>\n",
       "      <td>GATS7d</td>\n",
       "    </tr>\n",
       "    <tr>\n",
       "      <th>34</th>\n",
       "      <td>GGI5</td>\n",
       "      <td>GATS3p</td>\n",
       "      <td>GGI5</td>\n",
       "    </tr>\n",
       "    <tr>\n",
       "      <th>35</th>\n",
       "      <td>GGI8</td>\n",
       "      <td>GATS4Z</td>\n",
       "      <td>GGI8</td>\n",
       "    </tr>\n",
       "    <tr>\n",
       "      <th>36</th>\n",
       "      <td>HybRatio</td>\n",
       "      <td>GATS4dv</td>\n",
       "      <td>JGI10</td>\n",
       "    </tr>\n",
       "    <tr>\n",
       "      <th>37</th>\n",
       "      <td>JGI5</td>\n",
       "      <td>GATS4p</td>\n",
       "      <td>JGI5</td>\n",
       "    </tr>\n",
       "    <tr>\n",
       "      <th>38</th>\n",
       "      <td>JGI9</td>\n",
       "      <td>GATS7Z</td>\n",
       "      <td>MATS1pe</td>\n",
       "    </tr>\n",
       "    <tr>\n",
       "      <th>39</th>\n",
       "      <td>MATS1i</td>\n",
       "      <td>GATS7d</td>\n",
       "      <td>MATS1se</td>\n",
       "    </tr>\n",
       "    <tr>\n",
       "      <th>40</th>\n",
       "      <td>MATS1se</td>\n",
       "      <td>GATS7s</td>\n",
       "      <td>MATS2s</td>\n",
       "    </tr>\n",
       "    <tr>\n",
       "      <th>41</th>\n",
       "      <td>MATS1v</td>\n",
       "      <td>IC0</td>\n",
       "      <td>MATS3i</td>\n",
       "    </tr>\n",
       "    <tr>\n",
       "      <th>42</th>\n",
       "      <td>MATS3s</td>\n",
       "      <td>MATS1c</td>\n",
       "      <td>MATS3s</td>\n",
       "    </tr>\n",
       "    <tr>\n",
       "      <th>43</th>\n",
       "      <td>MATS4se</td>\n",
       "      <td>MATS1i</td>\n",
       "      <td>MATS4s</td>\n",
       "    </tr>\n",
       "    <tr>\n",
       "      <th>44</th>\n",
       "      <td>MAXaaNH</td>\n",
       "      <td>MATS2are</td>\n",
       "      <td>MATS5Z</td>\n",
       "    </tr>\n",
       "    <tr>\n",
       "      <th>45</th>\n",
       "      <td>MAXdsCH</td>\n",
       "      <td>MATS3s</td>\n",
       "      <td>MATS5m</td>\n",
       "    </tr>\n",
       "    <tr>\n",
       "      <th>46</th>\n",
       "      <td>MDEN-22</td>\n",
       "      <td>MATS4dv</td>\n",
       "      <td>MATS6dv</td>\n",
       "    </tr>\n",
       "    <tr>\n",
       "      <th>47</th>\n",
       "      <td>NaaN</td>\n",
       "      <td>MATS7dv</td>\n",
       "      <td>MAXaaN</td>\n",
       "    </tr>\n",
       "    <tr>\n",
       "      <th>48</th>\n",
       "      <td>NaaNH</td>\n",
       "      <td>MATS8i</td>\n",
       "      <td>MAXdsCH</td>\n",
       "    </tr>\n",
       "    <tr>\n",
       "      <th>49</th>\n",
       "      <td>PEOE_VSA1</td>\n",
       "      <td>MATS8pe</td>\n",
       "      <td>MDEN-22</td>\n",
       "    </tr>\n",
       "    <tr>\n",
       "      <th>50</th>\n",
       "      <td>PEOE_VSA2</td>\n",
       "      <td>MATS8se</td>\n",
       "      <td>MINaaN</td>\n",
       "    </tr>\n",
       "    <tr>\n",
       "      <th>51</th>\n",
       "      <td>PEOE_VSA9</td>\n",
       "      <td>MINaaCH</td>\n",
       "      <td>MINaasC</td>\n",
       "    </tr>\n",
       "    <tr>\n",
       "      <th>52</th>\n",
       "      <td>SIC5</td>\n",
       "      <td>MINssCH2</td>\n",
       "      <td>NaaN</td>\n",
       "    </tr>\n",
       "    <tr>\n",
       "      <th>53</th>\n",
       "      <td>SaaN</td>\n",
       "      <td>RPCG</td>\n",
       "      <td>PEOE_VSA2</td>\n",
       "    </tr>\n",
       "    <tr>\n",
       "      <th>54</th>\n",
       "      <td>SaaNH</td>\n",
       "      <td>SdssC</td>\n",
       "      <td>PEOE_VSA6</td>\n",
       "    </tr>\n",
       "    <tr>\n",
       "      <th>55</th>\n",
       "      <td>SssSiH2</td>\n",
       "      <td>SpDiam_Dzse</td>\n",
       "      <td>PEOE_VSA7</td>\n",
       "    </tr>\n",
       "    <tr>\n",
       "      <th>56</th>\n",
       "      <td>Xch-7d</td>\n",
       "      <td>SpMax_DzZ</td>\n",
       "      <td>PEOE_VSA9</td>\n",
       "    </tr>\n",
       "    <tr>\n",
       "      <th>57</th>\n",
       "      <td>nFARing</td>\n",
       "      <td>Xch-6d</td>\n",
       "      <td>SIC5</td>\n",
       "    </tr>\n",
       "    <tr>\n",
       "      <th>58</th>\n",
       "      <td>nG12FHRing</td>\n",
       "      <td>Xch-7dv</td>\n",
       "      <td>SaaN</td>\n",
       "    </tr>\n",
       "    <tr>\n",
       "      <th>59</th>\n",
       "      <td>nHBDon</td>\n",
       "      <td>nBondsD</td>\n",
       "      <td>nHBAcc</td>\n",
       "    </tr>\n",
       "  </tbody>\n",
       "</table>\n",
       "</div>"
      ],
      "text/plain": [
       "          RFECV           RF         RR\n",
       "0        AATS8p       AATS0p    AATS8dv\n",
       "1        AATS8v       AATS8s     AATS8p\n",
       "2       AATSC0d      AATSC1i    AATS8pe\n",
       "3       AATSC0s     AATSC1se     AATS8s\n",
       "4       AATSC1c     AATSC2dv     AATS8v\n",
       "5       AATSC1i     AATSC4dv   AATSC0dv\n",
       "6       AATSC4c      AATSC4s    AATSC0s\n",
       "7       AATSC4i     AATSC4se    AATSC1c\n",
       "8      AATSC6dv      AATSC5p   AATSC1pe\n",
       "9       AATSC8i     AATSC7se   AATSC1se\n",
       "10  AETA_eta_BR    AATSC8are    AATSC2c\n",
       "11        ATS5p  AETA_eta_BR    AATSC4s\n",
       "12       ATSC1c  AETA_eta_FL   AATSC6dv\n",
       "13       ATSC1i        ATS0p      ATS8Z\n",
       "14      ATSC1se     ATSC1are      ATS8m\n",
       "15       ATSC1v       ATSC1i     ATSC1c\n",
       "16       ATSC2Z      ATSC1se    ATSC1se\n",
       "17       ATSC2s       ATSC2p     ATSC2c\n",
       "18       ATSC4c       ATSC3Z     ATSC2s\n",
       "19      ATSC4se       ATSC4m     ATSC3s\n",
       "20     ATSC6are      ATSC6se    ATSC3se\n",
       "21       ATSC8c      ATSC7se    ATSC6dv\n",
       "22       ATSC8d       ATSC7v    ATSC6pe\n",
       "23     BCUTd-1l     ATSC8are     ATSC7i\n",
       "24         BIC5      ATSC8se     ATSC8c\n",
       "25         CIC5       ATSC8v     AXp-0d\n",
       "26  EState_VSA1     BCUTd-1l     AXp-1d\n",
       "27        FCSP3    BCUTpe-1h       BIC5\n",
       "28       GATS1i        C1SP2     GATS1i\n",
       "29       GATS3s  ETA_shape_y     GATS1p\n",
       "30      GATS3se        FCSP3     GATS3c\n",
       "31       GATS4s      GATS2dv     GATS6i\n",
       "32      GATS6se       GATS2m    GATS6se\n",
       "33        GGI10       GATS3Z     GATS7d\n",
       "34         GGI5       GATS3p       GGI5\n",
       "35         GGI8       GATS4Z       GGI8\n",
       "36     HybRatio      GATS4dv      JGI10\n",
       "37         JGI5       GATS4p       JGI5\n",
       "38         JGI9       GATS7Z    MATS1pe\n",
       "39       MATS1i       GATS7d    MATS1se\n",
       "40      MATS1se       GATS7s     MATS2s\n",
       "41       MATS1v          IC0     MATS3i\n",
       "42       MATS3s       MATS1c     MATS3s\n",
       "43      MATS4se       MATS1i     MATS4s\n",
       "44      MAXaaNH     MATS2are     MATS5Z\n",
       "45      MAXdsCH       MATS3s     MATS5m\n",
       "46      MDEN-22      MATS4dv    MATS6dv\n",
       "47         NaaN      MATS7dv     MAXaaN\n",
       "48        NaaNH       MATS8i    MAXdsCH\n",
       "49    PEOE_VSA1      MATS8pe    MDEN-22\n",
       "50    PEOE_VSA2      MATS8se     MINaaN\n",
       "51    PEOE_VSA9      MINaaCH    MINaasC\n",
       "52         SIC5     MINssCH2       NaaN\n",
       "53         SaaN         RPCG  PEOE_VSA2\n",
       "54        SaaNH        SdssC  PEOE_VSA6\n",
       "55      SssSiH2  SpDiam_Dzse  PEOE_VSA7\n",
       "56       Xch-7d    SpMax_DzZ  PEOE_VSA9\n",
       "57      nFARing       Xch-6d       SIC5\n",
       "58   nG12FHRing      Xch-7dv       SaaN\n",
       "59       nHBDon      nBondsD     nHBAcc"
      ]
     },
     "execution_count": 193,
     "metadata": {},
     "output_type": "execute_result"
    }
   ],
   "source": [
    "feature_sum = pd.DataFrame({'RFECV':RFECV_60.values, 'RF':RF_60.values, 'RR':RR_60.values})\n",
    "feature_sum"
   ]
  },
  {
   "cell_type": "code",
   "execution_count": null,
   "metadata": {},
   "outputs": [],
   "source": []
  },
  {
   "cell_type": "code",
   "execution_count": null,
   "metadata": {},
   "outputs": [],
   "source": []
  },
  {
   "cell_type": "markdown",
   "metadata": {},
   "source": [
    "### Model Selection"
   ]
  },
  {
   "cell_type": "code",
   "execution_count": null,
   "metadata": {},
   "outputs": [],
   "source": []
  }
 ],
 "metadata": {
  "kernelspec": {
   "display_name": "Python 3",
   "language": "python",
   "name": "python3"
  },
  "language_info": {
   "codemirror_mode": {
    "name": "ipython",
    "version": 3
   },
   "file_extension": ".py",
   "mimetype": "text/x-python",
   "name": "python",
   "nbconvert_exporter": "python",
   "pygments_lexer": "ipython3",
   "version": "3.6.8"
  }
 },
 "nbformat": 4,
 "nbformat_minor": 2
}
