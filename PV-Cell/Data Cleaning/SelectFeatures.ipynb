{
 "cells": [
  {
   "cell_type": "markdown",
   "metadata": {},
   "source": [
    "## SelectFeatures\n",
    "This notebook shows the development of how we select important features from `ChemFeatures` to study with. We used the following method to analyze the weight of each feature:\n",
    "\n",
    "* LASSO (Least Absolute Shrinkage and Selection Operator)\n",
    "* RFE (Recursive Feature Elimination)\n",
    "* RIDGE (Ridge Regression)\n",
    "* SS (Stability Selection)\n",
    "\n",
    "We use explained variance to compare and evaluate these methods for final decision making.<br>"
   ]
  },
  {
   "cell_type": "markdown",
   "metadata": {},
   "source": [
    "#### Use ``ChemFeatures`` to generate a dataframe of features."
   ]
  },
  {
   "cell_type": "code",
   "execution_count": 2,
   "metadata": {},
   "outputs": [],
   "source": [
    "import pandas as pd\n",
    "# Module for extracting ChemInfo\n",
    "from SeekFeatures import ChemFeatures\n",
    "import mordred\n",
    "import sklearn\n",
    "\n",
    "# plotting package\n",
    "import matplotlib.pyplot as plt\n",
    "%matplotlib inline"
   ]
  },
  {
   "cell_type": "code",
   "execution_count": 3,
   "metadata": {},
   "outputs": [
    {
     "data": {
      "text/html": [
       "<div>\n",
       "<style scoped>\n",
       "    .dataframe tbody tr th:only-of-type {\n",
       "        vertical-align: middle;\n",
       "    }\n",
       "\n",
       "    .dataframe tbody tr th {\n",
       "        vertical-align: top;\n",
       "    }\n",
       "\n",
       "    .dataframe thead th {\n",
       "        text-align: right;\n",
       "    }\n",
       "</style>\n",
       "<table border=\"1\" class=\"dataframe\">\n",
       "  <thead>\n",
       "    <tr style=\"text-align: right;\">\n",
       "      <th></th>\n",
       "      <th>id</th>\n",
       "      <th>SMILES_str</th>\n",
       "      <th>stoich_str</th>\n",
       "      <th>mass</th>\n",
       "      <th>pce</th>\n",
       "      <th>voc</th>\n",
       "      <th>jsc</th>\n",
       "      <th>e_homo_alpha</th>\n",
       "      <th>e_gap_alpha</th>\n",
       "      <th>e_lumo_alpha</th>\n",
       "      <th>tmp_smiles_str</th>\n",
       "    </tr>\n",
       "  </thead>\n",
       "  <tbody>\n",
       "    <tr>\n",
       "      <th>0</th>\n",
       "      <td>655365</td>\n",
       "      <td>C1C=CC=C1c1cc2[se]c3c4occc4c4nsnc4c3c2cn1</td>\n",
       "      <td>C18H9N3OSSe</td>\n",
       "      <td>394.3151</td>\n",
       "      <td>5.161953</td>\n",
       "      <td>0.867601</td>\n",
       "      <td>91.567575</td>\n",
       "      <td>-5.467601</td>\n",
       "      <td>2.022944</td>\n",
       "      <td>-3.444656</td>\n",
       "      <td>C1=CC=C(C1)c1cc2[se]c3c4occc4c4nsnc4c3c2cn1</td>\n",
       "    </tr>\n",
       "    <tr>\n",
       "      <th>1</th>\n",
       "      <td>1245190</td>\n",
       "      <td>C1C=CC=C1c1cc2[se]c3c(ncc4ccccc34)c2c2=C[SiH2]...</td>\n",
       "      <td>C22H15NSeSi</td>\n",
       "      <td>400.4135</td>\n",
       "      <td>5.261398</td>\n",
       "      <td>0.504824</td>\n",
       "      <td>160.401549</td>\n",
       "      <td>-5.104824</td>\n",
       "      <td>1.630750</td>\n",
       "      <td>-3.474074</td>\n",
       "      <td>C1=CC=C(C1)c1cc2[se]c3c(ncc4ccccc34)c2c2=C[SiH...</td>\n",
       "    </tr>\n",
       "    <tr>\n",
       "      <th>2</th>\n",
       "      <td>21847</td>\n",
       "      <td>C1C=c2ccc3c4c[nH]cc4c4c5[SiH2]C(=Cc5oc4c3c2=C1...</td>\n",
       "      <td>C24H17NOSi</td>\n",
       "      <td>363.4903</td>\n",
       "      <td>0.000000</td>\n",
       "      <td>0.000000</td>\n",
       "      <td>197.474780</td>\n",
       "      <td>-4.539526</td>\n",
       "      <td>1.462158</td>\n",
       "      <td>-3.077368</td>\n",
       "      <td>C1=CC=C(C1)C1=Cc2oc3c(c2[SiH2]1)c1c[nH]cc1c1cc...</td>\n",
       "    </tr>\n",
       "    <tr>\n",
       "      <th>3</th>\n",
       "      <td>65553</td>\n",
       "      <td>[SiH2]1C=CC2=C1C=C([SiH2]2)C1=Cc2[se]ccc2[SiH2]1</td>\n",
       "      <td>C12H12SeSi3</td>\n",
       "      <td>319.4448</td>\n",
       "      <td>6.138294</td>\n",
       "      <td>0.630274</td>\n",
       "      <td>149.887545</td>\n",
       "      <td>-5.230274</td>\n",
       "      <td>1.682250</td>\n",
       "      <td>-3.548025</td>\n",
       "      <td>C1=CC2=C([SiH2]1)C=C([SiH2]2)C1=Cc2[se]ccc2[Si...</td>\n",
       "    </tr>\n",
       "    <tr>\n",
       "      <th>4</th>\n",
       "      <td>720918</td>\n",
       "      <td>C1C=c2c3ccsc3c3[se]c4cc(oc4c3c2=C1)C1=CC=CC1</td>\n",
       "      <td>C20H12OSSe</td>\n",
       "      <td>379.3398</td>\n",
       "      <td>1.991366</td>\n",
       "      <td>0.242119</td>\n",
       "      <td>126.581347</td>\n",
       "      <td>-4.842119</td>\n",
       "      <td>1.809439</td>\n",
       "      <td>-3.032680</td>\n",
       "      <td>C1=CC=C(C1)c1cc2[se]c3c4sccc4c4=CCC=c4c3c2o1</td>\n",
       "    </tr>\n",
       "  </tbody>\n",
       "</table>\n",
       "</div>"
      ],
      "text/plain": [
       "        id                                         SMILES_str   stoich_str  \\\n",
       "0   655365          C1C=CC=C1c1cc2[se]c3c4occc4c4nsnc4c3c2cn1  C18H9N3OSSe   \n",
       "1  1245190  C1C=CC=C1c1cc2[se]c3c(ncc4ccccc34)c2c2=C[SiH2]...  C22H15NSeSi   \n",
       "2    21847  C1C=c2ccc3c4c[nH]cc4c4c5[SiH2]C(=Cc5oc4c3c2=C1...   C24H17NOSi   \n",
       "3    65553   [SiH2]1C=CC2=C1C=C([SiH2]2)C1=Cc2[se]ccc2[SiH2]1  C12H12SeSi3   \n",
       "4   720918       C1C=c2c3ccsc3c3[se]c4cc(oc4c3c2=C1)C1=CC=CC1   C20H12OSSe   \n",
       "\n",
       "       mass       pce       voc         jsc  e_homo_alpha  e_gap_alpha  \\\n",
       "0  394.3151  5.161953  0.867601   91.567575     -5.467601     2.022944   \n",
       "1  400.4135  5.261398  0.504824  160.401549     -5.104824     1.630750   \n",
       "2  363.4903  0.000000  0.000000  197.474780     -4.539526     1.462158   \n",
       "3  319.4448  6.138294  0.630274  149.887545     -5.230274     1.682250   \n",
       "4  379.3398  1.991366  0.242119  126.581347     -4.842119     1.809439   \n",
       "\n",
       "   e_lumo_alpha                                     tmp_smiles_str  \n",
       "0     -3.444656        C1=CC=C(C1)c1cc2[se]c3c4occc4c4nsnc4c3c2cn1  \n",
       "1     -3.474074  C1=CC=C(C1)c1cc2[se]c3c(ncc4ccccc34)c2c2=C[SiH...  \n",
       "2     -3.077368  C1=CC=C(C1)C1=Cc2oc3c(c2[SiH2]1)c1c[nH]cc1c1cc...  \n",
       "3     -3.548025  C1=CC2=C([SiH2]1)C=C([SiH2]2)C1=Cc2[se]ccc2[Si...  \n",
       "4     -3.032680       C1=CC=C(C1)c1cc2[se]c3c4sccc4c4=CCC=c4c3c2o1  "
      ]
     },
     "execution_count": 3,
     "metadata": {},
     "output_type": "execute_result"
    }
   ],
   "source": [
    "# Use 100K data for demonstration\n",
    "data = pd.read_csv('../Database/HCEPD_100K.csv') \n",
    "# Use first 50 data to illustrate the analysis\n",
    "data50 = data.head(50)\n",
    "data50.head()"
   ]
  },
  {
   "cell_type": "markdown",
   "metadata": {},
   "source": [
    "Generate a dataframe of chemical features."
   ]
  },
  {
   "cell_type": "code",
   "execution_count": 4,
   "metadata": {},
   "outputs": [
    {
     "name": "stderr",
     "output_type": "stream",
     "text": [
      "100%|██████████████████████████████████████████████████████████████████████████████████| 50/50 [00:09<00:00,  8.32it/s]\n",
      "IOPub data rate exceeded.\n",
      "The notebook server will temporarily stop sending output\n",
      "to the client in order to avoid crashing it.\n",
      "To change this limit, set the config variable\n",
      "`--NotebookApp.iopub_data_rate_limit`.\n",
      "\n",
      "Current values:\n",
      "NotebookApp.iopub_data_rate_limit=1000000.0 (bytes/sec)\n",
      "NotebookApp.rate_limit_window=3.0 (secs)\n",
      "\n"
     ]
    },
    {
     "name": "stdout",
     "output_type": "stream",
     "text": [
      "\n"
     ]
    },
    {
     "name": "stderr",
     "output_type": "stream",
     "text": [
      "100%|██████████████████████████████████████████████████████████████████████████████████| 50/50 [00:09<00:00,  5.36it/s]\n"
     ]
    }
   ],
   "source": [
    "features_df = ChemFeatures(data50['SMILES_str'])"
   ]
  },
  {
   "cell_type": "code",
   "execution_count": 5,
   "metadata": {
    "scrolled": true
   },
   "outputs": [
    {
     "data": {
      "text/html": [
       "<div>\n",
       "<style scoped>\n",
       "    .dataframe tbody tr th:only-of-type {\n",
       "        vertical-align: middle;\n",
       "    }\n",
       "\n",
       "    .dataframe tbody tr th {\n",
       "        vertical-align: top;\n",
       "    }\n",
       "\n",
       "    .dataframe thead th {\n",
       "        text-align: right;\n",
       "    }\n",
       "</style>\n",
       "<table border=\"1\" class=\"dataframe\">\n",
       "  <thead>\n",
       "    <tr style=\"text-align: right;\">\n",
       "      <th></th>\n",
       "      <th>ABC</th>\n",
       "      <th>ABCGG</th>\n",
       "      <th>nAcid</th>\n",
       "      <th>nBase</th>\n",
       "      <th>SpAbs_A</th>\n",
       "      <th>SpMax_A</th>\n",
       "      <th>SpDiam_A</th>\n",
       "      <th>SpAD_A</th>\n",
       "      <th>SpMAD_A</th>\n",
       "      <th>LogEE_A</th>\n",
       "      <th>...</th>\n",
       "      <th>SRW10</th>\n",
       "      <th>TSRW10</th>\n",
       "      <th>MW</th>\n",
       "      <th>AMW</th>\n",
       "      <th>WPath</th>\n",
       "      <th>WPol</th>\n",
       "      <th>Zagreb1</th>\n",
       "      <th>Zagreb2</th>\n",
       "      <th>mZagreb1</th>\n",
       "      <th>mZagreb2</th>\n",
       "    </tr>\n",
       "  </thead>\n",
       "  <tbody>\n",
       "    <tr>\n",
       "      <th>0</th>\n",
       "      <td>20.142136</td>\n",
       "      <td>16.169815</td>\n",
       "      <td>0</td>\n",
       "      <td>0</td>\n",
       "      <td>33.204238</td>\n",
       "      <td>2.616114</td>\n",
       "      <td>5.057172</td>\n",
       "      <td>33.204238</td>\n",
       "      <td>1.383510</td>\n",
       "      <td>4.188377</td>\n",
       "      <td>...</td>\n",
       "      <td>10.460213</td>\n",
       "      <td>77.559765</td>\n",
       "      <td>394.963154</td>\n",
       "      <td>11.968580</td>\n",
       "      <td>1216</td>\n",
       "      <td>42</td>\n",
       "      <td>146.0</td>\n",
       "      <td>185.0</td>\n",
       "      <td>4.611111</td>\n",
       "      <td>5.000000</td>\n",
       "    </tr>\n",
       "    <tr>\n",
       "      <th>1</th>\n",
       "      <td>20.849242</td>\n",
       "      <td>16.133746</td>\n",
       "      <td>0</td>\n",
       "      <td>0</td>\n",
       "      <td>34.755190</td>\n",
       "      <td>2.600656</td>\n",
       "      <td>5.047921</td>\n",
       "      <td>34.755190</td>\n",
       "      <td>1.390208</td>\n",
       "      <td>4.221130</td>\n",
       "      <td>...</td>\n",
       "      <td>10.493799</td>\n",
       "      <td>77.890806</td>\n",
       "      <td>401.013897</td>\n",
       "      <td>10.025347</td>\n",
       "      <td>1337</td>\n",
       "      <td>45</td>\n",
       "      <td>150.0</td>\n",
       "      <td>189.0</td>\n",
       "      <td>4.861111</td>\n",
       "      <td>5.250000</td>\n",
       "    </tr>\n",
       "    <tr>\n",
       "      <th>2</th>\n",
       "      <td>22.889683</td>\n",
       "      <td>17.893320</td>\n",
       "      <td>0</td>\n",
       "      <td>0</td>\n",
       "      <td>37.437727</td>\n",
       "      <td>2.645420</td>\n",
       "      <td>5.160050</td>\n",
       "      <td>37.437727</td>\n",
       "      <td>1.386582</td>\n",
       "      <td>4.315006</td>\n",
       "      <td>...</td>\n",
       "      <td>10.639862</td>\n",
       "      <td>82.032579</td>\n",
       "      <td>363.107941</td>\n",
       "      <td>8.252453</td>\n",
       "      <td>1635</td>\n",
       "      <td>49</td>\n",
       "      <td>168.0</td>\n",
       "      <td>215.0</td>\n",
       "      <td>5.083333</td>\n",
       "      <td>5.555556</td>\n",
       "    </tr>\n",
       "    <tr>\n",
       "      <th>3</th>\n",
       "      <td>13.313708</td>\n",
       "      <td>11.688393</td>\n",
       "      <td>0</td>\n",
       "      <td>0</td>\n",
       "      <td>21.283525</td>\n",
       "      <td>2.481194</td>\n",
       "      <td>4.637583</td>\n",
       "      <td>21.283525</td>\n",
       "      <td>1.330220</td>\n",
       "      <td>3.777767</td>\n",
       "      <td>...</td>\n",
       "      <td>9.782393</td>\n",
       "      <td>66.966647</td>\n",
       "      <td>319.941201</td>\n",
       "      <td>11.426471</td>\n",
       "      <td>430</td>\n",
       "      <td>20</td>\n",
       "      <td>94.0</td>\n",
       "      <td>115.0</td>\n",
       "      <td>3.166667</td>\n",
       "      <td>3.333333</td>\n",
       "    </tr>\n",
       "    <tr>\n",
       "      <th>4</th>\n",
       "      <td>19.435029</td>\n",
       "      <td>15.989365</td>\n",
       "      <td>0</td>\n",
       "      <td>0</td>\n",
       "      <td>31.670490</td>\n",
       "      <td>2.627835</td>\n",
       "      <td>5.062549</td>\n",
       "      <td>31.670490</td>\n",
       "      <td>1.376978</td>\n",
       "      <td>4.154569</td>\n",
       "      <td>...</td>\n",
       "      <td>10.429310</td>\n",
       "      <td>77.119188</td>\n",
       "      <td>379.977407</td>\n",
       "      <td>10.856497</td>\n",
       "      <td>1074</td>\n",
       "      <td>39</td>\n",
       "      <td>142.0</td>\n",
       "      <td>181.0</td>\n",
       "      <td>4.361111</td>\n",
       "      <td>4.750000</td>\n",
       "    </tr>\n",
       "  </tbody>\n",
       "</table>\n",
       "<p>5 rows × 1825 columns</p>\n",
       "</div>"
      ],
      "text/plain": [
       "         ABC      ABCGG  nAcid  nBase    SpAbs_A   SpMax_A  SpDiam_A  \\\n",
       "0  20.142136  16.169815      0      0  33.204238  2.616114  5.057172   \n",
       "1  20.849242  16.133746      0      0  34.755190  2.600656  5.047921   \n",
       "2  22.889683  17.893320      0      0  37.437727  2.645420  5.160050   \n",
       "3  13.313708  11.688393      0      0  21.283525  2.481194  4.637583   \n",
       "4  19.435029  15.989365      0      0  31.670490  2.627835  5.062549   \n",
       "\n",
       "      SpAD_A   SpMAD_A   LogEE_A  ...      SRW10     TSRW10          MW  \\\n",
       "0  33.204238  1.383510  4.188377  ...  10.460213  77.559765  394.963154   \n",
       "1  34.755190  1.390208  4.221130  ...  10.493799  77.890806  401.013897   \n",
       "2  37.437727  1.386582  4.315006  ...  10.639862  82.032579  363.107941   \n",
       "3  21.283525  1.330220  3.777767  ...   9.782393  66.966647  319.941201   \n",
       "4  31.670490  1.376978  4.154569  ...  10.429310  77.119188  379.977407   \n",
       "\n",
       "         AMW  WPath  WPol  Zagreb1  Zagreb2  mZagreb1  mZagreb2  \n",
       "0  11.968580   1216    42    146.0    185.0  4.611111  5.000000  \n",
       "1  10.025347   1337    45    150.0    189.0  4.861111  5.250000  \n",
       "2   8.252453   1635    49    168.0    215.0  5.083333  5.555556  \n",
       "3  11.426471    430    20     94.0    115.0  3.166667  3.333333  \n",
       "4  10.856497   1074    39    142.0    181.0  4.361111  4.750000  \n",
       "\n",
       "[5 rows x 1825 columns]"
      ]
     },
     "execution_count": 5,
     "metadata": {},
     "output_type": "execute_result"
    }
   ],
   "source": [
    "features_df.head()"
   ]
  },
  {
   "cell_type": "code",
   "execution_count": 7,
   "metadata": {},
   "outputs": [
    {
     "data": {
      "text/html": [
       "<div>\n",
       "<style scoped>\n",
       "    .dataframe tbody tr th:only-of-type {\n",
       "        vertical-align: middle;\n",
       "    }\n",
       "\n",
       "    .dataframe tbody tr th {\n",
       "        vertical-align: top;\n",
       "    }\n",
       "\n",
       "    .dataframe thead th {\n",
       "        text-align: right;\n",
       "    }\n",
       "</style>\n",
       "<table border=\"1\" class=\"dataframe\">\n",
       "  <thead>\n",
       "    <tr style=\"text-align: right;\">\n",
       "      <th></th>\n",
       "      <th>ABC</th>\n",
       "      <th>ABCGG</th>\n",
       "      <th>nAcid</th>\n",
       "      <th>nBase</th>\n",
       "      <th>SpAbs_A</th>\n",
       "      <th>SpMax_A</th>\n",
       "      <th>SpDiam_A</th>\n",
       "      <th>SpAD_A</th>\n",
       "      <th>SpMAD_A</th>\n",
       "      <th>LogEE_A</th>\n",
       "      <th>...</th>\n",
       "      <th>SRW10</th>\n",
       "      <th>TSRW10</th>\n",
       "      <th>MW</th>\n",
       "      <th>AMW</th>\n",
       "      <th>WPath</th>\n",
       "      <th>WPol</th>\n",
       "      <th>Zagreb1</th>\n",
       "      <th>Zagreb2</th>\n",
       "      <th>mZagreb1</th>\n",
       "      <th>mZagreb2</th>\n",
       "    </tr>\n",
       "  </thead>\n",
       "  <tbody>\n",
       "    <tr>\n",
       "      <th>0</th>\n",
       "      <td>20.142136</td>\n",
       "      <td>16.169815</td>\n",
       "      <td>0</td>\n",
       "      <td>0</td>\n",
       "      <td>33.204238</td>\n",
       "      <td>2.616114</td>\n",
       "      <td>5.057172</td>\n",
       "      <td>33.204238</td>\n",
       "      <td>1.383510</td>\n",
       "      <td>4.188377</td>\n",
       "      <td>...</td>\n",
       "      <td>10.460213</td>\n",
       "      <td>77.559765</td>\n",
       "      <td>394.963154</td>\n",
       "      <td>11.968580</td>\n",
       "      <td>1216</td>\n",
       "      <td>42</td>\n",
       "      <td>146.0</td>\n",
       "      <td>185.0</td>\n",
       "      <td>4.611111</td>\n",
       "      <td>5.000000</td>\n",
       "    </tr>\n",
       "    <tr>\n",
       "      <th>1</th>\n",
       "      <td>20.849242</td>\n",
       "      <td>16.133746</td>\n",
       "      <td>0</td>\n",
       "      <td>0</td>\n",
       "      <td>34.755190</td>\n",
       "      <td>2.600656</td>\n",
       "      <td>5.047921</td>\n",
       "      <td>34.755190</td>\n",
       "      <td>1.390208</td>\n",
       "      <td>4.221130</td>\n",
       "      <td>...</td>\n",
       "      <td>10.493799</td>\n",
       "      <td>77.890806</td>\n",
       "      <td>401.013897</td>\n",
       "      <td>10.025347</td>\n",
       "      <td>1337</td>\n",
       "      <td>45</td>\n",
       "      <td>150.0</td>\n",
       "      <td>189.0</td>\n",
       "      <td>4.861111</td>\n",
       "      <td>5.250000</td>\n",
       "    </tr>\n",
       "    <tr>\n",
       "      <th>2</th>\n",
       "      <td>22.889683</td>\n",
       "      <td>17.893320</td>\n",
       "      <td>0</td>\n",
       "      <td>0</td>\n",
       "      <td>37.437727</td>\n",
       "      <td>2.645420</td>\n",
       "      <td>5.160050</td>\n",
       "      <td>37.437727</td>\n",
       "      <td>1.386582</td>\n",
       "      <td>4.315006</td>\n",
       "      <td>...</td>\n",
       "      <td>10.639862</td>\n",
       "      <td>82.032579</td>\n",
       "      <td>363.107941</td>\n",
       "      <td>8.252453</td>\n",
       "      <td>1635</td>\n",
       "      <td>49</td>\n",
       "      <td>168.0</td>\n",
       "      <td>215.0</td>\n",
       "      <td>5.083333</td>\n",
       "      <td>5.555556</td>\n",
       "    </tr>\n",
       "    <tr>\n",
       "      <th>3</th>\n",
       "      <td>13.313708</td>\n",
       "      <td>11.688393</td>\n",
       "      <td>0</td>\n",
       "      <td>0</td>\n",
       "      <td>21.283525</td>\n",
       "      <td>2.481194</td>\n",
       "      <td>4.637583</td>\n",
       "      <td>21.283525</td>\n",
       "      <td>1.330220</td>\n",
       "      <td>3.777767</td>\n",
       "      <td>...</td>\n",
       "      <td>9.782393</td>\n",
       "      <td>66.966647</td>\n",
       "      <td>319.941201</td>\n",
       "      <td>11.426471</td>\n",
       "      <td>430</td>\n",
       "      <td>20</td>\n",
       "      <td>94.0</td>\n",
       "      <td>115.0</td>\n",
       "      <td>3.166667</td>\n",
       "      <td>3.333333</td>\n",
       "    </tr>\n",
       "    <tr>\n",
       "      <th>4</th>\n",
       "      <td>19.435029</td>\n",
       "      <td>15.989365</td>\n",
       "      <td>0</td>\n",
       "      <td>0</td>\n",
       "      <td>31.670490</td>\n",
       "      <td>2.627835</td>\n",
       "      <td>5.062549</td>\n",
       "      <td>31.670490</td>\n",
       "      <td>1.376978</td>\n",
       "      <td>4.154569</td>\n",
       "      <td>...</td>\n",
       "      <td>10.429310</td>\n",
       "      <td>77.119188</td>\n",
       "      <td>379.977407</td>\n",
       "      <td>10.856497</td>\n",
       "      <td>1074</td>\n",
       "      <td>39</td>\n",
       "      <td>142.0</td>\n",
       "      <td>181.0</td>\n",
       "      <td>4.361111</td>\n",
       "      <td>4.750000</td>\n",
       "    </tr>\n",
       "  </tbody>\n",
       "</table>\n",
       "<p>5 rows × 1825 columns</p>\n",
       "</div>"
      ],
      "text/plain": [
       "         ABC      ABCGG  nAcid  nBase    SpAbs_A   SpMax_A  SpDiam_A  \\\n",
       "0  20.142136  16.169815      0      0  33.204238  2.616114  5.057172   \n",
       "1  20.849242  16.133746      0      0  34.755190  2.600656  5.047921   \n",
       "2  22.889683  17.893320      0      0  37.437727  2.645420  5.160050   \n",
       "3  13.313708  11.688393      0      0  21.283525  2.481194  4.637583   \n",
       "4  19.435029  15.989365      0      0  31.670490  2.627835  5.062549   \n",
       "\n",
       "      SpAD_A   SpMAD_A   LogEE_A  ...      SRW10     TSRW10          MW  \\\n",
       "0  33.204238  1.383510  4.188377  ...  10.460213  77.559765  394.963154   \n",
       "1  34.755190  1.390208  4.221130  ...  10.493799  77.890806  401.013897   \n",
       "2  37.437727  1.386582  4.315006  ...  10.639862  82.032579  363.107941   \n",
       "3  21.283525  1.330220  3.777767  ...   9.782393  66.966647  319.941201   \n",
       "4  31.670490  1.376978  4.154569  ...  10.429310  77.119188  379.977407   \n",
       "\n",
       "         AMW  WPath  WPol  Zagreb1  Zagreb2  mZagreb1  mZagreb2  \n",
       "0  11.968580   1216    42    146.0    185.0  4.611111  5.000000  \n",
       "1  10.025347   1337    45    150.0    189.0  4.861111  5.250000  \n",
       "2   8.252453   1635    49    168.0    215.0  5.083333  5.555556  \n",
       "3  11.426471    430    20     94.0    115.0  3.166667  3.333333  \n",
       "4  10.856497   1074    39    142.0    181.0  4.361111  4.750000  \n",
       "\n",
       "[5 rows x 1825 columns]"
      ]
     },
     "execution_count": 7,
     "metadata": {},
     "output_type": "execute_result"
    }
   ],
   "source": [
    "features_df.head()"
   ]
  },
  {
   "cell_type": "markdown",
   "metadata": {},
   "source": [
    "> Not all molecules have the same features as others, so there will be some non-value entries hidden in the dataframe."
   ]
  },
  {
   "cell_type": "code",
   "execution_count": 8,
   "metadata": {},
   "outputs": [
    {
     "data": {
      "text/plain": [
       "[<mordred.error.Missing at 0x18384368630>,\n",
       " <mordred.error.Missing at 0x183842e9f98>,\n",
       " <mordred.error.Missing at 0x183843d2dd8>,\n",
       " <mordred.error.Missing at 0x183843d2e48>,\n",
       " <mordred.error.Missing at 0x183843d2e80>]"
      ]
     },
     "execution_count": 8,
     "metadata": {},
     "output_type": "execute_result"
    }
   ],
   "source": [
    "# find the non-value entries.\n",
    "\n",
    "missing =[]\n",
    "for i in range(features_df.shape[1]):\n",
    "    if type(features_df.loc[1][i]) == mordred.error.Missing:\n",
    "        missing.append(features_df.loc[1][i])\n",
    "\n",
    "# show examples of the non-value entries.        \n",
    "missing[0:5]"
   ]
  },
  {
   "cell_type": "code",
   "execution_count": 9,
   "metadata": {},
   "outputs": [
    {
     "data": {
      "text/plain": [
       "numpy.dtype"
      ]
     },
     "execution_count": 9,
     "metadata": {},
     "output_type": "execute_result"
    }
   ],
   "source": [
    "import numpy as np\n",
    "assd = features_df.dtypes\n",
    "type(assd[1])"
   ]
  },
  {
   "cell_type": "markdown",
   "metadata": {},
   "source": [
    "> **for these non-value entries, we assign them to 0, simply indicating that the molecule does not possess that specific feature.**"
   ]
  },
  {
   "cell_type": "code",
   "execution_count": 20,
   "metadata": {},
   "outputs": [],
   "source": [
    "# replace missing value(wrong type) with 0\n",
    "type_series = features_df.dtypes\n",
    "wrong_column = []\n",
    "for col in range(len(type_series)):\n",
    "    if type_series[col] != np.float64 and type_series[col] != np.int64:\n",
    "        wrong_column.append(col)\n",
    "for column in wrong_column:\n",
    "    i = 0\n",
    "    for item in features_df.iloc[:,column]:\n",
    "        if type(item) != np.float64 and type(item) != np.int64:\n",
    "            features_df.iloc[i,column] = 0\n",
    "        i += 1    "
   ]
  },
  {
   "cell_type": "code",
   "execution_count": null,
   "metadata": {},
   "outputs": [],
   "source": []
  },
  {
   "cell_type": "code",
   "execution_count": null,
   "metadata": {},
   "outputs": [],
   "source": []
  },
  {
   "cell_type": "code",
   "execution_count": null,
   "metadata": {},
   "outputs": [],
   "source": []
  },
  {
   "cell_type": "code",
   "execution_count": null,
   "metadata": {},
   "outputs": [],
   "source": []
  },
  {
   "cell_type": "code",
   "execution_count": null,
   "metadata": {},
   "outputs": [],
   "source": []
  },
  {
   "cell_type": "code",
   "execution_count": null,
   "metadata": {},
   "outputs": [],
   "source": []
  },
  {
   "cell_type": "code",
   "execution_count": null,
   "metadata": {},
   "outputs": [],
   "source": []
  },
  {
   "cell_type": "code",
   "execution_count": 22,
   "metadata": {},
   "outputs": [
    {
     "name": "stderr",
     "output_type": "stream",
     "text": [
      "c:\\users\\alex0\\anaconda3\\envs\\pvc-env\\lib\\site-packages\\sklearn\\utils\\validation.py:595: DataConversionWarning: Data with input dtype object was converted to float64 by StandardScaler.\n",
      "  warnings.warn(msg, DataConversionWarning)\n",
      "c:\\users\\alex0\\anaconda3\\envs\\pvc-env\\lib\\site-packages\\sklearn\\utils\\validation.py:595: DataConversionWarning: Data with input dtype object was converted to float64 by StandardScaler.\n",
      "  warnings.warn(msg, DataConversionWarning)\n"
     ]
    }
   ],
   "source": [
    "from sklearn.preprocessing import StandardScaler\n",
    "features =[feature for feature in features_df.columns]\n",
    "\n",
    "# Separating out the features\n",
    "x = features_df.loc[:, features].values\n",
    "\n",
    "# Our target is pce\n",
    "y = data50['pce'].values\n",
    "sc = StandardScaler()\n",
    "X = sc.fit_transform(x)"
   ]
  },
  {
   "cell_type": "code",
   "execution_count": null,
   "metadata": {},
   "outputs": [],
   "source": []
  },
  {
   "cell_type": "code",
   "execution_count": null,
   "metadata": {},
   "outputs": [],
   "source": [
    "features = [ftr for ftr in features_df.head()]\n",
    "ranks = {}\n",
    "def rank_to_dict(ranks, names, order=1):\n",
    "    sc = StandardScaler()\n",
    "    ranks = sc.fit_transform(order*np.array([ranks]).T).T[0]\n",
    "    ranks = map(lambda x: round(x, 2), ranks)\n",
    "    return dict(zip(names, ranks ))"
   ]
  },
  {
   "cell_type": "code",
   "execution_count": 23,
   "metadata": {},
   "outputs": [
    {
     "name": "stderr",
     "output_type": "stream",
     "text": [
      "c:\\users\\alex0\\anaconda3\\envs\\pvc-env\\lib\\site-packages\\sklearn\\model_selection\\_split.py:2053: FutureWarning: You should specify a value for 'cv' instead of relying on the default value. The default value will change from 3 to 5 in version 0.22.\n",
      "  warnings.warn(CV_WARNING, FutureWarning)\n"
     ]
    },
    {
     "data": {
      "text/plain": [
       "RFECV(cv='warn',\n",
       "   estimator=SVR(C=1.0, cache_size=200, coef0=0.0, degree=3, epsilon=0.1,\n",
       "  gamma='auto_deprecated', kernel='linear', max_iter=-1, shrinking=True,\n",
       "  tol=0.001, verbose=False),\n",
       "   min_features_to_select=1, n_jobs=None, scoring='explained_variance',\n",
       "   step=5, verbose=0)"
      ]
     },
     "execution_count": 23,
     "metadata": {},
     "output_type": "execute_result"
    }
   ],
   "source": [
    "from sklearn.feature_selection import RFECV\n",
    "from sklearn.svm import SVR\n",
    "estimatorREFCV = SVR('linear')\n",
    "selectorREFCV = RFECV(estimatorREFCV, step=5, scoring='explained_variance')\n",
    "selectorREFCV.fit(X, y)"
   ]
  },
  {
   "cell_type": "code",
   "execution_count": 24,
   "metadata": {},
   "outputs": [
    {
     "name": "stdout",
     "output_type": "stream",
     "text": [
      "Optimal number of features : 60\n",
      "[False False False ... False False False]\n"
     ]
    },
    {
     "data": {
      "image/png": "[encoded data removed]",
      "text/plain": [
       "<Figure size 432x288 with 1 Axes>"
      ]
     },
     "metadata": {
      "needs_background": "light"
     },
     "output_type": "display_data"
    }
   ],
   "source": [
    "print(\"Optimal number of features : %d\" % selectorREFCV.n_features_)\n",
    "print(selectorREFCV.support_)\n",
    "\n",
    "# Plot number of features VS. cross-validation scores\n",
    "plt.figure()\n",
    "plt.xlabel(\"Number of features selected\")\n",
    "plt.ylabel(\"Cross validation score\")\n",
    "plt.plot(range(1, len(selectorREFCV.grid_scores_) + 1), selectorREFCV.grid_scores_)\n",
    "plt.show()"
   ]
  },
  {
   "cell_type": "code",
   "execution_count": 28,
   "metadata": {},
   "outputs": [],
   "source": [
    "from sklearn.model_selection import train_test_split\n",
    "from sklearn.metrics import mean_squared_error\n",
    "from sklearn.linear_model import Ridge\n",
    "\n",
    "X_train, X_test, y_Train, y_test = train_test_split(X, y, test_size = 0.25)"
   ]
  },
  {
   "cell_type": "code",
   "execution_count": 41,
   "metadata": {},
   "outputs": [
    {
     "data": {
      "text/plain": [
       "array([[ 0.52500823,  0.95512193,  0.        , ...,  0.65133964,\n",
       "         0.37360071,  0.44891599],\n",
       "       [ 1.87156807,  1.71608382,  0.        , ...,  1.84703559,\n",
       "         1.8835343 ,  1.88242924],\n",
       "       [-1.23987412, -1.10576625,  0.        , ..., -1.26806703,\n",
       "        -1.09319192, -1.09776935],\n",
       "       ...,\n",
       "       [-0.10901784, -0.31107999,  0.        , ..., -0.22969949,\n",
       "         0.02847303, -0.04149644],\n",
       "       [-0.35089064, -0.16678852,  0.        , ..., -0.32409653,\n",
       "        -0.3597956 , -0.3432887 ],\n",
       "       [-0.35089064, -0.26438086,  0.        , ..., -0.32409653,\n",
       "        -0.3597956 , -0.3432887 ]])"
      ]
     },
     "execution_count": 41,
     "metadata": {},
     "output_type": "execute_result"
    }
   ],
   "source": [
    "X_train"
   ]
  },
  {
   "cell_type": "code",
   "execution_count": 49,
   "metadata": {},
   "outputs": [],
   "source": [
    "# RR vs lambda (based on sklearn tutorial)\n",
    "coefs = []\n",
    "trainerror = []\n",
    "testerror = []\n",
    "\n",
    "# do you know what is happening here? \n",
    "lambdas = np.logspace(-6,10,200)\n",
    "model=Ridge()\n",
    "\n",
    "# loop over lambda values (strength of regularization)\n",
    "for l in lambdas:\n",
    "    model.set_params(alpha=l)\n",
    "    model.fit(X_train,y_train)\n",
    "    coefs.append(model.coef_)\n",
    "    trainerror.append(mean_squared_error(y_train, model.predict(X_train)))\n",
    "    testerror.append(mean_squared_error(y_test, model.predict(X_test)))"
   ]
  },
  {
   "cell_type": "code",
   "execution_count": 50,
   "metadata": {},
   "outputs": [
    {
     "data": {
      "text/plain": [
       "Text(0.5, 1.0, 'error vs $\\\\lambda$')"
      ]
     },
     "execution_count": 50,
     "metadata": {},
     "output_type": "execute_result"
    },
    {
     "data": {
      "image/png": "[encoded data removed]",
      "text/plain": [
       "<Figure size 720x216 with 2 Axes>"
      ]
     },
     "metadata": {
      "needs_background": "light"
     },
     "output_type": "display_data"
    }
   ],
   "source": [
    "plt.figure(figsize=(10,3))\n",
    "#plt.locator_params(nbins=5)\n",
    "plt.subplot(121)\n",
    "plt.plot(lambdas,coefs)\n",
    "plt.xscale('log')\n",
    "plt.xlabel('$\\lambda$')\n",
    "plt.ylabel('coefs')\n",
    "plt.title('RR coefs vs $\\lambda$')\n",
    "#plt.xlim(1e-4,1e0)\n",
    "\n",
    "plt.subplot(122)\n",
    "plt.plot(lambdas,trainerror,label='train error')\n",
    "plt.plot(lambdas,testerror,label='test error')\n",
    "plt.xscale('log')\n",
    "plt.xlabel('$\\lambda$')\n",
    "plt.ylabel('error')\n",
    "#plt.xlim(1e-3,1e4)\n",
    "#plt.ylim(0,0.5)\n",
    "plt.legend(loc=1)\n",
    "plt.title('error vs $\\lambda$')"
   ]
  },
  {
   "cell_type": "code",
   "execution_count": 51,
   "metadata": {},
   "outputs": [],
   "source": [
    "from sklearn.linear_model import RandomizedLogisticRegression as stability"
   ]
  },
  {
   "cell_type": "code",
   "execution_count": null,
   "metadata": {},
   "outputs": [],
   "source": []
  }
 ],
 "metadata": {
  "kernelspec": {
   "display_name": "Python 3",
   "language": "python",
   "name": "python3"
  },
  "language_info": {
   "codemirror_mode": {
    "name": "ipython",
    "version": 3
   },
   "file_extension": ".py",
   "mimetype": "text/x-python",
   "name": "python",
   "nbconvert_exporter": "python",
   "pygments_lexer": "ipython3",
   "version": "3.6.8"
  }
 },
 "nbformat": 4,
 "nbformat_minor": 2
}
