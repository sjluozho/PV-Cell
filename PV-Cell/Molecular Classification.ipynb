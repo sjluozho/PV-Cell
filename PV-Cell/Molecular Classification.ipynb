{
 "cells": [
  {
   "cell_type": "markdown",
   "metadata": {},
   "source": [
    "To install, use `conda install rdkit -c rdkit`."
   ]
  },
  {
   "cell_type": "code",
   "execution_count": 1,
   "metadata": {},
   "outputs": [],
   "source": [
    "from rdkit import Chem\n",
    "import pandas as pd\n",
    "from rdkit.Chem import AllChem\n",
    "from collections import Counter"
   ]
  },
  {
   "cell_type": "markdown",
   "metadata": {},
   "source": [
    "1. Get molecular structure with given SMILE_str.\n",
    "2. Read functional groups."
   ]
  },
  {
   "cell_type": "code",
   "execution_count": 11,
   "metadata": {},
   "outputs": [],
   "source": [
    "data = pd.read_csv('Data/HCEPD_100K.csv') # Try using 100K for practice\n"
   ]
  },
  {
   "cell_type": "code",
   "execution_count": 12,
   "metadata": {},
   "outputs": [
    {
     "data": {
      "text/html": [
       "<div>\n",
       "<style scoped>\n",
       "    .dataframe tbody tr th:only-of-type {\n",
       "        vertical-align: middle;\n",
       "    }\n",
       "\n",
       "    .dataframe tbody tr th {\n",
       "        vertical-align: top;\n",
       "    }\n",
       "\n",
       "    .dataframe thead th {\n",
       "        text-align: right;\n",
       "    }\n",
       "</style>\n",
       "<table border=\"1\" class=\"dataframe\">\n",
       "  <thead>\n",
       "    <tr style=\"text-align: right;\">\n",
       "      <th></th>\n",
       "      <th>id</th>\n",
       "      <th>SMILES_str</th>\n",
       "      <th>stoich_str</th>\n",
       "      <th>mass</th>\n",
       "      <th>pce</th>\n",
       "      <th>voc</th>\n",
       "      <th>jsc</th>\n",
       "      <th>e_homo_alpha</th>\n",
       "      <th>e_gap_alpha</th>\n",
       "      <th>e_lumo_alpha</th>\n",
       "      <th>tmp_smiles_str</th>\n",
       "    </tr>\n",
       "  </thead>\n",
       "  <tbody>\n",
       "    <tr>\n",
       "      <th>0</th>\n",
       "      <td>655365</td>\n",
       "      <td>C1C=CC=C1c1cc2[se]c3c4occc4c4nsnc4c3c2cn1</td>\n",
       "      <td>C18H9N3OSSe</td>\n",
       "      <td>394.3151</td>\n",
       "      <td>5.161953</td>\n",
       "      <td>0.867601</td>\n",
       "      <td>91.567575</td>\n",
       "      <td>-5.467601</td>\n",
       "      <td>2.022944</td>\n",
       "      <td>-3.444656</td>\n",
       "      <td>C1=CC=C(C1)c1cc2[se]c3c4occc4c4nsnc4c3c2cn1</td>\n",
       "    </tr>\n",
       "    <tr>\n",
       "      <th>1</th>\n",
       "      <td>1245190</td>\n",
       "      <td>C1C=CC=C1c1cc2[se]c3c(ncc4ccccc34)c2c2=C[SiH2]...</td>\n",
       "      <td>C22H15NSeSi</td>\n",
       "      <td>400.4135</td>\n",
       "      <td>5.261398</td>\n",
       "      <td>0.504824</td>\n",
       "      <td>160.401549</td>\n",
       "      <td>-5.104824</td>\n",
       "      <td>1.630750</td>\n",
       "      <td>-3.474074</td>\n",
       "      <td>C1=CC=C(C1)c1cc2[se]c3c(ncc4ccccc34)c2c2=C[SiH...</td>\n",
       "    </tr>\n",
       "    <tr>\n",
       "      <th>2</th>\n",
       "      <td>21847</td>\n",
       "      <td>C1C=c2ccc3c4c[nH]cc4c4c5[SiH2]C(=Cc5oc4c3c2=C1...</td>\n",
       "      <td>C24H17NOSi</td>\n",
       "      <td>363.4903</td>\n",
       "      <td>0.000000</td>\n",
       "      <td>0.000000</td>\n",
       "      <td>197.474780</td>\n",
       "      <td>-4.539526</td>\n",
       "      <td>1.462158</td>\n",
       "      <td>-3.077368</td>\n",
       "      <td>C1=CC=C(C1)C1=Cc2oc3c(c2[SiH2]1)c1c[nH]cc1c1cc...</td>\n",
       "    </tr>\n",
       "    <tr>\n",
       "      <th>3</th>\n",
       "      <td>65553</td>\n",
       "      <td>[SiH2]1C=CC2=C1C=C([SiH2]2)C1=Cc2[se]ccc2[SiH2]1</td>\n",
       "      <td>C12H12SeSi3</td>\n",
       "      <td>319.4448</td>\n",
       "      <td>6.138294</td>\n",
       "      <td>0.630274</td>\n",
       "      <td>149.887545</td>\n",
       "      <td>-5.230274</td>\n",
       "      <td>1.682250</td>\n",
       "      <td>-3.548025</td>\n",
       "      <td>C1=CC2=C([SiH2]1)C=C([SiH2]2)C1=Cc2[se]ccc2[Si...</td>\n",
       "    </tr>\n",
       "    <tr>\n",
       "      <th>4</th>\n",
       "      <td>720918</td>\n",
       "      <td>C1C=c2c3ccsc3c3[se]c4cc(oc4c3c2=C1)C1=CC=CC1</td>\n",
       "      <td>C20H12OSSe</td>\n",
       "      <td>379.3398</td>\n",
       "      <td>1.991366</td>\n",
       "      <td>0.242119</td>\n",
       "      <td>126.581347</td>\n",
       "      <td>-4.842119</td>\n",
       "      <td>1.809439</td>\n",
       "      <td>-3.032680</td>\n",
       "      <td>C1=CC=C(C1)c1cc2[se]c3c4sccc4c4=CCC=c4c3c2o1</td>\n",
       "    </tr>\n",
       "  </tbody>\n",
       "</table>\n",
       "</div>"
      ],
      "text/plain": [
       "        id                                         SMILES_str   stoich_str  \\\n",
       "0   655365          C1C=CC=C1c1cc2[se]c3c4occc4c4nsnc4c3c2cn1  C18H9N3OSSe   \n",
       "1  1245190  C1C=CC=C1c1cc2[se]c3c(ncc4ccccc34)c2c2=C[SiH2]...  C22H15NSeSi   \n",
       "2    21847  C1C=c2ccc3c4c[nH]cc4c4c5[SiH2]C(=Cc5oc4c3c2=C1...   C24H17NOSi   \n",
       "3    65553   [SiH2]1C=CC2=C1C=C([SiH2]2)C1=Cc2[se]ccc2[SiH2]1  C12H12SeSi3   \n",
       "4   720918       C1C=c2c3ccsc3c3[se]c4cc(oc4c3c2=C1)C1=CC=CC1   C20H12OSSe   \n",
       "\n",
       "       mass       pce       voc         jsc  e_homo_alpha  e_gap_alpha  \\\n",
       "0  394.3151  5.161953  0.867601   91.567575     -5.467601     2.022944   \n",
       "1  400.4135  5.261398  0.504824  160.401549     -5.104824     1.630750   \n",
       "2  363.4903  0.000000  0.000000  197.474780     -4.539526     1.462158   \n",
       "3  319.4448  6.138294  0.630274  149.887545     -5.230274     1.682250   \n",
       "4  379.3398  1.991366  0.242119  126.581347     -4.842119     1.809439   \n",
       "\n",
       "   e_lumo_alpha                                     tmp_smiles_str  \n",
       "0     -3.444656        C1=CC=C(C1)c1cc2[se]c3c4occc4c4nsnc4c3c2cn1  \n",
       "1     -3.474074  C1=CC=C(C1)c1cc2[se]c3c(ncc4ccccc34)c2c2=C[SiH...  \n",
       "2     -3.077368  C1=CC=C(C1)C1=Cc2oc3c(c2[SiH2]1)c1c[nH]cc1c1cc...  \n",
       "3     -3.548025  C1=CC2=C([SiH2]1)C=C([SiH2]2)C1=Cc2[se]ccc2[Si...  \n",
       "4     -3.032680       C1=CC=C(C1)c1cc2[se]c3c4sccc4c4=CCC=c4c3c2o1  "
      ]
     },
     "execution_count": 12,
     "metadata": {},
     "output_type": "execute_result"
    }
   ],
   "source": [
    "data.head()"
   ]
  },
  {
   "cell_type": "code",
   "execution_count": 13,
   "metadata": {},
   "outputs": [
    {
     "data": {
      "text/plain": [
       "<rdkit.Chem.rdchem.Mol at 0x11ff4f670>"
      ]
     },
     "execution_count": 13,
     "metadata": {},
     "output_type": "execute_result"
    }
   ],
   "source": [
    "molecule = Chem.MolFromSmiles(data['SMILES_str'][0]) # Practise on a single molecule.\n",
    "molecule # Returning arguments like below indicates loaded successfully."
   ]
  },
  {
   "cell_type": "code",
   "execution_count": 14,
   "metadata": {
    "scrolled": false
   },
   "outputs": [
    {
     "data": {
      "text/plain": [
       "False"
      ]
     },
     "execution_count": 14,
     "metadata": {},
     "output_type": "execute_result"
    }
   ],
   "source": [
    "molecule is None # Alternatively by this way to check if the molecule is loaded properly."
   ]
  },
  {
   "cell_type": "code",
   "execution_count": 15,
   "metadata": {},
   "outputs": [
    {
     "data": {
      "text/plain": [
       "<rdkit.Chem.rdchem._ROAtomSeq at 0x11ff4f7b0>"
      ]
     },
     "execution_count": 15,
     "metadata": {},
     "output_type": "execute_result"
    }
   ],
   "source": [
    "molecule.GetAtoms()"
   ]
  },
  {
   "cell_type": "code",
   "execution_count": 16,
   "metadata": {},
   "outputs": [
    {
     "data": {
      "text/plain": [
       "[6, 6, 6, 6, 6, 6, 6, 6, 34, 6, 6, 8, 6, 6, 6, 6, 7, 16, 7, 6, 6, 6, 6, 7]"
      ]
     },
     "execution_count": 16,
     "metadata": {},
     "output_type": "execute_result"
    }
   ],
   "source": [
    "# First we care atoms as the existence of some specific atoms might has something to do with PCE.\n",
    "atomlist = []\n",
    "for atom in molecule.GetAtoms():\n",
    "    atomlist.append(atom.GetAtomicNum())\n",
    "atomlist\n",
    "# It should be useful when we try to find what atoms exist in a molecule as the atomic number is unique for each element."
   ]
  },
  {
   "cell_type": "code",
   "execution_count": 17,
   "metadata": {},
   "outputs": [],
   "source": [
    "# Use something like this to classify molecules with/without atom x.\n",
    "molecular_type_a = []\n",
    "molecular_type_b = []\n",
    "if 34 in atomlist:\n",
    "    molecular_type_a.append(data.loc[0])"
   ]
  },
  {
   "cell_type": "code",
   "execution_count": 18,
   "metadata": {},
   "outputs": [
    {
     "data": {
      "text/plain": [
       "'C18H9N3OSSe'"
      ]
     },
     "execution_count": 18,
     "metadata": {},
     "output_type": "execute_result"
    }
   ],
   "source": [
    "data['stoich_str'][0]"
   ]
  },
  {
   "cell_type": "code",
   "execution_count": 19,
   "metadata": {},
   "outputs": [
    {
     "data": {
      "text/plain": [
       "True"
      ]
     },
     "execution_count": 19,
     "metadata": {},
     "output_type": "execute_result"
    }
   ],
   "source": [
    "'Se' in data['stoich_str'][0] # Alernatively we can just directly do it like this to classify contained elements."
   ]
  },
  {
   "cell_type": "code",
   "execution_count": 20,
   "metadata": {},
   "outputs": [],
   "source": [
    "# What else other than elements/atoms we want to classify.\n",
    "# Maybe number of C-C double bonds?"
   ]
  },
  {
   "cell_type": "code",
   "execution_count": 21,
   "metadata": {},
   "outputs": [
    {
     "data": {
      "text/plain": [
       "2"
      ]
     },
     "execution_count": 21,
     "metadata": {},
     "output_type": "execute_result"
    }
   ],
   "source": [
    "double_count = 0\n",
    "for i in range(len(atomlist)):\n",
    "    if str(molecule.GetBonds()[i].GetBondType()) == 'DOUBLE':\n",
    "        double_count += 1\n",
    "double_count"
   ]
  },
  {
   "cell_type": "code",
   "execution_count": 25,
   "metadata": {},
   "outputs": [
    {
     "name": "stdout",
     "output_type": "stream",
     "text": [
      "SINGLE\n",
      "DOUBLE\n",
      "SINGLE\n",
      "DOUBLE\n",
      "SINGLE\n",
      "AROMATIC\n",
      "AROMATIC\n",
      "AROMATIC\n",
      "AROMATIC\n",
      "AROMATIC\n",
      "AROMATIC\n",
      "AROMATIC\n",
      "AROMATIC\n",
      "AROMATIC\n",
      "AROMATIC\n",
      "AROMATIC\n",
      "AROMATIC\n",
      "AROMATIC\n",
      "AROMATIC\n",
      "AROMATIC\n",
      "AROMATIC\n",
      "AROMATIC\n",
      "AROMATIC\n",
      "SINGLE\n"
     ]
    }
   ],
   "source": [
    "for i in range(len(atomlist)):\n",
    "    print(molecule.GetBonds()[i].GetBondType())"
   ]
  },
  {
   "cell_type": "code",
   "execution_count": 22,
   "metadata": {},
   "outputs": [
    {
     "data": {
      "text/plain": [
       "24"
      ]
     },
     "execution_count": 22,
     "metadata": {},
     "output_type": "execute_result"
    }
   ],
   "source": [
    "# Maybe also the number of rings?\n",
    "ring_count = 0\n",
    "for i in range(len(atomlist)):\n",
    "    if molecule.GetAtomWithIdx(0).IsInRing() == True:\n",
    "        ring_count += 1\n",
    "ring_count"
   ]
  },
  {
   "cell_type": "code",
   "execution_count": 23,
   "metadata": {
    "scrolled": false
   },
   "outputs": [
    {
     "name": "stdout",
     "output_type": "stream",
     "text": [
      "there are 637 molecules that have pce more than 10\n"
     ]
    },
    {
     "data": {
      "text/html": [
       "<div>\n",
       "<style scoped>\n",
       "    .dataframe tbody tr th:only-of-type {\n",
       "        vertical-align: middle;\n",
       "    }\n",
       "\n",
       "    .dataframe tbody tr th {\n",
       "        vertical-align: top;\n",
       "    }\n",
       "\n",
       "    .dataframe thead th {\n",
       "        text-align: right;\n",
       "    }\n",
       "</style>\n",
       "<table border=\"1\" class=\"dataframe\">\n",
       "  <thead>\n",
       "    <tr style=\"text-align: right;\">\n",
       "      <th></th>\n",
       "      <th>id</th>\n",
       "      <th>SMILES_str</th>\n",
       "      <th>stoich_str</th>\n",
       "      <th>mass</th>\n",
       "      <th>pce</th>\n",
       "      <th>voc</th>\n",
       "      <th>jsc</th>\n",
       "      <th>e_homo_alpha</th>\n",
       "      <th>e_gap_alpha</th>\n",
       "      <th>e_lumo_alpha</th>\n",
       "      <th>tmp_smiles_str</th>\n",
       "    </tr>\n",
       "  </thead>\n",
       "  <tbody>\n",
       "    <tr>\n",
       "      <th>89026</th>\n",
       "      <td>267487</td>\n",
       "      <td>C1C=Cc2[se]c3c4[SiH2]C(=Cc4c4nsnc4c3c12)c1cncc...</td>\n",
       "      <td>C18H9N5S2SeSi</td>\n",
       "      <td>466.4821</td>\n",
       "      <td>11.097939</td>\n",
       "      <td>0.835571</td>\n",
       "      <td>204.411996</td>\n",
       "      <td>-5.435571</td>\n",
       "      <td>1.435758</td>\n",
       "      <td>-3.999813</td>\n",
       "      <td>C1=Cc2[se]c3c4[SiH2]C(=Cc4c4nsnc4c3c2C1)c1cncc...</td>\n",
       "    </tr>\n",
       "    <tr>\n",
       "      <th>48713</th>\n",
       "      <td>1852537</td>\n",
       "      <td>[SiH2]1C=c2c3cc(C4=CC=C[SiH2]4)c4nsnc4c3c3c4ns...</td>\n",
       "      <td>C24H14N4S2Si2</td>\n",
       "      <td>478.7066</td>\n",
       "      <td>11.089069</td>\n",
       "      <td>0.828104</td>\n",
       "      <td>206.090379</td>\n",
       "      <td>-5.428104</td>\n",
       "      <td>1.428751</td>\n",
       "      <td>-3.999353</td>\n",
       "      <td>C1=CC=C([SiH2]1)c1cc2c(c3nsnc13)c1c3nsnc3c3ccc...</td>\n",
       "    </tr>\n",
       "    <tr>\n",
       "      <th>87897</th>\n",
       "      <td>1541661</td>\n",
       "      <td>[SiH2]1C=Cc2[se]c3c(sc4cc([se]c34)-c3cncc4nsnc...</td>\n",
       "      <td>C15H7N3S2Se2Si</td>\n",
       "      <td>479.3793</td>\n",
       "      <td>11.084254</td>\n",
       "      <td>0.854591</td>\n",
       "      <td>199.616078</td>\n",
       "      <td>-5.454591</td>\n",
       "      <td>1.455117</td>\n",
       "      <td>-3.999474</td>\n",
       "      <td>C1=Cc2[se]c3c(sc4cc([se]c34)-c3cncc4nsnc34)c2[...</td>\n",
       "    </tr>\n",
       "    <tr>\n",
       "      <th>20301</th>\n",
       "      <td>2930157</td>\n",
       "      <td>C1C=CC=C1c1cc2c3nsnc3c3c4c5nsnc5ccc4c4=C[SiH2]...</td>\n",
       "      <td>C24H13N5S2Si</td>\n",
       "      <td>463.6197</td>\n",
       "      <td>11.064108</td>\n",
       "      <td>0.851306</td>\n",
       "      <td>200.022349</td>\n",
       "      <td>-5.451306</td>\n",
       "      <td>1.452847</td>\n",
       "      <td>-3.998458</td>\n",
       "      <td>C1=CC=C(C1)c1cc2c3nsnc3c3c4c5nsnc5ccc4c4=C[SiH...</td>\n",
       "    </tr>\n",
       "    <tr>\n",
       "      <th>67356</th>\n",
       "      <td>1751105</td>\n",
       "      <td>[SiH2]1C=CC=C1c1cc2c3nsnc3c3c(sc4ccc5cscc5c34)...</td>\n",
       "      <td>C22H10N4S4Si</td>\n",
       "      <td>486.6990</td>\n",
       "      <td>11.063341</td>\n",
       "      <td>0.783588</td>\n",
       "      <td>217.293230</td>\n",
       "      <td>-5.383588</td>\n",
       "      <td>1.387194</td>\n",
       "      <td>-3.996394</td>\n",
       "      <td>C1=CC=C([SiH2]1)c1cc2c3nsnc3c3c(sc4ccc5cscc5c3...</td>\n",
       "    </tr>\n",
       "  </tbody>\n",
       "</table>\n",
       "</div>"
      ],
      "text/plain": [
       "            id                                         SMILES_str  \\\n",
       "89026   267487  C1C=Cc2[se]c3c4[SiH2]C(=Cc4c4nsnc4c3c12)c1cncc...   \n",
       "48713  1852537  [SiH2]1C=c2c3cc(C4=CC=C[SiH2]4)c4nsnc4c3c3c4ns...   \n",
       "87897  1541661  [SiH2]1C=Cc2[se]c3c(sc4cc([se]c34)-c3cncc4nsnc...   \n",
       "20301  2930157  C1C=CC=C1c1cc2c3nsnc3c3c4c5nsnc5ccc4c4=C[SiH2]...   \n",
       "67356  1751105  [SiH2]1C=CC=C1c1cc2c3nsnc3c3c(sc4ccc5cscc5c34)...   \n",
       "\n",
       "           stoich_str      mass        pce       voc         jsc  \\\n",
       "89026   C18H9N5S2SeSi  466.4821  11.097939  0.835571  204.411996   \n",
       "48713   C24H14N4S2Si2  478.7066  11.089069  0.828104  206.090379   \n",
       "87897  C15H7N3S2Se2Si  479.3793  11.084254  0.854591  199.616078   \n",
       "20301    C24H13N5S2Si  463.6197  11.064108  0.851306  200.022349   \n",
       "67356    C22H10N4S4Si  486.6990  11.063341  0.783588  217.293230   \n",
       "\n",
       "       e_homo_alpha  e_gap_alpha  e_lumo_alpha  \\\n",
       "89026     -5.435571     1.435758     -3.999813   \n",
       "48713     -5.428104     1.428751     -3.999353   \n",
       "87897     -5.454591     1.455117     -3.999474   \n",
       "20301     -5.451306     1.452847     -3.998458   \n",
       "67356     -5.383588     1.387194     -3.996394   \n",
       "\n",
       "                                          tmp_smiles_str  \n",
       "89026  C1=Cc2[se]c3c4[SiH2]C(=Cc4c4nsnc4c3c2C1)c1cncc...  \n",
       "48713  C1=CC=C([SiH2]1)c1cc2c(c3nsnc13)c1c3nsnc3c3ccc...  \n",
       "87897  C1=Cc2[se]c3c(sc4cc([se]c34)-c3cncc4nsnc34)c2[...  \n",
       "20301  C1=CC=C(C1)c1cc2c3nsnc3c3c4c5nsnc5ccc4c4=C[SiH...  \n",
       "67356  C1=CC=C([SiH2]1)c1cc2c3nsnc3c3c(sc4ccc5cscc5c3...  "
      ]
     },
     "execution_count": 23,
     "metadata": {},
     "output_type": "execute_result"
    }
   ],
   "source": [
    "# sort dataframe by descending pce value\n",
    "# extract molecules that have pce more than 10\n",
    "data_hipce = data.sort_values('pce', ascending=False)\n",
    "data_pce10 = data_hipce.loc[data_hipce['pce'] > 10]\n",
    "print('there are', len(data_pce10), 'molecules that have pce more than 10')\n",
    "data_pce10.head()"
   ]
  },
  {
   "cell_type": "code",
   "execution_count": 24,
   "metadata": {},
   "outputs": [
    {
     "data": {
      "text/plain": [
       "'C1C=Cc2[se]c3c4[SiH2]C(=Cc4c4nsnc4c3c12)c1cncc2nsnc12'"
      ]
     },
     "execution_count": 24,
     "metadata": {},
     "output_type": "execute_result"
    }
   ],
   "source": [
    "data_pce10['SMILES_str'].values[0]"
   ]
  },
  {
   "cell_type": "code",
   "execution_count": 25,
   "metadata": {},
   "outputs": [
    {
     "data": {
      "text/plain": [
       "13"
      ]
     },
     "execution_count": 25,
     "metadata": {},
     "output_type": "execute_result"
    }
   ],
   "source": [
    "from rdkit.Chem import rdFMCS\n",
    "mol1 = Chem.MolFromSmiles(data_pce10['SMILES_str'].values[0])\n",
    "mol2 = Chem.MolFromSmiles(data_pce10['SMILES_str'].values[1])\n",
    "mol3 = Chem.MolFromSmiles(data_pce10['SMILES_str'].values[2])\n",
    "mols = [mol1,mol2,mol3]\n",
    "res=rdFMCS.FindMCS(mols)\n",
    "res\n",
    "res.numAtoms"
   ]
  },
  {
   "cell_type": "code",
   "execution_count": 26,
   "metadata": {},
   "outputs": [
    {
     "data": {
      "text/plain": [
       "'[#6](:,-[#6]):,-[#6]:[#6]:[#6]:[#6]-,:[#6](:,-[#6]):[#6]1:[#7]:[#16]:[#7]:[#6]:1'"
      ]
     },
     "execution_count": 26,
     "metadata": {},
     "output_type": "execute_result"
    }
   ],
   "source": [
    "res.smartsString"
   ]
  },
  {
   "cell_type": "code",
   "execution_count": 43,
   "metadata": {},
   "outputs": [
    {
     "data": {
      "text/plain": [
       "'CCCCCCC(C)C1CN[SH]N1'"
      ]
     },
     "execution_count": 43,
     "metadata": {},
     "output_type": "execute_result"
    }
   ],
   "source": [
    "mcs = Chem.MolToSmiles(Chem.MolFromSmarts(res.smartsString))\n",
    "mcs = mcs.replace(':', '')\n",
    "mcs"
   ]
  },
  {
   "cell_type": "code",
   "execution_count": 46,
   "metadata": {},
   "outputs": [
    {
     "data": {
      "text/plain": [
       "<rdkit.Chem.rdchem.Mol at 0x11ff75850>"
      ]
     },
     "execution_count": 46,
     "metadata": {},
     "output_type": "execute_result"
    }
   ],
   "source": [
    "m = Chem.MolFromSmiles(mcs)\n",
    "m"
   ]
  },
  {
   "cell_type": "code",
   "execution_count": 45,
   "metadata": {},
   "outputs": [
    {
     "data": {
      "text/plain": [
       "0"
      ]
     },
     "execution_count": 45,
     "metadata": {},
     "output_type": "execute_result"
    }
   ],
   "source": [
    "AllChem.Compute2DCoords(m)"
   ]
  },
  {
   "cell_type": "markdown",
   "metadata": {},
   "source": [
    "# Draw Chemical Structual"
   ]
  },
  {
   "cell_type": "code",
   "execution_count": 62,
   "metadata": {},
   "outputs": [],
   "source": [
    "from rdkit.Chem.Draw import IPythonConsole\n",
    "from rdkit.Chem import Draw"
   ]
  },
  {
   "cell_type": "code",
   "execution_count": 48,
   "metadata": {},
   "outputs": [
    {
     "data": {
      "image/png": "[encoded data removed]",
      "text/plain": [
       "<rdkit.Chem.rdchem.Mol at 0x11ff75850>"
      ]
     },
     "execution_count": 48,
     "metadata": {},
     "output_type": "execute_result"
    }
   ],
   "source": [
    "m"
   ]
  },
  {
   "cell_type": "code",
   "execution_count": 50,
   "metadata": {},
   "outputs": [
    {
     "data": {
      "text/html": [
       "<div>\n",
       "<style scoped>\n",
       "    .dataframe tbody tr th:only-of-type {\n",
       "        vertical-align: middle;\n",
       "    }\n",
       "\n",
       "    .dataframe tbody tr th {\n",
       "        vertical-align: top;\n",
       "    }\n",
       "\n",
       "    .dataframe thead th {\n",
       "        text-align: right;\n",
       "    }\n",
       "</style>\n",
       "<table border=\"1\" class=\"dataframe\">\n",
       "  <thead>\n",
       "    <tr style=\"text-align: right;\">\n",
       "      <th></th>\n",
       "      <th>id</th>\n",
       "      <th>SMILES_str</th>\n",
       "      <th>stoich_str</th>\n",
       "      <th>mass</th>\n",
       "      <th>pce</th>\n",
       "      <th>voc</th>\n",
       "      <th>jsc</th>\n",
       "      <th>e_homo_alpha</th>\n",
       "      <th>e_gap_alpha</th>\n",
       "      <th>e_lumo_alpha</th>\n",
       "      <th>tmp_smiles_str</th>\n",
       "    </tr>\n",
       "  </thead>\n",
       "  <tbody>\n",
       "    <tr>\n",
       "      <th>0</th>\n",
       "      <td>655365</td>\n",
       "      <td>C1C=CC=C1c1cc2[se]c3c4occc4c4nsnc4c3c2cn1</td>\n",
       "      <td>C18H9N3OSSe</td>\n",
       "      <td>394.3151</td>\n",
       "      <td>5.161953</td>\n",
       "      <td>0.867601</td>\n",
       "      <td>91.567575</td>\n",
       "      <td>-5.467601</td>\n",
       "      <td>2.022944</td>\n",
       "      <td>-3.444656</td>\n",
       "      <td>C1=CC=C(C1)c1cc2[se]c3c4occc4c4nsnc4c3c2cn1</td>\n",
       "    </tr>\n",
       "    <tr>\n",
       "      <th>1</th>\n",
       "      <td>1245190</td>\n",
       "      <td>C1C=CC=C1c1cc2[se]c3c(ncc4ccccc34)c2c2=C[SiH2]...</td>\n",
       "      <td>C22H15NSeSi</td>\n",
       "      <td>400.4135</td>\n",
       "      <td>5.261398</td>\n",
       "      <td>0.504824</td>\n",
       "      <td>160.401549</td>\n",
       "      <td>-5.104824</td>\n",
       "      <td>1.630750</td>\n",
       "      <td>-3.474074</td>\n",
       "      <td>C1=CC=C(C1)c1cc2[se]c3c(ncc4ccccc34)c2c2=C[SiH...</td>\n",
       "    </tr>\n",
       "    <tr>\n",
       "      <th>2</th>\n",
       "      <td>21847</td>\n",
       "      <td>C1C=c2ccc3c4c[nH]cc4c4c5[SiH2]C(=Cc5oc4c3c2=C1...</td>\n",
       "      <td>C24H17NOSi</td>\n",
       "      <td>363.4903</td>\n",
       "      <td>0.000000</td>\n",
       "      <td>0.000000</td>\n",
       "      <td>197.474780</td>\n",
       "      <td>-4.539526</td>\n",
       "      <td>1.462158</td>\n",
       "      <td>-3.077368</td>\n",
       "      <td>C1=CC=C(C1)C1=Cc2oc3c(c2[SiH2]1)c1c[nH]cc1c1cc...</td>\n",
       "    </tr>\n",
       "    <tr>\n",
       "      <th>3</th>\n",
       "      <td>65553</td>\n",
       "      <td>[SiH2]1C=CC2=C1C=C([SiH2]2)C1=Cc2[se]ccc2[SiH2]1</td>\n",
       "      <td>C12H12SeSi3</td>\n",
       "      <td>319.4448</td>\n",
       "      <td>6.138294</td>\n",
       "      <td>0.630274</td>\n",
       "      <td>149.887545</td>\n",
       "      <td>-5.230274</td>\n",
       "      <td>1.682250</td>\n",
       "      <td>-3.548025</td>\n",
       "      <td>C1=CC2=C([SiH2]1)C=C([SiH2]2)C1=Cc2[se]ccc2[Si...</td>\n",
       "    </tr>\n",
       "    <tr>\n",
       "      <th>4</th>\n",
       "      <td>720918</td>\n",
       "      <td>C1C=c2c3ccsc3c3[se]c4cc(oc4c3c2=C1)C1=CC=CC1</td>\n",
       "      <td>C20H12OSSe</td>\n",
       "      <td>379.3398</td>\n",
       "      <td>1.991366</td>\n",
       "      <td>0.242119</td>\n",
       "      <td>126.581347</td>\n",
       "      <td>-4.842119</td>\n",
       "      <td>1.809439</td>\n",
       "      <td>-3.032680</td>\n",
       "      <td>C1=CC=C(C1)c1cc2[se]c3c4sccc4c4=CCC=c4c3c2o1</td>\n",
       "    </tr>\n",
       "  </tbody>\n",
       "</table>\n",
       "</div>"
      ],
      "text/plain": [
       "        id                                         SMILES_str   stoich_str  \\\n",
       "0   655365          C1C=CC=C1c1cc2[se]c3c4occc4c4nsnc4c3c2cn1  C18H9N3OSSe   \n",
       "1  1245190  C1C=CC=C1c1cc2[se]c3c(ncc4ccccc34)c2c2=C[SiH2]...  C22H15NSeSi   \n",
       "2    21847  C1C=c2ccc3c4c[nH]cc4c4c5[SiH2]C(=Cc5oc4c3c2=C1...   C24H17NOSi   \n",
       "3    65553   [SiH2]1C=CC2=C1C=C([SiH2]2)C1=Cc2[se]ccc2[SiH2]1  C12H12SeSi3   \n",
       "4   720918       C1C=c2c3ccsc3c3[se]c4cc(oc4c3c2=C1)C1=CC=CC1   C20H12OSSe   \n",
       "\n",
       "       mass       pce       voc         jsc  e_homo_alpha  e_gap_alpha  \\\n",
       "0  394.3151  5.161953  0.867601   91.567575     -5.467601     2.022944   \n",
       "1  400.4135  5.261398  0.504824  160.401549     -5.104824     1.630750   \n",
       "2  363.4903  0.000000  0.000000  197.474780     -4.539526     1.462158   \n",
       "3  319.4448  6.138294  0.630274  149.887545     -5.230274     1.682250   \n",
       "4  379.3398  1.991366  0.242119  126.581347     -4.842119     1.809439   \n",
       "\n",
       "   e_lumo_alpha                                     tmp_smiles_str  \n",
       "0     -3.444656        C1=CC=C(C1)c1cc2[se]c3c4occc4c4nsnc4c3c2cn1  \n",
       "1     -3.474074  C1=CC=C(C1)c1cc2[se]c3c(ncc4ccccc34)c2c2=C[SiH...  \n",
       "2     -3.077368  C1=CC=C(C1)C1=Cc2oc3c(c2[SiH2]1)c1c[nH]cc1c1cc...  \n",
       "3     -3.548025  C1=CC2=C([SiH2]1)C=C([SiH2]2)C1=Cc2[se]ccc2[Si...  \n",
       "4     -3.032680       C1=CC=C(C1)c1cc2[se]c3c4sccc4c4=CCC=c4c3c2o1  "
      ]
     },
     "execution_count": 50,
     "metadata": {},
     "output_type": "execute_result"
    }
   ],
   "source": [
    "data.head()"
   ]
  },
  {
   "cell_type": "code",
   "execution_count": 55,
   "metadata": {},
   "outputs": [],
   "source": [
    "data['structure'] = \"\""
   ]
  },
  {
   "cell_type": "code",
   "execution_count": 56,
   "metadata": {},
   "outputs": [
    {
     "data": {
      "text/html": [
       "<div>\n",
       "<style scoped>\n",
       "    .dataframe tbody tr th:only-of-type {\n",
       "        vertical-align: middle;\n",
       "    }\n",
       "\n",
       "    .dataframe tbody tr th {\n",
       "        vertical-align: top;\n",
       "    }\n",
       "\n",
       "    .dataframe thead th {\n",
       "        text-align: right;\n",
       "    }\n",
       "</style>\n",
       "<table border=\"1\" class=\"dataframe\">\n",
       "  <thead>\n",
       "    <tr style=\"text-align: right;\">\n",
       "      <th></th>\n",
       "      <th>id</th>\n",
       "      <th>SMILES_str</th>\n",
       "      <th>stoich_str</th>\n",
       "      <th>mass</th>\n",
       "      <th>pce</th>\n",
       "      <th>voc</th>\n",
       "      <th>jsc</th>\n",
       "      <th>e_homo_alpha</th>\n",
       "      <th>e_gap_alpha</th>\n",
       "      <th>e_lumo_alpha</th>\n",
       "      <th>tmp_smiles_str</th>\n",
       "      <th>structure</th>\n",
       "    </tr>\n",
       "  </thead>\n",
       "  <tbody>\n",
       "    <tr>\n",
       "      <th>0</th>\n",
       "      <td>655365</td>\n",
       "      <td>C1C=CC=C1c1cc2[se]c3c4occc4c4nsnc4c3c2cn1</td>\n",
       "      <td>C18H9N3OSSe</td>\n",
       "      <td>394.3151</td>\n",
       "      <td>5.161953</td>\n",
       "      <td>0.867601</td>\n",
       "      <td>91.567575</td>\n",
       "      <td>-5.467601</td>\n",
       "      <td>2.022944</td>\n",
       "      <td>-3.444656</td>\n",
       "      <td>C1=CC=C(C1)c1cc2[se]c3c4occc4c4nsnc4c3c2cn1</td>\n",
       "      <td></td>\n",
       "    </tr>\n",
       "    <tr>\n",
       "      <th>1</th>\n",
       "      <td>1245190</td>\n",
       "      <td>C1C=CC=C1c1cc2[se]c3c(ncc4ccccc34)c2c2=C[SiH2]...</td>\n",
       "      <td>C22H15NSeSi</td>\n",
       "      <td>400.4135</td>\n",
       "      <td>5.261398</td>\n",
       "      <td>0.504824</td>\n",
       "      <td>160.401549</td>\n",
       "      <td>-5.104824</td>\n",
       "      <td>1.630750</td>\n",
       "      <td>-3.474074</td>\n",
       "      <td>C1=CC=C(C1)c1cc2[se]c3c(ncc4ccccc34)c2c2=C[SiH...</td>\n",
       "      <td></td>\n",
       "    </tr>\n",
       "    <tr>\n",
       "      <th>2</th>\n",
       "      <td>21847</td>\n",
       "      <td>C1C=c2ccc3c4c[nH]cc4c4c5[SiH2]C(=Cc5oc4c3c2=C1...</td>\n",
       "      <td>C24H17NOSi</td>\n",
       "      <td>363.4903</td>\n",
       "      <td>0.000000</td>\n",
       "      <td>0.000000</td>\n",
       "      <td>197.474780</td>\n",
       "      <td>-4.539526</td>\n",
       "      <td>1.462158</td>\n",
       "      <td>-3.077368</td>\n",
       "      <td>C1=CC=C(C1)C1=Cc2oc3c(c2[SiH2]1)c1c[nH]cc1c1cc...</td>\n",
       "      <td></td>\n",
       "    </tr>\n",
       "    <tr>\n",
       "      <th>3</th>\n",
       "      <td>65553</td>\n",
       "      <td>[SiH2]1C=CC2=C1C=C([SiH2]2)C1=Cc2[se]ccc2[SiH2]1</td>\n",
       "      <td>C12H12SeSi3</td>\n",
       "      <td>319.4448</td>\n",
       "      <td>6.138294</td>\n",
       "      <td>0.630274</td>\n",
       "      <td>149.887545</td>\n",
       "      <td>-5.230274</td>\n",
       "      <td>1.682250</td>\n",
       "      <td>-3.548025</td>\n",
       "      <td>C1=CC2=C([SiH2]1)C=C([SiH2]2)C1=Cc2[se]ccc2[Si...</td>\n",
       "      <td></td>\n",
       "    </tr>\n",
       "    <tr>\n",
       "      <th>4</th>\n",
       "      <td>720918</td>\n",
       "      <td>C1C=c2c3ccsc3c3[se]c4cc(oc4c3c2=C1)C1=CC=CC1</td>\n",
       "      <td>C20H12OSSe</td>\n",
       "      <td>379.3398</td>\n",
       "      <td>1.991366</td>\n",
       "      <td>0.242119</td>\n",
       "      <td>126.581347</td>\n",
       "      <td>-4.842119</td>\n",
       "      <td>1.809439</td>\n",
       "      <td>-3.032680</td>\n",
       "      <td>C1=CC=C(C1)c1cc2[se]c3c4sccc4c4=CCC=c4c3c2o1</td>\n",
       "      <td></td>\n",
       "    </tr>\n",
       "  </tbody>\n",
       "</table>\n",
       "</div>"
      ],
      "text/plain": [
       "        id                                         SMILES_str   stoich_str  \\\n",
       "0   655365          C1C=CC=C1c1cc2[se]c3c4occc4c4nsnc4c3c2cn1  C18H9N3OSSe   \n",
       "1  1245190  C1C=CC=C1c1cc2[se]c3c(ncc4ccccc34)c2c2=C[SiH2]...  C22H15NSeSi   \n",
       "2    21847  C1C=c2ccc3c4c[nH]cc4c4c5[SiH2]C(=Cc5oc4c3c2=C1...   C24H17NOSi   \n",
       "3    65553   [SiH2]1C=CC2=C1C=C([SiH2]2)C1=Cc2[se]ccc2[SiH2]1  C12H12SeSi3   \n",
       "4   720918       C1C=c2c3ccsc3c3[se]c4cc(oc4c3c2=C1)C1=CC=CC1   C20H12OSSe   \n",
       "\n",
       "       mass       pce       voc         jsc  e_homo_alpha  e_gap_alpha  \\\n",
       "0  394.3151  5.161953  0.867601   91.567575     -5.467601     2.022944   \n",
       "1  400.4135  5.261398  0.504824  160.401549     -5.104824     1.630750   \n",
       "2  363.4903  0.000000  0.000000  197.474780     -4.539526     1.462158   \n",
       "3  319.4448  6.138294  0.630274  149.887545     -5.230274     1.682250   \n",
       "4  379.3398  1.991366  0.242119  126.581347     -4.842119     1.809439   \n",
       "\n",
       "   e_lumo_alpha                                     tmp_smiles_str structure  \n",
       "0     -3.444656        C1=CC=C(C1)c1cc2[se]c3c4occc4c4nsnc4c3c2cn1            \n",
       "1     -3.474074  C1=CC=C(C1)c1cc2[se]c3c(ncc4ccccc34)c2c2=C[SiH...            \n",
       "2     -3.077368  C1=CC=C(C1)C1=Cc2oc3c(c2[SiH2]1)c1c[nH]cc1c1cc...            \n",
       "3     -3.548025  C1=CC2=C([SiH2]1)C=C([SiH2]2)C1=Cc2[se]ccc2[Si...            \n",
       "4     -3.032680       C1=CC=C(C1)c1cc2[se]c3c4sccc4c4=CCC=c4c3c2o1            "
      ]
     },
     "execution_count": 56,
     "metadata": {},
     "output_type": "execute_result"
    }
   ],
   "source": [
    "data.head()"
   ]
  },
  {
   "cell_type": "code",
   "execution_count": 57,
   "metadata": {},
   "outputs": [],
   "source": [
    "for i in range(5):\n",
    "    data['structure'].values[i] = Chem.MolFromSmiles(data['SMILES_str'].values[i])"
   ]
  },
  {
   "cell_type": "code",
   "execution_count": 63,
   "metadata": {},
   "outputs": [
    {
     "data": {
      "text/html": [
       "<div>\n",
       "<style scoped>\n",
       "    .dataframe tbody tr th:only-of-type {\n",
       "        vertical-align: middle;\n",
       "    }\n",
       "\n",
       "    .dataframe tbody tr th {\n",
       "        vertical-align: top;\n",
       "    }\n",
       "\n",
       "    .dataframe thead th {\n",
       "        text-align: right;\n",
       "    }\n",
       "</style>\n",
       "<table border=\"1\" class=\"dataframe\">\n",
       "  <thead>\n",
       "    <tr style=\"text-align: right;\">\n",
       "      <th></th>\n",
       "      <th>id</th>\n",
       "      <th>SMILES_str</th>\n",
       "      <th>stoich_str</th>\n",
       "      <th>mass</th>\n",
       "      <th>pce</th>\n",
       "      <th>voc</th>\n",
       "      <th>jsc</th>\n",
       "      <th>e_homo_alpha</th>\n",
       "      <th>e_gap_alpha</th>\n",
       "      <th>e_lumo_alpha</th>\n",
       "      <th>tmp_smiles_str</th>\n",
       "      <th>structure</th>\n",
       "    </tr>\n",
       "  </thead>\n",
       "  <tbody>\n",
       "    <tr>\n",
       "      <th>0</th>\n",
       "      <td>655365</td>\n",
       "      <td>C1C=CC=C1c1cc2[se]c3c4occc4c4nsnc4c3c2cn1</td>\n",
       "      <td>C18H9N3OSSe</td>\n",
       "      <td>394.3151</td>\n",
       "      <td>5.161953</td>\n",
       "      <td>0.867601</td>\n",
       "      <td>91.567575</td>\n",
       "      <td>-5.467601</td>\n",
       "      <td>2.022944</td>\n",
       "      <td>-3.444656</td>\n",
       "      <td>C1=CC=C(C1)c1cc2[se]c3c4occc4c4nsnc4c3c2cn1</td>\n",
       "      <td>&lt;rdkit.Chem.rdchem.Mol object at 0x1204c7530&gt;</td>\n",
       "    </tr>\n",
       "    <tr>\n",
       "      <th>1</th>\n",
       "      <td>1245190</td>\n",
       "      <td>C1C=CC=C1c1cc2[se]c3c(ncc4ccccc34)c2c2=C[SiH2]...</td>\n",
       "      <td>C22H15NSeSi</td>\n",
       "      <td>400.4135</td>\n",
       "      <td>5.261398</td>\n",
       "      <td>0.504824</td>\n",
       "      <td>160.401549</td>\n",
       "      <td>-5.104824</td>\n",
       "      <td>1.630750</td>\n",
       "      <td>-3.474074</td>\n",
       "      <td>C1=CC=C(C1)c1cc2[se]c3c(ncc4ccccc34)c2c2=C[SiH...</td>\n",
       "      <td>&lt;rdkit.Chem.rdchem.Mol object at 0x120510e90&gt;</td>\n",
       "    </tr>\n",
       "    <tr>\n",
       "      <th>2</th>\n",
       "      <td>21847</td>\n",
       "      <td>C1C=c2ccc3c4c[nH]cc4c4c5[SiH2]C(=Cc5oc4c3c2=C1...</td>\n",
       "      <td>C24H17NOSi</td>\n",
       "      <td>363.4903</td>\n",
       "      <td>0.000000</td>\n",
       "      <td>0.000000</td>\n",
       "      <td>197.474780</td>\n",
       "      <td>-4.539526</td>\n",
       "      <td>1.462158</td>\n",
       "      <td>-3.077368</td>\n",
       "      <td>C1=CC=C(C1)C1=Cc2oc3c(c2[SiH2]1)c1c[nH]cc1c1cc...</td>\n",
       "      <td>&lt;rdkit.Chem.rdchem.Mol object at 0x120510ee0&gt;</td>\n",
       "    </tr>\n",
       "    <tr>\n",
       "      <th>3</th>\n",
       "      <td>65553</td>\n",
       "      <td>[SiH2]1C=CC2=C1C=C([SiH2]2)C1=Cc2[se]ccc2[SiH2]1</td>\n",
       "      <td>C12H12SeSi3</td>\n",
       "      <td>319.4448</td>\n",
       "      <td>6.138294</td>\n",
       "      <td>0.630274</td>\n",
       "      <td>149.887545</td>\n",
       "      <td>-5.230274</td>\n",
       "      <td>1.682250</td>\n",
       "      <td>-3.548025</td>\n",
       "      <td>C1=CC2=C([SiH2]1)C=C([SiH2]2)C1=Cc2[se]ccc2[Si...</td>\n",
       "      <td>&lt;rdkit.Chem.rdchem.Mol object at 0x120510f30&gt;</td>\n",
       "    </tr>\n",
       "    <tr>\n",
       "      <th>4</th>\n",
       "      <td>720918</td>\n",
       "      <td>C1C=c2c3ccsc3c3[se]c4cc(oc4c3c2=C1)C1=CC=CC1</td>\n",
       "      <td>C20H12OSSe</td>\n",
       "      <td>379.3398</td>\n",
       "      <td>1.991366</td>\n",
       "      <td>0.242119</td>\n",
       "      <td>126.581347</td>\n",
       "      <td>-4.842119</td>\n",
       "      <td>1.809439</td>\n",
       "      <td>-3.032680</td>\n",
       "      <td>C1=CC=C(C1)c1cc2[se]c3c4sccc4c4=CCC=c4c3c2o1</td>\n",
       "      <td>&lt;rdkit.Chem.rdchem.Mol object at 0x120510f80&gt;</td>\n",
       "    </tr>\n",
       "  </tbody>\n",
       "</table>\n",
       "</div>"
      ],
      "text/plain": [
       "        id                                         SMILES_str   stoich_str  \\\n",
       "0   655365          C1C=CC=C1c1cc2[se]c3c4occc4c4nsnc4c3c2cn1  C18H9N3OSSe   \n",
       "1  1245190  C1C=CC=C1c1cc2[se]c3c(ncc4ccccc34)c2c2=C[SiH2]...  C22H15NSeSi   \n",
       "2    21847  C1C=c2ccc3c4c[nH]cc4c4c5[SiH2]C(=Cc5oc4c3c2=C1...   C24H17NOSi   \n",
       "3    65553   [SiH2]1C=CC2=C1C=C([SiH2]2)C1=Cc2[se]ccc2[SiH2]1  C12H12SeSi3   \n",
       "4   720918       C1C=c2c3ccsc3c3[se]c4cc(oc4c3c2=C1)C1=CC=CC1   C20H12OSSe   \n",
       "\n",
       "       mass       pce       voc         jsc  e_homo_alpha  e_gap_alpha  \\\n",
       "0  394.3151  5.161953  0.867601   91.567575     -5.467601     2.022944   \n",
       "1  400.4135  5.261398  0.504824  160.401549     -5.104824     1.630750   \n",
       "2  363.4903  0.000000  0.000000  197.474780     -4.539526     1.462158   \n",
       "3  319.4448  6.138294  0.630274  149.887545     -5.230274     1.682250   \n",
       "4  379.3398  1.991366  0.242119  126.581347     -4.842119     1.809439   \n",
       "\n",
       "   e_lumo_alpha                                     tmp_smiles_str  \\\n",
       "0     -3.444656        C1=CC=C(C1)c1cc2[se]c3c4occc4c4nsnc4c3c2cn1   \n",
       "1     -3.474074  C1=CC=C(C1)c1cc2[se]c3c(ncc4ccccc34)c2c2=C[SiH...   \n",
       "2     -3.077368  C1=CC=C(C1)C1=Cc2oc3c(c2[SiH2]1)c1c[nH]cc1c1cc...   \n",
       "3     -3.548025  C1=CC2=C([SiH2]1)C=C([SiH2]2)C1=Cc2[se]ccc2[Si...   \n",
       "4     -3.032680       C1=CC=C(C1)c1cc2[se]c3c4sccc4c4=CCC=c4c3c2o1   \n",
       "\n",
       "                                       structure  \n",
       "0  <rdkit.Chem.rdchem.Mol object at 0x1204c7530>  \n",
       "1  <rdkit.Chem.rdchem.Mol object at 0x120510e90>  \n",
       "2  <rdkit.Chem.rdchem.Mol object at 0x120510ee0>  \n",
       "3  <rdkit.Chem.rdchem.Mol object at 0x120510f30>  \n",
       "4  <rdkit.Chem.rdchem.Mol object at 0x120510f80>  "
      ]
     },
     "execution_count": 63,
     "metadata": {},
     "output_type": "execute_result"
    }
   ],
   "source": [
    "data.head()"
   ]
  },
  {
   "cell_type": "code",
   "execution_count": 66,
   "metadata": {},
   "outputs": [
    {
     "data": {
      "image/png": "[encoded data removed]",
      "text/plain": [
       "<rdkit.Chem.rdchem.Mol at 0x1204c7530>"
      ]
     },
     "metadata": {},
     "output_type": "display_data"
    },
    {
     "data": {
      "image/png": "[encoded data removed]",
      "text/plain": [
       "<rdkit.Chem.rdchem.Mol at 0x120510e90>"
      ]
     },
     "metadata": {},
     "output_type": "display_data"
    },
    {
     "data": {
      "image/png": "[encoded data removed]",
      "text/plain": [
       "<rdkit.Chem.rdchem.Mol at 0x120510ee0>"
      ]
     },
     "metadata": {},
     "output_type": "display_data"
    },
    {
     "data": {
      "image/png": "[encoded data removed]",
      "text/plain": [
       "<rdkit.Chem.rdchem.Mol at 0x120510f30>"
      ]
     },
     "metadata": {},
     "output_type": "display_data"
    },
    {
     "data": {
      "image/png": "[encoded data removed]",
      "text/plain": [
       "<rdkit.Chem.rdchem.Mol at 0x120510f80>"
      ]
     },
     "metadata": {},
     "output_type": "display_data"
    }
   ],
   "source": [
    "for i in range(5):\n",
    "    display(data['structure'].values[i])"
   ]
  },
  {
   "cell_type": "markdown",
   "metadata": {},
   "source": [
    "# find all molecules contain sulfer only"
   ]
  },
  {
   "cell_type": "code",
   "execution_count": 80,
   "metadata": {},
   "outputs": [
    {
     "data": {
      "text/html": [
       "<div>\n",
       "<style scoped>\n",
       "    .dataframe tbody tr th:only-of-type {\n",
       "        vertical-align: middle;\n",
       "    }\n",
       "\n",
       "    .dataframe tbody tr th {\n",
       "        vertical-align: top;\n",
       "    }\n",
       "\n",
       "    .dataframe thead th {\n",
       "        text-align: right;\n",
       "    }\n",
       "</style>\n",
       "<table border=\"1\" class=\"dataframe\">\n",
       "  <thead>\n",
       "    <tr style=\"text-align: right;\">\n",
       "      <th></th>\n",
       "      <th>id</th>\n",
       "      <th>SMILES_str</th>\n",
       "      <th>stoich_str</th>\n",
       "      <th>mass</th>\n",
       "      <th>pce</th>\n",
       "      <th>voc</th>\n",
       "      <th>jsc</th>\n",
       "      <th>e_homo_alpha</th>\n",
       "      <th>e_gap_alpha</th>\n",
       "      <th>e_lumo_alpha</th>\n",
       "      <th>tmp_smiles_str</th>\n",
       "      <th>structure</th>\n",
       "    </tr>\n",
       "  </thead>\n",
       "  <tbody>\n",
       "    <tr>\n",
       "      <th>24</th>\n",
       "      <td>2359381</td>\n",
       "      <td>C1C=CC=C1C1=Cc2c(C1)c1c3cscc3c3ccc4nsnc4c3c1c1...</td>\n",
       "      <td>C26H14N2OS2</td>\n",
       "      <td>434.5416</td>\n",
       "      <td>4.112982</td>\n",
       "      <td>0.299549</td>\n",
       "      <td>211.318161</td>\n",
       "      <td>-4.899549</td>\n",
       "      <td>1.409229</td>\n",
       "      <td>-3.490319</td>\n",
       "      <td>C1=CC=C(C1)C1=Cc2c(C1)c1c3cscc3c3ccc4nsnc4c3c1...</td>\n",
       "      <td></td>\n",
       "    </tr>\n",
       "    <tr>\n",
       "      <th>30</th>\n",
       "      <td>131187</td>\n",
       "      <td>C1C=c2c3ccc4nsnc4c3c3cnc4C=C(Cc4c3c2=C1)C1=CC=CC1</td>\n",
       "      <td>C24H15N3S</td>\n",
       "      <td>377.4695</td>\n",
       "      <td>6.517681</td>\n",
       "      <td>0.691659</td>\n",
       "      <td>145.026911</td>\n",
       "      <td>-5.291659</td>\n",
       "      <td>1.706854</td>\n",
       "      <td>-3.584805</td>\n",
       "      <td>C1=CC=C(C1)C1=Cc2ncc3c(c2C1)c1=CCC=c1c1ccc2nsn...</td>\n",
       "      <td></td>\n",
       "    </tr>\n",
       "    <tr>\n",
       "      <th>40</th>\n",
       "      <td>912065</td>\n",
       "      <td>C1C=CC=C1C1=Cc2c(C1)c1sc3ccsc3c1c1cocc21</td>\n",
       "      <td>C20H12OS2</td>\n",
       "      <td>332.4458</td>\n",
       "      <td>1.822889</td>\n",
       "      <td>0.219556</td>\n",
       "      <td>127.779598</td>\n",
       "      <td>-4.819556</td>\n",
       "      <td>1.799819</td>\n",
       "      <td>-3.019738</td>\n",
       "      <td>C1=CC=C(C1)C1=Cc2c(C1)c1sc3ccsc3c1c1cocc21</td>\n",
       "      <td></td>\n",
       "    </tr>\n",
       "    <tr>\n",
       "      <th>49</th>\n",
       "      <td>2228382</td>\n",
       "      <td>C1C=CC=C1C1=Cc2ccc3c(c2C1)c1ccccc1c1ccc2cscc2c31</td>\n",
       "      <td>C28H18S</td>\n",
       "      <td>386.5162</td>\n",
       "      <td>2.493540</td>\n",
       "      <td>0.439489</td>\n",
       "      <td>87.320404</td>\n",
       "      <td>-5.039489</td>\n",
       "      <td>2.055788</td>\n",
       "      <td>-2.983701</td>\n",
       "      <td>C1=CC=C(C1)C1=Cc2ccc3c(c2C1)c1ccccc1c1ccc2cscc...</td>\n",
       "      <td></td>\n",
       "    </tr>\n",
       "    <tr>\n",
       "      <th>54</th>\n",
       "      <td>1010375</td>\n",
       "      <td>C1C=CC=C1C1=Cc2sc3c(cnc4cccnc34)c2C1</td>\n",
       "      <td>C18H12N2S</td>\n",
       "      <td>288.3728</td>\n",
       "      <td>2.987435</td>\n",
       "      <td>0.620208</td>\n",
       "      <td>74.132525</td>\n",
       "      <td>-5.220208</td>\n",
       "      <td>2.159418</td>\n",
       "      <td>-3.060790</td>\n",
       "      <td>C1=CC=C(C1)C1=Cc2sc3c(cnc4cccnc34)c2C1</td>\n",
       "      <td></td>\n",
       "    </tr>\n",
       "  </tbody>\n",
       "</table>\n",
       "</div>"
      ],
      "text/plain": [
       "         id                                         SMILES_str   stoich_str  \\\n",
       "24  2359381  C1C=CC=C1C1=Cc2c(C1)c1c3cscc3c3ccc4nsnc4c3c1c1...  C26H14N2OS2   \n",
       "30   131187  C1C=c2c3ccc4nsnc4c3c3cnc4C=C(Cc4c3c2=C1)C1=CC=CC1    C24H15N3S   \n",
       "40   912065           C1C=CC=C1C1=Cc2c(C1)c1sc3ccsc3c1c1cocc21    C20H12OS2   \n",
       "49  2228382   C1C=CC=C1C1=Cc2ccc3c(c2C1)c1ccccc1c1ccc2cscc2c31      C28H18S   \n",
       "54  1010375               C1C=CC=C1C1=Cc2sc3c(cnc4cccnc34)c2C1    C18H12N2S   \n",
       "\n",
       "        mass       pce       voc         jsc  e_homo_alpha  e_gap_alpha  \\\n",
       "24  434.5416  4.112982  0.299549  211.318161     -4.899549     1.409229   \n",
       "30  377.4695  6.517681  0.691659  145.026911     -5.291659     1.706854   \n",
       "40  332.4458  1.822889  0.219556  127.779598     -4.819556     1.799819   \n",
       "49  386.5162  2.493540  0.439489   87.320404     -5.039489     2.055788   \n",
       "54  288.3728  2.987435  0.620208   74.132525     -5.220208     2.159418   \n",
       "\n",
       "    e_lumo_alpha                                     tmp_smiles_str structure  \n",
       "24     -3.490319  C1=CC=C(C1)C1=Cc2c(C1)c1c3cscc3c3ccc4nsnc4c3c1...            \n",
       "30     -3.584805  C1=CC=C(C1)C1=Cc2ncc3c(c2C1)c1=CCC=c1c1ccc2nsn...            \n",
       "40     -3.019738         C1=CC=C(C1)C1=Cc2c(C1)c1sc3ccsc3c1c1cocc21            \n",
       "49     -2.983701  C1=CC=C(C1)C1=Cc2ccc3c(c2C1)c1ccccc1c1ccc2cscc...            \n",
       "54     -3.060790             C1=CC=C(C1)C1=Cc2sc3c(cnc4cccnc34)c2C1            "
      ]
     },
     "execution_count": 80,
     "metadata": {},
     "output_type": "execute_result"
    }
   ],
   "source": [
    "def sulfer(x):\n",
    "    if (x.find('S') != -1) & (x.find('Si') == -1) & (x.find('Se') == -1):\n",
    "        return True\n",
    "    else:\n",
    "        return False\n",
    "data_sulfer = data[[sulfer(x) for x in data['stoich_str']]]\n",
    "data_sulfer.head()"
   ]
  },
  {
   "cell_type": "code",
   "execution_count": 108,
   "metadata": {
    "scrolled": false
   },
   "outputs": [
    {
     "data": {
      "text/plain": [
       "0"
      ]
     },
     "metadata": {},
     "output_type": "display_data"
    },
    {
     "data": {
      "image/png": "[encoded data removed]",
      "text/plain": [
       "<rdkit.Chem.rdchem.Mol at 0x124597b20>"
      ]
     },
     "metadata": {},
     "output_type": "display_data"
    },
    {
     "data": {
      "text/plain": [
       "1"
      ]
     },
     "metadata": {},
     "output_type": "display_data"
    },
    {
     "data": {
      "image/png": "[encoded data removed]",
      "text/plain": [
       "<rdkit.Chem.rdchem.Mol at 0x124597e90>"
      ]
     },
     "metadata": {},
     "output_type": "display_data"
    },
    {
     "data": {
      "text/plain": [
       "2"
      ]
     },
     "metadata": {},
     "output_type": "display_data"
    },
    {
     "data": {
      "image/png": "[encoded data removed]",
      "text/plain": [
       "<rdkit.Chem.rdchem.Mol at 0x124597f30>"
      ]
     },
     "metadata": {},
     "output_type": "display_data"
    },
    {
     "data": {
      "text/plain": [
       "3"
      ]
     },
     "metadata": {},
     "output_type": "display_data"
    },
    {
     "data": {
      "image/png": "[encoded data removed]",
      "text/plain": [
       "<rdkit.Chem.rdchem.Mol at 0x124597c60>"
      ]
     },
     "metadata": {},
     "output_type": "display_data"
    },
    {
     "data": {
      "text/plain": [
       "4"
      ]
     },
     "metadata": {},
     "output_type": "display_data"
    },
    {
     "data": {
      "image/png": "[encoded data removed]",
      "text/plain": [
       "<rdkit.Chem.rdchem.Mol at 0x1245af030>"
      ]
     },
     "metadata": {},
     "output_type": "display_data"
    },
    {
     "data": {
      "text/plain": [
       "5"
      ]
     },
     "metadata": {},
     "output_type": "display_data"
    },
    {
     "data": {
      "image/png": "[encoded data removed]",
      "text/plain": [
       "<rdkit.Chem.rdchem.Mol at 0x1245af0d0>"
      ]
     },
     "metadata": {},
     "output_type": "display_data"
    },
    {
     "data": {
      "text/plain": [
       "6"
      ]
     },
     "metadata": {},
     "output_type": "display_data"
    },
    {
     "data": {
      "image/png": "[encoded data removed]",
      "text/plain": [
       "<rdkit.Chem.rdchem.Mol at 0x1245af080>"
      ]
     },
     "metadata": {},
     "output_type": "display_data"
    },
    {
     "data": {
      "text/plain": [
       "7"
      ]
     },
     "metadata": {},
     "output_type": "display_data"
    },
    {
     "data": {
      "image/png": "[encoded data removed]",
      "text/plain": [
       "<rdkit.Chem.rdchem.Mol at 0x1245af170>"
      ]
     },
     "metadata": {},
     "output_type": "display_data"
    },
    {
     "data": {
      "text/plain": [
       "8"
      ]
     },
     "metadata": {},
     "output_type": "display_data"
    },
    {
     "data": {
      "image/png": "[encoded data removed]",
      "text/plain": [
       "<rdkit.Chem.rdchem.Mol at 0x1245af1c0>"
      ]
     },
     "metadata": {},
     "output_type": "display_data"
    },
    {
     "data": {
      "text/plain": [
       "9"
      ]
     },
     "metadata": {},
     "output_type": "display_data"
    },
    {
     "data": {
      "image/png": "[encoded data removed]",
      "text/plain": [
       "<rdkit.Chem.rdchem.Mol at 0x1245af210>"
      ]
     },
     "metadata": {},
     "output_type": "display_data"
    }
   ],
   "source": [
    "for i in range(10):\n",
    "    data_sulfer['structure'].values[i] = Chem.MolFromSmiles(data_sulfer['SMILES_str'].values[i])\n",
    "    display(i, data_sulfer['structure'].values[i])"
   ]
  },
  {
   "cell_type": "code",
   "execution_count": 106,
   "metadata": {},
   "outputs": [
    {
     "data": {
      "text/html": [
       "<div>\n",
       "<style scoped>\n",
       "    .dataframe tbody tr th:only-of-type {\n",
       "        vertical-align: middle;\n",
       "    }\n",
       "\n",
       "    .dataframe tbody tr th {\n",
       "        vertical-align: top;\n",
       "    }\n",
       "\n",
       "    .dataframe thead th {\n",
       "        text-align: right;\n",
       "    }\n",
       "</style>\n",
       "<table border=\"1\" class=\"dataframe\">\n",
       "  <thead>\n",
       "    <tr style=\"text-align: right;\">\n",
       "      <th></th>\n",
       "      <th>id</th>\n",
       "      <th>SMILES_str</th>\n",
       "      <th>stoich_str</th>\n",
       "      <th>mass</th>\n",
       "      <th>pce</th>\n",
       "      <th>voc</th>\n",
       "      <th>jsc</th>\n",
       "      <th>e_homo_alpha</th>\n",
       "      <th>e_gap_alpha</th>\n",
       "      <th>e_lumo_alpha</th>\n",
       "      <th>tmp_smiles_str</th>\n",
       "      <th>structure</th>\n",
       "    </tr>\n",
       "  </thead>\n",
       "  <tbody>\n",
       "    <tr>\n",
       "      <th>24</th>\n",
       "      <td>2359381</td>\n",
       "      <td>C1C=CC=C1C1=Cc2c(C1)c1c3cscc3c3ccc4nsnc4c3c1c1...</td>\n",
       "      <td>C26H14N2OS2</td>\n",
       "      <td>434.5416</td>\n",
       "      <td>4.112982</td>\n",
       "      <td>0.299549</td>\n",
       "      <td>211.318161</td>\n",
       "      <td>-4.899549</td>\n",
       "      <td>1.409229</td>\n",
       "      <td>-3.490319</td>\n",
       "      <td>C1=CC=C(C1)C1=Cc2c(C1)c1c3cscc3c3ccc4nsnc4c3c1...</td>\n",
       "      <td></td>\n",
       "    </tr>\n",
       "    <tr>\n",
       "      <th>30</th>\n",
       "      <td>131187</td>\n",
       "      <td>C1C=c2c3ccc4nsnc4c3c3cnc4C=C(Cc4c3c2=C1)C1=CC=CC1</td>\n",
       "      <td>C24H15N3S</td>\n",
       "      <td>377.4695</td>\n",
       "      <td>6.517681</td>\n",
       "      <td>0.691659</td>\n",
       "      <td>145.026911</td>\n",
       "      <td>-5.291659</td>\n",
       "      <td>1.706854</td>\n",
       "      <td>-3.584805</td>\n",
       "      <td>C1=CC=C(C1)C1=Cc2ncc3c(c2C1)c1=CCC=c1c1ccc2nsn...</td>\n",
       "      <td></td>\n",
       "    </tr>\n",
       "    <tr>\n",
       "      <th>40</th>\n",
       "      <td>912065</td>\n",
       "      <td>C1C=CC=C1C1=Cc2c(C1)c1sc3ccsc3c1c1cocc21</td>\n",
       "      <td>C20H12OS2</td>\n",
       "      <td>332.4458</td>\n",
       "      <td>1.822889</td>\n",
       "      <td>0.219556</td>\n",
       "      <td>127.779598</td>\n",
       "      <td>-4.819556</td>\n",
       "      <td>1.799819</td>\n",
       "      <td>-3.019738</td>\n",
       "      <td>C1=CC=C(C1)C1=Cc2c(C1)c1sc3ccsc3c1c1cocc21</td>\n",
       "      <td></td>\n",
       "    </tr>\n",
       "    <tr>\n",
       "      <th>49</th>\n",
       "      <td>2228382</td>\n",
       "      <td>C1C=CC=C1C1=Cc2ccc3c(c2C1)c1ccccc1c1ccc2cscc2c31</td>\n",
       "      <td>C28H18S</td>\n",
       "      <td>386.5162</td>\n",
       "      <td>2.493540</td>\n",
       "      <td>0.439489</td>\n",
       "      <td>87.320404</td>\n",
       "      <td>-5.039489</td>\n",
       "      <td>2.055788</td>\n",
       "      <td>-2.983701</td>\n",
       "      <td>C1=CC=C(C1)C1=Cc2ccc3c(c2C1)c1ccccc1c1ccc2cscc...</td>\n",
       "      <td></td>\n",
       "    </tr>\n",
       "    <tr>\n",
       "      <th>54</th>\n",
       "      <td>1010375</td>\n",
       "      <td>C1C=CC=C1C1=Cc2sc3c(cnc4cccnc34)c2C1</td>\n",
       "      <td>C18H12N2S</td>\n",
       "      <td>288.3728</td>\n",
       "      <td>2.987435</td>\n",
       "      <td>0.620208</td>\n",
       "      <td>74.132525</td>\n",
       "      <td>-5.220208</td>\n",
       "      <td>2.159418</td>\n",
       "      <td>-3.060790</td>\n",
       "      <td>C1=CC=C(C1)C1=Cc2sc3c(cnc4cccnc34)c2C1</td>\n",
       "      <td></td>\n",
       "    </tr>\n",
       "    <tr>\n",
       "      <th>56</th>\n",
       "      <td>491698</td>\n",
       "      <td>C1C=CC=C1C1=Cc2c(C1)c1ncccc1c1nsnc21</td>\n",
       "      <td>C17H11N3S</td>\n",
       "      <td>289.3609</td>\n",
       "      <td>4.706792</td>\n",
       "      <td>0.714654</td>\n",
       "      <td>101.362420</td>\n",
       "      <td>-5.314654</td>\n",
       "      <td>1.957928</td>\n",
       "      <td>-3.356725</td>\n",
       "      <td>C1=CC=C(C1)C1=Cc2c(C1)c1ncccc1c1nsnc21</td>\n",
       "      <td></td>\n",
       "    </tr>\n",
       "    <tr>\n",
       "      <th>57</th>\n",
       "      <td>524469</td>\n",
       "      <td>C1C=CC=C1C1=Cc2c(C1)c1c3c[nH]cc3c3ccsc3c1c1c[n...</td>\n",
       "      <td>C24H16N2S</td>\n",
       "      <td>364.4704</td>\n",
       "      <td>0.000000</td>\n",
       "      <td>0.000000</td>\n",
       "      <td>140.537136</td>\n",
       "      <td>-4.410023</td>\n",
       "      <td>1.733767</td>\n",
       "      <td>-2.676256</td>\n",
       "      <td>C1=CC=C(C1)C1=Cc2c(C1)c1c3c[nH]cc3c3ccsc3c1c1c...</td>\n",
       "      <td></td>\n",
       "    </tr>\n",
       "    <tr>\n",
       "      <th>58</th>\n",
       "      <td>458935</td>\n",
       "      <td>C1C=CC=C1C1=Cc2c(C1)c1c3nsnc3c3ccccc3c1c1ccccc21</td>\n",
       "      <td>C26H16N2S</td>\n",
       "      <td>388.4924</td>\n",
       "      <td>4.275919</td>\n",
       "      <td>0.538884</td>\n",
       "      <td>122.118699</td>\n",
       "      <td>-5.138884</td>\n",
       "      <td>1.832176</td>\n",
       "      <td>-3.306707</td>\n",
       "      <td>C1=CC=C(C1)C1=Cc2c(C1)c1c3nsnc3c3ccccc3c1c1ccc...</td>\n",
       "      <td></td>\n",
       "    </tr>\n",
       "    <tr>\n",
       "      <th>71</th>\n",
       "      <td>1114349</td>\n",
       "      <td>C1C=CC2=C1C=C(C2)c1cc2ccccc2c2cscc12</td>\n",
       "      <td>C20H14S</td>\n",
       "      <td>286.3966</td>\n",
       "      <td>1.790937</td>\n",
       "      <td>0.329567</td>\n",
       "      <td>83.634150</td>\n",
       "      <td>-4.929567</td>\n",
       "      <td>2.080275</td>\n",
       "      <td>-2.849292</td>\n",
       "      <td>C1=CC2=C(C1)C=C(C2)c1cc2ccccc2c2cscc12</td>\n",
       "      <td></td>\n",
       "    </tr>\n",
       "    <tr>\n",
       "      <th>72</th>\n",
       "      <td>1048817</td>\n",
       "      <td>C1C=CC=C1C1=Cc2sc3c4occc4c4cocc4c3c2C1</td>\n",
       "      <td>C20H12O2S</td>\n",
       "      <td>316.3788</td>\n",
       "      <td>1.513968</td>\n",
       "      <td>0.208218</td>\n",
       "      <td>111.904241</td>\n",
       "      <td>-4.808218</td>\n",
       "      <td>1.890338</td>\n",
       "      <td>-2.917880</td>\n",
       "      <td>C1=CC=C(C1)C1=Cc2sc3c4occc4c4cocc4c3c2C1</td>\n",
       "      <td></td>\n",
       "    </tr>\n",
       "    <tr>\n",
       "      <th>73</th>\n",
       "      <td>688371</td>\n",
       "      <td>C1C=CC=C1C1=Cc2c(C1)c1sc3ccc4c[nH]cc4c3c1c1cscc21</td>\n",
       "      <td>C24H15NS2</td>\n",
       "      <td>381.5215</td>\n",
       "      <td>0.240373</td>\n",
       "      <td>0.025508</td>\n",
       "      <td>145.026911</td>\n",
       "      <td>-4.625508</td>\n",
       "      <td>1.707600</td>\n",
       "      <td>-2.917909</td>\n",
       "      <td>C1=CC=C(C1)C1=Cc2c(C1)c1sc3ccc4c[nH]cc4c3c1c1c...</td>\n",
       "      <td></td>\n",
       "    </tr>\n",
       "    <tr>\n",
       "      <th>95</th>\n",
       "      <td>1573164</td>\n",
       "      <td>C1C=CC=C1C1=Cc2c(C1)c1ncc3ccc4cscc4c3c1c1nsnc21</td>\n",
       "      <td>C23H13N3S2</td>\n",
       "      <td>395.5087</td>\n",
       "      <td>5.031834</td>\n",
       "      <td>0.587182</td>\n",
       "      <td>131.886805</td>\n",
       "      <td>-5.187182</td>\n",
       "      <td>1.778370</td>\n",
       "      <td>-3.408811</td>\n",
       "      <td>C1=CC=C(C1)C1=Cc2c(C1)c1ncc3ccc4cscc4c3c1c1nsnc21</td>\n",
       "      <td></td>\n",
       "    </tr>\n",
       "    <tr>\n",
       "      <th>102</th>\n",
       "      <td>1638728</td>\n",
       "      <td>C1C=CC=C1C1=Cc2ncc3c(c2C1)c1ccccc1c1ccc2nsnc2c31</td>\n",
       "      <td>C25H15N3S</td>\n",
       "      <td>389.4805</td>\n",
       "      <td>6.065053</td>\n",
       "      <td>0.732828</td>\n",
       "      <td>127.373814</td>\n",
       "      <td>-5.332828</td>\n",
       "      <td>1.804406</td>\n",
       "      <td>-3.528422</td>\n",
       "      <td>C1=CC=C(C1)C1=Cc2ncc3c(c2C1)c1ccccc1c1ccc2nsnc...</td>\n",
       "      <td></td>\n",
       "    </tr>\n",
       "    <tr>\n",
       "      <th>103</th>\n",
       "      <td>852297</td>\n",
       "      <td>C1C=CC=C1C1=Cc2c(C1)c1sc3ccc4cscc4c3c1c1nsnc21</td>\n",
       "      <td>C22H12N2S3</td>\n",
       "      <td>400.5488</td>\n",
       "      <td>4.899278</td>\n",
       "      <td>0.440149</td>\n",
       "      <td>171.308928</td>\n",
       "      <td>-5.040149</td>\n",
       "      <td>1.575764</td>\n",
       "      <td>-3.464385</td>\n",
       "      <td>C1=CC=C(C1)C1=Cc2c(C1)c1sc3ccc4cscc4c3c1c1nsnc21</td>\n",
       "      <td></td>\n",
       "    </tr>\n",
       "    <tr>\n",
       "      <th>108</th>\n",
       "      <td>1507696</td>\n",
       "      <td>C1C=c2c3ccsc3c3cnc4C=C(Cc4c3c2=C1)C1=CC=CC1</td>\n",
       "      <td>C22H15NS</td>\n",
       "      <td>325.4335</td>\n",
       "      <td>3.156527</td>\n",
       "      <td>0.556341</td>\n",
       "      <td>87.320404</td>\n",
       "      <td>-5.156341</td>\n",
       "      <td>2.054491</td>\n",
       "      <td>-3.101850</td>\n",
       "      <td>C1=CC=C(C1)C1=Cc2ncc3c4sccc4c4=CCC=c4c3c2C1</td>\n",
       "      <td></td>\n",
       "    </tr>\n",
       "    <tr>\n",
       "      <th>117</th>\n",
       "      <td>1507722</td>\n",
       "      <td>C1C=CC=C1C1=Cc2ccc3c(c2C1)c1nsnc1c1ccc2ccccc2c31</td>\n",
       "      <td>C26H16N2S</td>\n",
       "      <td>388.4924</td>\n",
       "      <td>4.131143</td>\n",
       "      <td>0.636067</td>\n",
       "      <td>99.957476</td>\n",
       "      <td>-5.236067</td>\n",
       "      <td>1.967292</td>\n",
       "      <td>-3.268775</td>\n",
       "      <td>C1=CC=C(C1)C1=Cc2ccc3c(c2C1)c1nsnc1c1ccc2ccccc...</td>\n",
       "      <td></td>\n",
       "    </tr>\n",
       "    <tr>\n",
       "      <th>121</th>\n",
       "      <td>1212832</td>\n",
       "      <td>C1C=CC=C1C1=Cc2sc3c4occc4c4cscc4c3c2C1</td>\n",
       "      <td>C20H12OS2</td>\n",
       "      <td>332.4458</td>\n",
       "      <td>1.574147</td>\n",
       "      <td>0.218269</td>\n",
       "      <td>110.994282</td>\n",
       "      <td>-4.818269</td>\n",
       "      <td>1.897197</td>\n",
       "      <td>-2.921072</td>\n",
       "      <td>C1=CC=C(C1)C1=Cc2sc3c4occc4c4cscc4c3c2C1</td>\n",
       "      <td></td>\n",
       "    </tr>\n",
       "    <tr>\n",
       "      <th>128</th>\n",
       "      <td>2785715</td>\n",
       "      <td>C1C=c2ccc3c4cscc4c4c5CC(=Cc5c5=CCC=c5c4c3c2=C1...</td>\n",
       "      <td>C30H20S</td>\n",
       "      <td>412.5540</td>\n",
       "      <td>0.054437</td>\n",
       "      <td>0.003659</td>\n",
       "      <td>228.939978</td>\n",
       "      <td>-4.603659</td>\n",
       "      <td>1.335265</td>\n",
       "      <td>-3.268394</td>\n",
       "      <td>C1=CC=C(C1)C1=Cc2c(C1)c1c3cscc3c3ccc4=CCC=c4c3...</td>\n",
       "      <td></td>\n",
       "    </tr>\n",
       "    <tr>\n",
       "      <th>147</th>\n",
       "      <td>1343990</td>\n",
       "      <td>C1C=CC=C1C1=Cc2c(C1)c1cnc3ccoc3c1c1nsnc21</td>\n",
       "      <td>C19H11N3OS</td>\n",
       "      <td>329.3819</td>\n",
       "      <td>5.610433</td>\n",
       "      <td>0.664188</td>\n",
       "      <td>130.002865</td>\n",
       "      <td>-5.264188</td>\n",
       "      <td>1.787720</td>\n",
       "      <td>-3.476468</td>\n",
       "      <td>C1=CC=C(C1)C1=Cc2c(C1)c1cnc3ccoc3c1c1nsnc21</td>\n",
       "      <td></td>\n",
       "    </tr>\n",
       "    <tr>\n",
       "      <th>155</th>\n",
       "      <td>213079</td>\n",
       "      <td>C1C=CC=C1C1=Cc2oc3ccc4cscc4c3c2C1</td>\n",
       "      <td>C18H12OS</td>\n",
       "      <td>276.3578</td>\n",
       "      <td>1.376525</td>\n",
       "      <td>0.195915</td>\n",
       "      <td>108.134318</td>\n",
       "      <td>-4.795915</td>\n",
       "      <td>1.914472</td>\n",
       "      <td>-2.881444</td>\n",
       "      <td>C1=CC=C(C1)C1=Cc2oc3ccc4cscc4c3c2C1</td>\n",
       "      <td></td>\n",
       "    </tr>\n",
       "    <tr>\n",
       "      <th>162</th>\n",
       "      <td>557624</td>\n",
       "      <td>C1C=CC=C1C1=Cc2c(C1)c1c3nsnc3ccc1c1cscc21</td>\n",
       "      <td>C20H12N2S2</td>\n",
       "      <td>344.4608</td>\n",
       "      <td>4.880905</td>\n",
       "      <td>0.431545</td>\n",
       "      <td>174.069062</td>\n",
       "      <td>-5.031545</td>\n",
       "      <td>1.564371</td>\n",
       "      <td>-3.467174</td>\n",
       "      <td>C1=CC=C(C1)C1=Cc2c(C1)c1c3nsnc3ccc1c1cscc21</td>\n",
       "      <td></td>\n",
       "    </tr>\n",
       "    <tr>\n",
       "      <th>172</th>\n",
       "      <td>879376</td>\n",
       "      <td>C1C=CC=C1C1=Cc2cc3c4nsnc4c4ccoc4c3cc2C1</td>\n",
       "      <td>C20H12N2OS</td>\n",
       "      <td>328.3938</td>\n",
       "      <td>3.269899</td>\n",
       "      <td>0.658959</td>\n",
       "      <td>76.370102</td>\n",
       "      <td>-5.258959</td>\n",
       "      <td>2.140288</td>\n",
       "      <td>-3.118671</td>\n",
       "      <td>C1=CC=C(C1)C1=Cc2cc3c4nsnc4c4ccoc4c3cc2C1</td>\n",
       "      <td></td>\n",
       "    </tr>\n",
       "    <tr>\n",
       "      <th>178</th>\n",
       "      <td>1573488</td>\n",
       "      <td>C1C=CC=C1C1=Cc2c(C1)c1c3cscc3c3C=CCc3c1c1c[nH]...</td>\n",
       "      <td>C25H17NS</td>\n",
       "      <td>363.4823</td>\n",
       "      <td>0.000000</td>\n",
       "      <td>0.000000</td>\n",
       "      <td>166.541080</td>\n",
       "      <td>-4.459471</td>\n",
       "      <td>1.596049</td>\n",
       "      <td>-2.863422</td>\n",
       "      <td>C1=CC=C(C1)C1=Cc2c(C1)c1c3cscc3c3C=CCc3c1c1c[n...</td>\n",
       "      <td></td>\n",
       "    </tr>\n",
       "    <tr>\n",
       "      <th>182</th>\n",
       "      <td>98963</td>\n",
       "      <td>C1C=c2c3C=C(Cc3c3sc4ccc5ccccc5c4c3c2=C1)C1=CC=CC1</td>\n",
       "      <td>C27H18S</td>\n",
       "      <td>374.5052</td>\n",
       "      <td>1.475387</td>\n",
       "      <td>0.129767</td>\n",
       "      <td>174.979659</td>\n",
       "      <td>-4.729767</td>\n",
       "      <td>1.561024</td>\n",
       "      <td>-3.168743</td>\n",
       "      <td>C1=CC=C(C1)C1=Cc2c(C1)c1sc3ccc4ccccc4c3c1c1=CC...</td>\n",
       "      <td></td>\n",
       "    </tr>\n",
       "    <tr>\n",
       "      <th>191</th>\n",
       "      <td>1213112</td>\n",
       "      <td>C1C=CC=C1C1=Cc2c(C1)c1sc3ccc4c[nH]cc4c3c1c1cocc21</td>\n",
       "      <td>C24H15NOS</td>\n",
       "      <td>365.4545</td>\n",
       "      <td>0.030265</td>\n",
       "      <td>0.003185</td>\n",
       "      <td>146.246545</td>\n",
       "      <td>-4.603185</td>\n",
       "      <td>1.700271</td>\n",
       "      <td>-2.902914</td>\n",
       "      <td>C1=CC=C(C1)C1=Cc2c(C1)c1sc3ccc4c[nH]cc4c3c1c1c...</td>\n",
       "      <td></td>\n",
       "    </tr>\n",
       "    <tr>\n",
       "      <th>208</th>\n",
       "      <td>2818815</td>\n",
       "      <td>C1C=CC=C1C1=Cc2c(C1)c1c3ccccc3c3ccc4nsnc4c3c1c...</td>\n",
       "      <td>C28H16N2S2</td>\n",
       "      <td>444.5804</td>\n",
       "      <td>4.277616</td>\n",
       "      <td>0.382211</td>\n",
       "      <td>172.244984</td>\n",
       "      <td>-4.982211</td>\n",
       "      <td>1.572650</td>\n",
       "      <td>-3.409560</td>\n",
       "      <td>C1=CC=C(C1)C1=Cc2c(C1)c1c3ccccc3c3ccc4nsnc4c3c...</td>\n",
       "      <td></td>\n",
       "    </tr>\n",
       "    <tr>\n",
       "      <th>216</th>\n",
       "      <td>328487</td>\n",
       "      <td>C1C=CC=C1C1=Cc2cc3c4nsnc4c4ccc5ccccc5c4c3cc2C1</td>\n",
       "      <td>C26H16N2S</td>\n",
       "      <td>388.4924</td>\n",
       "      <td>3.962940</td>\n",
       "      <td>0.694714</td>\n",
       "      <td>87.792861</td>\n",
       "      <td>-5.294714</td>\n",
       "      <td>2.051809</td>\n",
       "      <td>-3.242904</td>\n",
       "      <td>C1=CC=C(C1)C1=Cc2cc3c4nsnc4c4ccc5ccccc5c4c3cc2C1</td>\n",
       "      <td></td>\n",
       "    </tr>\n",
       "    <tr>\n",
       "      <th>226</th>\n",
       "      <td>1278790</td>\n",
       "      <td>C1C=CC=C1C1=Cc2c(C1)c1c3nsnc3c3ccsc3c1c1ccccc21</td>\n",
       "      <td>C24H14N2S2</td>\n",
       "      <td>394.5206</td>\n",
       "      <td>4.787674</td>\n",
       "      <td>0.499399</td>\n",
       "      <td>147.545131</td>\n",
       "      <td>-5.099399</td>\n",
       "      <td>1.692495</td>\n",
       "      <td>-3.406904</td>\n",
       "      <td>C1=CC=C(C1)C1=Cc2c(C1)c1c3nsnc3c3ccsc3c1c1ccccc21</td>\n",
       "      <td></td>\n",
       "    </tr>\n",
       "    <tr>\n",
       "      <th>229</th>\n",
       "      <td>197462</td>\n",
       "      <td>C1C=CC=C1C1=Cc2ncc3c(c2C1)c1nsnc1c1ccc2cscc2c31</td>\n",
       "      <td>C23H13N3S2</td>\n",
       "      <td>395.5087</td>\n",
       "      <td>5.656186</td>\n",
       "      <td>0.695816</td>\n",
       "      <td>125.105710</td>\n",
       "      <td>-5.295816</td>\n",
       "      <td>1.816707</td>\n",
       "      <td>-3.479109</td>\n",
       "      <td>C1=CC=C(C1)C1=Cc2ncc3c(c2C1)c1nsnc1c1ccc2cscc2c31</td>\n",
       "      <td></td>\n",
       "    </tr>\n",
       "    <tr>\n",
       "      <th>235</th>\n",
       "      <td>295787</td>\n",
       "      <td>C1C=CC=C1C1=Cc2c(C1)c1c3cocc3c3ccsc3c1c1nsnc21</td>\n",
       "      <td>C22H12N2OS2</td>\n",
       "      <td>384.4818</td>\n",
       "      <td>5.637249</td>\n",
       "      <td>0.471741</td>\n",
       "      <td>183.912464</td>\n",
       "      <td>-5.071741</td>\n",
       "      <td>1.522471</td>\n",
       "      <td>-3.549270</td>\n",
       "      <td>C1=CC=C(C1)C1=Cc2c(C1)c1c3cocc3c3ccsc3c1c1nsnc21</td>\n",
       "      <td></td>\n",
       "    </tr>\n",
       "    <tr>\n",
       "      <th>...</th>\n",
       "      <td>...</td>\n",
       "      <td>...</td>\n",
       "      <td>...</td>\n",
       "      <td>...</td>\n",
       "      <td>...</td>\n",
       "      <td>...</td>\n",
       "      <td>...</td>\n",
       "      <td>...</td>\n",
       "      <td>...</td>\n",
       "      <td>...</td>\n",
       "      <td>...</td>\n",
       "      <td>...</td>\n",
       "    </tr>\n",
       "    <tr>\n",
       "      <th>99848</th>\n",
       "      <td>2012228</td>\n",
       "      <td>C1C=c2c3cc(ccc3c3c4cscc4c4C=CCc4c3c2=C1)-c1scc...</td>\n",
       "      <td>C28H16OS2</td>\n",
       "      <td>432.5654</td>\n",
       "      <td>2.440368</td>\n",
       "      <td>0.295739</td>\n",
       "      <td>126.997355</td>\n",
       "      <td>-4.895739</td>\n",
       "      <td>1.805322</td>\n",
       "      <td>-3.090417</td>\n",
       "      <td>C1=Cc2c(C1)c1c(c3cscc23)c2ccc(cc2c2=CCC=c12)-c...</td>\n",
       "      <td></td>\n",
       "    </tr>\n",
       "    <tr>\n",
       "      <th>99855</th>\n",
       "      <td>2274411</td>\n",
       "      <td>C1C=c2c3cc(-c4ccccc4)c4cocc4c3c3c4nsnc4c4C=CCc...</td>\n",
       "      <td>C28H16N2OS</td>\n",
       "      <td>428.5134</td>\n",
       "      <td>5.516239</td>\n",
       "      <td>0.414429</td>\n",
       "      <td>204.852164</td>\n",
       "      <td>-5.014429</td>\n",
       "      <td>1.434828</td>\n",
       "      <td>-3.579601</td>\n",
       "      <td>C1=Cc2c(C1)c1c(c3nsnc23)c2c3cocc3c(cc2c2=CCC=c...</td>\n",
       "      <td></td>\n",
       "    </tr>\n",
       "    <tr>\n",
       "      <th>99856</th>\n",
       "      <td>210030</td>\n",
       "      <td>C1C=Cc2c1c1c(cc(-c3ccccc3)c3ccccc13)c1cscc21</td>\n",
       "      <td>C25H16S</td>\n",
       "      <td>348.4674</td>\n",
       "      <td>2.118345</td>\n",
       "      <td>0.595743</td>\n",
       "      <td>54.724947</td>\n",
       "      <td>-5.195743</td>\n",
       "      <td>2.337867</td>\n",
       "      <td>-2.857876</td>\n",
       "      <td>C1=Cc2c(C1)c1c(cc(-c3ccccc3)c3ccccc13)c1cscc21</td>\n",
       "      <td></td>\n",
       "    </tr>\n",
       "    <tr>\n",
       "      <th>99863</th>\n",
       "      <td>2471049</td>\n",
       "      <td>C1C=c2c3C=CCc3c3c(c4CC(=Cc4c4=CCC=c34)c3cccc4c...</td>\n",
       "      <td>C30H20S</td>\n",
       "      <td>412.5540</td>\n",
       "      <td>0.000000</td>\n",
       "      <td>0.000000</td>\n",
       "      <td>274.440461</td>\n",
       "      <td>-4.539191</td>\n",
       "      <td>1.154893</td>\n",
       "      <td>-3.384297</td>\n",
       "      <td>C1=Cc2c(C1)c1c(c3CC(=Cc3c3=CCC=c13)c1cccc3cscc...</td>\n",
       "      <td></td>\n",
       "    </tr>\n",
       "    <tr>\n",
       "      <th>99865</th>\n",
       "      <td>2110606</td>\n",
       "      <td>C1C=c2c3C=CCc3c3c(c4c5cocc5c(cc4c4=CCC=c34)-c3...</td>\n",
       "      <td>C29H18OS</td>\n",
       "      <td>414.5262</td>\n",
       "      <td>1.490332</td>\n",
       "      <td>0.103966</td>\n",
       "      <td>220.617815</td>\n",
       "      <td>-4.703966</td>\n",
       "      <td>1.372077</td>\n",
       "      <td>-3.331889</td>\n",
       "      <td>C1=Cc2c(C1)c1c(c3c4cocc4c(cc3c3=CCC=c13)-c1ccc...</td>\n",
       "      <td></td>\n",
       "    </tr>\n",
       "    <tr>\n",
       "      <th>99867</th>\n",
       "      <td>1782931</td>\n",
       "      <td>C1C=Cc2c1c1c(cc(-c3cccc4ccccc34)c3ccccc13)c1ns...</td>\n",
       "      <td>C27H16N2S</td>\n",
       "      <td>400.5034</td>\n",
       "      <td>4.189925</td>\n",
       "      <td>1.023732</td>\n",
       "      <td>62.989389</td>\n",
       "      <td>-5.623732</td>\n",
       "      <td>2.254690</td>\n",
       "      <td>-3.369043</td>\n",
       "      <td>C1=Cc2c(C1)c1c(cc(-c3cccc4ccccc34)c3ccccc13)c1...</td>\n",
       "      <td></td>\n",
       "    </tr>\n",
       "    <tr>\n",
       "      <th>99869</th>\n",
       "      <td>1586339</td>\n",
       "      <td>C1C=c2c3C=CCc3c3c(cc(-c4scc5ccsc45)c4=CCC=c34)...</td>\n",
       "      <td>C25H16S2</td>\n",
       "      <td>380.5334</td>\n",
       "      <td>0.719330</td>\n",
       "      <td>0.048026</td>\n",
       "      <td>230.517223</td>\n",
       "      <td>-4.648026</td>\n",
       "      <td>1.320057</td>\n",
       "      <td>-3.327969</td>\n",
       "      <td>C1=Cc2c(C1)c1c(cc(-c3scc4ccsc34)c3=CCC=c13)c1=...</td>\n",
       "      <td></td>\n",
       "    </tr>\n",
       "    <tr>\n",
       "      <th>99877</th>\n",
       "      <td>1094866</td>\n",
       "      <td>C1C=Cc2c1c1c3c[nH]cc3c(cc1c1c[nH]cc21)-c1cccs1</td>\n",
       "      <td>C21H14N2S</td>\n",
       "      <td>326.4216</td>\n",
       "      <td>0.000000</td>\n",
       "      <td>0.000000</td>\n",
       "      <td>83.180631</td>\n",
       "      <td>-4.519463</td>\n",
       "      <td>2.085448</td>\n",
       "      <td>-2.434015</td>\n",
       "      <td>C1=Cc2c(C1)c1c3c[nH]cc3c(cc1c1c[nH]cc21)-c1cccs1</td>\n",
       "      <td></td>\n",
       "    </tr>\n",
       "    <tr>\n",
       "      <th>99881</th>\n",
       "      <td>2471157</td>\n",
       "      <td>C1C=Cc2c1c1c3c[nH]cc3c3C=C(Cc3c1c1ccccc21)c1sc...</td>\n",
       "      <td>C28H17N3S</td>\n",
       "      <td>427.5293</td>\n",
       "      <td>2.065800</td>\n",
       "      <td>0.135757</td>\n",
       "      <td>234.192469</td>\n",
       "      <td>-4.735757</td>\n",
       "      <td>1.290776</td>\n",
       "      <td>-3.444981</td>\n",
       "      <td>C1=Cc2c(C1)c1c3c[nH]cc3c3C=C(Cc3c1c1ccccc21)c1...</td>\n",
       "      <td></td>\n",
       "    </tr>\n",
       "    <tr>\n",
       "      <th>99884</th>\n",
       "      <td>46339</td>\n",
       "      <td>C1C=Cc2c1c1c(cc(-c3scc4[nH]ccc34)c3ccccc13)c1c...</td>\n",
       "      <td>C25H15NOS</td>\n",
       "      <td>377.4655</td>\n",
       "      <td>1.538428</td>\n",
       "      <td>0.274057</td>\n",
       "      <td>86.393990</td>\n",
       "      <td>-4.874057</td>\n",
       "      <td>2.060784</td>\n",
       "      <td>-2.813273</td>\n",
       "      <td>C1=Cc2c(C1)c1c(cc(-c3scc4[nH]ccc34)c3ccccc13)c...</td>\n",
       "      <td></td>\n",
       "    </tr>\n",
       "    <tr>\n",
       "      <th>99892</th>\n",
       "      <td>1553700</td>\n",
       "      <td>C1C=Cc2c1c1c(cc(-c3scc4nccnc34)c3ccccc13)c1nsnc21</td>\n",
       "      <td>C23H12N4S2</td>\n",
       "      <td>408.5078</td>\n",
       "      <td>6.081133</td>\n",
       "      <td>0.910448</td>\n",
       "      <td>102.796143</td>\n",
       "      <td>-5.510448</td>\n",
       "      <td>1.948649</td>\n",
       "      <td>-3.561799</td>\n",
       "      <td>C1=Cc2c(C1)c1c(cc(-c3scc4nccnc34)c3ccccc13)c1n...</td>\n",
       "      <td></td>\n",
       "    </tr>\n",
       "    <tr>\n",
       "      <th>99893</th>\n",
       "      <td>2602278</td>\n",
       "      <td>C1C=c2c3cc(cnc3c3c4nsnc4c4C=CCc4c3c2=C1)-c1scc...</td>\n",
       "      <td>C25H13N3OS2</td>\n",
       "      <td>435.5297</td>\n",
       "      <td>6.334109</td>\n",
       "      <td>0.670305</td>\n",
       "      <td>145.432142</td>\n",
       "      <td>-5.270305</td>\n",
       "      <td>1.703649</td>\n",
       "      <td>-3.566657</td>\n",
       "      <td>C1=Cc2c(C1)c1c(c3nsnc23)c2ncc(cc2c2=CCC=c12)-c...</td>\n",
       "      <td></td>\n",
       "    </tr>\n",
       "    <tr>\n",
       "      <th>99894</th>\n",
       "      <td>1619249</td>\n",
       "      <td>C1C=c2c(cc3c4c[nH]cc4c4C=CCc4c3c2=C1)-c1scc2cc...</td>\n",
       "      <td>C24H15NS2</td>\n",
       "      <td>381.5215</td>\n",
       "      <td>0.000000</td>\n",
       "      <td>0.000000</td>\n",
       "      <td>160.027183</td>\n",
       "      <td>-4.572266</td>\n",
       "      <td>1.635659</td>\n",
       "      <td>-2.936607</td>\n",
       "      <td>C1=Cc2c(C1)c1c(cc(-c3scc4ccsc34)c3=CCC=c13)c1c...</td>\n",
       "      <td></td>\n",
       "    </tr>\n",
       "    <tr>\n",
       "      <th>99905</th>\n",
       "      <td>2930041</td>\n",
       "      <td>C1C=c2c3C=CCc3c3c(c4sc(cc4c4=CCC=c34)-c3cncc4n...</td>\n",
       "      <td>C26H15N3S2</td>\n",
       "      <td>433.5575</td>\n",
       "      <td>4.701190</td>\n",
       "      <td>0.222858</td>\n",
       "      <td>324.659531</td>\n",
       "      <td>-4.822858</td>\n",
       "      <td>0.969017</td>\n",
       "      <td>-3.853840</td>\n",
       "      <td>C1=Cc2c(C1)c1c(c3sc(cc3c3=CCC=c13)-c1cncc3nsnc...</td>\n",
       "      <td></td>\n",
       "    </tr>\n",
       "    <tr>\n",
       "      <th>99906</th>\n",
       "      <td>2438524</td>\n",
       "      <td>C1C=c2cccc(-c3cc4c(o3)c3c5cscc5c5C=CCc5c3c3=CC...</td>\n",
       "      <td>C29H18OS</td>\n",
       "      <td>414.5262</td>\n",
       "      <td>1.504509</td>\n",
       "      <td>0.119129</td>\n",
       "      <td>194.368238</td>\n",
       "      <td>-4.719129</td>\n",
       "      <td>1.475127</td>\n",
       "      <td>-3.244002</td>\n",
       "      <td>C1=Cc2c(C1)c1c(c3cscc23)c2oc(cc2c2=CCC=c12)-c1...</td>\n",
       "      <td></td>\n",
       "    </tr>\n",
       "    <tr>\n",
       "      <th>99908</th>\n",
       "      <td>1029510</td>\n",
       "      <td>C1C=c2c3cc(sc3c3c4nsnc4c4C=CCc4c3c2=C1)-c1cccnc1</td>\n",
       "      <td>C23H13N3S2</td>\n",
       "      <td>395.5087</td>\n",
       "      <td>7.351166</td>\n",
       "      <td>0.611547</td>\n",
       "      <td>185.000950</td>\n",
       "      <td>-5.211547</td>\n",
       "      <td>1.516209</td>\n",
       "      <td>-3.695338</td>\n",
       "      <td>C1=Cc2c(C1)c1c(c3nsnc23)c2sc(cc2c2=CCC=c12)-c1...</td>\n",
       "      <td></td>\n",
       "    </tr>\n",
       "    <tr>\n",
       "      <th>99911</th>\n",
       "      <td>2667915</td>\n",
       "      <td>C1C=c2c3cc(-c4ccccn4)c4cscc4c3c3c4cocc4c4C=CCc...</td>\n",
       "      <td>C29H17NOS</td>\n",
       "      <td>427.5253</td>\n",
       "      <td>2.633431</td>\n",
       "      <td>0.250935</td>\n",
       "      <td>161.513282</td>\n",
       "      <td>-4.850935</td>\n",
       "      <td>1.618910</td>\n",
       "      <td>-3.232025</td>\n",
       "      <td>C1=Cc2c(C1)c1c(c3cocc23)c2c3cscc3c(cc2c2=CCC=c...</td>\n",
       "      <td></td>\n",
       "    </tr>\n",
       "    <tr>\n",
       "      <th>99916</th>\n",
       "      <td>1979808</td>\n",
       "      <td>C1C=Cc2c1c1c3c[nH]cc3c3C=C(Cc3c1c1cocc21)c1scc...</td>\n",
       "      <td>C26H15NOS2</td>\n",
       "      <td>421.5425</td>\n",
       "      <td>0.000000</td>\n",
       "      <td>0.000000</td>\n",
       "      <td>165.583128</td>\n",
       "      <td>-4.511991</td>\n",
       "      <td>1.601396</td>\n",
       "      <td>-2.910594</td>\n",
       "      <td>C1=Cc2c(C1)c1c3c[nH]cc3c3C=C(Cc3c1c1cocc21)c1s...</td>\n",
       "      <td></td>\n",
       "    </tr>\n",
       "    <tr>\n",
       "      <th>99922</th>\n",
       "      <td>996793</td>\n",
       "      <td>C1C=Cc2c1c1c3c[nH]cc3c3C=C(Cc3c1c1cscc21)c1ccccc1</td>\n",
       "      <td>C26H17NS</td>\n",
       "      <td>375.4933</td>\n",
       "      <td>0.170630</td>\n",
       "      <td>0.019700</td>\n",
       "      <td>133.304759</td>\n",
       "      <td>-4.619700</td>\n",
       "      <td>1.769625</td>\n",
       "      <td>-2.850075</td>\n",
       "      <td>C1=Cc2c(C1)c1c3c[nH]cc3c3C=C(Cc3c1c1cscc21)c1c...</td>\n",
       "      <td></td>\n",
       "    </tr>\n",
       "    <tr>\n",
       "      <th>99926</th>\n",
       "      <td>2536899</td>\n",
       "      <td>C1C=Cc2c1c1c3c[nH]cc3c3C=C(Cc3c1c1c[nH]cc21)c1...</td>\n",
       "      <td>C26H17N3S</td>\n",
       "      <td>403.5073</td>\n",
       "      <td>0.000000</td>\n",
       "      <td>0.000000</td>\n",
       "      <td>155.653365</td>\n",
       "      <td>-4.249107</td>\n",
       "      <td>1.655263</td>\n",
       "      <td>-2.593843</td>\n",
       "      <td>C1=Cc2c(C1)c1c3c[nH]cc3c3C=C(Cc3c1c1c[nH]cc21)...</td>\n",
       "      <td></td>\n",
       "    </tr>\n",
       "    <tr>\n",
       "      <th>99936</th>\n",
       "      <td>1291800</td>\n",
       "      <td>C1C=Cc2c1c1c3c[nH]cc3c(cc1c1nsnc21)-c1scc2nccnc12</td>\n",
       "      <td>C21H11N5S2</td>\n",
       "      <td>397.4849</td>\n",
       "      <td>5.503338</td>\n",
       "      <td>0.484046</td>\n",
       "      <td>174.979659</td>\n",
       "      <td>-5.084046</td>\n",
       "      <td>1.559740</td>\n",
       "      <td>-3.524306</td>\n",
       "      <td>C1=Cc2c(C1)c1c3c[nH]cc3c(cc1c1nsnc21)-c1scc2nc...</td>\n",
       "      <td></td>\n",
       "    </tr>\n",
       "    <tr>\n",
       "      <th>99937</th>\n",
       "      <td>669213</td>\n",
       "      <td>C1C=c2c3C=CCc3c3c(c4sc(cc4c4=CCC=c34)-c3cccnc3...</td>\n",
       "      <td>C26H17NS</td>\n",
       "      <td>375.4933</td>\n",
       "      <td>2.658610</td>\n",
       "      <td>0.183499</td>\n",
       "      <td>222.981280</td>\n",
       "      <td>-4.783499</td>\n",
       "      <td>1.361808</td>\n",
       "      <td>-3.421691</td>\n",
       "      <td>C1=Cc2c(C1)c1c(c3sc(cc3c3=CCC=c13)-c1cccnc1)c1...</td>\n",
       "      <td></td>\n",
       "    </tr>\n",
       "    <tr>\n",
       "      <th>99943</th>\n",
       "      <td>2405940</td>\n",
       "      <td>C1C=c2cccc(-c3cc4c5cscc5c5C=CCc5c4c4ccccc34)c2=C1</td>\n",
       "      <td>C28H18S</td>\n",
       "      <td>386.5162</td>\n",
       "      <td>2.546539</td>\n",
       "      <td>0.468613</td>\n",
       "      <td>83.634150</td>\n",
       "      <td>-5.068613</td>\n",
       "      <td>2.083167</td>\n",
       "      <td>-2.985446</td>\n",
       "      <td>C1=Cc2c(C1)c1c(cc(-c3cccc4=CCC=c34)c3ccccc13)c...</td>\n",
       "      <td></td>\n",
       "    </tr>\n",
       "    <tr>\n",
       "      <th>99945</th>\n",
       "      <td>865846</td>\n",
       "      <td>C1C=Cc2c1c1c3c[nH]cc3c(cc1c1cocc21)-c1cccc2nsnc12</td>\n",
       "      <td>C23H13N3OS</td>\n",
       "      <td>379.4417</td>\n",
       "      <td>2.811187</td>\n",
       "      <td>0.207294</td>\n",
       "      <td>208.713650</td>\n",
       "      <td>-4.807294</td>\n",
       "      <td>1.419890</td>\n",
       "      <td>-3.387404</td>\n",
       "      <td>C1=Cc2c(C1)c1c3c[nH]cc3c(cc1c1cocc21)-c1cccc2n...</td>\n",
       "      <td></td>\n",
       "    </tr>\n",
       "    <tr>\n",
       "      <th>99951</th>\n",
       "      <td>2405963</td>\n",
       "      <td>C1C=c2c3C=CCc3c3c(c4c5nsnc5c(cc4c4=CCC=c34)-c3...</td>\n",
       "      <td>C26H15N3S2</td>\n",
       "      <td>433.5575</td>\n",
       "      <td>4.576871</td>\n",
       "      <td>0.248526</td>\n",
       "      <td>283.429595</td>\n",
       "      <td>-4.848526</td>\n",
       "      <td>1.125873</td>\n",
       "      <td>-3.722652</td>\n",
       "      <td>C1=Cc2c(C1)c1c(c3c4nsnc4c(cc3c3=CCC=c13)-c1cnc...</td>\n",
       "      <td></td>\n",
       "    </tr>\n",
       "    <tr>\n",
       "      <th>99967</th>\n",
       "      <td>2111119</td>\n",
       "      <td>C1C=c2c3cc(ncc3c3c4cocc4c4C=CCc4c3c2=C1)-c1scc...</td>\n",
       "      <td>C27H15NO2S</td>\n",
       "      <td>417.4865</td>\n",
       "      <td>3.379471</td>\n",
       "      <td>0.412483</td>\n",
       "      <td>126.092846</td>\n",
       "      <td>-5.012483</td>\n",
       "      <td>1.810558</td>\n",
       "      <td>-3.201925</td>\n",
       "      <td>C1=Cc2c(C1)c1c(c3cocc23)c2cnc(cc2c2=CCC=c12)-c...</td>\n",
       "      <td></td>\n",
       "    </tr>\n",
       "    <tr>\n",
       "      <th>99972</th>\n",
       "      <td>2438810</td>\n",
       "      <td>C1C=c2c3cc(cnc3c3c4cscc4c4C=CCc4c3c2=C1)-c1scc...</td>\n",
       "      <td>C27H15NOS2</td>\n",
       "      <td>433.5535</td>\n",
       "      <td>3.085954</td>\n",
       "      <td>0.365329</td>\n",
       "      <td>130.002865</td>\n",
       "      <td>-4.965329</td>\n",
       "      <td>1.787291</td>\n",
       "      <td>-3.178038</td>\n",
       "      <td>C1=Cc2c(C1)c1c(c3cscc23)c2ncc(cc2c2=CCC=c12)-c...</td>\n",
       "      <td></td>\n",
       "    </tr>\n",
       "    <tr>\n",
       "      <th>99981</th>\n",
       "      <td>2111170</td>\n",
       "      <td>C1C=c2c3C=CCc3c3c(c4c5ccccc5c(cc4c4=CCC=c34)-c...</td>\n",
       "      <td>C30H19NS</td>\n",
       "      <td>425.5531</td>\n",
       "      <td>3.001054</td>\n",
       "      <td>0.246096</td>\n",
       "      <td>187.679800</td>\n",
       "      <td>-4.846096</td>\n",
       "      <td>1.504253</td>\n",
       "      <td>-3.341842</td>\n",
       "      <td>C1=Cc2c(C1)c1c(c3c4ccccc4c(cc3c3=CCC=c13)-c1cn...</td>\n",
       "      <td></td>\n",
       "    </tr>\n",
       "    <tr>\n",
       "      <th>99991</th>\n",
       "      <td>2504420</td>\n",
       "      <td>C1C=c2c(cc3c(c4c5nsnc5c5C=CCc5c4c4=CCC=c34)c2=...</td>\n",
       "      <td>C29H18N2S</td>\n",
       "      <td>426.5412</td>\n",
       "      <td>3.588190</td>\n",
       "      <td>0.235335</td>\n",
       "      <td>234.658920</td>\n",
       "      <td>-4.835335</td>\n",
       "      <td>1.288002</td>\n",
       "      <td>-3.547333</td>\n",
       "      <td>C1=Cc2c(C1)c1c(c3nsnc23)c2c(cc(-c3ccccc3)c3=CC...</td>\n",
       "      <td></td>\n",
       "    </tr>\n",
       "    <tr>\n",
       "      <th>99993</th>\n",
       "      <td>2301564</td>\n",
       "      <td>C1C=c2c3C=C(Cc3c3c4c[nH]cc4c4C=CCc4c3c2=C1)c1s...</td>\n",
       "      <td>C27H17NOS</td>\n",
       "      <td>403.5033</td>\n",
       "      <td>0.000000</td>\n",
       "      <td>0.000000</td>\n",
       "      <td>206.961880</td>\n",
       "      <td>-4.377819</td>\n",
       "      <td>1.426486</td>\n",
       "      <td>-2.951332</td>\n",
       "      <td>C1=Cc2c(C1)c1c(c3CC(=Cc3c3=CCC=c13)c1scc3ccoc1...</td>\n",
       "      <td></td>\n",
       "    </tr>\n",
       "  </tbody>\n",
       "</table>\n",
       "<p>14279 rows × 12 columns</p>\n",
       "</div>"
      ],
      "text/plain": [
       "            id                                         SMILES_str  \\\n",
       "24     2359381  C1C=CC=C1C1=Cc2c(C1)c1c3cscc3c3ccc4nsnc4c3c1c1...   \n",
       "30      131187  C1C=c2c3ccc4nsnc4c3c3cnc4C=C(Cc4c3c2=C1)C1=CC=CC1   \n",
       "40      912065           C1C=CC=C1C1=Cc2c(C1)c1sc3ccsc3c1c1cocc21   \n",
       "49     2228382   C1C=CC=C1C1=Cc2ccc3c(c2C1)c1ccccc1c1ccc2cscc2c31   \n",
       "54     1010375               C1C=CC=C1C1=Cc2sc3c(cnc4cccnc34)c2C1   \n",
       "56      491698               C1C=CC=C1C1=Cc2c(C1)c1ncccc1c1nsnc21   \n",
       "57      524469  C1C=CC=C1C1=Cc2c(C1)c1c3c[nH]cc3c3ccsc3c1c1c[n...   \n",
       "58      458935   C1C=CC=C1C1=Cc2c(C1)c1c3nsnc3c3ccccc3c1c1ccccc21   \n",
       "71     1114349               C1C=CC2=C1C=C(C2)c1cc2ccccc2c2cscc12   \n",
       "72     1048817             C1C=CC=C1C1=Cc2sc3c4occc4c4cocc4c3c2C1   \n",
       "73      688371  C1C=CC=C1C1=Cc2c(C1)c1sc3ccc4c[nH]cc4c3c1c1cscc21   \n",
       "95     1573164    C1C=CC=C1C1=Cc2c(C1)c1ncc3ccc4cscc4c3c1c1nsnc21   \n",
       "102    1638728   C1C=CC=C1C1=Cc2ncc3c(c2C1)c1ccccc1c1ccc2nsnc2c31   \n",
       "103     852297     C1C=CC=C1C1=Cc2c(C1)c1sc3ccc4cscc4c3c1c1nsnc21   \n",
       "108    1507696        C1C=c2c3ccsc3c3cnc4C=C(Cc4c3c2=C1)C1=CC=CC1   \n",
       "117    1507722   C1C=CC=C1C1=Cc2ccc3c(c2C1)c1nsnc1c1ccc2ccccc2c31   \n",
       "121    1212832             C1C=CC=C1C1=Cc2sc3c4occc4c4cscc4c3c2C1   \n",
       "128    2785715  C1C=c2ccc3c4cscc4c4c5CC(=Cc5c5=CCC=c5c4c3c2=C1...   \n",
       "147    1343990          C1C=CC=C1C1=Cc2c(C1)c1cnc3ccoc3c1c1nsnc21   \n",
       "155     213079                  C1C=CC=C1C1=Cc2oc3ccc4cscc4c3c2C1   \n",
       "162     557624          C1C=CC=C1C1=Cc2c(C1)c1c3nsnc3ccc1c1cscc21   \n",
       "172     879376            C1C=CC=C1C1=Cc2cc3c4nsnc4c4ccoc4c3cc2C1   \n",
       "178    1573488  C1C=CC=C1C1=Cc2c(C1)c1c3cscc3c3C=CCc3c1c1c[nH]...   \n",
       "182      98963  C1C=c2c3C=C(Cc3c3sc4ccc5ccccc5c4c3c2=C1)C1=CC=CC1   \n",
       "191    1213112  C1C=CC=C1C1=Cc2c(C1)c1sc3ccc4c[nH]cc4c3c1c1cocc21   \n",
       "208    2818815  C1C=CC=C1C1=Cc2c(C1)c1c3ccccc3c3ccc4nsnc4c3c1c...   \n",
       "216     328487     C1C=CC=C1C1=Cc2cc3c4nsnc4c4ccc5ccccc5c4c3cc2C1   \n",
       "226    1278790    C1C=CC=C1C1=Cc2c(C1)c1c3nsnc3c3ccsc3c1c1ccccc21   \n",
       "229     197462    C1C=CC=C1C1=Cc2ncc3c(c2C1)c1nsnc1c1ccc2cscc2c31   \n",
       "235     295787     C1C=CC=C1C1=Cc2c(C1)c1c3cocc3c3ccsc3c1c1nsnc21   \n",
       "...        ...                                                ...   \n",
       "99848  2012228  C1C=c2c3cc(ccc3c3c4cscc4c4C=CCc4c3c2=C1)-c1scc...   \n",
       "99855  2274411  C1C=c2c3cc(-c4ccccc4)c4cocc4c3c3c4nsnc4c4C=CCc...   \n",
       "99856   210030       C1C=Cc2c1c1c(cc(-c3ccccc3)c3ccccc13)c1cscc21   \n",
       "99863  2471049  C1C=c2c3C=CCc3c3c(c4CC(=Cc4c4=CCC=c34)c3cccc4c...   \n",
       "99865  2110606  C1C=c2c3C=CCc3c3c(c4c5cocc5c(cc4c4=CCC=c34)-c3...   \n",
       "99867  1782931  C1C=Cc2c1c1c(cc(-c3cccc4ccccc34)c3ccccc13)c1ns...   \n",
       "99869  1586339  C1C=c2c3C=CCc3c3c(cc(-c4scc5ccsc45)c4=CCC=c34)...   \n",
       "99877  1094866     C1C=Cc2c1c1c3c[nH]cc3c(cc1c1c[nH]cc21)-c1cccs1   \n",
       "99881  2471157  C1C=Cc2c1c1c3c[nH]cc3c3C=C(Cc3c1c1ccccc21)c1sc...   \n",
       "99884    46339  C1C=Cc2c1c1c(cc(-c3scc4[nH]ccc34)c3ccccc13)c1c...   \n",
       "99892  1553700  C1C=Cc2c1c1c(cc(-c3scc4nccnc34)c3ccccc13)c1nsnc21   \n",
       "99893  2602278  C1C=c2c3cc(cnc3c3c4nsnc4c4C=CCc4c3c2=C1)-c1scc...   \n",
       "99894  1619249  C1C=c2c(cc3c4c[nH]cc4c4C=CCc4c3c2=C1)-c1scc2cc...   \n",
       "99905  2930041  C1C=c2c3C=CCc3c3c(c4sc(cc4c4=CCC=c34)-c3cncc4n...   \n",
       "99906  2438524  C1C=c2cccc(-c3cc4c(o3)c3c5cscc5c5C=CCc5c3c3=CC...   \n",
       "99908  1029510   C1C=c2c3cc(sc3c3c4nsnc4c4C=CCc4c3c2=C1)-c1cccnc1   \n",
       "99911  2667915  C1C=c2c3cc(-c4ccccn4)c4cscc4c3c3c4cocc4c4C=CCc...   \n",
       "99916  1979808  C1C=Cc2c1c1c3c[nH]cc3c3C=C(Cc3c1c1cocc21)c1scc...   \n",
       "99922   996793  C1C=Cc2c1c1c3c[nH]cc3c3C=C(Cc3c1c1cscc21)c1ccccc1   \n",
       "99926  2536899  C1C=Cc2c1c1c3c[nH]cc3c3C=C(Cc3c1c1c[nH]cc21)c1...   \n",
       "99936  1291800  C1C=Cc2c1c1c3c[nH]cc3c(cc1c1nsnc21)-c1scc2nccnc12   \n",
       "99937   669213  C1C=c2c3C=CCc3c3c(c4sc(cc4c4=CCC=c34)-c3cccnc3...   \n",
       "99943  2405940  C1C=c2cccc(-c3cc4c5cscc5c5C=CCc5c4c4ccccc34)c2=C1   \n",
       "99945   865846  C1C=Cc2c1c1c3c[nH]cc3c(cc1c1cocc21)-c1cccc2nsnc12   \n",
       "99951  2405963  C1C=c2c3C=CCc3c3c(c4c5nsnc5c(cc4c4=CCC=c34)-c3...   \n",
       "99967  2111119  C1C=c2c3cc(ncc3c3c4cocc4c4C=CCc4c3c2=C1)-c1scc...   \n",
       "99972  2438810  C1C=c2c3cc(cnc3c3c4cscc4c4C=CCc4c3c2=C1)-c1scc...   \n",
       "99981  2111170  C1C=c2c3C=CCc3c3c(c4c5ccccc5c(cc4c4=CCC=c34)-c...   \n",
       "99991  2504420  C1C=c2c(cc3c(c4c5nsnc5c5C=CCc5c4c4=CCC=c34)c2=...   \n",
       "99993  2301564  C1C=c2c3C=C(Cc3c3c4c[nH]cc4c4C=CCc4c3c2=C1)c1s...   \n",
       "\n",
       "        stoich_str      mass       pce       voc         jsc  e_homo_alpha  \\\n",
       "24     C26H14N2OS2  434.5416  4.112982  0.299549  211.318161     -4.899549   \n",
       "30       C24H15N3S  377.4695  6.517681  0.691659  145.026911     -5.291659   \n",
       "40       C20H12OS2  332.4458  1.822889  0.219556  127.779598     -4.819556   \n",
       "49         C28H18S  386.5162  2.493540  0.439489   87.320404     -5.039489   \n",
       "54       C18H12N2S  288.3728  2.987435  0.620208   74.132525     -5.220208   \n",
       "56       C17H11N3S  289.3609  4.706792  0.714654  101.362420     -5.314654   \n",
       "57       C24H16N2S  364.4704  0.000000  0.000000  140.537136     -4.410023   \n",
       "58       C26H16N2S  388.4924  4.275919  0.538884  122.118699     -5.138884   \n",
       "71         C20H14S  286.3966  1.790937  0.329567   83.634150     -4.929567   \n",
       "72       C20H12O2S  316.3788  1.513968  0.208218  111.904241     -4.808218   \n",
       "73       C24H15NS2  381.5215  0.240373  0.025508  145.026911     -4.625508   \n",
       "95      C23H13N3S2  395.5087  5.031834  0.587182  131.886805     -5.187182   \n",
       "102      C25H15N3S  389.4805  6.065053  0.732828  127.373814     -5.332828   \n",
       "103     C22H12N2S3  400.5488  4.899278  0.440149  171.308928     -5.040149   \n",
       "108       C22H15NS  325.4335  3.156527  0.556341   87.320404     -5.156341   \n",
       "117      C26H16N2S  388.4924  4.131143  0.636067   99.957476     -5.236067   \n",
       "121      C20H12OS2  332.4458  1.574147  0.218269  110.994282     -4.818269   \n",
       "128        C30H20S  412.5540  0.054437  0.003659  228.939978     -4.603659   \n",
       "147     C19H11N3OS  329.3819  5.610433  0.664188  130.002865     -5.264188   \n",
       "155       C18H12OS  276.3578  1.376525  0.195915  108.134318     -4.795915   \n",
       "162     C20H12N2S2  344.4608  4.880905  0.431545  174.069062     -5.031545   \n",
       "172     C20H12N2OS  328.3938  3.269899  0.658959   76.370102     -5.258959   \n",
       "178       C25H17NS  363.4823  0.000000  0.000000  166.541080     -4.459471   \n",
       "182        C27H18S  374.5052  1.475387  0.129767  174.979659     -4.729767   \n",
       "191      C24H15NOS  365.4545  0.030265  0.003185  146.246545     -4.603185   \n",
       "208     C28H16N2S2  444.5804  4.277616  0.382211  172.244984     -4.982211   \n",
       "216      C26H16N2S  388.4924  3.962940  0.694714   87.792861     -5.294714   \n",
       "226     C24H14N2S2  394.5206  4.787674  0.499399  147.545131     -5.099399   \n",
       "229     C23H13N3S2  395.5087  5.656186  0.695816  125.105710     -5.295816   \n",
       "235    C22H12N2OS2  384.4818  5.637249  0.471741  183.912464     -5.071741   \n",
       "...            ...       ...       ...       ...         ...           ...   \n",
       "99848    C28H16OS2  432.5654  2.440368  0.295739  126.997355     -4.895739   \n",
       "99855   C28H16N2OS  428.5134  5.516239  0.414429  204.852164     -5.014429   \n",
       "99856      C25H16S  348.4674  2.118345  0.595743   54.724947     -5.195743   \n",
       "99863      C30H20S  412.5540  0.000000  0.000000  274.440461     -4.539191   \n",
       "99865     C29H18OS  414.5262  1.490332  0.103966  220.617815     -4.703966   \n",
       "99867    C27H16N2S  400.5034  4.189925  1.023732   62.989389     -5.623732   \n",
       "99869     C25H16S2  380.5334  0.719330  0.048026  230.517223     -4.648026   \n",
       "99877    C21H14N2S  326.4216  0.000000  0.000000   83.180631     -4.519463   \n",
       "99881    C28H17N3S  427.5293  2.065800  0.135757  234.192469     -4.735757   \n",
       "99884    C25H15NOS  377.4655  1.538428  0.274057   86.393990     -4.874057   \n",
       "99892   C23H12N4S2  408.5078  6.081133  0.910448  102.796143     -5.510448   \n",
       "99893  C25H13N3OS2  435.5297  6.334109  0.670305  145.432142     -5.270305   \n",
       "99894    C24H15NS2  381.5215  0.000000  0.000000  160.027183     -4.572266   \n",
       "99905   C26H15N3S2  433.5575  4.701190  0.222858  324.659531     -4.822858   \n",
       "99906     C29H18OS  414.5262  1.504509  0.119129  194.368238     -4.719129   \n",
       "99908   C23H13N3S2  395.5087  7.351166  0.611547  185.000950     -5.211547   \n",
       "99911    C29H17NOS  427.5253  2.633431  0.250935  161.513282     -4.850935   \n",
       "99916   C26H15NOS2  421.5425  0.000000  0.000000  165.583128     -4.511991   \n",
       "99922     C26H17NS  375.4933  0.170630  0.019700  133.304759     -4.619700   \n",
       "99926    C26H17N3S  403.5073  0.000000  0.000000  155.653365     -4.249107   \n",
       "99936   C21H11N5S2  397.4849  5.503338  0.484046  174.979659     -5.084046   \n",
       "99937     C26H17NS  375.4933  2.658610  0.183499  222.981280     -4.783499   \n",
       "99943      C28H18S  386.5162  2.546539  0.468613   83.634150     -5.068613   \n",
       "99945   C23H13N3OS  379.4417  2.811187  0.207294  208.713650     -4.807294   \n",
       "99951   C26H15N3S2  433.5575  4.576871  0.248526  283.429595     -4.848526   \n",
       "99967   C27H15NO2S  417.4865  3.379471  0.412483  126.092846     -5.012483   \n",
       "99972   C27H15NOS2  433.5535  3.085954  0.365329  130.002865     -4.965329   \n",
       "99981     C30H19NS  425.5531  3.001054  0.246096  187.679800     -4.846096   \n",
       "99991    C29H18N2S  426.5412  3.588190  0.235335  234.658920     -4.835335   \n",
       "99993    C27H17NOS  403.5033  0.000000  0.000000  206.961880     -4.377819   \n",
       "\n",
       "       e_gap_alpha  e_lumo_alpha  \\\n",
       "24        1.409229     -3.490319   \n",
       "30        1.706854     -3.584805   \n",
       "40        1.799819     -3.019738   \n",
       "49        2.055788     -2.983701   \n",
       "54        2.159418     -3.060790   \n",
       "56        1.957928     -3.356725   \n",
       "57        1.733767     -2.676256   \n",
       "58        1.832176     -3.306707   \n",
       "71        2.080275     -2.849292   \n",
       "72        1.890338     -2.917880   \n",
       "73        1.707600     -2.917909   \n",
       "95        1.778370     -3.408811   \n",
       "102       1.804406     -3.528422   \n",
       "103       1.575764     -3.464385   \n",
       "108       2.054491     -3.101850   \n",
       "117       1.967292     -3.268775   \n",
       "121       1.897197     -2.921072   \n",
       "128       1.335265     -3.268394   \n",
       "147       1.787720     -3.476468   \n",
       "155       1.914472     -2.881444   \n",
       "162       1.564371     -3.467174   \n",
       "172       2.140288     -3.118671   \n",
       "178       1.596049     -2.863422   \n",
       "182       1.561024     -3.168743   \n",
       "191       1.700271     -2.902914   \n",
       "208       1.572650     -3.409560   \n",
       "216       2.051809     -3.242904   \n",
       "226       1.692495     -3.406904   \n",
       "229       1.816707     -3.479109   \n",
       "235       1.522471     -3.549270   \n",
       "...            ...           ...   \n",
       "99848     1.805322     -3.090417   \n",
       "99855     1.434828     -3.579601   \n",
       "99856     2.337867     -2.857876   \n",
       "99863     1.154893     -3.384297   \n",
       "99865     1.372077     -3.331889   \n",
       "99867     2.254690     -3.369043   \n",
       "99869     1.320057     -3.327969   \n",
       "99877     2.085448     -2.434015   \n",
       "99881     1.290776     -3.444981   \n",
       "99884     2.060784     -2.813273   \n",
       "99892     1.948649     -3.561799   \n",
       "99893     1.703649     -3.566657   \n",
       "99894     1.635659     -2.936607   \n",
       "99905     0.969017     -3.853840   \n",
       "99906     1.475127     -3.244002   \n",
       "99908     1.516209     -3.695338   \n",
       "99911     1.618910     -3.232025   \n",
       "99916     1.601396     -2.910594   \n",
       "99922     1.769625     -2.850075   \n",
       "99926     1.655263     -2.593843   \n",
       "99936     1.559740     -3.524306   \n",
       "99937     1.361808     -3.421691   \n",
       "99943     2.083167     -2.985446   \n",
       "99945     1.419890     -3.387404   \n",
       "99951     1.125873     -3.722652   \n",
       "99967     1.810558     -3.201925   \n",
       "99972     1.787291     -3.178038   \n",
       "99981     1.504253     -3.341842   \n",
       "99991     1.288002     -3.547333   \n",
       "99993     1.426486     -2.951332   \n",
       "\n",
       "                                          tmp_smiles_str structure  \n",
       "24     C1=CC=C(C1)C1=Cc2c(C1)c1c3cscc3c3ccc4nsnc4c3c1...            \n",
       "30     C1=CC=C(C1)C1=Cc2ncc3c(c2C1)c1=CCC=c1c1ccc2nsn...            \n",
       "40            C1=CC=C(C1)C1=Cc2c(C1)c1sc3ccsc3c1c1cocc21            \n",
       "49     C1=CC=C(C1)C1=Cc2ccc3c(c2C1)c1ccccc1c1ccc2cscc...            \n",
       "54                C1=CC=C(C1)C1=Cc2sc3c(cnc4cccnc34)c2C1            \n",
       "56                C1=CC=C(C1)C1=Cc2c(C1)c1ncccc1c1nsnc21            \n",
       "57     C1=CC=C(C1)C1=Cc2c(C1)c1c3c[nH]cc3c3ccsc3c1c1c...            \n",
       "58     C1=CC=C(C1)C1=Cc2c(C1)c1c3nsnc3c3ccccc3c1c1ccc...            \n",
       "71                C1=CC2=C(C1)C=C(C2)c1cc2ccccc2c2cscc12            \n",
       "72              C1=CC=C(C1)C1=Cc2sc3c4occc4c4cocc4c3c2C1            \n",
       "73     C1=CC=C(C1)C1=Cc2c(C1)c1sc3ccc4c[nH]cc4c3c1c1c...            \n",
       "95     C1=CC=C(C1)C1=Cc2c(C1)c1ncc3ccc4cscc4c3c1c1nsnc21            \n",
       "102    C1=CC=C(C1)C1=Cc2ncc3c(c2C1)c1ccccc1c1ccc2nsnc...            \n",
       "103     C1=CC=C(C1)C1=Cc2c(C1)c1sc3ccc4cscc4c3c1c1nsnc21            \n",
       "108          C1=CC=C(C1)C1=Cc2ncc3c4sccc4c4=CCC=c4c3c2C1            \n",
       "117    C1=CC=C(C1)C1=Cc2ccc3c(c2C1)c1nsnc1c1ccc2ccccc...            \n",
       "121             C1=CC=C(C1)C1=Cc2sc3c4occc4c4cscc4c3c2C1            \n",
       "128    C1=CC=C(C1)C1=Cc2c(C1)c1c3cscc3c3ccc4=CCC=c4c3...            \n",
       "147          C1=CC=C(C1)C1=Cc2c(C1)c1cnc3ccoc3c1c1nsnc21            \n",
       "155                  C1=CC=C(C1)C1=Cc2oc3ccc4cscc4c3c2C1            \n",
       "162          C1=CC=C(C1)C1=Cc2c(C1)c1c3nsnc3ccc1c1cscc21            \n",
       "172            C1=CC=C(C1)C1=Cc2cc3c4nsnc4c4ccoc4c3cc2C1            \n",
       "178    C1=CC=C(C1)C1=Cc2c(C1)c1c3cscc3c3C=CCc3c1c1c[n...            \n",
       "182    C1=CC=C(C1)C1=Cc2c(C1)c1sc3ccc4ccccc4c3c1c1=CC...            \n",
       "191    C1=CC=C(C1)C1=Cc2c(C1)c1sc3ccc4c[nH]cc4c3c1c1c...            \n",
       "208    C1=CC=C(C1)C1=Cc2c(C1)c1c3ccccc3c3ccc4nsnc4c3c...            \n",
       "216     C1=CC=C(C1)C1=Cc2cc3c4nsnc4c4ccc5ccccc5c4c3cc2C1            \n",
       "226    C1=CC=C(C1)C1=Cc2c(C1)c1c3nsnc3c3ccsc3c1c1ccccc21            \n",
       "229    C1=CC=C(C1)C1=Cc2ncc3c(c2C1)c1nsnc1c1ccc2cscc2c31            \n",
       "235     C1=CC=C(C1)C1=Cc2c(C1)c1c3cocc3c3ccsc3c1c1nsnc21            \n",
       "...                                                  ...       ...  \n",
       "99848  C1=Cc2c(C1)c1c(c3cscc23)c2ccc(cc2c2=CCC=c12)-c...            \n",
       "99855  C1=Cc2c(C1)c1c(c3nsnc23)c2c3cocc3c(cc2c2=CCC=c...            \n",
       "99856     C1=Cc2c(C1)c1c(cc(-c3ccccc3)c3ccccc13)c1cscc21            \n",
       "99863  C1=Cc2c(C1)c1c(c3CC(=Cc3c3=CCC=c13)c1cccc3cscc...            \n",
       "99865  C1=Cc2c(C1)c1c(c3c4cocc4c(cc3c3=CCC=c13)-c1ccc...            \n",
       "99867  C1=Cc2c(C1)c1c(cc(-c3cccc4ccccc34)c3ccccc13)c1...            \n",
       "99869  C1=Cc2c(C1)c1c(cc(-c3scc4ccsc34)c3=CCC=c13)c1=...            \n",
       "99877   C1=Cc2c(C1)c1c3c[nH]cc3c(cc1c1c[nH]cc21)-c1cccs1            \n",
       "99881  C1=Cc2c(C1)c1c3c[nH]cc3c3C=C(Cc3c1c1ccccc21)c1...            \n",
       "99884  C1=Cc2c(C1)c1c(cc(-c3scc4[nH]ccc34)c3ccccc13)c...            \n",
       "99892  C1=Cc2c(C1)c1c(cc(-c3scc4nccnc34)c3ccccc13)c1n...            \n",
       "99893  C1=Cc2c(C1)c1c(c3nsnc23)c2ncc(cc2c2=CCC=c12)-c...            \n",
       "99894  C1=Cc2c(C1)c1c(cc(-c3scc4ccsc34)c3=CCC=c13)c1c...            \n",
       "99905  C1=Cc2c(C1)c1c(c3sc(cc3c3=CCC=c13)-c1cncc3nsnc...            \n",
       "99906  C1=Cc2c(C1)c1c(c3cscc23)c2oc(cc2c2=CCC=c12)-c1...            \n",
       "99908  C1=Cc2c(C1)c1c(c3nsnc23)c2sc(cc2c2=CCC=c12)-c1...            \n",
       "99911  C1=Cc2c(C1)c1c(c3cocc23)c2c3cscc3c(cc2c2=CCC=c...            \n",
       "99916  C1=Cc2c(C1)c1c3c[nH]cc3c3C=C(Cc3c1c1cocc21)c1s...            \n",
       "99922  C1=Cc2c(C1)c1c3c[nH]cc3c3C=C(Cc3c1c1cscc21)c1c...            \n",
       "99926  C1=Cc2c(C1)c1c3c[nH]cc3c3C=C(Cc3c1c1c[nH]cc21)...            \n",
       "99936  C1=Cc2c(C1)c1c3c[nH]cc3c(cc1c1nsnc21)-c1scc2nc...            \n",
       "99937  C1=Cc2c(C1)c1c(c3sc(cc3c3=CCC=c13)-c1cccnc1)c1...            \n",
       "99943  C1=Cc2c(C1)c1c(cc(-c3cccc4=CCC=c34)c3ccccc13)c...            \n",
       "99945  C1=Cc2c(C1)c1c3c[nH]cc3c(cc1c1cocc21)-c1cccc2n...            \n",
       "99951  C1=Cc2c(C1)c1c(c3c4nsnc4c(cc3c3=CCC=c13)-c1cnc...            \n",
       "99967  C1=Cc2c(C1)c1c(c3cocc23)c2cnc(cc2c2=CCC=c12)-c...            \n",
       "99972  C1=Cc2c(C1)c1c(c3cscc23)c2ncc(cc2c2=CCC=c12)-c...            \n",
       "99981  C1=Cc2c(C1)c1c(c3c4ccccc4c(cc3c3=CCC=c13)-c1cn...            \n",
       "99991  C1=Cc2c(C1)c1c(c3nsnc23)c2c(cc(-c3ccccc3)c3=CC...            \n",
       "99993  C1=Cc2c(C1)c1c(c3CC(=Cc3c3=CCC=c13)c1scc3ccoc1...            \n",
       "\n",
       "[14279 rows x 12 columns]"
      ]
     },
     "execution_count": 106,
     "metadata": {},
     "output_type": "execute_result"
    }
   ],
   "source": [
    "data_sulfer"
   ]
  },
  {
   "cell_type": "markdown",
   "metadata": {},
   "source": [
    "# import from .mol\n"
   ]
  },
  {
   "cell_type": "code",
   "execution_count": 99,
   "metadata": {},
   "outputs": [
    {
     "ename": "ArgumentError",
     "evalue": "Python argument types in\n    rdkit.Chem.rdmolfiles.MolToSmiles(NoneType)\ndid not match C++ signature:\n    MolToSmiles(RDKit::ROMol mol, bool isomericSmiles=True, bool kekuleSmiles=False, int rootedAtAtom=-1, bool canonical=True, bool allBondsExplicit=False, bool allHsExplicit=False, bool doRandom=False)",
     "output_type": "error",
     "traceback": [
      "\u001b[0;31m---------------------------------------------------------------------------\u001b[0m",
      "\u001b[0;31mArgumentError\u001b[0m                             Traceback (most recent call last)",
      "\u001b[0;32m<ipython-input-99-529005b1fe33>\u001b[0m in \u001b[0;36m<module>\u001b[0;34m\u001b[0m\n\u001b[1;32m      1\u001b[0m \u001b[0mf24\u001b[0m \u001b[0;34m=\u001b[0m \u001b[0mChem\u001b[0m\u001b[0;34m.\u001b[0m\u001b[0mMolFromMolFile\u001b[0m\u001b[0;34m(\u001b[0m\u001b[0;34m'f24.mol'\u001b[0m\u001b[0;34m)\u001b[0m\u001b[0;34m\u001b[0m\u001b[0;34m\u001b[0m\u001b[0m\n\u001b[0;32m----> 2\u001b[0;31m \u001b[0mf24_ss\u001b[0m \u001b[0;34m=\u001b[0m \u001b[0mChem\u001b[0m\u001b[0;34m.\u001b[0m\u001b[0mMolToSmiles\u001b[0m\u001b[0;34m(\u001b[0m\u001b[0mf24\u001b[0m\u001b[0;34m)\u001b[0m\u001b[0;34m\u001b[0m\u001b[0;34m\u001b[0m\u001b[0m\n\u001b[0m",
      "\u001b[0;31mArgumentError\u001b[0m: Python argument types in\n    rdkit.Chem.rdmolfiles.MolToSmiles(NoneType)\ndid not match C++ signature:\n    MolToSmiles(RDKit::ROMol mol, bool isomericSmiles=True, bool kekuleSmiles=False, int rootedAtAtom=-1, bool canonical=True, bool allBondsExplicit=False, bool allHsExplicit=False, bool doRandom=False)"
     ]
    }
   ],
   "source": [
    "f24 = Chem.MolFromMolFile('f24.mol')\n",
    "f24_ss = Chem.MolToSmiles(f24)"
   ]
  },
  {
   "cell_type": "code",
   "execution_count": 94,
   "metadata": {},
   "outputs": [],
   "source": [
    "f24"
   ]
  },
  {
   "cell_type": "code",
   "execution_count": 109,
   "metadata": {},
   "outputs": [
    {
     "data": {
      "text/html": [
       "<div>\n",
       "<style scoped>\n",
       "    .dataframe tbody tr th:only-of-type {\n",
       "        vertical-align: middle;\n",
       "    }\n",
       "\n",
       "    .dataframe tbody tr th {\n",
       "        vertical-align: top;\n",
       "    }\n",
       "\n",
       "    .dataframe thead th {\n",
       "        text-align: right;\n",
       "    }\n",
       "</style>\n",
       "<table border=\"1\" class=\"dataframe\">\n",
       "  <thead>\n",
       "    <tr style=\"text-align: right;\">\n",
       "      <th></th>\n",
       "      <th>id</th>\n",
       "      <th>SMILES_str</th>\n",
       "      <th>stoich_str</th>\n",
       "      <th>mass</th>\n",
       "      <th>pce</th>\n",
       "      <th>voc</th>\n",
       "      <th>jsc</th>\n",
       "      <th>e_homo_alpha</th>\n",
       "      <th>e_gap_alpha</th>\n",
       "      <th>e_lumo_alpha</th>\n",
       "      <th>tmp_smiles_str</th>\n",
       "      <th>structure</th>\n",
       "    </tr>\n",
       "  </thead>\n",
       "  <tbody>\n",
       "    <tr>\n",
       "      <th>0</th>\n",
       "      <td>655365</td>\n",
       "      <td>C1C=CC=C1c1cc2[se]c3c4occc4c4nsnc4c3c2cn1</td>\n",
       "      <td>C18H9N3OSSe</td>\n",
       "      <td>394.3151</td>\n",
       "      <td>5.161953</td>\n",
       "      <td>0.867601</td>\n",
       "      <td>91.567575</td>\n",
       "      <td>-5.467601</td>\n",
       "      <td>2.022944</td>\n",
       "      <td>-3.444656</td>\n",
       "      <td>C1=CC=C(C1)c1cc2[se]c3c4occc4c4nsnc4c3c2cn1</td>\n",
       "      <td>&lt;rdkit.Chem.rdchem.Mol object at 0x12055c9e0&gt;</td>\n",
       "    </tr>\n",
       "    <tr>\n",
       "      <th>5</th>\n",
       "      <td>1310744</td>\n",
       "      <td>C1C=CC=C1c1cc2[se]c3c(c4nsnc4c4ccncc34)c2c2ccc...</td>\n",
       "      <td>C24H13N3SSe</td>\n",
       "      <td>454.4137</td>\n",
       "      <td>5.605135</td>\n",
       "      <td>0.951911</td>\n",
       "      <td>90.622776</td>\n",
       "      <td>-5.551911</td>\n",
       "      <td>2.029717</td>\n",
       "      <td>-3.522194</td>\n",
       "      <td>C1=CC=C(C1)c1cc2[se]c3c(c4nsnc4c4ccncc34)c2c2c...</td>\n",
       "      <td>&lt;rdkit.Chem.rdchem.Mol object at 0x12055cc10&gt;</td>\n",
       "    </tr>\n",
       "    <tr>\n",
       "      <th>14</th>\n",
       "      <td>1638442</td>\n",
       "      <td>C1C=c2ccc3cnc4c5[SiH2]C(=Cc5c5nsnc5c4c3c2=C1)C...</td>\n",
       "      <td>C23H15N3SSi</td>\n",
       "      <td>393.5445</td>\n",
       "      <td>6.462512</td>\n",
       "      <td>0.602405</td>\n",
       "      <td>165.105179</td>\n",
       "      <td>-5.202405</td>\n",
       "      <td>1.603165</td>\n",
       "      <td>-3.599240</td>\n",
       "      <td>C1=CC=C(C1)C1=Cc2c([SiH2]1)c1ncc3ccc4=CCC=c4c3...</td>\n",
       "      <td></td>\n",
       "    </tr>\n",
       "    <tr>\n",
       "      <th>21</th>\n",
       "      <td>2096063</td>\n",
       "      <td>C1C=CC=C1c1cc2[se]c3c(c2c2cscc12)c1ccccc1c1ccc...</td>\n",
       "      <td>C27H14N2S2Se</td>\n",
       "      <td>509.5136</td>\n",
       "      <td>6.204093</td>\n",
       "      <td>0.570055</td>\n",
       "      <td>167.497914</td>\n",
       "      <td>-5.170055</td>\n",
       "      <td>1.593078</td>\n",
       "      <td>-3.576977</td>\n",
       "      <td>C1=CC=C(C1)c1cc2[se]c3c(c2c2cscc12)c1ccccc1c1c...</td>\n",
       "      <td></td>\n",
       "    </tr>\n",
       "    <tr>\n",
       "      <th>24</th>\n",
       "      <td>2359381</td>\n",
       "      <td>C1C=CC=C1C1=Cc2c(C1)c1c3cscc3c3ccc4nsnc4c3c1c1...</td>\n",
       "      <td>C26H14N2OS2</td>\n",
       "      <td>434.5416</td>\n",
       "      <td>4.112982</td>\n",
       "      <td>0.299549</td>\n",
       "      <td>211.318161</td>\n",
       "      <td>-4.899549</td>\n",
       "      <td>1.409229</td>\n",
       "      <td>-3.490319</td>\n",
       "      <td>C1=CC=C(C1)C1=Cc2c(C1)c1c3cscc3c3ccc4nsnc4c3c1...</td>\n",
       "      <td></td>\n",
       "    </tr>\n",
       "  </tbody>\n",
       "</table>\n",
       "</div>"
      ],
      "text/plain": [
       "         id                                         SMILES_str    stoich_str  \\\n",
       "0    655365          C1C=CC=C1c1cc2[se]c3c4occc4c4nsnc4c3c2cn1   C18H9N3OSSe   \n",
       "5   1310744  C1C=CC=C1c1cc2[se]c3c(c4nsnc4c4ccncc34)c2c2ccc...   C24H13N3SSe   \n",
       "14  1638442  C1C=c2ccc3cnc4c5[SiH2]C(=Cc5c5nsnc5c4c3c2=C1)C...   C23H15N3SSi   \n",
       "21  2096063  C1C=CC=C1c1cc2[se]c3c(c2c2cscc12)c1ccccc1c1ccc...  C27H14N2S2Se   \n",
       "24  2359381  C1C=CC=C1C1=Cc2c(C1)c1c3cscc3c3ccc4nsnc4c3c1c1...   C26H14N2OS2   \n",
       "\n",
       "        mass       pce       voc         jsc  e_homo_alpha  e_gap_alpha  \\\n",
       "0   394.3151  5.161953  0.867601   91.567575     -5.467601     2.022944   \n",
       "5   454.4137  5.605135  0.951911   90.622776     -5.551911     2.029717   \n",
       "14  393.5445  6.462512  0.602405  165.105179     -5.202405     1.603165   \n",
       "21  509.5136  6.204093  0.570055  167.497914     -5.170055     1.593078   \n",
       "24  434.5416  4.112982  0.299549  211.318161     -4.899549     1.409229   \n",
       "\n",
       "    e_lumo_alpha                                     tmp_smiles_str  \\\n",
       "0      -3.444656        C1=CC=C(C1)c1cc2[se]c3c4occc4c4nsnc4c3c2cn1   \n",
       "5      -3.522194  C1=CC=C(C1)c1cc2[se]c3c(c4nsnc4c4ccncc34)c2c2c...   \n",
       "14     -3.599240  C1=CC=C(C1)C1=Cc2c([SiH2]1)c1ncc3ccc4=CCC=c4c3...   \n",
       "21     -3.576977  C1=CC=C(C1)c1cc2[se]c3c(c2c2cscc12)c1ccccc1c1c...   \n",
       "24     -3.490319  C1=CC=C(C1)C1=Cc2c(C1)c1c3cscc3c3ccc4nsnc4c3c1...   \n",
       "\n",
       "                                        structure  \n",
       "0   <rdkit.Chem.rdchem.Mol object at 0x12055c9e0>  \n",
       "5   <rdkit.Chem.rdchem.Mol object at 0x12055cc10>  \n",
       "14                                                 \n",
       "21                                                 \n",
       "24                                                 "
      ]
     },
     "execution_count": 109,
     "metadata": {},
     "output_type": "execute_result"
    }
   ],
   "source": [
    "def NSN(x):\n",
    "    if x.find('nsn') != -1:\n",
    "        return True\n",
    "    else:\n",
    "        return False\n",
    "data_NSN = data[[NSN(x) for x in data['SMILES_str']]]\n",
    "data_NSN.head()"
   ]
  },
  {
   "cell_type": "code",
   "execution_count": 110,
   "metadata": {
    "scrolled": false
   },
   "outputs": [
    {
     "data": {
      "text/plain": [
       "0"
      ]
     },
     "metadata": {},
     "output_type": "display_data"
    },
    {
     "data": {
      "image/png": "[encoded data removed]",
      "text/plain": [
       "<rdkit.Chem.rdchem.Mol at 0x1245afd00>"
      ]
     },
     "metadata": {},
     "output_type": "display_data"
    },
    {
     "data": {
      "text/plain": [
       "1"
      ]
     },
     "metadata": {},
     "output_type": "display_data"
    },
    {
     "data": {
      "image/png": "[encoded data removed]",
      "text/plain": [
       "<rdkit.Chem.rdchem.Mol at 0x124589f30>"
      ]
     },
     "metadata": {},
     "output_type": "display_data"
    },
    {
     "data": {
      "text/plain": [
       "2"
      ]
     },
     "metadata": {},
     "output_type": "display_data"
    },
    {
     "data": {
      "image/png": "[encoded data removed]",
      "text/plain": [
       "<rdkit.Chem.rdchem.Mol at 0x126113f80>"
      ]
     },
     "metadata": {},
     "output_type": "display_data"
    },
    {
     "data": {
      "text/plain": [
       "3"
      ]
     },
     "metadata": {},
     "output_type": "display_data"
    },
    {
     "data": {
      "image/png": "[encoded data removed]",
      "text/plain": [
       "<rdkit.Chem.rdchem.Mol at 0x1245afda0>"
      ]
     },
     "metadata": {},
     "output_type": "display_data"
    },
    {
     "data": {
      "text/plain": [
       "4"
      ]
     },
     "metadata": {},
     "output_type": "display_data"
    },
    {
     "data": {
      "image/png": "[encoded data removed]",
      "text/plain": [
       "<rdkit.Chem.rdchem.Mol at 0x1245afe40>"
      ]
     },
     "metadata": {},
     "output_type": "display_data"
    },
    {
     "data": {
      "text/plain": [
       "5"
      ]
     },
     "metadata": {},
     "output_type": "display_data"
    },
    {
     "data": {
      "image/png": "[encoded data removed]",
      "text/plain": [
       "<rdkit.Chem.rdchem.Mol at 0x1245afee0>"
      ]
     },
     "metadata": {},
     "output_type": "display_data"
    },
    {
     "data": {
      "text/plain": [
       "6"
      ]
     },
     "metadata": {},
     "output_type": "display_data"
    },
    {
     "data": {
      "image/png": "[encoded data removed]",
      "text/plain": [
       "<rdkit.Chem.rdchem.Mol at 0x1245afcb0>"
      ]
     },
     "metadata": {},
     "output_type": "display_data"
    },
    {
     "data": {
      "text/plain": [
       "7"
      ]
     },
     "metadata": {},
     "output_type": "display_data"
    },
    {
     "data": {
      "image/png": "[encoded data removed]",
      "text/plain": [
       "<rdkit.Chem.rdchem.Mol at 0x125630030>"
      ]
     },
     "metadata": {},
     "output_type": "display_data"
    },
    {
     "data": {
      "text/plain": [
       "8"
      ]
     },
     "metadata": {},
     "output_type": "display_data"
    },
    {
     "data": {
      "image/png": "[encoded data removed]",
      "text/plain": [
       "<rdkit.Chem.rdchem.Mol at 0x125630170>"
      ]
     },
     "metadata": {},
     "output_type": "display_data"
    },
    {
     "data": {
      "text/plain": [
       "9"
      ]
     },
     "metadata": {},
     "output_type": "display_data"
    },
    {
     "data": {
      "image/png": "[encoded data removed]",
      "text/plain": [
       "<rdkit.Chem.rdchem.Mol at 0x1256301c0>"
      ]
     },
     "metadata": {},
     "output_type": "display_data"
    }
   ],
   "source": [
    "for i in range(10):\n",
    "    data_NSN['structure'].values[i] = Chem.MolFromSmiles(data_NSN['SMILES_str'].values[i])\n",
    "    display(i, data_NSN['structure'].values[i])"
   ]
  },
  {
   "cell_type": "code",
   "execution_count": null,
   "metadata": {},
   "outputs": [],
   "source": []
  }
 ],
 "metadata": {
  "kernelspec": {
   "display_name": "Python 3",
   "language": "python",
   "name": "python3"
  },
  "language_info": {
   "codemirror_mode": {
    "name": "ipython",
    "version": 3
   },
   "file_extension": ".py",
   "mimetype": "text/x-python",
   "name": "python",
   "nbconvert_exporter": "python",
   "pygments_lexer": "ipython3",
   "version": "3.7.1"
  }
 },
 "nbformat": 4,
 "nbformat_minor": 2
}
