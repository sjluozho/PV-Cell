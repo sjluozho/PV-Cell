{
 "cells": [
  {
   "cell_type": "markdown",
   "metadata": {},
   "source": [
    "To install, use `conda install rdkit -c rdkit`."
   ]
  },
  {
   "cell_type": "code",
   "execution_count": 5,
   "metadata": {},
   "outputs": [],
   "source": [
    "from rdkit import Chem\n",
    "import pandas as pd\n",
    "from rdkit.Chem import AllChem\n",
    "from collections import Counter"
   ]
  },
  {
   "cell_type": "markdown",
   "metadata": {},
   "source": [
    "1. Get molecular structure with given SMILE_str.\n",
    "2. Read functional groups."
   ]
  },
  {
   "cell_type": "code",
   "execution_count": 14,
   "metadata": {},
   "outputs": [],
   "source": [
    "data = pd.read_csv(r'C:\\Users\\alex0\\Desktop\\command\\Project\\Repository\\PV-Cell\\PV-Cell\\Data\\HCEPD_100K.csv') # Try using 100K for practice"
   ]
  },
  {
   "cell_type": "code",
   "execution_count": 15,
   "metadata": {},
   "outputs": [
    {
     "data": {
      "text/html": [
       "<div>\n",
       "<style scoped>\n",
       "    .dataframe tbody tr th:only-of-type {\n",
       "        vertical-align: middle;\n",
       "    }\n",
       "\n",
       "    .dataframe tbody tr th {\n",
       "        vertical-align: top;\n",
       "    }\n",
       "\n",
       "    .dataframe thead th {\n",
       "        text-align: right;\n",
       "    }\n",
       "</style>\n",
       "<table border=\"1\" class=\"dataframe\">\n",
       "  <thead>\n",
       "    <tr style=\"text-align: right;\">\n",
       "      <th></th>\n",
       "      <th>id</th>\n",
       "      <th>SMILES_str</th>\n",
       "      <th>stoich_str</th>\n",
       "      <th>mass</th>\n",
       "      <th>pce</th>\n",
       "      <th>voc</th>\n",
       "      <th>jsc</th>\n",
       "      <th>e_homo_alpha</th>\n",
       "      <th>e_gap_alpha</th>\n",
       "      <th>e_lumo_alpha</th>\n",
       "      <th>tmp_smiles_str</th>\n",
       "    </tr>\n",
       "  </thead>\n",
       "  <tbody>\n",
       "    <tr>\n",
       "      <th>0</th>\n",
       "      <td>655365</td>\n",
       "      <td>C1C=CC=C1c1cc2[se]c3c4occc4c4nsnc4c3c2cn1</td>\n",
       "      <td>C18H9N3OSSe</td>\n",
       "      <td>394.3151</td>\n",
       "      <td>5.161953</td>\n",
       "      <td>0.867601</td>\n",
       "      <td>91.567575</td>\n",
       "      <td>-5.467601</td>\n",
       "      <td>2.022944</td>\n",
       "      <td>-3.444656</td>\n",
       "      <td>C1=CC=C(C1)c1cc2[se]c3c4occc4c4nsnc4c3c2cn1</td>\n",
       "    </tr>\n",
       "    <tr>\n",
       "      <th>1</th>\n",
       "      <td>1245190</td>\n",
       "      <td>C1C=CC=C1c1cc2[se]c3c(ncc4ccccc34)c2c2=C[SiH2]...</td>\n",
       "      <td>C22H15NSeSi</td>\n",
       "      <td>400.4135</td>\n",
       "      <td>5.261398</td>\n",
       "      <td>0.504824</td>\n",
       "      <td>160.401549</td>\n",
       "      <td>-5.104824</td>\n",
       "      <td>1.630750</td>\n",
       "      <td>-3.474074</td>\n",
       "      <td>C1=CC=C(C1)c1cc2[se]c3c(ncc4ccccc34)c2c2=C[SiH...</td>\n",
       "    </tr>\n",
       "    <tr>\n",
       "      <th>2</th>\n",
       "      <td>21847</td>\n",
       "      <td>C1C=c2ccc3c4c[nH]cc4c4c5[SiH2]C(=Cc5oc4c3c2=C1...</td>\n",
       "      <td>C24H17NOSi</td>\n",
       "      <td>363.4903</td>\n",
       "      <td>0.000000</td>\n",
       "      <td>0.000000</td>\n",
       "      <td>197.474780</td>\n",
       "      <td>-4.539526</td>\n",
       "      <td>1.462158</td>\n",
       "      <td>-3.077368</td>\n",
       "      <td>C1=CC=C(C1)C1=Cc2oc3c(c2[SiH2]1)c1c[nH]cc1c1cc...</td>\n",
       "    </tr>\n",
       "    <tr>\n",
       "      <th>3</th>\n",
       "      <td>65553</td>\n",
       "      <td>[SiH2]1C=CC2=C1C=C([SiH2]2)C1=Cc2[se]ccc2[SiH2]1</td>\n",
       "      <td>C12H12SeSi3</td>\n",
       "      <td>319.4448</td>\n",
       "      <td>6.138294</td>\n",
       "      <td>0.630274</td>\n",
       "      <td>149.887545</td>\n",
       "      <td>-5.230274</td>\n",
       "      <td>1.682250</td>\n",
       "      <td>-3.548025</td>\n",
       "      <td>C1=CC2=C([SiH2]1)C=C([SiH2]2)C1=Cc2[se]ccc2[Si...</td>\n",
       "    </tr>\n",
       "    <tr>\n",
       "      <th>4</th>\n",
       "      <td>720918</td>\n",
       "      <td>C1C=c2c3ccsc3c3[se]c4cc(oc4c3c2=C1)C1=CC=CC1</td>\n",
       "      <td>C20H12OSSe</td>\n",
       "      <td>379.3398</td>\n",
       "      <td>1.991366</td>\n",
       "      <td>0.242119</td>\n",
       "      <td>126.581347</td>\n",
       "      <td>-4.842119</td>\n",
       "      <td>1.809439</td>\n",
       "      <td>-3.032680</td>\n",
       "      <td>C1=CC=C(C1)c1cc2[se]c3c4sccc4c4=CCC=c4c3c2o1</td>\n",
       "    </tr>\n",
       "  </tbody>\n",
       "</table>\n",
       "</div>"
      ],
      "text/plain": [
       "        id                                         SMILES_str   stoich_str  \\\n",
       "0   655365          C1C=CC=C1c1cc2[se]c3c4occc4c4nsnc4c3c2cn1  C18H9N3OSSe   \n",
       "1  1245190  C1C=CC=C1c1cc2[se]c3c(ncc4ccccc34)c2c2=C[SiH2]...  C22H15NSeSi   \n",
       "2    21847  C1C=c2ccc3c4c[nH]cc4c4c5[SiH2]C(=Cc5oc4c3c2=C1...   C24H17NOSi   \n",
       "3    65553   [SiH2]1C=CC2=C1C=C([SiH2]2)C1=Cc2[se]ccc2[SiH2]1  C12H12SeSi3   \n",
       "4   720918       C1C=c2c3ccsc3c3[se]c4cc(oc4c3c2=C1)C1=CC=CC1   C20H12OSSe   \n",
       "\n",
       "       mass       pce       voc         jsc  e_homo_alpha  e_gap_alpha  \\\n",
       "0  394.3151  5.161953  0.867601   91.567575     -5.467601     2.022944   \n",
       "1  400.4135  5.261398  0.504824  160.401549     -5.104824     1.630750   \n",
       "2  363.4903  0.000000  0.000000  197.474780     -4.539526     1.462158   \n",
       "3  319.4448  6.138294  0.630274  149.887545     -5.230274     1.682250   \n",
       "4  379.3398  1.991366  0.242119  126.581347     -4.842119     1.809439   \n",
       "\n",
       "   e_lumo_alpha                                     tmp_smiles_str  \n",
       "0     -3.444656        C1=CC=C(C1)c1cc2[se]c3c4occc4c4nsnc4c3c2cn1  \n",
       "1     -3.474074  C1=CC=C(C1)c1cc2[se]c3c(ncc4ccccc34)c2c2=C[SiH...  \n",
       "2     -3.077368  C1=CC=C(C1)C1=Cc2oc3c(c2[SiH2]1)c1c[nH]cc1c1cc...  \n",
       "3     -3.548025  C1=CC2=C([SiH2]1)C=C([SiH2]2)C1=Cc2[se]ccc2[Si...  \n",
       "4     -3.032680       C1=CC=C(C1)c1cc2[se]c3c4sccc4c4=CCC=c4c3c2o1  "
      ]
     },
     "execution_count": 15,
     "metadata": {},
     "output_type": "execute_result"
    }
   ],
   "source": [
    "data.head()"
   ]
  },
  {
   "cell_type": "code",
   "execution_count": 16,
   "metadata": {},
   "outputs": [
    {
     "data": {
      "text/plain": [
       "<rdkit.Chem.rdchem.Mol at 0x1e89368f9e0>"
      ]
     },
     "execution_count": 16,
     "metadata": {},
     "output_type": "execute_result"
    }
   ],
   "source": [
    "molecule = Chem.MolFromSmiles(data['SMILES_str'][0]) # Practise on a single molecule.\n",
    "molecule # Returning arguments like below indicates loaded successfully."
   ]
  },
  {
   "cell_type": "code",
   "execution_count": 17,
   "metadata": {
    "scrolled": false
   },
   "outputs": [
    {
     "data": {
      "text/plain": [
       "False"
      ]
     },
     "execution_count": 17,
     "metadata": {},
     "output_type": "execute_result"
    }
   ],
   "source": [
    "molecule is None # Alternatively by this way to check if the molecule is loaded properly."
   ]
  },
  {
   "cell_type": "code",
   "execution_count": 18,
   "metadata": {},
   "outputs": [
    {
     "data": {
      "text/plain": [
       "<rdkit.Chem.rdchem._ROAtomSeq at 0x1e893b36260>"
      ]
     },
     "execution_count": 18,
     "metadata": {},
     "output_type": "execute_result"
    }
   ],
   "source": [
    "molecule.GetAtoms()"
   ]
  },
  {
   "cell_type": "code",
   "execution_count": 19,
   "metadata": {},
   "outputs": [
    {
     "data": {
      "text/plain": [
       "[6, 6, 6, 6, 6, 6, 6, 6, 34, 6, 6, 8, 6, 6, 6, 6, 7, 16, 7, 6, 6, 6, 6, 7]"
      ]
     },
     "execution_count": 19,
     "metadata": {},
     "output_type": "execute_result"
    }
   ],
   "source": [
    "# First we care atoms as the existence of some specific atoms might has something to do with PCE.\n",
    "atomlist = []\n",
    "for atom in molecule.GetAtoms():\n",
    "    atomlist.append(atom.GetAtomicNum())\n",
    "atomlist\n",
    "# It should be useful when we try to find what atoms exist in a molecule as the atomic number is unique for each element."
   ]
  },
  {
   "cell_type": "code",
   "execution_count": 20,
   "metadata": {},
   "outputs": [],
   "source": [
    "# Use something like this to classify molecules with/without atom x.\n",
    "molecular_type_a = []\n",
    "molecular_type_b = []\n",
    "if 34 in atomlist:\n",
    "    molecular_type_a.append(data.loc[0])"
   ]
  },
  {
   "cell_type": "code",
   "execution_count": 21,
   "metadata": {},
   "outputs": [
    {
     "data": {
      "text/plain": [
       "'C18H9N3OSSe'"
      ]
     },
     "execution_count": 21,
     "metadata": {},
     "output_type": "execute_result"
    }
   ],
   "source": [
    "data['stoich_str'][0]"
   ]
  },
  {
   "cell_type": "code",
   "execution_count": 22,
   "metadata": {},
   "outputs": [
    {
     "data": {
      "text/plain": [
       "True"
      ]
     },
     "execution_count": 22,
     "metadata": {},
     "output_type": "execute_result"
    }
   ],
   "source": [
    "'Se' in data['stoich_str'][0] # Alernatively we can just directly do it like this to classify contained elements."
   ]
  },
  {
   "cell_type": "code",
   "execution_count": 23,
   "metadata": {},
   "outputs": [],
   "source": [
    "# What else other than elements/atoms we want to classify.\n",
    "# Maybe number of C-C double bonds?"
   ]
  },
  {
   "cell_type": "code",
   "execution_count": 24,
   "metadata": {},
   "outputs": [
    {
     "data": {
      "text/plain": [
       "2"
      ]
     },
     "execution_count": 24,
     "metadata": {},
     "output_type": "execute_result"
    }
   ],
   "source": [
    "double_count = 0\n",
    "for i in range(len(atomlist)):\n",
    "    if str(molecule.GetBonds()[i].GetBondType()) == 'DOUBLE':\n",
    "        double_count += 1\n",
    "double_count"
   ]
  },
  {
   "cell_type": "code",
   "execution_count": 25,
   "metadata": {},
   "outputs": [
    {
     "name": "stdout",
     "output_type": "stream",
     "text": [
      "SINGLE\n",
      "DOUBLE\n",
      "SINGLE\n",
      "DOUBLE\n",
      "SINGLE\n",
      "AROMATIC\n",
      "AROMATIC\n",
      "AROMATIC\n",
      "AROMATIC\n",
      "AROMATIC\n",
      "AROMATIC\n",
      "AROMATIC\n",
      "AROMATIC\n",
      "AROMATIC\n",
      "AROMATIC\n",
      "AROMATIC\n",
      "AROMATIC\n",
      "AROMATIC\n",
      "AROMATIC\n",
      "AROMATIC\n",
      "AROMATIC\n",
      "AROMATIC\n",
      "AROMATIC\n",
      "SINGLE\n"
     ]
    }
   ],
   "source": [
    "for i in range(len(atomlist)):\n",
    "    print(molecule.GetBonds()[i].GetBondType())"
   ]
  },
  {
   "cell_type": "code",
   "execution_count": 26,
   "metadata": {},
   "outputs": [
    {
     "data": {
      "text/plain": [
       "24"
      ]
     },
     "execution_count": 26,
     "metadata": {},
     "output_type": "execute_result"
    }
   ],
   "source": [
    "# Maybe also the number of rings?\n",
    "ring_count = 0\n",
    "for i in range(len(atomlist)):\n",
    "    if molecule.GetAtomWithIdx(0).IsInRing() == True:\n",
    "        ring_count += 1\n",
    "ring_count"
   ]
  },
  {
   "cell_type": "code",
   "execution_count": 39,
   "metadata": {
    "scrolled": false
   },
   "outputs": [
    {
     "name": "stdout",
     "output_type": "stream",
     "text": [
      "there are 637 molecules that have pce more than 10\n"
     ]
    },
    {
     "data": {
      "text/html": [
       "<div>\n",
       "<style scoped>\n",
       "    .dataframe tbody tr th:only-of-type {\n",
       "        vertical-align: middle;\n",
       "    }\n",
       "\n",
       "    .dataframe tbody tr th {\n",
       "        vertical-align: top;\n",
       "    }\n",
       "\n",
       "    .dataframe thead th {\n",
       "        text-align: right;\n",
       "    }\n",
       "</style>\n",
       "<table border=\"1\" class=\"dataframe\">\n",
       "  <thead>\n",
       "    <tr style=\"text-align: right;\">\n",
       "      <th></th>\n",
       "      <th>id</th>\n",
       "      <th>SMILES_str</th>\n",
       "      <th>stoich_str</th>\n",
       "      <th>mass</th>\n",
       "      <th>pce</th>\n",
       "      <th>voc</th>\n",
       "      <th>jsc</th>\n",
       "      <th>e_homo_alpha</th>\n",
       "      <th>e_gap_alpha</th>\n",
       "      <th>e_lumo_alpha</th>\n",
       "      <th>tmp_smiles_str</th>\n",
       "    </tr>\n",
       "  </thead>\n",
       "  <tbody>\n",
       "    <tr>\n",
       "      <th>89026</th>\n",
       "      <td>267487</td>\n",
       "      <td>C1C=Cc2[se]c3c4[SiH2]C(=Cc4c4nsnc4c3c12)c1cncc...</td>\n",
       "      <td>C18H9N5S2SeSi</td>\n",
       "      <td>466.4821</td>\n",
       "      <td>11.097939</td>\n",
       "      <td>0.835571</td>\n",
       "      <td>204.411996</td>\n",
       "      <td>-5.435571</td>\n",
       "      <td>1.435758</td>\n",
       "      <td>-3.999813</td>\n",
       "      <td>C1=Cc2[se]c3c4[SiH2]C(=Cc4c4nsnc4c3c2C1)c1cncc...</td>\n",
       "    </tr>\n",
       "    <tr>\n",
       "      <th>48713</th>\n",
       "      <td>1852537</td>\n",
       "      <td>[SiH2]1C=c2c3cc(C4=CC=C[SiH2]4)c4nsnc4c3c3c4ns...</td>\n",
       "      <td>C24H14N4S2Si2</td>\n",
       "      <td>478.7066</td>\n",
       "      <td>11.089069</td>\n",
       "      <td>0.828104</td>\n",
       "      <td>206.090379</td>\n",
       "      <td>-5.428104</td>\n",
       "      <td>1.428751</td>\n",
       "      <td>-3.999353</td>\n",
       "      <td>C1=CC=C([SiH2]1)c1cc2c(c3nsnc13)c1c3nsnc3c3ccc...</td>\n",
       "    </tr>\n",
       "    <tr>\n",
       "      <th>87897</th>\n",
       "      <td>1541661</td>\n",
       "      <td>[SiH2]1C=Cc2[se]c3c(sc4cc([se]c34)-c3cncc4nsnc...</td>\n",
       "      <td>C15H7N3S2Se2Si</td>\n",
       "      <td>479.3793</td>\n",
       "      <td>11.084254</td>\n",
       "      <td>0.854591</td>\n",
       "      <td>199.616078</td>\n",
       "      <td>-5.454591</td>\n",
       "      <td>1.455117</td>\n",
       "      <td>-3.999474</td>\n",
       "      <td>C1=Cc2[se]c3c(sc4cc([se]c34)-c3cncc4nsnc34)c2[...</td>\n",
       "    </tr>\n",
       "    <tr>\n",
       "      <th>20301</th>\n",
       "      <td>2930157</td>\n",
       "      <td>C1C=CC=C1c1cc2c3nsnc3c3c4c5nsnc5ccc4c4=C[SiH2]...</td>\n",
       "      <td>C24H13N5S2Si</td>\n",
       "      <td>463.6197</td>\n",
       "      <td>11.064108</td>\n",
       "      <td>0.851306</td>\n",
       "      <td>200.022349</td>\n",
       "      <td>-5.451306</td>\n",
       "      <td>1.452847</td>\n",
       "      <td>-3.998458</td>\n",
       "      <td>C1=CC=C(C1)c1cc2c3nsnc3c3c4c5nsnc5ccc4c4=C[SiH...</td>\n",
       "    </tr>\n",
       "    <tr>\n",
       "      <th>67356</th>\n",
       "      <td>1751105</td>\n",
       "      <td>[SiH2]1C=CC=C1c1cc2c3nsnc3c3c(sc4ccc5cscc5c34)...</td>\n",
       "      <td>C22H10N4S4Si</td>\n",
       "      <td>486.6990</td>\n",
       "      <td>11.063341</td>\n",
       "      <td>0.783588</td>\n",
       "      <td>217.293230</td>\n",
       "      <td>-5.383588</td>\n",
       "      <td>1.387194</td>\n",
       "      <td>-3.996394</td>\n",
       "      <td>C1=CC=C([SiH2]1)c1cc2c3nsnc3c3c(sc4ccc5cscc5c3...</td>\n",
       "    </tr>\n",
       "  </tbody>\n",
       "</table>\n",
       "</div>"
      ],
      "text/plain": [
       "            id                                         SMILES_str  \\\n",
       "89026   267487  C1C=Cc2[se]c3c4[SiH2]C(=Cc4c4nsnc4c3c12)c1cncc...   \n",
       "48713  1852537  [SiH2]1C=c2c3cc(C4=CC=C[SiH2]4)c4nsnc4c3c3c4ns...   \n",
       "87897  1541661  [SiH2]1C=Cc2[se]c3c(sc4cc([se]c34)-c3cncc4nsnc...   \n",
       "20301  2930157  C1C=CC=C1c1cc2c3nsnc3c3c4c5nsnc5ccc4c4=C[SiH2]...   \n",
       "67356  1751105  [SiH2]1C=CC=C1c1cc2c3nsnc3c3c(sc4ccc5cscc5c34)...   \n",
       "\n",
       "           stoich_str      mass        pce       voc         jsc  \\\n",
       "89026   C18H9N5S2SeSi  466.4821  11.097939  0.835571  204.411996   \n",
       "48713   C24H14N4S2Si2  478.7066  11.089069  0.828104  206.090379   \n",
       "87897  C15H7N3S2Se2Si  479.3793  11.084254  0.854591  199.616078   \n",
       "20301    C24H13N5S2Si  463.6197  11.064108  0.851306  200.022349   \n",
       "67356    C22H10N4S4Si  486.6990  11.063341  0.783588  217.293230   \n",
       "\n",
       "       e_homo_alpha  e_gap_alpha  e_lumo_alpha  \\\n",
       "89026     -5.435571     1.435758     -3.999813   \n",
       "48713     -5.428104     1.428751     -3.999353   \n",
       "87897     -5.454591     1.455117     -3.999474   \n",
       "20301     -5.451306     1.452847     -3.998458   \n",
       "67356     -5.383588     1.387194     -3.996394   \n",
       "\n",
       "                                          tmp_smiles_str  \n",
       "89026  C1=Cc2[se]c3c4[SiH2]C(=Cc4c4nsnc4c3c2C1)c1cncc...  \n",
       "48713  C1=CC=C([SiH2]1)c1cc2c(c3nsnc13)c1c3nsnc3c3ccc...  \n",
       "87897  C1=Cc2[se]c3c(sc4cc([se]c34)-c3cncc4nsnc34)c2[...  \n",
       "20301  C1=CC=C(C1)c1cc2c3nsnc3c3c4c5nsnc5ccc4c4=C[SiH...  \n",
       "67356  C1=CC=C([SiH2]1)c1cc2c3nsnc3c3c(sc4ccc5cscc5c3...  "
      ]
     },
     "execution_count": 39,
     "metadata": {},
     "output_type": "execute_result"
    }
   ],
   "source": [
    "# sort dataframe by descending pce value\n",
    "# extract molecules that have pce more than 10\n",
    "data_hipce = data.sort_values('pce', ascending=False)\n",
    "data_pce10 = data_hipce.loc[data_hipce['pce'] > 10]\n",
    "print('there are', len(data_pce10), 'molecules that have pce more than 10')\n",
    "data_pce10.head()"
   ]
  },
  {
   "cell_type": "code",
   "execution_count": 56,
   "metadata": {},
   "outputs": [
    {
     "data": {
      "text/plain": [
       "'C1C=Cc2[se]c3c4[SiH2]C(=Cc4c4nsnc4c3c12)c1cncc2nsnc12'"
      ]
     },
     "execution_count": 56,
     "metadata": {},
     "output_type": "execute_result"
    }
   ],
   "source": [
    "data_pce10['SMILES_str'].values[0]"
   ]
  },
  {
   "cell_type": "code",
   "execution_count": 58,
   "metadata": {},
   "outputs": [
    {
     "data": {
      "text/plain": [
       "13"
      ]
     },
     "execution_count": 58,
     "metadata": {},
     "output_type": "execute_result"
    }
   ],
   "source": [
    "from rdkit.Chem import rdFMCS\n",
    "mol1 = Chem.MolFromSmiles(data_pce10['SMILES_str'].values[0])\n",
    "mol2 = Chem.MolFromSmiles(data_pce10['SMILES_str'].values[1])\n",
    "mol3 = Chem.MolFromSmiles(data_pce10['SMILES_str'].values[2])\n",
    "mols = [mol1,mol2,mol3]\n",
    "res=rdFMCS.FindMCS(mols)\n",
    "res\n",
    "res.numAtoms"
   ]
  },
  {
   "cell_type": "code",
   "execution_count": 59,
   "metadata": {},
   "outputs": [
    {
     "data": {
      "text/plain": [
       "'[#6](:,-[#6]):,-[#6]:[#6]:[#6]:[#6]-,:[#6](:,-[#6]):[#6]1:[#7]:[#16]:[#7]:[#6]:1'"
      ]
     },
     "execution_count": 59,
     "metadata": {},
     "output_type": "execute_result"
    }
   ],
   "source": [
    "res.smartsString"
   ]
  },
  {
   "cell_type": "code",
   "execution_count": 69,
   "metadata": {},
   "outputs": [
    {
     "data": {
      "text/plain": [
       "'C:C:C:C:C:CC(:C):C1:C:N:[SH]:N:1'"
      ]
     },
     "execution_count": 69,
     "metadata": {},
     "output_type": "execute_result"
    }
   ],
   "source": [
    "mcs = Chem.MolToSmiles(Chem.MolFromSmarts(res.smartsString))\n",
    "mcs"
   ]
  },
  {
   "cell_type": "code",
   "execution_count": 66,
   "metadata": {},
   "outputs": [
    {
     "ename": "ArgumentError",
     "evalue": "Python argument types in\n    rdkit.Chem.rdDepictor.Compute2DCoords(NoneType)\ndid not match C++ signature:\n    Compute2DCoords(class RDKit::ROMol {lvalue} mol, bool canonOrient=True, bool clearConfs=True, class boost::python::dict {lvalue} coordMap={}, unsigned int nFlipsPerSample=0, unsigned int nSample=0, int sampleSeed=0, bool permuteDeg4Nodes=False, double bondLength=-1.0, bool forceRDKit=False)",
     "output_type": "error",
     "traceback": [
      "\u001b[1;31m---------------------------------------------------------------------------\u001b[0m",
      "\u001b[1;31mArgumentError\u001b[0m                             Traceback (most recent call last)",
      "\u001b[1;32m<ipython-input-66-f3b7ce76580c>\u001b[0m in \u001b[0;36m<module>\u001b[1;34m\u001b[0m\n\u001b[0;32m      1\u001b[0m \u001b[0mm\u001b[0m \u001b[1;33m=\u001b[0m \u001b[0mChem\u001b[0m\u001b[1;33m.\u001b[0m\u001b[0mMolFromSmiles\u001b[0m\u001b[1;33m(\u001b[0m\u001b[0mmcs\u001b[0m\u001b[1;33m)\u001b[0m\u001b[1;33m\u001b[0m\u001b[1;33m\u001b[0m\u001b[0m\n\u001b[1;32m----> 2\u001b[1;33m \u001b[0mAllChem\u001b[0m\u001b[1;33m.\u001b[0m\u001b[0mCompute2DCoords\u001b[0m\u001b[1;33m(\u001b[0m\u001b[0mm\u001b[0m\u001b[1;33m)\u001b[0m\u001b[1;33m\u001b[0m\u001b[1;33m\u001b[0m\u001b[0m\n\u001b[0m",
      "\u001b[1;31mArgumentError\u001b[0m: Python argument types in\n    rdkit.Chem.rdDepictor.Compute2DCoords(NoneType)\ndid not match C++ signature:\n    Compute2DCoords(class RDKit::ROMol {lvalue} mol, bool canonOrient=True, bool clearConfs=True, class boost::python::dict {lvalue} coordMap={}, unsigned int nFlipsPerSample=0, unsigned int nSample=0, int sampleSeed=0, bool permuteDeg4Nodes=False, double bondLength=-1.0, bool forceRDKit=False)"
     ]
    }
   ],
   "source": [
    "m = Chem.MolFromSmiles(mcs)\n",
    "AllChem.Compute2DCoords(m)"
   ]
  },
  {
   "cell_type": "code",
   "execution_count": 1,
   "metadata": {},
   "outputs": [
    {
     "ename": "ModuleNotFoundError",
     "evalue": "No module named 'tensorflow'",
     "output_type": "error",
     "traceback": [
      "\u001b[1;31m---------------------------------------------------------------------------\u001b[0m",
      "\u001b[1;31mModuleNotFoundError\u001b[0m                       Traceback (most recent call last)",
      "\u001b[1;32m<ipython-input-1-d6579f534729>\u001b[0m in \u001b[0;36m<module>\u001b[1;34m\u001b[0m\n\u001b[1;32m----> 1\u001b[1;33m \u001b[1;32mimport\u001b[0m \u001b[0mtensorflow\u001b[0m\u001b[1;33m\u001b[0m\u001b[1;33m\u001b[0m\u001b[0m\n\u001b[0m",
      "\u001b[1;31mModuleNotFoundError\u001b[0m: No module named 'tensorflow'"
     ]
    }
   ],
   "source": [
    "import tensorflow"
   ]
  },
  {
   "cell_type": "code",
   "execution_count": null,
   "metadata": {},
   "outputs": [],
   "source": []
  }
 ],
 "metadata": {
  "kernelspec": {
   "display_name": "Python 3",
   "language": "python",
   "name": "python3"
  },
  "language_info": {
   "codemirror_mode": {
    "name": "ipython",
    "version": 3
   },
   "file_extension": ".py",
   "mimetype": "text/x-python",
   "name": "python",
   "nbconvert_exporter": "python",
   "pygments_lexer": "ipython3",
   "version": "3.7.1"
  }
 },
 "nbformat": 4,
 "nbformat_minor": 2
}
