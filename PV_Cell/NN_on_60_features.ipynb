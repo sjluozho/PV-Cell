{
 "cells": [
  {
   "cell_type": "code",
   "execution_count": 1,
   "metadata": {},
   "outputs": [
    {
     "name": "stderr",
     "output_type": "stream",
     "text": [
      "Using TensorFlow backend.\n"
     ]
    }
   ],
   "source": [
    "from keras.models import Sequential\n",
    "from keras.layers import Dense\n",
    "from keras.layers import Dropout\n",
    "from keras.wrappers.scikit_learn import KerasRegressor\n",
    "import matplotlib.pyplot as plt\n",
    "import numpy as np\n",
    "import pandas as pd\n",
    "from sklearn.model_selection import cross_val_score\n",
    "from sklearn.model_selection import KFold\n",
    "from sklearn.model_selection import train_test_split\n",
    "from sklearn.preprocessing import StandardScaler\n",
    "from sklearn.pipeline import Pipeline\n",
    "\n",
    "%matplotlib inline"
   ]
  },
  {
   "cell_type": "code",
   "execution_count": null,
   "metadata": {},
   "outputs": [],
   "source": []
  },
  {
   "cell_type": "code",
   "execution_count": 2,
   "metadata": {},
   "outputs": [],
   "source": [
    "feature_name = pd.read_csv('Data Cleaning/first_60_features.csv')\n",
    "feature_1k = pd.read_csv('Data Cleaning/features_25000_26000_R.csv') "
   ]
  },
  {
   "cell_type": "code",
   "execution_count": 3,
   "metadata": {},
   "outputs": [],
   "source": [
    "feature_name = feature_name.drop(columns = 'Unnamed: 0')"
   ]
  },
  {
   "cell_type": "code",
   "execution_count": 4,
   "metadata": {},
   "outputs": [
    {
     "data": {
      "text/html": [
       "<div>\n",
       "<style scoped>\n",
       "    .dataframe tbody tr th:only-of-type {\n",
       "        vertical-align: middle;\n",
       "    }\n",
       "\n",
       "    .dataframe tbody tr th {\n",
       "        vertical-align: top;\n",
       "    }\n",
       "\n",
       "    .dataframe thead th {\n",
       "        text-align: right;\n",
       "    }\n",
       "</style>\n",
       "<table border=\"1\" class=\"dataframe\">\n",
       "  <thead>\n",
       "    <tr style=\"text-align: right;\">\n",
       "      <th></th>\n",
       "      <th>AATS8p</th>\n",
       "      <th>AATS8v</th>\n",
       "      <th>AATSC0d</th>\n",
       "      <th>AATSC0s</th>\n",
       "      <th>AATSC1c</th>\n",
       "      <th>AATSC1i</th>\n",
       "      <th>AATSC4c</th>\n",
       "      <th>AATSC4i</th>\n",
       "      <th>AATSC6dv</th>\n",
       "      <th>AATSC8i</th>\n",
       "      <th>...</th>\n",
       "      <th>PEOE_VSA2</th>\n",
       "      <th>PEOE_VSA9</th>\n",
       "      <th>SIC5</th>\n",
       "      <th>SaaN</th>\n",
       "      <th>SaaNH</th>\n",
       "      <th>SssSiH2</th>\n",
       "      <th>Xch-7d</th>\n",
       "      <th>nFARing</th>\n",
       "      <th>nG12FHRing</th>\n",
       "      <th>nHBDon</th>\n",
       "    </tr>\n",
       "  </thead>\n",
       "  <tbody>\n",
       "    <tr>\n",
       "      <th>995</th>\n",
       "      <td>1.530795</td>\n",
       "      <td>207.877109</td>\n",
       "      <td>0.584961</td>\n",
       "      <td>0.450277</td>\n",
       "      <td>-0.006698</td>\n",
       "      <td>-0.110481</td>\n",
       "      <td>0.000568</td>\n",
       "      <td>-0.078522</td>\n",
       "      <td>-0.456878</td>\n",
       "      <td>0.010783</td>\n",
       "      <td>...</td>\n",
       "      <td>4.983979</td>\n",
       "      <td>11.957091</td>\n",
       "      <td>0.987500</td>\n",
       "      <td>4.580062</td>\n",
       "      <td>0.000000</td>\n",
       "      <td>0.000000</td>\n",
       "      <td>0.971874</td>\n",
       "      <td>0</td>\n",
       "      <td>1</td>\n",
       "      <td>0</td>\n",
       "    </tr>\n",
       "    <tr>\n",
       "      <th>996</th>\n",
       "      <td>1.433559</td>\n",
       "      <td>191.784961</td>\n",
       "      <td>0.606061</td>\n",
       "      <td>0.499358</td>\n",
       "      <td>-0.007908</td>\n",
       "      <td>-0.039948</td>\n",
       "      <td>-0.001057</td>\n",
       "      <td>-0.025058</td>\n",
       "      <td>-0.618865</td>\n",
       "      <td>0.004139</td>\n",
       "      <td>...</td>\n",
       "      <td>0.000000</td>\n",
       "      <td>11.649387</td>\n",
       "      <td>0.987985</td>\n",
       "      <td>0.000000</td>\n",
       "      <td>0.000000</td>\n",
       "      <td>0.000000</td>\n",
       "      <td>1.396058</td>\n",
       "      <td>0</td>\n",
       "      <td>1</td>\n",
       "      <td>0</td>\n",
       "    </tr>\n",
       "    <tr>\n",
       "      <th>997</th>\n",
       "      <td>1.340129</td>\n",
       "      <td>169.686489</td>\n",
       "      <td>0.622001</td>\n",
       "      <td>0.239324</td>\n",
       "      <td>-0.001893</td>\n",
       "      <td>0.073891</td>\n",
       "      <td>0.000173</td>\n",
       "      <td>-0.152389</td>\n",
       "      <td>-0.695780</td>\n",
       "      <td>0.128911</td>\n",
       "      <td>...</td>\n",
       "      <td>4.983979</td>\n",
       "      <td>5.516701</td>\n",
       "      <td>0.977017</td>\n",
       "      <td>4.961134</td>\n",
       "      <td>3.369872</td>\n",
       "      <td>0.000000</td>\n",
       "      <td>1.050199</td>\n",
       "      <td>1</td>\n",
       "      <td>1</td>\n",
       "      <td>1</td>\n",
       "    </tr>\n",
       "    <tr>\n",
       "      <th>998</th>\n",
       "      <td>1.756651</td>\n",
       "      <td>183.948075</td>\n",
       "      <td>0.615079</td>\n",
       "      <td>0.268178</td>\n",
       "      <td>-0.001132</td>\n",
       "      <td>-0.250174</td>\n",
       "      <td>0.000350</td>\n",
       "      <td>-0.226674</td>\n",
       "      <td>-0.721212</td>\n",
       "      <td>-0.125804</td>\n",
       "      <td>...</td>\n",
       "      <td>4.983979</td>\n",
       "      <td>24.555903</td>\n",
       "      <td>0.973507</td>\n",
       "      <td>4.924767</td>\n",
       "      <td>0.000000</td>\n",
       "      <td>-0.528877</td>\n",
       "      <td>0.947967</td>\n",
       "      <td>1</td>\n",
       "      <td>1</td>\n",
       "      <td>0</td>\n",
       "    </tr>\n",
       "    <tr>\n",
       "      <th>999</th>\n",
       "      <td>1.468610</td>\n",
       "      <td>177.473426</td>\n",
       "      <td>0.591368</td>\n",
       "      <td>0.321554</td>\n",
       "      <td>0.000000</td>\n",
       "      <td>0.062837</td>\n",
       "      <td>0.000000</td>\n",
       "      <td>0.028685</td>\n",
       "      <td>-0.753015</td>\n",
       "      <td>-0.195278</td>\n",
       "      <td>...</td>\n",
       "      <td>0.000000</td>\n",
       "      <td>0.000000</td>\n",
       "      <td>0.987985</td>\n",
       "      <td>0.000000</td>\n",
       "      <td>0.000000</td>\n",
       "      <td>0.000000</td>\n",
       "      <td>1.073688</td>\n",
       "      <td>0</td>\n",
       "      <td>1</td>\n",
       "      <td>0</td>\n",
       "    </tr>\n",
       "  </tbody>\n",
       "</table>\n",
       "<p>5 rows × 60 columns</p>\n",
       "</div>"
      ],
      "text/plain": [
       "       AATS8p      AATS8v   AATSC0d   AATSC0s   AATSC1c   AATSC1i   AATSC4c  \\\n",
       "995  1.530795  207.877109  0.584961  0.450277 -0.006698 -0.110481  0.000568   \n",
       "996  1.433559  191.784961  0.606061  0.499358 -0.007908 -0.039948 -0.001057   \n",
       "997  1.340129  169.686489  0.622001  0.239324 -0.001893  0.073891  0.000173   \n",
       "998  1.756651  183.948075  0.615079  0.268178 -0.001132 -0.250174  0.000350   \n",
       "999  1.468610  177.473426  0.591368  0.321554  0.000000  0.062837  0.000000   \n",
       "\n",
       "      AATSC4i  AATSC6dv   AATSC8i  ...  PEOE_VSA2  PEOE_VSA9      SIC5  \\\n",
       "995 -0.078522 -0.456878  0.010783  ...   4.983979  11.957091  0.987500   \n",
       "996 -0.025058 -0.618865  0.004139  ...   0.000000  11.649387  0.987985   \n",
       "997 -0.152389 -0.695780  0.128911  ...   4.983979   5.516701  0.977017   \n",
       "998 -0.226674 -0.721212 -0.125804  ...   4.983979  24.555903  0.973507   \n",
       "999  0.028685 -0.753015 -0.195278  ...   0.000000   0.000000  0.987985   \n",
       "\n",
       "         SaaN     SaaNH   SssSiH2    Xch-7d  nFARing  nG12FHRing  nHBDon  \n",
       "995  4.580062  0.000000  0.000000  0.971874        0           1       0  \n",
       "996  0.000000  0.000000  0.000000  1.396058        0           1       0  \n",
       "997  4.961134  3.369872  0.000000  1.050199        1           1       1  \n",
       "998  4.924767  0.000000 -0.528877  0.947967        1           1       0  \n",
       "999  0.000000  0.000000  0.000000  1.073688        0           1       0  \n",
       "\n",
       "[5 rows x 60 columns]"
      ]
     },
     "execution_count": 4,
     "metadata": {},
     "output_type": "execute_result"
    }
   ],
   "source": [
    "selected_features = feature_name.values.reshape(1,-1)\n",
    "selected_features[0]\n",
    "features = feature_1k[selected_features[0]]\n",
    "features.tail()"
   ]
  },
  {
   "cell_type": "code",
   "execution_count": null,
   "metadata": {},
   "outputs": [],
   "source": []
  },
  {
   "cell_type": "code",
   "execution_count": null,
   "metadata": {},
   "outputs": [],
   "source": []
  },
  {
   "cell_type": "code",
   "execution_count": 5,
   "metadata": {},
   "outputs": [],
   "source": [
    "seed = 21899"
   ]
  },
  {
   "cell_type": "code",
   "execution_count": 18,
   "metadata": {
    "scrolled": false
   },
   "outputs": [
    {
     "data": {
      "text/html": [
       "<div>\n",
       "<style scoped>\n",
       "    .dataframe tbody tr th:only-of-type {\n",
       "        vertical-align: middle;\n",
       "    }\n",
       "\n",
       "    .dataframe tbody tr th {\n",
       "        vertical-align: top;\n",
       "    }\n",
       "\n",
       "    .dataframe thead th {\n",
       "        text-align: right;\n",
       "    }\n",
       "</style>\n",
       "<table border=\"1\" class=\"dataframe\">\n",
       "  <thead>\n",
       "    <tr style=\"text-align: right;\">\n",
       "      <th></th>\n",
       "      <th>Unnamed: 0</th>\n",
       "      <th>AATS8p</th>\n",
       "      <th>AATS8v</th>\n",
       "      <th>AATSC0d</th>\n",
       "      <th>AATSC0s</th>\n",
       "      <th>AATSC1c</th>\n",
       "      <th>AATSC1i</th>\n",
       "      <th>AATSC4c</th>\n",
       "      <th>AATSC4i</th>\n",
       "      <th>AATSC6dv</th>\n",
       "      <th>...</th>\n",
       "      <th>PEOE_VSA2</th>\n",
       "      <th>PEOE_VSA9</th>\n",
       "      <th>SIC5</th>\n",
       "      <th>SaaN</th>\n",
       "      <th>SaaNH</th>\n",
       "      <th>SssSiH2</th>\n",
       "      <th>Xch-7d</th>\n",
       "      <th>nFARing</th>\n",
       "      <th>nG12FHRing</th>\n",
       "      <th>nHBDon</th>\n",
       "    </tr>\n",
       "  </thead>\n",
       "  <tbody>\n",
       "    <tr>\n",
       "      <th>0</th>\n",
       "      <td>0</td>\n",
       "      <td>1.692047</td>\n",
       "      <td>234.750107</td>\n",
       "      <td>0.574839</td>\n",
       "      <td>0.479809</td>\n",
       "      <td>0.000000</td>\n",
       "      <td>-0.280498</td>\n",
       "      <td>0.000000</td>\n",
       "      <td>-0.105693</td>\n",
       "      <td>0.100130</td>\n",
       "      <td>...</td>\n",
       "      <td>0.0</td>\n",
       "      <td>0.000000</td>\n",
       "      <td>0.987985</td>\n",
       "      <td>13.774789</td>\n",
       "      <td>0.000000</td>\n",
       "      <td>0.000000</td>\n",
       "      <td>1.197844</td>\n",
       "      <td>0</td>\n",
       "      <td>1</td>\n",
       "      <td>0</td>\n",
       "    </tr>\n",
       "    <tr>\n",
       "      <th>1</th>\n",
       "      <td>1</td>\n",
       "      <td>1.697847</td>\n",
       "      <td>202.250043</td>\n",
       "      <td>0.609375</td>\n",
       "      <td>0.271559</td>\n",
       "      <td>0.000000</td>\n",
       "      <td>-0.102372</td>\n",
       "      <td>0.000000</td>\n",
       "      <td>0.112876</td>\n",
       "      <td>-0.245837</td>\n",
       "      <td>...</td>\n",
       "      <td>0.0</td>\n",
       "      <td>0.000000</td>\n",
       "      <td>0.981210</td>\n",
       "      <td>4.903642</td>\n",
       "      <td>0.000000</td>\n",
       "      <td>-0.237157</td>\n",
       "      <td>1.099513</td>\n",
       "      <td>1</td>\n",
       "      <td>1</td>\n",
       "      <td>0</td>\n",
       "    </tr>\n",
       "    <tr>\n",
       "      <th>2</th>\n",
       "      <td>2</td>\n",
       "      <td>1.519396</td>\n",
       "      <td>180.634859</td>\n",
       "      <td>0.646178</td>\n",
       "      <td>0.295003</td>\n",
       "      <td>-0.003817</td>\n",
       "      <td>-0.018808</td>\n",
       "      <td>0.000335</td>\n",
       "      <td>-0.128555</td>\n",
       "      <td>-1.040159</td>\n",
       "      <td>...</td>\n",
       "      <td>0.0</td>\n",
       "      <td>9.519601</td>\n",
       "      <td>0.975022</td>\n",
       "      <td>0.000000</td>\n",
       "      <td>3.354368</td>\n",
       "      <td>-0.521974</td>\n",
       "      <td>1.460154</td>\n",
       "      <td>1</td>\n",
       "      <td>1</td>\n",
       "      <td>1</td>\n",
       "    </tr>\n",
       "    <tr>\n",
       "      <th>3</th>\n",
       "      <td>3</td>\n",
       "      <td>1.996074</td>\n",
       "      <td>183.538805</td>\n",
       "      <td>0.596939</td>\n",
       "      <td>0.253981</td>\n",
       "      <td>0.000000</td>\n",
       "      <td>-0.785079</td>\n",
       "      <td>0.000000</td>\n",
       "      <td>-0.906693</td>\n",
       "      <td>-0.234105</td>\n",
       "      <td>...</td>\n",
       "      <td>0.0</td>\n",
       "      <td>0.000000</td>\n",
       "      <td>0.955425</td>\n",
       "      <td>0.000000</td>\n",
       "      <td>0.000000</td>\n",
       "      <td>-0.114153</td>\n",
       "      <td>0.913246</td>\n",
       "      <td>2</td>\n",
       "      <td>0</td>\n",
       "      <td>0</td>\n",
       "    </tr>\n",
       "    <tr>\n",
       "      <th>4</th>\n",
       "      <td>4</td>\n",
       "      <td>1.785965</td>\n",
       "      <td>228.899102</td>\n",
       "      <td>0.625306</td>\n",
       "      <td>0.312798</td>\n",
       "      <td>0.000000</td>\n",
       "      <td>0.081051</td>\n",
       "      <td>0.000000</td>\n",
       "      <td>0.237523</td>\n",
       "      <td>-0.259253</td>\n",
       "      <td>...</td>\n",
       "      <td>0.0</td>\n",
       "      <td>0.000000</td>\n",
       "      <td>0.977719</td>\n",
       "      <td>0.000000</td>\n",
       "      <td>0.000000</td>\n",
       "      <td>0.000000</td>\n",
       "      <td>1.356599</td>\n",
       "      <td>1</td>\n",
       "      <td>1</td>\n",
       "      <td>0</td>\n",
       "    </tr>\n",
       "  </tbody>\n",
       "</table>\n",
       "<p>5 rows × 61 columns</p>\n",
       "</div>"
      ],
      "text/plain": [
       "   Unnamed: 0    AATS8p      AATS8v   AATSC0d   AATSC0s   AATSC1c   AATSC1i  \\\n",
       "0           0  1.692047  234.750107  0.574839  0.479809  0.000000 -0.280498   \n",
       "1           1  1.697847  202.250043  0.609375  0.271559  0.000000 -0.102372   \n",
       "2           2  1.519396  180.634859  0.646178  0.295003 -0.003817 -0.018808   \n",
       "3           3  1.996074  183.538805  0.596939  0.253981  0.000000 -0.785079   \n",
       "4           4  1.785965  228.899102  0.625306  0.312798  0.000000  0.081051   \n",
       "\n",
       "    AATSC4c   AATSC4i  AATSC6dv  ...  PEOE_VSA2  PEOE_VSA9      SIC5  \\\n",
       "0  0.000000 -0.105693  0.100130  ...        0.0   0.000000  0.987985   \n",
       "1  0.000000  0.112876 -0.245837  ...        0.0   0.000000  0.981210   \n",
       "2  0.000335 -0.128555 -1.040159  ...        0.0   9.519601  0.975022   \n",
       "3  0.000000 -0.906693 -0.234105  ...        0.0   0.000000  0.955425   \n",
       "4  0.000000  0.237523 -0.259253  ...        0.0   0.000000  0.977719   \n",
       "\n",
       "        SaaN     SaaNH   SssSiH2    Xch-7d  nFARing  nG12FHRing  nHBDon  \n",
       "0  13.774789  0.000000  0.000000  1.197844        0           1       0  \n",
       "1   4.903642  0.000000 -0.237157  1.099513        1           1       0  \n",
       "2   0.000000  3.354368 -0.521974  1.460154        1           1       1  \n",
       "3   0.000000  0.000000 -0.114153  0.913246        2           0       0  \n",
       "4   0.000000  0.000000  0.000000  1.356599        1           1       0  \n",
       "\n",
       "[5 rows x 61 columns]"
      ]
     },
     "execution_count": 18,
     "metadata": {},
     "output_type": "execute_result"
    }
   ],
   "source": [
    "#features = pd.read_csv('Data Cleaning/selected_data.csv')\n",
    "#features.head()"
   ]
  },
  {
   "cell_type": "code",
   "execution_count": 19,
   "metadata": {
    "scrolled": true
   },
   "outputs": [
    {
     "data": {
      "text/html": [
       "<div>\n",
       "<style scoped>\n",
       "    .dataframe tbody tr th:only-of-type {\n",
       "        vertical-align: middle;\n",
       "    }\n",
       "\n",
       "    .dataframe tbody tr th {\n",
       "        vertical-align: top;\n",
       "    }\n",
       "\n",
       "    .dataframe thead th {\n",
       "        text-align: right;\n",
       "    }\n",
       "</style>\n",
       "<table border=\"1\" class=\"dataframe\">\n",
       "  <thead>\n",
       "    <tr style=\"text-align: right;\">\n",
       "      <th></th>\n",
       "      <th>AATS8p</th>\n",
       "      <th>AATS8v</th>\n",
       "      <th>AATSC0d</th>\n",
       "      <th>AATSC0s</th>\n",
       "      <th>AATSC1c</th>\n",
       "      <th>AATSC1i</th>\n",
       "      <th>AATSC4c</th>\n",
       "      <th>AATSC4i</th>\n",
       "      <th>AATSC6dv</th>\n",
       "      <th>AATSC8i</th>\n",
       "      <th>...</th>\n",
       "      <th>PEOE_VSA2</th>\n",
       "      <th>PEOE_VSA9</th>\n",
       "      <th>SIC5</th>\n",
       "      <th>SaaN</th>\n",
       "      <th>SaaNH</th>\n",
       "      <th>SssSiH2</th>\n",
       "      <th>Xch-7d</th>\n",
       "      <th>nFARing</th>\n",
       "      <th>nG12FHRing</th>\n",
       "      <th>nHBDon</th>\n",
       "    </tr>\n",
       "  </thead>\n",
       "  <tbody>\n",
       "    <tr>\n",
       "      <th>0</th>\n",
       "      <td>1.692047</td>\n",
       "      <td>234.750107</td>\n",
       "      <td>0.574839</td>\n",
       "      <td>0.479809</td>\n",
       "      <td>0.000000</td>\n",
       "      <td>-0.280498</td>\n",
       "      <td>0.000000</td>\n",
       "      <td>-0.105693</td>\n",
       "      <td>0.100130</td>\n",
       "      <td>-0.001686</td>\n",
       "      <td>...</td>\n",
       "      <td>0.0</td>\n",
       "      <td>0.000000</td>\n",
       "      <td>0.987985</td>\n",
       "      <td>13.774789</td>\n",
       "      <td>0.000000</td>\n",
       "      <td>0.000000</td>\n",
       "      <td>1.197844</td>\n",
       "      <td>0</td>\n",
       "      <td>1</td>\n",
       "      <td>0</td>\n",
       "    </tr>\n",
       "    <tr>\n",
       "      <th>1</th>\n",
       "      <td>1.697847</td>\n",
       "      <td>202.250043</td>\n",
       "      <td>0.609375</td>\n",
       "      <td>0.271559</td>\n",
       "      <td>0.000000</td>\n",
       "      <td>-0.102372</td>\n",
       "      <td>0.000000</td>\n",
       "      <td>0.112876</td>\n",
       "      <td>-0.245837</td>\n",
       "      <td>0.177515</td>\n",
       "      <td>...</td>\n",
       "      <td>0.0</td>\n",
       "      <td>0.000000</td>\n",
       "      <td>0.981210</td>\n",
       "      <td>4.903642</td>\n",
       "      <td>0.000000</td>\n",
       "      <td>-0.237157</td>\n",
       "      <td>1.099513</td>\n",
       "      <td>1</td>\n",
       "      <td>1</td>\n",
       "      <td>0</td>\n",
       "    </tr>\n",
       "    <tr>\n",
       "      <th>2</th>\n",
       "      <td>1.519396</td>\n",
       "      <td>180.634859</td>\n",
       "      <td>0.646178</td>\n",
       "      <td>0.295003</td>\n",
       "      <td>-0.003817</td>\n",
       "      <td>-0.018808</td>\n",
       "      <td>0.000335</td>\n",
       "      <td>-0.128555</td>\n",
       "      <td>-1.040159</td>\n",
       "      <td>-0.349845</td>\n",
       "      <td>...</td>\n",
       "      <td>0.0</td>\n",
       "      <td>9.519601</td>\n",
       "      <td>0.975022</td>\n",
       "      <td>0.000000</td>\n",
       "      <td>3.354368</td>\n",
       "      <td>-0.521974</td>\n",
       "      <td>1.460154</td>\n",
       "      <td>1</td>\n",
       "      <td>1</td>\n",
       "      <td>1</td>\n",
       "    </tr>\n",
       "    <tr>\n",
       "      <th>3</th>\n",
       "      <td>1.996074</td>\n",
       "      <td>183.538805</td>\n",
       "      <td>0.596939</td>\n",
       "      <td>0.253981</td>\n",
       "      <td>0.000000</td>\n",
       "      <td>-0.785079</td>\n",
       "      <td>0.000000</td>\n",
       "      <td>-0.906693</td>\n",
       "      <td>-0.234105</td>\n",
       "      <td>-0.168336</td>\n",
       "      <td>...</td>\n",
       "      <td>0.0</td>\n",
       "      <td>0.000000</td>\n",
       "      <td>0.955425</td>\n",
       "      <td>0.000000</td>\n",
       "      <td>0.000000</td>\n",
       "      <td>-0.114153</td>\n",
       "      <td>0.913246</td>\n",
       "      <td>2</td>\n",
       "      <td>0</td>\n",
       "      <td>0</td>\n",
       "    </tr>\n",
       "    <tr>\n",
       "      <th>4</th>\n",
       "      <td>1.785965</td>\n",
       "      <td>228.899102</td>\n",
       "      <td>0.625306</td>\n",
       "      <td>0.312798</td>\n",
       "      <td>0.000000</td>\n",
       "      <td>0.081051</td>\n",
       "      <td>0.000000</td>\n",
       "      <td>0.237523</td>\n",
       "      <td>-0.259253</td>\n",
       "      <td>-0.026853</td>\n",
       "      <td>...</td>\n",
       "      <td>0.0</td>\n",
       "      <td>0.000000</td>\n",
       "      <td>0.977719</td>\n",
       "      <td>0.000000</td>\n",
       "      <td>0.000000</td>\n",
       "      <td>0.000000</td>\n",
       "      <td>1.356599</td>\n",
       "      <td>1</td>\n",
       "      <td>1</td>\n",
       "      <td>0</td>\n",
       "    </tr>\n",
       "  </tbody>\n",
       "</table>\n",
       "<p>5 rows × 60 columns</p>\n",
       "</div>"
      ],
      "text/plain": [
       "     AATS8p      AATS8v   AATSC0d   AATSC0s   AATSC1c   AATSC1i   AATSC4c  \\\n",
       "0  1.692047  234.750107  0.574839  0.479809  0.000000 -0.280498  0.000000   \n",
       "1  1.697847  202.250043  0.609375  0.271559  0.000000 -0.102372  0.000000   \n",
       "2  1.519396  180.634859  0.646178  0.295003 -0.003817 -0.018808  0.000335   \n",
       "3  1.996074  183.538805  0.596939  0.253981  0.000000 -0.785079  0.000000   \n",
       "4  1.785965  228.899102  0.625306  0.312798  0.000000  0.081051  0.000000   \n",
       "\n",
       "    AATSC4i  AATSC6dv   AATSC8i  ...  PEOE_VSA2  PEOE_VSA9      SIC5  \\\n",
       "0 -0.105693  0.100130 -0.001686  ...        0.0   0.000000  0.987985   \n",
       "1  0.112876 -0.245837  0.177515  ...        0.0   0.000000  0.981210   \n",
       "2 -0.128555 -1.040159 -0.349845  ...        0.0   9.519601  0.975022   \n",
       "3 -0.906693 -0.234105 -0.168336  ...        0.0   0.000000  0.955425   \n",
       "4  0.237523 -0.259253 -0.026853  ...        0.0   0.000000  0.977719   \n",
       "\n",
       "        SaaN     SaaNH   SssSiH2    Xch-7d  nFARing  nG12FHRing  nHBDon  \n",
       "0  13.774789  0.000000  0.000000  1.197844        0           1       0  \n",
       "1   4.903642  0.000000 -0.237157  1.099513        1           1       0  \n",
       "2   0.000000  3.354368 -0.521974  1.460154        1           1       1  \n",
       "3   0.000000  0.000000 -0.114153  0.913246        2           0       0  \n",
       "4   0.000000  0.000000  0.000000  1.356599        1           1       0  \n",
       "\n",
       "[5 rows x 60 columns]"
      ]
     },
     "execution_count": 19,
     "metadata": {},
     "output_type": "execute_result"
    }
   ],
   "source": [
    "#features = features.drop(columns = 'Unnamed: 0')\n",
    "#features.head()"
   ]
  },
  {
   "cell_type": "code",
   "execution_count": 6,
   "metadata": {
    "scrolled": false
   },
   "outputs": [],
   "source": [
    "fe_list = features.columns.tolist()"
   ]
  },
  {
   "cell_type": "code",
   "execution_count": 7,
   "metadata": {
    "scrolled": true
   },
   "outputs": [],
   "source": [
    "data = pd.read_csv('Database/HCEPD_100K.csv')\n",
    "data = data[25000:26000]"
   ]
  },
  {
   "cell_type": "code",
   "execution_count": 8,
   "metadata": {},
   "outputs": [],
   "source": [
    "X = features[fe_list].values\n",
    "Y = data[['pce']].values"
   ]
  },
  {
   "cell_type": "code",
   "execution_count": 9,
   "metadata": {},
   "outputs": [],
   "source": [
    "X_train_pn, X_test_pn, y_train, y_test = train_test_split(X, Y,\n",
    "                                                    test_size=0.20,\n",
    "                                                    random_state=seed)"
   ]
  },
  {
   "cell_type": "code",
   "execution_count": 10,
   "metadata": {},
   "outputs": [],
   "source": [
    "# create the scaler from the training data only and keep it for later use\n",
    "X_train_scaler = StandardScaler().fit(X_train_pn)\n",
    "# apply the scaler transform to the training data\n",
    "X_train = X_train_scaler.transform(X_train_pn)"
   ]
  },
  {
   "cell_type": "code",
   "execution_count": 11,
   "metadata": {},
   "outputs": [],
   "source": [
    "X_test = X_train_scaler.transform(X_test_pn)"
   ]
  },
  {
   "cell_type": "code",
   "execution_count": 12,
   "metadata": {},
   "outputs": [],
   "source": [
    "def nnmodel():\n",
    "    # assemble the structure\n",
    "    model = Sequential()\n",
    "    model.add(Dropout(0.2))\n",
    "    model.add(Dense(60, kernel_initializer='normal', activation='relu'))\n",
    "    model.add(Dense(30, kernel_initializer='normal', activation='relu'))\n",
    "    model.add(Dense(15, kernel_initializer='normal', activation='relu'))\n",
    "    model.add(Dense(8, kernel_initializer='normal', activation='relu'))\n",
    "    model.add(Dense(1, kernel_initializer='normal'))\n",
    "    # compile the model\n",
    "    model.compile(loss='mean_squared_error', optimizer='adam')\n",
    "    return model"
   ]
  },
  {
   "cell_type": "code",
   "execution_count": 13,
   "metadata": {
    "scrolled": true
   },
   "outputs": [
    {
     "name": "stdout",
     "output_type": "stream",
     "text": [
      "WARNING:tensorflow:From /Users/apple/miniconda3/lib/python3.6/site-packages/tensorflow/python/framework/op_def_library.py:263: colocate_with (from tensorflow.python.framework.ops) is deprecated and will be removed in a future version.\n",
      "Instructions for updating:\n",
      "Colocations handled automatically by placer.\n",
      "WARNING:tensorflow:From /Users/apple/miniconda3/lib/python3.6/site-packages/keras/backend/tensorflow_backend.py:3445: calling dropout (from tensorflow.python.ops.nn_ops) with keep_prob is deprecated and will be removed in a future version.\n",
      "Instructions for updating:\n",
      "Please use `rate` instead of `keep_prob`. Rate should be set to `rate = 1 - keep_prob`.\n",
      "WARNING:tensorflow:From /Users/apple/miniconda3/lib/python3.6/site-packages/tensorflow/python/ops/math_ops.py:3066: to_int32 (from tensorflow.python.ops.math_ops) is deprecated and will be removed in a future version.\n",
      "Instructions for updating:\n",
      "Use tf.cast instead.\n"
     ]
    }
   ],
   "source": [
    "# initialize the andom seed as this is used to generate\n",
    "# the starting weights\n",
    "np.random.seed(seed)\n",
    "# create the NN framework\n",
    "estimator = KerasRegressor(build_fn=nnmodel,\n",
    "        epochs=200, batch_size=200, verbose=0)\n",
    "history = estimator.fit(X_train, y_train, validation_split=0.25, epochs=1000, \n",
    "        batch_size=400, verbose=0)"
   ]
  },
  {
   "cell_type": "code",
   "execution_count": 14,
   "metadata": {},
   "outputs": [
    {
     "name": "stdout",
     "output_type": "stream",
     "text": [
      "final MSE for train is 0.25 and for validation is 0.58\n"
     ]
    }
   ],
   "source": [
    "print(\"final MSE for train is %.2f and for validation is %.2f\" % \n",
    "      (history.history['loss'][-1], history.history['val_loss'][-1]))"
   ]
  },
  {
   "cell_type": "code",
   "execution_count": 15,
   "metadata": {},
   "outputs": [
    {
     "data": {
      "image/png": "[encoded data removed]",
      "text/plain": [
       "<Figure size 432x288 with 1 Axes>"
      ]
     },
     "metadata": {
      "needs_background": "light"
     },
     "output_type": "display_data"
    }
   ],
   "source": [
    "# summarize history for loss\n",
    "plt.plot(history.history['loss'])\n",
    "plt.plot(history.history['val_loss'])\n",
    "plt.title('model loss')\n",
    "plt.ylabel('loss')\n",
    "plt.xlabel('epoch')\n",
    "plt.legend(['train', 'validation'], loc='upper left')\n",
    "plt.show()"
   ]
  },
  {
   "cell_type": "code",
   "execution_count": 16,
   "metadata": {
    "scrolled": true
   },
   "outputs": [
    {
     "name": "stdout",
     "output_type": "stream",
     "text": [
      "200/200 [==============================] - 0s 42us/step\n",
      "test set mse is 0.89\n"
     ]
    }
   ],
   "source": [
    "test_loss = estimator.model.evaluate(X_test, y_test)\n",
    "print(\"test set mse is %.2f\" % test_loss)"
   ]
  },
  {
   "cell_type": "code",
   "execution_count": 17,
   "metadata": {
    "scrolled": true
   },
   "outputs": [
    {
     "data": {
      "text/plain": [
       "[<matplotlib.lines.Line2D at 0x1a32e727f0>]"
      ]
     },
     "execution_count": 17,
     "metadata": {},
     "output_type": "execute_result"
    },
    {
     "data": {
      "image/png": "[encoded data removed]",
      "text/plain": [
       "<Figure size 432x288 with 1 Axes>"
      ]
     },
     "metadata": {
      "needs_background": "light"
     },
     "output_type": "display_data"
    }
   ],
   "source": [
    "plt.scatter(y_test, estimator.predict(X_test), s=4)\n",
    "plt.scatter(y_train, estimator.predict(X_train), s=3, c='r')\n",
    "plt.xlabel('Experimental PCE', size=15)\n",
    "plt.ylabel('Predict PCE', size=15)\n",
    "plt.legend(['Test', 'Train'])\n",
    "plt.plot(y_test, y_test, c='g')"
   ]
  },
  {
   "cell_type": "code",
   "execution_count": null,
   "metadata": {},
   "outputs": [],
   "source": []
  },
  {
   "cell_type": "code",
   "execution_count": null,
   "metadata": {},
   "outputs": [],
   "source": []
  },
  {
   "cell_type": "code",
   "execution_count": 18,
   "metadata": {},
   "outputs": [],
   "source": [
    "feature112 = pd.read_csv('features_112frag.csv')"
   ]
  },
  {
   "cell_type": "code",
   "execution_count": 21,
   "metadata": {
    "scrolled": true
   },
   "outputs": [
    {
     "data": {
      "text/html": [
       "<div>\n",
       "<style scoped>\n",
       "    .dataframe tbody tr th:only-of-type {\n",
       "        vertical-align: middle;\n",
       "    }\n",
       "\n",
       "    .dataframe tbody tr th {\n",
       "        vertical-align: top;\n",
       "    }\n",
       "\n",
       "    .dataframe thead th {\n",
       "        text-align: right;\n",
       "    }\n",
       "</style>\n",
       "<table border=\"1\" class=\"dataframe\">\n",
       "  <thead>\n",
       "    <tr style=\"text-align: right;\">\n",
       "      <th></th>\n",
       "      <th>index</th>\n",
       "      <th>group</th>\n",
       "      <th>label</th>\n",
       "      <th>smiles</th>\n",
       "      <th>PCE_stats</th>\n",
       "      <th>PCE_mean</th>\n",
       "      <th>PCE_std</th>\n",
       "      <th>Global_pop_num</th>\n",
       "      <th>Global_pop_percent</th>\n",
       "      <th>PCE &lt; 8_pop_num</th>\n",
       "      <th>...</th>\n",
       "      <th>PCE &gt; 8_pop_num</th>\n",
       "      <th>PCE &gt; 8_pop_percent</th>\n",
       "      <th>pop_diff</th>\n",
       "      <th>Z</th>\n",
       "      <th>Z_8.0</th>\n",
       "      <th>Z_8.5</th>\n",
       "      <th>Z_9.0</th>\n",
       "      <th>Z_9.5</th>\n",
       "      <th>Z_10.0</th>\n",
       "      <th>Z_10.5</th>\n",
       "    </tr>\n",
       "  </thead>\n",
       "  <tbody>\n",
       "    <tr>\n",
       "      <th>0</th>\n",
       "      <td>62</td>\n",
       "      <td>terminal</td>\n",
       "      <td>f 62</td>\n",
       "      <td>C=C1N(C2=CC=CC=C2O1)C</td>\n",
       "      <td>{'25%': 1.4897794525169601, 'std': 2.001056154...</td>\n",
       "      <td>2.888581</td>\n",
       "      <td>2.001056</td>\n",
       "      <td>424</td>\n",
       "      <td>0.827220</td>\n",
       "      <td>420</td>\n",
       "      <td>...</td>\n",
       "      <td>4</td>\n",
       "      <td>3.076923</td>\n",
       "      <td>2.255407</td>\n",
       "      <td>2.816744</td>\n",
       "      <td>2.816744</td>\n",
       "      <td>4.311612</td>\n",
       "      <td>1.198000</td>\n",
       "      <td>NaN</td>\n",
       "      <td>NaN</td>\n",
       "      <td>NaN</td>\n",
       "    </tr>\n",
       "    <tr>\n",
       "      <th>1</th>\n",
       "      <td>63</td>\n",
       "      <td>terminal</td>\n",
       "      <td>f 63</td>\n",
       "      <td>C=C1N(C)C2=CC=CC=C2C1(C)C</td>\n",
       "      <td>{'25%': 0.93461738578791276, 'std': 1.53869154...</td>\n",
       "      <td>2.090048</td>\n",
       "      <td>1.538692</td>\n",
       "      <td>2199</td>\n",
       "      <td>4.290229</td>\n",
       "      <td>2195</td>\n",
       "      <td>...</td>\n",
       "      <td>4</td>\n",
       "      <td>3.076923</td>\n",
       "      <td>-1.216475</td>\n",
       "      <td>-0.699465</td>\n",
       "      <td>-0.699465</td>\n",
       "      <td>-0.694377</td>\n",
       "      <td>0.258349</td>\n",
       "      <td>-0.258720</td>\n",
       "      <td>NaN</td>\n",
       "      <td>NaN</td>\n",
       "    </tr>\n",
       "    <tr>\n",
       "      <th>2</th>\n",
       "      <td>64</td>\n",
       "      <td>terminal</td>\n",
       "      <td>f 64</td>\n",
       "      <td>C=C1N(C2=CC=CC=C2S1)C</td>\n",
       "      <td>{'25%': 1.3221597699351173, 'std': 1.374290633...</td>\n",
       "      <td>2.267738</td>\n",
       "      <td>1.374291</td>\n",
       "      <td>846</td>\n",
       "      <td>1.650538</td>\n",
       "      <td>842</td>\n",
       "      <td>...</td>\n",
       "      <td>3</td>\n",
       "      <td>2.307692</td>\n",
       "      <td>0.660749</td>\n",
       "      <td>1.261868</td>\n",
       "      <td>1.261868</td>\n",
       "      <td>0.691185</td>\n",
       "      <td>1.705228</td>\n",
       "      <td>2.157016</td>\n",
       "      <td>2.739656</td>\n",
       "      <td>3.150844</td>\n",
       "    </tr>\n",
       "    <tr>\n",
       "      <th>3</th>\n",
       "      <td>65</td>\n",
       "      <td>terminal</td>\n",
       "      <td>f 65</td>\n",
       "      <td>CC(C1=CC=CC=C1N2C)(C)C2=CC=C3C(C(C=CC=C4)=C4C3...</td>\n",
       "      <td>{'25%': 1.1843245291909152, 'std': 0.962142697...</td>\n",
       "      <td>1.952339</td>\n",
       "      <td>0.962143</td>\n",
       "      <td>267</td>\n",
       "      <td>0.520915</td>\n",
       "      <td>267</td>\n",
       "      <td>...</td>\n",
       "      <td>0</td>\n",
       "      <td>0.000000</td>\n",
       "      <td>-0.522249</td>\n",
       "      <td>NaN</td>\n",
       "      <td>NaN</td>\n",
       "      <td>NaN</td>\n",
       "      <td>NaN</td>\n",
       "      <td>NaN</td>\n",
       "      <td>NaN</td>\n",
       "      <td>NaN</td>\n",
       "    </tr>\n",
       "    <tr>\n",
       "      <th>4</th>\n",
       "      <td>66</td>\n",
       "      <td>terminal</td>\n",
       "      <td>f 66</td>\n",
       "      <td>O=C(C1=CC=C2N(C)C3=CC=CC=C3S2)C4=C(C1=C(C#N)C#...</td>\n",
       "      <td>{'25%': 1.3223404252748248, 'std': 1.030409134...</td>\n",
       "      <td>2.120907</td>\n",
       "      <td>1.030409</td>\n",
       "      <td>535</td>\n",
       "      <td>1.043780</td>\n",
       "      <td>535</td>\n",
       "      <td>...</td>\n",
       "      <td>0</td>\n",
       "      <td>0.000000</td>\n",
       "      <td>-1.046455</td>\n",
       "      <td>NaN</td>\n",
       "      <td>NaN</td>\n",
       "      <td>NaN</td>\n",
       "      <td>NaN</td>\n",
       "      <td>NaN</td>\n",
       "      <td>NaN</td>\n",
       "      <td>NaN</td>\n",
       "    </tr>\n",
       "  </tbody>\n",
       "</table>\n",
       "<p>5 rows × 21 columns</p>\n",
       "</div>"
      ],
      "text/plain": [
       "   index     group label                                             smiles  \\\n",
       "0     62  terminal  f 62                              C=C1N(C2=CC=CC=C2O1)C   \n",
       "1     63  terminal  f 63                          C=C1N(C)C2=CC=CC=C2C1(C)C   \n",
       "2     64  terminal  f 64                              C=C1N(C2=CC=CC=C2S1)C   \n",
       "3     65  terminal  f 65  CC(C1=CC=CC=C1N2C)(C)C2=CC=C3C(C(C=CC=C4)=C4C3...   \n",
       "4     66  terminal  f 66  O=C(C1=CC=C2N(C)C3=CC=CC=C3S2)C4=C(C1=C(C#N)C#...   \n",
       "\n",
       "                                           PCE_stats  PCE_mean   PCE_std  \\\n",
       "0  {'25%': 1.4897794525169601, 'std': 2.001056154...  2.888581  2.001056   \n",
       "1  {'25%': 0.93461738578791276, 'std': 1.53869154...  2.090048  1.538692   \n",
       "2  {'25%': 1.3221597699351173, 'std': 1.374290633...  2.267738  1.374291   \n",
       "3  {'25%': 1.1843245291909152, 'std': 0.962142697...  1.952339  0.962143   \n",
       "4  {'25%': 1.3223404252748248, 'std': 1.030409134...  2.120907  1.030409   \n",
       "\n",
       "   Global_pop_num  Global_pop_percent  PCE < 8_pop_num  ...  PCE > 8_pop_num  \\\n",
       "0             424            0.827220              420  ...                4   \n",
       "1            2199            4.290229             2195  ...                4   \n",
       "2             846            1.650538              842  ...                3   \n",
       "3             267            0.520915              267  ...                0   \n",
       "4             535            1.043780              535  ...                0   \n",
       "\n",
       "   PCE > 8_pop_percent  pop_diff         Z     Z_8.0     Z_8.5     Z_9.0  \\\n",
       "0             3.076923  2.255407  2.816744  2.816744  4.311612  1.198000   \n",
       "1             3.076923 -1.216475 -0.699465 -0.699465 -0.694377  0.258349   \n",
       "2             2.307692  0.660749  1.261868  1.261868  0.691185  1.705228   \n",
       "3             0.000000 -0.522249       NaN       NaN       NaN       NaN   \n",
       "4             0.000000 -1.046455       NaN       NaN       NaN       NaN   \n",
       "\n",
       "      Z_9.5    Z_10.0    Z_10.5  \n",
       "0       NaN       NaN       NaN  \n",
       "1 -0.258720       NaN       NaN  \n",
       "2  2.157016  2.739656  3.150844  \n",
       "3       NaN       NaN       NaN  \n",
       "4       NaN       NaN       NaN  \n",
       "\n",
       "[5 rows x 21 columns]"
      ]
     },
     "execution_count": 21,
     "metadata": {},
     "output_type": "execute_result"
    }
   ],
   "source": [
    "data112 = pd.read_csv('112_fragments.csv')\n",
    "data112.head()"
   ]
  },
  {
   "cell_type": "code",
   "execution_count": 24,
   "metadata": {},
   "outputs": [],
   "source": [
    "X_t_pn = feature112[fe_list].values\n",
    "y_t = data112['PCE_mean']"
   ]
  },
  {
   "cell_type": "code",
   "execution_count": 39,
   "metadata": {
    "scrolled": true
   },
   "outputs": [],
   "source": [
    "X_t = X_train_scaler.transform(X_t_pn)"
   ]
  },
  {
   "cell_type": "code",
   "execution_count": 29,
   "metadata": {},
   "outputs": [
    {
     "name": "stdout",
     "output_type": "stream",
     "text": [
      "112/112 [==============================] - 0s 62us/step\n"
     ]
    }
   ],
   "source": [
    "t_loss = estimator.model.evaluate(X_t, y_t)"
   ]
  },
  {
   "cell_type": "code",
   "execution_count": 30,
   "metadata": {},
   "outputs": [],
   "source": [
    "y_p = estimator.predict(X_t)"
   ]
  },
  {
   "cell_type": "code",
   "execution_count": null,
   "metadata": {},
   "outputs": [],
   "source": []
  },
  {
   "cell_type": "code",
   "execution_count": 43,
   "metadata": {},
   "outputs": [],
   "source": [
    "data50 = data.head(50)\n",
    "fe50 = pd.read_csv('Data Cleaning/selected_data.csv')"
   ]
  },
  {
   "cell_type": "code",
   "execution_count": 46,
   "metadata": {},
   "outputs": [],
   "source": [
    "y_t_2 = data50['pce'].values\n",
    "X_t_2_pn = fe50[fe_list].values"
   ]
  },
  {
   "cell_type": "code",
   "execution_count": 47,
   "metadata": {},
   "outputs": [],
   "source": [
    "X_t_2 = X_train_scaler.transform(X_t_2_pn)"
   ]
  },
  {
   "cell_type": "code",
   "execution_count": 48,
   "metadata": {},
   "outputs": [
    {
     "name": "stdout",
     "output_type": "stream",
     "text": [
      "50/50 [==============================] - 0s 244us/step\n"
     ]
    }
   ],
   "source": [
    "t_2_loss = estimator.model.evaluate(X_t_2, y_t_2)"
   ]
  },
  {
   "cell_type": "code",
   "execution_count": 51,
   "metadata": {},
   "outputs": [
    {
     "data": {
      "text/plain": [
       "<matplotlib.collections.PathCollection at 0x1a34e94f60>"
      ]
     },
     "execution_count": 51,
     "metadata": {},
     "output_type": "execute_result"
    },
    {
     "data": {
      "image/png": "[encoded data removed]",
      "text/plain": [
       "<Figure size 432x288 with 1 Axes>"
      ]
     },
     "metadata": {
      "needs_background": "light"
     },
     "output_type": "display_data"
    }
   ],
   "source": [
    "plt.scatter(y_t_2, estimator.predict(X_t_2), s=3)"
   ]
  },
  {
   "cell_type": "code",
   "execution_count": 52,
   "metadata": {},
   "outputs": [
    {
     "data": {
      "text/plain": [
       "array([[ 0.36791088,  1.48485063, -1.73611087, ..., -0.94880848,\n",
       "         0.07088812, -0.46951809],\n",
       "       [ 0.39730684,  0.09900621,  0.0888119 , ...,  1.05395348,\n",
       "         0.07088812, -0.46951809],\n",
       "       [-0.5071299 , -0.82269295,  2.03352604, ...,  1.05395348,\n",
       "         0.07088812,  1.77967035],\n",
       "       ...,\n",
       "       [-0.73483899, -0.54666163, -0.8626954 , ...,  1.05395348,\n",
       "         0.07088812, -0.46951809],\n",
       "       [ 1.69165636,  1.19590135,  1.54651636, ...,  1.05395348,\n",
       "         0.07088812, -0.46951809],\n",
       "       [-0.62367321, -0.85611918,  0.7559854 , ...,  1.05395348,\n",
       "         0.07088812, -0.46951809]])"
      ]
     },
     "execution_count": 52,
     "metadata": {},
     "output_type": "execute_result"
    }
   ],
   "source": [
    "X_t_2"
   ]
  },
  {
   "cell_type": "code",
   "execution_count": 53,
   "metadata": {},
   "outputs": [
    {
     "data": {
      "text/plain": [
       "array([[-1.04577406, -0.59387579,  0.350166  , ..., -0.94880848,\n",
       "         0.07088812,  1.77967035],\n",
       "       [ 1.34230159,  0.93993071,  0.82272352, ...,  1.05395348,\n",
       "         0.07088812, -0.46951809],\n",
       "       [ 0.2315508 ,  0.68375884, -1.32804525, ..., -0.94880848,\n",
       "         0.07088812, -0.46951809],\n",
       "       ...,\n",
       "       [ 0.05675782,  0.91609099,  0.76768013, ..., -0.94880848,\n",
       "         0.07088812, -0.46951809],\n",
       "       [ 1.32065071,  1.21591966, -1.73611088, ..., -0.94880848,\n",
       "         0.07088812, -0.46951809],\n",
       "       [ 4.40003113,  2.50544261, -0.21962573, ...,  1.05395348,\n",
       "         0.07088812, -0.46951809]])"
      ]
     },
     "execution_count": 53,
     "metadata": {},
     "output_type": "execute_result"
    }
   ],
   "source": [
    "X_test"
   ]
  },
  {
   "cell_type": "code",
   "execution_count": null,
   "metadata": {},
   "outputs": [],
   "source": []
  }
 ],
 "metadata": {
  "kernelspec": {
   "display_name": "Python 3",
   "language": "python",
   "name": "python3"
  },
  "language_info": {
   "codemirror_mode": {
    "name": "ipython",
    "version": 3
   },
   "file_extension": ".py",
   "mimetype": "text/x-python",
   "name": "python",
   "nbconvert_exporter": "python",
   "pygments_lexer": "ipython3",
   "version": "3.6.8"
  }
 },
 "nbformat": 4,
 "nbformat_minor": 2
}
