{
 "cells": [
  {
   "cell_type": "code",
   "execution_count": 1,
   "metadata": {},
   "outputs": [
    {
     "name": "stderr",
     "output_type": "stream",
     "text": [
      "Using TensorFlow backend.\n"
     ]
    }
   ],
   "source": [
    "from keras.models import Sequential\n",
    "from keras.layers import Dense\n",
    "from keras.wrappers.scikit_learn import KerasRegressor\n",
    "import matplotlib.pyplot as plt\n",
    "import numpy as np\n",
    "import pandas as pd\n",
    "from sklearn.model_selection import cross_val_score\n",
    "from sklearn.model_selection import KFold\n",
    "from sklearn.model_selection import train_test_split\n",
    "from sklearn.preprocessing import StandardScaler\n",
    "from sklearn.pipeline import Pipeline\n",
    "\n",
    "%matplotlib inline"
   ]
  },
  {
   "cell_type": "code",
   "execution_count": 24,
   "metadata": {},
   "outputs": [],
   "source": [
    "seed = 21899"
   ]
  },
  {
   "cell_type": "code",
   "execution_count": 18,
   "metadata": {
    "scrolled": false
   },
   "outputs": [
    {
     "data": {
      "text/html": [
       "<div>\n",
       "<style scoped>\n",
       "    .dataframe tbody tr th:only-of-type {\n",
       "        vertical-align: middle;\n",
       "    }\n",
       "\n",
       "    .dataframe tbody tr th {\n",
       "        vertical-align: top;\n",
       "    }\n",
       "\n",
       "    .dataframe thead th {\n",
       "        text-align: right;\n",
       "    }\n",
       "</style>\n",
       "<table border=\"1\" class=\"dataframe\">\n",
       "  <thead>\n",
       "    <tr style=\"text-align: right;\">\n",
       "      <th></th>\n",
       "      <th>Unnamed: 0</th>\n",
       "      <th>AATS8p</th>\n",
       "      <th>AATS8v</th>\n",
       "      <th>AATSC0d</th>\n",
       "      <th>AATSC0s</th>\n",
       "      <th>AATSC1c</th>\n",
       "      <th>AATSC1i</th>\n",
       "      <th>AATSC4c</th>\n",
       "      <th>AATSC4i</th>\n",
       "      <th>AATSC6dv</th>\n",
       "      <th>...</th>\n",
       "      <th>PEOE_VSA2</th>\n",
       "      <th>PEOE_VSA9</th>\n",
       "      <th>SIC5</th>\n",
       "      <th>SaaN</th>\n",
       "      <th>SaaNH</th>\n",
       "      <th>SssSiH2</th>\n",
       "      <th>Xch-7d</th>\n",
       "      <th>nFARing</th>\n",
       "      <th>nG12FHRing</th>\n",
       "      <th>nHBDon</th>\n",
       "    </tr>\n",
       "  </thead>\n",
       "  <tbody>\n",
       "    <tr>\n",
       "      <th>0</th>\n",
       "      <td>0</td>\n",
       "      <td>1.692047</td>\n",
       "      <td>234.750107</td>\n",
       "      <td>0.574839</td>\n",
       "      <td>0.479809</td>\n",
       "      <td>0.000000</td>\n",
       "      <td>-0.280498</td>\n",
       "      <td>0.000000</td>\n",
       "      <td>-0.105693</td>\n",
       "      <td>0.100130</td>\n",
       "      <td>...</td>\n",
       "      <td>0.0</td>\n",
       "      <td>0.000000</td>\n",
       "      <td>0.987985</td>\n",
       "      <td>13.774789</td>\n",
       "      <td>0.000000</td>\n",
       "      <td>0.000000</td>\n",
       "      <td>1.197844</td>\n",
       "      <td>0</td>\n",
       "      <td>1</td>\n",
       "      <td>0</td>\n",
       "    </tr>\n",
       "    <tr>\n",
       "      <th>1</th>\n",
       "      <td>1</td>\n",
       "      <td>1.697847</td>\n",
       "      <td>202.250043</td>\n",
       "      <td>0.609375</td>\n",
       "      <td>0.271559</td>\n",
       "      <td>0.000000</td>\n",
       "      <td>-0.102372</td>\n",
       "      <td>0.000000</td>\n",
       "      <td>0.112876</td>\n",
       "      <td>-0.245837</td>\n",
       "      <td>...</td>\n",
       "      <td>0.0</td>\n",
       "      <td>0.000000</td>\n",
       "      <td>0.981210</td>\n",
       "      <td>4.903642</td>\n",
       "      <td>0.000000</td>\n",
       "      <td>-0.237157</td>\n",
       "      <td>1.099513</td>\n",
       "      <td>1</td>\n",
       "      <td>1</td>\n",
       "      <td>0</td>\n",
       "    </tr>\n",
       "    <tr>\n",
       "      <th>2</th>\n",
       "      <td>2</td>\n",
       "      <td>1.519396</td>\n",
       "      <td>180.634859</td>\n",
       "      <td>0.646178</td>\n",
       "      <td>0.295003</td>\n",
       "      <td>-0.003817</td>\n",
       "      <td>-0.018808</td>\n",
       "      <td>0.000335</td>\n",
       "      <td>-0.128555</td>\n",
       "      <td>-1.040159</td>\n",
       "      <td>...</td>\n",
       "      <td>0.0</td>\n",
       "      <td>9.519601</td>\n",
       "      <td>0.975022</td>\n",
       "      <td>0.000000</td>\n",
       "      <td>3.354368</td>\n",
       "      <td>-0.521974</td>\n",
       "      <td>1.460154</td>\n",
       "      <td>1</td>\n",
       "      <td>1</td>\n",
       "      <td>1</td>\n",
       "    </tr>\n",
       "    <tr>\n",
       "      <th>3</th>\n",
       "      <td>3</td>\n",
       "      <td>1.996074</td>\n",
       "      <td>183.538805</td>\n",
       "      <td>0.596939</td>\n",
       "      <td>0.253981</td>\n",
       "      <td>0.000000</td>\n",
       "      <td>-0.785079</td>\n",
       "      <td>0.000000</td>\n",
       "      <td>-0.906693</td>\n",
       "      <td>-0.234105</td>\n",
       "      <td>...</td>\n",
       "      <td>0.0</td>\n",
       "      <td>0.000000</td>\n",
       "      <td>0.955425</td>\n",
       "      <td>0.000000</td>\n",
       "      <td>0.000000</td>\n",
       "      <td>-0.114153</td>\n",
       "      <td>0.913246</td>\n",
       "      <td>2</td>\n",
       "      <td>0</td>\n",
       "      <td>0</td>\n",
       "    </tr>\n",
       "    <tr>\n",
       "      <th>4</th>\n",
       "      <td>4</td>\n",
       "      <td>1.785965</td>\n",
       "      <td>228.899102</td>\n",
       "      <td>0.625306</td>\n",
       "      <td>0.312798</td>\n",
       "      <td>0.000000</td>\n",
       "      <td>0.081051</td>\n",
       "      <td>0.000000</td>\n",
       "      <td>0.237523</td>\n",
       "      <td>-0.259253</td>\n",
       "      <td>...</td>\n",
       "      <td>0.0</td>\n",
       "      <td>0.000000</td>\n",
       "      <td>0.977719</td>\n",
       "      <td>0.000000</td>\n",
       "      <td>0.000000</td>\n",
       "      <td>0.000000</td>\n",
       "      <td>1.356599</td>\n",
       "      <td>1</td>\n",
       "      <td>1</td>\n",
       "      <td>0</td>\n",
       "    </tr>\n",
       "  </tbody>\n",
       "</table>\n",
       "<p>5 rows × 61 columns</p>\n",
       "</div>"
      ],
      "text/plain": [
       "   Unnamed: 0    AATS8p      AATS8v   AATSC0d   AATSC0s   AATSC1c   AATSC1i  \\\n",
       "0           0  1.692047  234.750107  0.574839  0.479809  0.000000 -0.280498   \n",
       "1           1  1.697847  202.250043  0.609375  0.271559  0.000000 -0.102372   \n",
       "2           2  1.519396  180.634859  0.646178  0.295003 -0.003817 -0.018808   \n",
       "3           3  1.996074  183.538805  0.596939  0.253981  0.000000 -0.785079   \n",
       "4           4  1.785965  228.899102  0.625306  0.312798  0.000000  0.081051   \n",
       "\n",
       "    AATSC4c   AATSC4i  AATSC6dv  ...  PEOE_VSA2  PEOE_VSA9      SIC5  \\\n",
       "0  0.000000 -0.105693  0.100130  ...        0.0   0.000000  0.987985   \n",
       "1  0.000000  0.112876 -0.245837  ...        0.0   0.000000  0.981210   \n",
       "2  0.000335 -0.128555 -1.040159  ...        0.0   9.519601  0.975022   \n",
       "3  0.000000 -0.906693 -0.234105  ...        0.0   0.000000  0.955425   \n",
       "4  0.000000  0.237523 -0.259253  ...        0.0   0.000000  0.977719   \n",
       "\n",
       "        SaaN     SaaNH   SssSiH2    Xch-7d  nFARing  nG12FHRing  nHBDon  \n",
       "0  13.774789  0.000000  0.000000  1.197844        0           1       0  \n",
       "1   4.903642  0.000000 -0.237157  1.099513        1           1       0  \n",
       "2   0.000000  3.354368 -0.521974  1.460154        1           1       1  \n",
       "3   0.000000  0.000000 -0.114153  0.913246        2           0       0  \n",
       "4   0.000000  0.000000  0.000000  1.356599        1           1       0  \n",
       "\n",
       "[5 rows x 61 columns]"
      ]
     },
     "execution_count": 18,
     "metadata": {},
     "output_type": "execute_result"
    }
   ],
   "source": [
    "features = pd.read_csv('Data Cleaning/selected_data.csv')\n",
    "features.head()"
   ]
  },
  {
   "cell_type": "code",
   "execution_count": 19,
   "metadata": {
    "scrolled": true
   },
   "outputs": [
    {
     "data": {
      "text/html": [
       "<div>\n",
       "<style scoped>\n",
       "    .dataframe tbody tr th:only-of-type {\n",
       "        vertical-align: middle;\n",
       "    }\n",
       "\n",
       "    .dataframe tbody tr th {\n",
       "        vertical-align: top;\n",
       "    }\n",
       "\n",
       "    .dataframe thead th {\n",
       "        text-align: right;\n",
       "    }\n",
       "</style>\n",
       "<table border=\"1\" class=\"dataframe\">\n",
       "  <thead>\n",
       "    <tr style=\"text-align: right;\">\n",
       "      <th></th>\n",
       "      <th>AATS8p</th>\n",
       "      <th>AATS8v</th>\n",
       "      <th>AATSC0d</th>\n",
       "      <th>AATSC0s</th>\n",
       "      <th>AATSC1c</th>\n",
       "      <th>AATSC1i</th>\n",
       "      <th>AATSC4c</th>\n",
       "      <th>AATSC4i</th>\n",
       "      <th>AATSC6dv</th>\n",
       "      <th>AATSC8i</th>\n",
       "      <th>...</th>\n",
       "      <th>PEOE_VSA2</th>\n",
       "      <th>PEOE_VSA9</th>\n",
       "      <th>SIC5</th>\n",
       "      <th>SaaN</th>\n",
       "      <th>SaaNH</th>\n",
       "      <th>SssSiH2</th>\n",
       "      <th>Xch-7d</th>\n",
       "      <th>nFARing</th>\n",
       "      <th>nG12FHRing</th>\n",
       "      <th>nHBDon</th>\n",
       "    </tr>\n",
       "  </thead>\n",
       "  <tbody>\n",
       "    <tr>\n",
       "      <th>0</th>\n",
       "      <td>1.692047</td>\n",
       "      <td>234.750107</td>\n",
       "      <td>0.574839</td>\n",
       "      <td>0.479809</td>\n",
       "      <td>0.000000</td>\n",
       "      <td>-0.280498</td>\n",
       "      <td>0.000000</td>\n",
       "      <td>-0.105693</td>\n",
       "      <td>0.100130</td>\n",
       "      <td>-0.001686</td>\n",
       "      <td>...</td>\n",
       "      <td>0.0</td>\n",
       "      <td>0.000000</td>\n",
       "      <td>0.987985</td>\n",
       "      <td>13.774789</td>\n",
       "      <td>0.000000</td>\n",
       "      <td>0.000000</td>\n",
       "      <td>1.197844</td>\n",
       "      <td>0</td>\n",
       "      <td>1</td>\n",
       "      <td>0</td>\n",
       "    </tr>\n",
       "    <tr>\n",
       "      <th>1</th>\n",
       "      <td>1.697847</td>\n",
       "      <td>202.250043</td>\n",
       "      <td>0.609375</td>\n",
       "      <td>0.271559</td>\n",
       "      <td>0.000000</td>\n",
       "      <td>-0.102372</td>\n",
       "      <td>0.000000</td>\n",
       "      <td>0.112876</td>\n",
       "      <td>-0.245837</td>\n",
       "      <td>0.177515</td>\n",
       "      <td>...</td>\n",
       "      <td>0.0</td>\n",
       "      <td>0.000000</td>\n",
       "      <td>0.981210</td>\n",
       "      <td>4.903642</td>\n",
       "      <td>0.000000</td>\n",
       "      <td>-0.237157</td>\n",
       "      <td>1.099513</td>\n",
       "      <td>1</td>\n",
       "      <td>1</td>\n",
       "      <td>0</td>\n",
       "    </tr>\n",
       "    <tr>\n",
       "      <th>2</th>\n",
       "      <td>1.519396</td>\n",
       "      <td>180.634859</td>\n",
       "      <td>0.646178</td>\n",
       "      <td>0.295003</td>\n",
       "      <td>-0.003817</td>\n",
       "      <td>-0.018808</td>\n",
       "      <td>0.000335</td>\n",
       "      <td>-0.128555</td>\n",
       "      <td>-1.040159</td>\n",
       "      <td>-0.349845</td>\n",
       "      <td>...</td>\n",
       "      <td>0.0</td>\n",
       "      <td>9.519601</td>\n",
       "      <td>0.975022</td>\n",
       "      <td>0.000000</td>\n",
       "      <td>3.354368</td>\n",
       "      <td>-0.521974</td>\n",
       "      <td>1.460154</td>\n",
       "      <td>1</td>\n",
       "      <td>1</td>\n",
       "      <td>1</td>\n",
       "    </tr>\n",
       "    <tr>\n",
       "      <th>3</th>\n",
       "      <td>1.996074</td>\n",
       "      <td>183.538805</td>\n",
       "      <td>0.596939</td>\n",
       "      <td>0.253981</td>\n",
       "      <td>0.000000</td>\n",
       "      <td>-0.785079</td>\n",
       "      <td>0.000000</td>\n",
       "      <td>-0.906693</td>\n",
       "      <td>-0.234105</td>\n",
       "      <td>-0.168336</td>\n",
       "      <td>...</td>\n",
       "      <td>0.0</td>\n",
       "      <td>0.000000</td>\n",
       "      <td>0.955425</td>\n",
       "      <td>0.000000</td>\n",
       "      <td>0.000000</td>\n",
       "      <td>-0.114153</td>\n",
       "      <td>0.913246</td>\n",
       "      <td>2</td>\n",
       "      <td>0</td>\n",
       "      <td>0</td>\n",
       "    </tr>\n",
       "    <tr>\n",
       "      <th>4</th>\n",
       "      <td>1.785965</td>\n",
       "      <td>228.899102</td>\n",
       "      <td>0.625306</td>\n",
       "      <td>0.312798</td>\n",
       "      <td>0.000000</td>\n",
       "      <td>0.081051</td>\n",
       "      <td>0.000000</td>\n",
       "      <td>0.237523</td>\n",
       "      <td>-0.259253</td>\n",
       "      <td>-0.026853</td>\n",
       "      <td>...</td>\n",
       "      <td>0.0</td>\n",
       "      <td>0.000000</td>\n",
       "      <td>0.977719</td>\n",
       "      <td>0.000000</td>\n",
       "      <td>0.000000</td>\n",
       "      <td>0.000000</td>\n",
       "      <td>1.356599</td>\n",
       "      <td>1</td>\n",
       "      <td>1</td>\n",
       "      <td>0</td>\n",
       "    </tr>\n",
       "  </tbody>\n",
       "</table>\n",
       "<p>5 rows × 60 columns</p>\n",
       "</div>"
      ],
      "text/plain": [
       "     AATS8p      AATS8v   AATSC0d   AATSC0s   AATSC1c   AATSC1i   AATSC4c  \\\n",
       "0  1.692047  234.750107  0.574839  0.479809  0.000000 -0.280498  0.000000   \n",
       "1  1.697847  202.250043  0.609375  0.271559  0.000000 -0.102372  0.000000   \n",
       "2  1.519396  180.634859  0.646178  0.295003 -0.003817 -0.018808  0.000335   \n",
       "3  1.996074  183.538805  0.596939  0.253981  0.000000 -0.785079  0.000000   \n",
       "4  1.785965  228.899102  0.625306  0.312798  0.000000  0.081051  0.000000   \n",
       "\n",
       "    AATSC4i  AATSC6dv   AATSC8i  ...  PEOE_VSA2  PEOE_VSA9      SIC5  \\\n",
       "0 -0.105693  0.100130 -0.001686  ...        0.0   0.000000  0.987985   \n",
       "1  0.112876 -0.245837  0.177515  ...        0.0   0.000000  0.981210   \n",
       "2 -0.128555 -1.040159 -0.349845  ...        0.0   9.519601  0.975022   \n",
       "3 -0.906693 -0.234105 -0.168336  ...        0.0   0.000000  0.955425   \n",
       "4  0.237523 -0.259253 -0.026853  ...        0.0   0.000000  0.977719   \n",
       "\n",
       "        SaaN     SaaNH   SssSiH2    Xch-7d  nFARing  nG12FHRing  nHBDon  \n",
       "0  13.774789  0.000000  0.000000  1.197844        0           1       0  \n",
       "1   4.903642  0.000000 -0.237157  1.099513        1           1       0  \n",
       "2   0.000000  3.354368 -0.521974  1.460154        1           1       1  \n",
       "3   0.000000  0.000000 -0.114153  0.913246        2           0       0  \n",
       "4   0.000000  0.000000  0.000000  1.356599        1           1       0  \n",
       "\n",
       "[5 rows x 60 columns]"
      ]
     },
     "execution_count": 19,
     "metadata": {},
     "output_type": "execute_result"
    }
   ],
   "source": [
    "features = features.drop(columns = 'Unnamed: 0')\n",
    "features.head()"
   ]
  },
  {
   "cell_type": "code",
   "execution_count": 22,
   "metadata": {
    "scrolled": false
   },
   "outputs": [],
   "source": [
    "fe_list = features.columns.tolist()"
   ]
  },
  {
   "cell_type": "code",
   "execution_count": 10,
   "metadata": {
    "scrolled": true
   },
   "outputs": [],
   "source": [
    "data = pd.read_csv('Database/HCEPD_100K.csv')\n",
    "data = data.head(50)"
   ]
  },
  {
   "cell_type": "code",
   "execution_count": 23,
   "metadata": {},
   "outputs": [],
   "source": [
    "X = features[fe_list].values\n",
    "Y = data[['pce']].values"
   ]
  },
  {
   "cell_type": "code",
   "execution_count": 28,
   "metadata": {},
   "outputs": [],
   "source": [
    "X_train_pn, X_test_pn, y_train, y_test = train_test_split(X, Y,\n",
    "                                                    test_size=0.20,\n",
    "                                                    random_state=seed)"
   ]
  },
  {
   "cell_type": "code",
   "execution_count": 30,
   "metadata": {},
   "outputs": [],
   "source": [
    "# create the scaler from the training data only and keep it for later use\n",
    "X_train_scaler = StandardScaler().fit(X_train_pn)\n",
    "# apply the scaler transform to the training data\n",
    "X_train = X_train_scaler.transform(X_train_pn)"
   ]
  },
  {
   "cell_type": "code",
   "execution_count": 31,
   "metadata": {},
   "outputs": [],
   "source": [
    "X_test = X_train_scaler.transform(X_test_pn)"
   ]
  },
  {
   "cell_type": "code",
   "execution_count": 54,
   "metadata": {},
   "outputs": [],
   "source": [
    "def nnmodel():\n",
    "    # assemble the structure\n",
    "    model = Sequential()\n",
    "    model.add(Dense(60, input_dim=60, kernel_initializer='normal', activation='relu'))\n",
    "   # model.add(Dense(30, kernel_initializer='normal', activation='relu'))\n",
    "   # model.add(Dense(15, kernel_initializer='normal', activation='relu'))\n",
    "    model.add(Dense(1, kernel_initializer='normal'))\n",
    "    # compile the model\n",
    "    model.compile(loss='mean_squared_error', optimizer='adam')\n",
    "    return model"
   ]
  },
  {
   "cell_type": "code",
   "execution_count": 63,
   "metadata": {
    "scrolled": true
   },
   "outputs": [],
   "source": [
    "# initialize the andom seed as this is used to generate\n",
    "# the starting weights\n",
    "np.random.seed(seed)\n",
    "# create the NN framework\n",
    "estimator = KerasRegressor(build_fn=nnmodel,\n",
    "        epochs=150, batch_size=40, verbose=0)\n",
    "history = estimator.fit(X_train, y_train, validation_split=0.25, epochs=150, \n",
    "        batch_size=40, verbose=0)"
   ]
  },
  {
   "cell_type": "code",
   "execution_count": 64,
   "metadata": {},
   "outputs": [
    {
     "name": "stdout",
     "output_type": "stream",
     "text": [
      "final MSE for train is 0.00 and for validation is 0.56\n"
     ]
    }
   ],
   "source": [
    "print(\"final MSE for train is %.2f and for validation is %.2f\" % \n",
    "      (history.history['loss'][-1], history.history['val_loss'][-1]))"
   ]
  },
  {
   "cell_type": "code",
   "execution_count": 65,
   "metadata": {},
   "outputs": [
    {
     "data": {
      "image/png": "[encoded data removed]",
      "text/plain": [
       "<Figure size 432x288 with 1 Axes>"
      ]
     },
     "metadata": {
      "needs_background": "light"
     },
     "output_type": "display_data"
    }
   ],
   "source": [
    "# summarize history for loss\n",
    "plt.plot(history.history['loss'])\n",
    "plt.plot(history.history['val_loss'])\n",
    "plt.title('model loss')\n",
    "plt.ylabel('loss')\n",
    "plt.xlabel('epoch')\n",
    "plt.legend(['train', 'validation'], loc='upper left')\n",
    "plt.show()"
   ]
  },
  {
   "cell_type": "code",
   "execution_count": 66,
   "metadata": {},
   "outputs": [
    {
     "name": "stdout",
     "output_type": "stream",
     "text": [
      "10/10 [==============================] - 0s 138us/step\n",
      "test set mse is 1.44\n"
     ]
    }
   ],
   "source": [
    "test_loss = estimator.model.evaluate(X_test, y_test)\n",
    "print(\"test set mse is %.2f\" % test_loss)"
   ]
  },
  {
   "cell_type": "code",
   "execution_count": null,
   "metadata": {},
   "outputs": [],
   "source": []
  }
 ],
 "metadata": {
  "kernelspec": {
   "display_name": "Python 3",
   "language": "python",
   "name": "python3"
  },
  "language_info": {
   "codemirror_mode": {
    "name": "ipython",
    "version": 3
   },
   "file_extension": ".py",
   "mimetype": "text/x-python",
   "name": "python",
   "nbconvert_exporter": "python",
   "pygments_lexer": "ipython3",
   "version": "3.6.8"
  }
 },
 "nbformat": 4,
 "nbformat_minor": 2
}
