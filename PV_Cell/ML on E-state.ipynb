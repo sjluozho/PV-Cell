{
 "cells": [
  {
   "cell_type": "code",
   "execution_count": 71,
   "metadata": {},
   "outputs": [],
   "source": [
    "from rdkit import Chem\n",
    "from rdkit.Chem.EState import Fingerprinter\n",
    "from rdkit.Chem import Descriptors\n",
    "import pandas as pd\n",
    "import numpy as np\n",
    "import rdkit.Chem.EState as Estate\n",
    "from sklearn.preprocessing import StandardScaler\n",
    "from sklearn.model_selection import cross_validate\n",
    "from keras.models import Sequential\n",
    "from keras.layers import Dense, Activation\n",
    "from keras.optimizers import SGD\n",
    "import matplotlib.pyplot as plt\n",
    "%matplotlib inline"
   ]
  },
  {
   "cell_type": "code",
   "execution_count": 6,
   "metadata": {},
   "outputs": [],
   "source": [
    "# use HCEPD_100 as example\n",
    "data = pd.read_csv(r'C:\\Users\\alex0\\Documents\\Python\\Project\\Repository\\PV-Cell\\PV-Cell\\Data\\HCEPD_100K.csv') # Try using 100K for practice"
   ]
  },
  {
   "cell_type": "code",
   "execution_count": 50,
   "metadata": {},
   "outputs": [],
   "source": [
    "data1000 = data.head(1000)"
   ]
  },
  {
   "cell_type": "code",
   "execution_count": 51,
   "metadata": {},
   "outputs": [],
   "source": [
    "# fingerprinter [0] returns an array\n",
    "train_data = pd.DataFrame({'SMILES_str':data1000['SMILES_str'], 'pce':data1000['pce']})\n",
    "descriptors = []\n",
    "for i in range(len(data1000['SMILES_str'])):\n",
    "    m = Chem.MolFromSmiles(data1000['SMILES_str'].values[i])\n",
    "    descriptors.append(Fingerprinter.FingerprintMol(m1)[0])\n",
    "# descriptors is a list of input feature (x)"
   ]
  },
  {
   "cell_type": "code",
   "execution_count": 52,
   "metadata": {},
   "outputs": [
    {
     "name": "stderr",
     "output_type": "stream",
     "text": [
      "c:\\users\\alex0\\anaconda3\\envs\\pvc-env\\lib\\site-packages\\sklearn\\utils\\validation.py:595: DataConversionWarning: Data with input dtype int32 was converted to float64 by StandardScaler.\n",
      "  warnings.warn(msg, DataConversionWarning)\n",
      "c:\\users\\alex0\\anaconda3\\envs\\pvc-env\\lib\\site-packages\\sklearn\\utils\\validation.py:595: DataConversionWarning: Data with input dtype int32 was converted to float64 by StandardScaler.\n",
      "  warnings.warn(msg, DataConversionWarning)\n"
     ]
    }
   ],
   "source": [
    "# define a training dataset\n",
    "X = np.array(descriptors)\n",
    "y = train_data['pce'].values\n",
    "st = StandardScaler()\n",
    "X= st.fit_transform(X)"
   ]
  },
  {
   "cell_type": "code",
   "execution_count": 53,
   "metadata": {},
   "outputs": [
    {
     "name": "stdout",
     "output_type": "stream",
     "text": [
      "_________________________________________________________________\n",
      "Layer (type)                 Output Shape              Param #   \n",
      "=================================================================\n",
      "dense_9 (Dense)              (None, 10)                800       \n",
      "_________________________________________________________________\n",
      "activation_9 (Activation)    (None, 10)                0         \n",
      "_________________________________________________________________\n",
      "dense_10 (Dense)             (None, 1)                 11        \n",
      "_________________________________________________________________\n",
      "activation_10 (Activation)   (None, 1)                 0         \n",
      "=================================================================\n",
      "Total params: 811\n",
      "Trainable params: 811\n",
      "Non-trainable params: 0\n",
      "_________________________________________________________________\n"
     ]
    },
    {
     "name": "stderr",
     "output_type": "stream",
     "text": [
      "c:\\users\\alex0\\anaconda3\\envs\\pvc-env\\lib\\site-packages\\ipykernel_launcher.py:4: UserWarning: Update your `Dense` call to the Keras 2 API: `Dense(input_dim=79, units=10)`\n",
      "  after removing the cwd from sys.path.\n",
      "c:\\users\\alex0\\anaconda3\\envs\\pvc-env\\lib\\site-packages\\ipykernel_launcher.py:8: UserWarning: Update your `Dense` call to the Keras 2 API: `Dense(units=1)`\n",
      "  \n"
     ]
    }
   ],
   "source": [
    "#build up ml model\n",
    "model = Sequential()\n",
    "#First layer is input (descriptors)\n",
    "model.add(Dense(output_dim=10, input_dim=X.shape[1])) #input shape(number of descriptors) and output shape(10 neurons)\n",
    "# Activation model use sigmoid for first layer\n",
    "model.add(Activation(\"sigmoid\"))\n",
    "# Second layer (output layer)\n",
    "model.add(Dense(output_dim=1))\n",
    "model.add(Activation(\"linear\"))\n",
    "\n",
    "# Visualize the model\n",
    "model.summary()"
   ]
  },
  {
   "cell_type": "code",
   "execution_count": 54,
   "metadata": {},
   "outputs": [
    {
     "name": "stderr",
     "output_type": "stream",
     "text": [
      "c:\\users\\alex0\\anaconda3\\envs\\pvc-env\\lib\\site-packages\\ipykernel_launcher.py:3: UserWarning: The `nb_epoch` argument in `fit` has been renamed `epochs`.\n",
      "  This is separate from the ipykernel package so we can avoid doing imports until\n"
     ]
    },
    {
     "name": "stdout",
     "output_type": "stream",
     "text": [
      "Epoch 1/100\n",
      "1000/1000 [==============================] - 0s 215us/step - loss: 4.2994\n",
      "Epoch 2/100\n",
      "1000/1000 [==============================] - 0s 78us/step - loss: 3.8543\n",
      "Epoch 3/100\n",
      "1000/1000 [==============================] - 0s 82us/step - loss: 3.8601\n",
      "Epoch 4/100\n",
      "1000/1000 [==============================] - 0s 81us/step - loss: 3.8932\n",
      "Epoch 5/100\n",
      "1000/1000 [==============================] - 0s 83us/step - loss: 3.8491\n",
      "Epoch 6/100\n",
      "1000/1000 [==============================] - 0s 81us/step - loss: 3.8465\n",
      "Epoch 7/100\n",
      "1000/1000 [==============================] - 0s 82us/step - loss: 3.8835\n",
      "Epoch 8/100\n",
      "1000/1000 [==============================] - 0s 81us/step - loss: 3.8109\n",
      "Epoch 9/100\n",
      "1000/1000 [==============================] - 0s 84us/step - loss: 3.8439\n",
      "Epoch 10/100\n",
      "1000/1000 [==============================] - 0s 83us/step - loss: 3.8445\n",
      "Epoch 11/100\n",
      "1000/1000 [==============================] - 0s 85us/step - loss: 3.8654\n",
      "Epoch 12/100\n",
      "1000/1000 [==============================] - 0s 84us/step - loss: 3.8547\n",
      "Epoch 13/100\n",
      "1000/1000 [==============================] - 0s 85us/step - loss: 3.8950\n",
      "Epoch 14/100\n",
      "1000/1000 [==============================] - 0s 83us/step - loss: 3.8096\n",
      "Epoch 15/100\n",
      "1000/1000 [==============================] - 0s 83us/step - loss: 3.8289\n",
      "Epoch 16/100\n",
      "1000/1000 [==============================] - 0s 83us/step - loss: 3.8530\n",
      "Epoch 17/100\n",
      "1000/1000 [==============================] - 0s 83us/step - loss: 3.8404\n",
      "Epoch 18/100\n",
      "1000/1000 [==============================] - 0s 84us/step - loss: 3.8379\n",
      "Epoch 19/100\n",
      "1000/1000 [==============================] - 0s 81us/step - loss: 3.8364\n",
      "Epoch 20/100\n",
      "1000/1000 [==============================] - 0s 84us/step - loss: 3.8280\n",
      "Epoch 21/100\n",
      "1000/1000 [==============================] - 0s 83us/step - loss: 3.8589\n",
      "Epoch 22/100\n",
      "1000/1000 [==============================] - 0s 82us/step - loss: 3.8349\n",
      "Epoch 23/100\n",
      "1000/1000 [==============================] - 0s 87us/step - loss: 3.8046\n",
      "Epoch 24/100\n",
      "1000/1000 [==============================] - 0s 93us/step - loss: 3.8090\n",
      "Epoch 25/100\n",
      "1000/1000 [==============================] - 0s 83us/step - loss: 3.8521\n",
      "Epoch 26/100\n",
      "1000/1000 [==============================] - 0s 83us/step - loss: 3.8128\n",
      "Epoch 27/100\n",
      "1000/1000 [==============================] - 0s 79us/step - loss: 3.8125\n",
      "Epoch 28/100\n",
      "1000/1000 [==============================] - 0s 82us/step - loss: 3.8369\n",
      "Epoch 29/100\n",
      "1000/1000 [==============================] - 0s 83us/step - loss: 3.8111\n",
      "Epoch 30/100\n",
      "1000/1000 [==============================] - 0s 84us/step - loss: 3.8261\n",
      "Epoch 31/100\n",
      "1000/1000 [==============================] - 0s 83us/step - loss: 3.8024\n",
      "Epoch 32/100\n",
      "1000/1000 [==============================] - 0s 84us/step - loss: 3.8023\n",
      "Epoch 33/100\n",
      "1000/1000 [==============================] - 0s 91us/step - loss: 3.8115\n",
      "Epoch 34/100\n",
      "1000/1000 [==============================] - 0s 96us/step - loss: 3.8224\n",
      "Epoch 35/100\n",
      "1000/1000 [==============================] - 0s 87us/step - loss: 3.8338\n",
      "Epoch 36/100\n",
      "1000/1000 [==============================] - 0s 90us/step - loss: 3.8091\n",
      "Epoch 37/100\n",
      "1000/1000 [==============================] - 0s 95us/step - loss: 3.8185\n",
      "Epoch 38/100\n",
      "1000/1000 [==============================] - 0s 89us/step - loss: 3.8048\n",
      "Epoch 39/100\n",
      "1000/1000 [==============================] - 0s 86us/step - loss: 3.7910\n",
      "Epoch 40/100\n",
      "1000/1000 [==============================] - 0s 93us/step - loss: 3.8024\n",
      "Epoch 41/100\n",
      "1000/1000 [==============================] - 0s 95us/step - loss: 3.8128\n",
      "Epoch 42/100\n",
      "1000/1000 [==============================] - 0s 93us/step - loss: 3.8554\n",
      "Epoch 43/100\n",
      "1000/1000 [==============================] - 0s 92us/step - loss: 3.8377\n",
      "Epoch 44/100\n",
      "1000/1000 [==============================] - 0s 89us/step - loss: 3.8140\n",
      "Epoch 45/100\n",
      "1000/1000 [==============================] - 0s 88us/step - loss: 3.8392\n",
      "Epoch 46/100\n",
      "1000/1000 [==============================] - 0s 94us/step - loss: 3.8077\n",
      "Epoch 47/100\n",
      "1000/1000 [==============================] - 0s 92us/step - loss: 3.8142\n",
      "Epoch 48/100\n",
      "1000/1000 [==============================] - 0s 89us/step - loss: 3.8560\n",
      "Epoch 49/100\n",
      "1000/1000 [==============================] - ETA: 0s - loss: 3.712 - 0s 95us/step - loss: 3.8211\n",
      "Epoch 50/100\n",
      "1000/1000 [==============================] - 0s 99us/step - loss: 3.8147\n",
      "Epoch 51/100\n",
      "1000/1000 [==============================] - 0s 95us/step - loss: 3.8150\n",
      "Epoch 52/100\n",
      "1000/1000 [==============================] - 0s 91us/step - loss: 3.8327\n",
      "Epoch 53/100\n",
      "1000/1000 [==============================] - 0s 94us/step - loss: 3.8582\n",
      "Epoch 54/100\n",
      "1000/1000 [==============================] - 0s 92us/step - loss: 3.8057\n",
      "Epoch 55/100\n",
      "1000/1000 [==============================] - 0s 96us/step - loss: 3.8085\n",
      "Epoch 56/100\n",
      "1000/1000 [==============================] - 0s 93us/step - loss: 3.8077\n",
      "Epoch 57/100\n",
      "1000/1000 [==============================] - 0s 84us/step - loss: 3.8154\n",
      "Epoch 58/100\n",
      "1000/1000 [==============================] - 0s 85us/step - loss: 3.8218\n",
      "Epoch 59/100\n",
      "1000/1000 [==============================] - 0s 81us/step - loss: 3.8300\n",
      "Epoch 60/100\n",
      "1000/1000 [==============================] - 0s 78us/step - loss: 3.8347\n",
      "Epoch 61/100\n",
      "1000/1000 [==============================] - 0s 84us/step - loss: 3.8135\n",
      "Epoch 62/100\n",
      "1000/1000 [==============================] - 0s 81us/step - loss: 3.8079\n",
      "Epoch 63/100\n",
      "1000/1000 [==============================] - 0s 85us/step - loss: 3.8099\n",
      "Epoch 64/100\n",
      "1000/1000 [==============================] - 0s 82us/step - loss: 3.7937\n",
      "Epoch 65/100\n",
      "1000/1000 [==============================] - 0s 88us/step - loss: 3.7965\n",
      "Epoch 66/100\n",
      "1000/1000 [==============================] - 0s 82us/step - loss: 3.8307\n",
      "Epoch 67/100\n",
      "1000/1000 [==============================] - 0s 82us/step - loss: 3.8139\n",
      "Epoch 68/100\n",
      "1000/1000 [==============================] - 0s 81us/step - loss: 3.8203\n",
      "Epoch 69/100\n",
      "1000/1000 [==============================] - 0s 83us/step - loss: 3.7997\n",
      "Epoch 70/100\n",
      "1000/1000 [==============================] - 0s 80us/step - loss: 3.8165\n",
      "Epoch 71/100\n",
      "1000/1000 [==============================] - 0s 82us/step - loss: 3.8162\n",
      "Epoch 72/100\n",
      "1000/1000 [==============================] - 0s 77us/step - loss: 3.8074\n",
      "Epoch 73/100\n",
      "1000/1000 [==============================] - 0s 84us/step - loss: 3.7718\n",
      "Epoch 74/100\n",
      "1000/1000 [==============================] - 0s 85us/step - loss: 3.8039\n",
      "Epoch 75/100\n",
      "1000/1000 [==============================] - 0s 98us/step - loss: 3.8232\n",
      "Epoch 76/100\n",
      "1000/1000 [==============================] - 0s 84us/step - loss: 3.7984\n",
      "Epoch 77/100\n",
      "1000/1000 [==============================] - 0s 83us/step - loss: 3.8077\n",
      "Epoch 78/100\n",
      "1000/1000 [==============================] - 0s 72us/step - loss: 3.8265\n",
      "Epoch 79/100\n",
      "1000/1000 [==============================] - 0s 73us/step - loss: 3.8230\n",
      "Epoch 80/100\n",
      "1000/1000 [==============================] - 0s 88us/step - loss: 3.8067\n",
      "Epoch 81/100\n",
      "1000/1000 [==============================] - 0s 99us/step - loss: 3.7975\n",
      "Epoch 82/100\n",
      "1000/1000 [==============================] - 0s 100us/step - loss: 3.8255\n",
      "Epoch 83/100\n",
      "1000/1000 [==============================] - 0s 88us/step - loss: 3.8023\n",
      "Epoch 84/100\n",
      "1000/1000 [==============================] - 0s 79us/step - loss: 3.8219\n",
      "Epoch 85/100\n",
      "1000/1000 [==============================] - 0s 81us/step - loss: 3.8162\n",
      "Epoch 86/100\n",
      "1000/1000 [==============================] - 0s 93us/step - loss: 3.8117\n",
      "Epoch 87/100\n",
      "1000/1000 [==============================] - 0s 92us/step - loss: 3.7846\n",
      "Epoch 88/100\n",
      "1000/1000 [==============================] - 0s 93us/step - loss: 3.7960\n",
      "Epoch 89/100\n",
      "1000/1000 [==============================] - 0s 98us/step - loss: 3.7876\n",
      "Epoch 90/100\n",
      "1000/1000 [==============================] - 0s 93us/step - loss: 3.7992\n",
      "Epoch 91/100\n",
      "1000/1000 [==============================] - 0s 96us/step - loss: 3.7944\n",
      "Epoch 92/100\n",
      "1000/1000 [==============================] - 0s 89us/step - loss: 3.8229\n",
      "Epoch 93/100\n",
      "1000/1000 [==============================] - 0s 94us/step - loss: 3.8016\n",
      "Epoch 94/100\n",
      "1000/1000 [==============================] - 0s 78us/step - loss: 3.8102\n",
      "Epoch 95/100\n",
      "1000/1000 [==============================] - 0s 77us/step - loss: 3.8054\n",
      "Epoch 96/100\n"
     ]
    },
    {
     "name": "stdout",
     "output_type": "stream",
     "text": [
      "1000/1000 [==============================] - 0s 76us/step - loss: 3.8047\n",
      "Epoch 97/100\n",
      "1000/1000 [==============================] - 0s 78us/step - loss: 3.7980\n",
      "Epoch 98/100\n",
      "1000/1000 [==============================] - 0s 77us/step - loss: 3.7825\n",
      "Epoch 99/100\n",
      "1000/1000 [==============================] - 0s 91us/step - loss: 3.8093\n",
      "Epoch 100/100\n",
      "1000/1000 [==============================] - 0s 98us/step - loss: 3.8079\n",
      "Neural Network RMS 1.9418164854460822\n"
     ]
    }
   ],
   "source": [
    "# Start Learning Process\n",
    "model.compile(loss='mean_squared_error', optimizer=SGD(lr=0.01, momentum=0.9, nesterov=True))\n",
    "history = model.fit(X, y, nb_epoch=100, batch_size=10)\n",
    "y_pred = model.predict(X)\n",
    "rms = (np.mean((y.reshape(-1,1) - y_pred)**2))**0.5\n",
    "#s = np.std(y_test -y_pred)\n",
    "print (\"Neural Network RMS\", rms)"
   ]
  },
  {
   "cell_type": "code",
   "execution_count": 55,
   "metadata": {},
   "outputs": [
    {
     "data": {
      "image/png": "[encoded data removed]",
      "text/plain": [
       "<Figure size 360x360 with 1 Axes>"
      ]
     },
     "metadata": {
      "needs_background": "light"
     },
     "output_type": "display_data"
    }
   ],
   "source": [
    "import matplotlib.pyplot as plt\n",
    "fig = plt.figure(figsize=(5,5))\n",
    "plt.scatter(y,model.predict(X), label = 'Train', c='blue')\n",
    "plt.title('Neural Network Predictor')\n",
    "plt.xlabel('Acutal pce')\n",
    "plt.ylabel('Predicted pce')\n",
    "plt.legend(loc=4)\n",
    "plt.show()"
   ]
  },
  {
   "cell_type": "code",
   "execution_count": null,
   "metadata": {},
   "outputs": [],
   "source": [
    "rdFMCS.FindMCS(mols).numAtoms"
   ]
  },
  {
   "cell_type": "code",
   "execution_count": null,
   "metadata": {},
   "outputs": [],
   "source": []
  },
  {
   "cell_type": "code",
   "execution_count": 62,
   "metadata": {},
   "outputs": [],
   "source": [
    "import rdkit.Chem.rdchem as rdchem"
   ]
  },
  {
   "cell_type": "code",
   "execution_count": 80,
   "metadata": {},
   "outputs": [
    {
     "data": {
      "text/plain": [
       "[('ssCH2',),\n",
       " ('dsCH',),\n",
       " ('dsCH',),\n",
       " ('dsCH',),\n",
       " ('dssC',),\n",
       " ('aasC',),\n",
       " ('aaCH',),\n",
       " ('aaaC',),\n",
       " ('aaSe',),\n",
       " ('aaaC',),\n",
       " ('aaaC',),\n",
       " ('aaO',),\n",
       " ('aaCH',),\n",
       " ('aaCH',),\n",
       " ('aaaC',),\n",
       " ('aaaC',),\n",
       " ('aaN',),\n",
       " ('aaS',),\n",
       " ('aaN',),\n",
       " ('aaaC',),\n",
       " ('aaaC',),\n",
       " ('aaaC',),\n",
       " ('aaCH',),\n",
       " ('aaN',)]"
      ]
     },
     "execution_count": 80,
     "metadata": {},
     "output_type": "execute_result"
    }
   ],
   "source": [
    "m2 = Chem.MolFromSmiles(data1000['SMILES_str'][0])\n",
    "mm = [('sLi', '[LiD1]-*')]\n",
    "Estate.AtomTypes.TypeAtoms(m2)"
   ]
  },
  {
   "cell_type": "markdown",
   "metadata": {},
   "source": [
    "Build up model on numbers of heteroatoms"
   ]
  },
  {
   "cell_type": "code",
   "execution_count": 58,
   "metadata": {},
   "outputs": [
    {
     "ename": "TypeError",
     "evalue": "No registered converter was able to produce a C++ rvalue of type class boost::shared_ptr<class RDKit::ROMol> from this Python object of type str",
     "output_type": "error",
     "traceback": [
      "\u001b[1;31m---------------------------------------------------------------------------\u001b[0m",
      "\u001b[1;31mTypeError\u001b[0m                                 Traceback (most recent call last)",
      "\u001b[1;32m<ipython-input-58-b98c4c95e005>\u001b[0m in \u001b[0;36m<module>\u001b[1;34m\u001b[0m\n\u001b[0;32m      1\u001b[0m \u001b[1;32mfrom\u001b[0m \u001b[0mrdkit\u001b[0m\u001b[1;33m.\u001b[0m\u001b[0mChem\u001b[0m \u001b[1;32mimport\u001b[0m \u001b[0mrdFMCS\u001b[0m\u001b[1;33m\u001b[0m\u001b[1;33m\u001b[0m\u001b[0m\n\u001b[0;32m      2\u001b[0m \u001b[0mm2\u001b[0m \u001b[1;33m=\u001b[0m \u001b[0mdata1000\u001b[0m\u001b[1;33m[\u001b[0m\u001b[1;34m'SMILES_str'\u001b[0m\u001b[1;33m]\u001b[0m\u001b[1;33m[\u001b[0m\u001b[1;36m0\u001b[0m\u001b[1;33m]\u001b[0m\u001b[1;33m\u001b[0m\u001b[1;33m\u001b[0m\u001b[0m\n\u001b[1;32m----> 3\u001b[1;33m \u001b[0mrdFMCS\u001b[0m\u001b[1;33m.\u001b[0m\u001b[0mFindMCS\u001b[0m\u001b[1;33m(\u001b[0m\u001b[0mm2\u001b[0m\u001b[1;33m)\u001b[0m\u001b[1;33m.\u001b[0m\u001b[0mnumAtoms\u001b[0m\u001b[1;33m\u001b[0m\u001b[1;33m\u001b[0m\u001b[0m\n\u001b[0m",
      "\u001b[1;31mTypeError\u001b[0m: No registered converter was able to produce a C++ rvalue of type class boost::shared_ptr<class RDKit::ROMol> from this Python object of type str"
     ]
    }
   ],
   "source": [
    "from rdkit.Chem import rdFMCS\n",
    "m2 = data1000['SMILES_str'][0]\n",
    "rdFMCS.FindMCS(m2).numAtoms"
   ]
  },
  {
   "cell_type": "code",
   "execution_count": 96,
   "metadata": {},
   "outputs": [],
   "source": [
    "from rdkit.Chem.AtomPairs import Pairs\n",
    "# create a list of 'SMILES_str'\n",
    "smile_list = []\n",
    "for i in data1000['SMILES_str']:\n",
    "    smile_list.append(Chem.MolFromSmiles(i))\n",
    "pairFps = [Pairs.GetAtomPairFingerprint(x) for x in smile_list]"
   ]
  },
  {
   "cell_type": "code",
   "execution_count": 102,
   "metadata": {},
   "outputs": [
    {
     "data": {
      "text/plain": [
       "1000"
      ]
     },
     "execution_count": 102,
     "metadata": {},
     "output_type": "execute_result"
    }
   ],
   "source": [
    "len(pairFps)"
   ]
  },
  {
   "cell_type": "code",
   "execution_count": 89,
   "metadata": {},
   "outputs": [
    {
     "data": {
      "text/plain": [
       "[<rdkit.DataStructs.cDataStructs.IntSparseIntVect at 0x17f6d51e940>,\n",
       " <rdkit.DataStructs.cDataStructs.IntSparseIntVect at 0x17f6d51e990>,\n",
       " <rdkit.DataStructs.cDataStructs.IntSparseIntVect at 0x17f6d51ea80>]"
      ]
     },
     "execution_count": 89,
     "metadata": {},
     "output_type": "execute_result"
    }
   ],
   "source": []
  },
  {
   "cell_type": "code",
   "execution_count": 106,
   "metadata": {},
   "outputs": [
    {
     "data": {
      "text/plain": [
       "0.654434250764526"
      ]
     },
     "execution_count": 106,
     "metadata": {},
     "output_type": "execute_result"
    }
   ],
   "source": [
    "from rdkit import DataStructs\n",
    "DataStructs.DiceSimilarity(pairFps[0],pairFps[30])"
   ]
  },
  {
   "cell_type": "code",
   "execution_count": null,
   "metadata": {},
   "outputs": [],
   "source": []
  }
 ],
 "metadata": {
  "kernelspec": {
   "display_name": "Python 3",
   "language": "python",
   "name": "python3"
  },
  "language_info": {
   "codemirror_mode": {
    "name": "ipython",
    "version": 3
   },
   "file_extension": ".py",
   "mimetype": "text/x-python",
   "name": "python",
   "nbconvert_exporter": "python",
   "pygments_lexer": "ipython3",
   "version": "3.6.8"
  }
 },
 "nbformat": 4,
 "nbformat_minor": 2
}
